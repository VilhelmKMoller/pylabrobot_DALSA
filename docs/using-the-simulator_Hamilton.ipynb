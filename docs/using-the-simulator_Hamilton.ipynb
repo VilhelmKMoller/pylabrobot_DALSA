{
 "cells": [
  {
   "cell_type": "markdown",
   "id": "c3c71913",
   "metadata": {},
   "source": [
    "# Using the simulator\n",
    "\n",
    "In this notebook you will learn how to use the simulator to test out methods."
   ]
  },
  {
   "cell_type": "markdown",
   "id": "d6cdca52",
   "metadata": {},
   "source": [
    "## Setting up a connection with the robot\n",
    "\n",
    "As described in the [basic liquid handling tutorial](basic), we will use the {class}`~pylabrobot.liquid_handling.liquid_handler.LiquidHandler` class to control the robot. This time, however, instead of using the Hamilton {class}`~pylabrobot.liquid_handling.backends.hamilton.STAR.STAR` backend, we are using virtual the {class}`~pylabrobot.liquid_handling.backends.simulation.simulator_backend.SimulatorBackend` backend. This means that liquid handling will work exactly the same, but the commands are sent to the simulator instead of a real physical robot."
   ]
  },
  {
   "cell_type": "code",
   "execution_count": 1,
   "id": "e18d370e",
   "metadata": {},
   "outputs": [],
   "source": [
    "%load_ext autoreload\n",
    "%autoreload 2"
   ]
  },
  {
   "cell_type": "code",
   "execution_count": 2,
   "id": "7c5a2629",
   "metadata": {},
   "outputs": [],
   "source": [
    "from pylabrobot.liquid_handling import LiquidHandler\n",
    "from pylabrobot.liquid_handling.backends.simulation.simulator_backend import SimulatorBackend"
   ]
  },
  {
   "cell_type": "code",
   "execution_count": 3,
   "id": "272520d3",
   "metadata": {},
   "outputs": [],
   "source": [
    "## For Hamilton:\n",
    "from pylabrobot.resources.hamilton import STARLetDeck\n",
    "\n",
    "## For Opentrons:\n",
    "# from pylabrobot.resources.opentrons import deck"
   ]
  },
  {
   "cell_type": "code",
   "execution_count": 4,
   "id": "2e280caa",
   "metadata": {},
   "outputs": [],
   "source": [
    "## For Hamilton:\n",
    "sb = SimulatorBackend(open_browser=False)\n",
    "lh = LiquidHandler(backend=sb, deck=STARLetDeck())\n",
    "\n",
    "## For Opentrons: OPS OPS THIS DOES NOT WORK!!!!!!\n",
    "# sb = SimulatorBackend(ws_host=\"127.0.0.1\", fs_host=\"127.0.0.1\")\n",
    "# lh = LiquidHandler(backend=sb, deck=deck)"
   ]
  },
  {
   "cell_type": "markdown",
   "id": "30dcf4a1",
   "metadata": {},
   "source": [
    "Calling {func}`~pylabrobot.liquid_handling.liquid_handler.LiquidHandler.setup` will set up the simulation server and open it in a new browser tab."
   ]
  },
  {
   "cell_type": "code",
   "execution_count": 5,
   "id": "1419f2b3",
   "metadata": {},
   "outputs": [
    {
     "name": "stdout",
     "output_type": "stream",
     "text": [
      "Websocket server started at http://127.0.0.1:2121\n",
      "Websocket server started at http://127.0.0.1:2122\n",
      "File server started at http://127.0.0.1:1337 . Open this URL in your browser.\n",
      "File server started at http://127.0.0.1:1337 . Open this URL in your browser.\n"
     ]
    }
   ],
   "source": [
    "await lh.setup()"
   ]
  },
  {
   "cell_type": "markdown",
   "id": "871184ce",
   "metadata": {},
   "source": [
    "For the optimal experience, we recommend that you run the notebook and simulator side by side."
   ]
  },
  {
   "cell_type": "code",
   "execution_count": 6,
   "id": "165c9de4",
   "metadata": {},
   "outputs": [],
   "source": [
    "sb.wait_for_connection()"
   ]
  },
  {
   "cell_type": "markdown",
   "id": "3002429b",
   "metadata": {},
   "source": [
    "![The empty simulator](./img/simulator/empty.png)"
   ]
  },
  {
   "cell_type": "markdown",
   "id": "050ccefd",
   "metadata": {},
   "source": [
    "## Assigning plates and tips\n",
    "\n",
    "With the simulator, {func}`assigning resources <pylabrobot.resources.Deck.assign_child_resource>` has the additional affect of placing the resources on the simulated deck. They will appear immediately."
   ]
  },
  {
   "cell_type": "code",
   "execution_count": 9,
   "id": "c8c464c8",
   "metadata": {},
   "outputs": [],
   "source": [
    "## For Hamilton:\n",
    "from pylabrobot.resources import (\n",
    "    TIP_CAR_480_A00,\n",
    "    PLT_CAR_L5AC_A00,\n",
    "    Cos_96_DW_1mL,\n",
    "    HTF_L\n",
    ")\n",
    "\n",
    "# ## For Opentrons:\n",
    "# from pylabrobot.resources.opentrons import (\n",
    "#   opentrons_96_filtertiprack_20ul\n",
    "# )\n",
    "# from pylabrobot.resources.corning_costar import (\n",
    "#   Cos_96_EZWash\n",
    "# )\n"
   ]
  },
  {
   "cell_type": "code",
   "execution_count": 10,
   "id": "b14e3628",
   "metadata": {},
   "outputs": [],
   "source": [
    "# For Hamilton:\n",
    "tip_car = TIP_CAR_480_A00(name='tip carrier')\n",
    "tip_car[0] = tips = HTF_L(name='tips_01')\n",
    "tip_car[1] = HTF_L(name='tips_02')\n",
    "tip_car[2] = HTF_L(name='tips_03')\n",
    "tip_car[3] = HTF_L(name='tips_04')\n",
    "tip_car[4] = HTF_L(name='tips_05')\n",
    "\n",
    "# ## For Opentrons:\n",
    "# tips = opentrons_96_filtertiprack_20ul(name=\"tip_rack\")\n",
    "# plate = Cos_96_EZWash(name=\"plate\")\n"
   ]
  },
  {
   "cell_type": "code",
   "execution_count": 11,
   "id": "140872be",
   "metadata": {},
   "outputs": [],
   "source": [
    "## For Hamilton:\n",
    "lh.deck.assign_child_resource(tip_car, rails=15)\n",
    "\n",
    "## For Opentrons:\n",
    "# lh.deck.assign_child_resource(tips, slot=1)\n",
    "# lh.deck.assign_child_resource(plate, slot=2)\n"
   ]
  },
  {
   "cell_type": "code",
   "execution_count": 12,
   "id": "13cbc612",
   "metadata": {},
   "outputs": [],
   "source": [
    "plt_car = PLT_CAR_L5AC_A00(name='plate carrier')\n",
    "plt_car[0] = plate_1 = Cos_96_DW_1mL(name='plate_01')\n",
    "plt_car[1] = plate_2 = Cos_96_DW_1mL(name='plate_02')\n",
    "plt_car[2] = plate_3 = Cos_96_DW_1mL(name='plate_03')"
   ]
  },
  {
   "cell_type": "code",
   "execution_count": 15,
   "id": "d618ec6a",
   "metadata": {},
   "outputs": [
    {
     "ename": "ValueError",
     "evalue": "Resource with name 'plate carrier' already defined.",
     "output_type": "error",
     "traceback": [
      "\u001b[1;31m---------------------------------------------------------------------------\u001b[0m",
      "\u001b[1;31mValueError\u001b[0m                                Traceback (most recent call last)",
      "Cell \u001b[1;32mIn[15], line 1\u001b[0m\n\u001b[1;32m----> 1\u001b[0m \u001b[43mlh\u001b[49m\u001b[38;5;241;43m.\u001b[39;49m\u001b[43mdeck\u001b[49m\u001b[38;5;241;43m.\u001b[39;49m\u001b[43massign_child_resource\u001b[49m\u001b[43m(\u001b[49m\u001b[43mplt_car\u001b[49m\u001b[43m,\u001b[49m\u001b[43m \u001b[49m\u001b[43mrails\u001b[49m\u001b[38;5;241;43m=\u001b[39;49m\u001b[38;5;241;43m1\u001b[39;49m\u001b[43m)\u001b[49m\n",
      "File \u001b[1;32mc:\\users\\vikmol\\onedrive\\dokumenter\\github\\pylabrobot_dalsa\\pylabrobot\\resources\\hamilton\\hamilton_decks.py:127\u001b[0m, in \u001b[0;36mHamiltonDeck.assign_child_resource\u001b[1;34m(self, resource, location, reassign, rails, replace)\u001b[0m\n\u001b[0;32m    125\u001b[0m     cast(Resource, \u001b[38;5;28mself\u001b[39m\u001b[38;5;241m.\u001b[39mget_resource(resource\u001b[38;5;241m.\u001b[39mname))\u001b[38;5;241m.\u001b[39munassign()\n\u001b[0;32m    126\u001b[0m   \u001b[38;5;28;01melse\u001b[39;00m:\n\u001b[1;32m--> 127\u001b[0m     \u001b[38;5;28;01mraise\u001b[39;00m \u001b[38;5;167;01mValueError\u001b[39;00m(\u001b[38;5;124mf\u001b[39m\u001b[38;5;124m\"\u001b[39m\u001b[38;5;124mResource with name \u001b[39m\u001b[38;5;124m'\u001b[39m\u001b[38;5;132;01m{\u001b[39;00mresource\u001b[38;5;241m.\u001b[39mname\u001b[38;5;132;01m}\u001b[39;00m\u001b[38;5;124m'\u001b[39m\u001b[38;5;124m already defined.\u001b[39m\u001b[38;5;124m\"\u001b[39m)\n\u001b[0;32m    129\u001b[0m \u001b[38;5;28;01mif\u001b[39;00m rails \u001b[38;5;129;01mis\u001b[39;00m \u001b[38;5;129;01mnot\u001b[39;00m \u001b[38;5;28;01mNone\u001b[39;00m:\n\u001b[0;32m    130\u001b[0m   resource_location \u001b[38;5;241m=\u001b[39m \u001b[38;5;28mself\u001b[39m\u001b[38;5;241m.\u001b[39mrails_to_location(rails)\n",
      "\u001b[1;31mValueError\u001b[0m: Resource with name 'plate carrier' already defined."
     ]
    }
   ],
   "source": [
    "lh.deck.assign_child_resource(plt_car, rails=8)"
   ]
  },
  {
   "cell_type": "markdown",
   "id": "21835f31",
   "metadata": {},
   "source": [
    "![The simulator after the resources have been assigned](./img/simulator/assignment.png)"
   ]
  },
  {
   "cell_type": "code",
   "execution_count": 18,
   "id": "5aaf4640",
   "metadata": {},
   "outputs": [],
   "source": [
    "## TEST\n",
    "plt_car2 = PLT_CAR_L5AC_A00(name='plate carrier 2')\n",
    "plt_car2[2] = plate_1 = Cos_96_DW_1mL(name='plate2_01')\n",
    "plt_car2[3] = plate_2 = Cos_96_DW_1mL(name='plate2_02')\n",
    "plt_car2[4] = plate_3 = Cos_96_DW_1mL(name='plate2_03')\n",
    "lh.deck.assign_child_resource(plt_car2, rails=1)"
   ]
  },
  {
   "cell_type": "markdown",
   "id": "68a9721b",
   "metadata": {},
   "source": [
    "## Build the deck layout: placing resources\n",
    "\n",
    "Where you would manually place the resources like tips and liquid on the deck when using a physical system, with the Simulator you can add them using code."
   ]
  },
  {
   "cell_type": "markdown",
   "id": "daf99520",
   "metadata": {},
   "source": [
    "### Tips\n",
    "\n",
    "Let's use {func}`~pylabrobot.liquid_handling.backends.simulation.SimulatorBackend.fill_tip_rack` to place tips at all spots in the tip rack in location `0`."
   ]
  },
  {
   "cell_type": "code",
   "execution_count": 12,
   "id": "717550b3",
   "metadata": {},
   "outputs": [
    {
     "data": {
      "text/plain": [
       "TipRack(name=tips_01, size_x=122.4, size_y=82.6, size_z=20.0, location=(000.000, 000.000, 000.000))"
      ]
     },
     "execution_count": 12,
     "metadata": {},
     "output_type": "execute_result"
    }
   ],
   "source": [
    "tiprack = lh.get_resource(\"tips_01\")\n",
    "tiprack"
   ]
  },
  {
   "cell_type": "code",
   "execution_count": 13,
   "id": "ca3152d0",
   "metadata": {
    "scrolled": true
   },
   "outputs": [],
   "source": [
    "await sb.fill_tip_rack(tiprack)"
   ]
  },
  {
   "cell_type": "markdown",
   "id": "26f036c6",
   "metadata": {},
   "source": [
    "\n",
    "You can precisely control the presence of tips using {func}`~pylabrobot.liquid_handling.backends.simulation.SimulatorBackend.edit_tips`."
   ]
  },
  {
   "cell_type": "code",
   "execution_count": 14,
   "id": "8f574b8d",
   "metadata": {},
   "outputs": [],
   "source": [
    "tips4 = lh.get_resource(\"tips_04\")\n",
    "await sb.edit_tips(tips4, pattern=[[True]*6 + [False]*6]*8)"
   ]
  },
  {
   "cell_type": "code",
   "execution_count": 15,
   "id": "8e1ed1e6",
   "metadata": {},
   "outputs": [],
   "source": [
    "await sb.edit_tips(lh.get_resource(\"tips_03\"), pattern=[[True, False]*6]*8)"
   ]
  },
  {
   "cell_type": "code",
   "execution_count": 16,
   "id": "579da35b",
   "metadata": {},
   "outputs": [],
   "source": [
    "await sb.edit_tips(lh.get_resource(\"tips_02\"), pattern=[[True, True, False, False]*3]*8)"
   ]
  },
  {
   "cell_type": "markdown",
   "id": "594d8016",
   "metadata": {},
   "source": [
    "### Liquids\n",
    "\n",
    "Adding liquid to wells works similarly. You can use {func}`~pylabrobot.liquid_handling.backends.simulation.SimulatorBackend.adjust_well_volume` to adjust the volume of individual wells in each resource. Note that the opacity of the well matches the volume of the well."
   ]
  },
  {
   "cell_type": "code",
   "execution_count": 17,
   "id": "5b76aac2",
   "metadata": {},
   "outputs": [],
   "source": [
    "plate_1_liquids = [[(None, 500)]]*96\n",
    "await sb.adjust_wells_liquids(plate_1, liquids=plate_1_liquids)"
   ]
  },
  {
   "cell_type": "code",
   "execution_count": 18,
   "id": "400208c7",
   "metadata": {},
   "outputs": [],
   "source": [
    "plate_2_liquids = [[(None, 100)], [(None, 500)]]*(96//2)\n",
    "await sb.adjust_wells_liquids(plate_2, liquids=plate_2_liquids)"
   ]
  },
  {
   "cell_type": "markdown",
   "id": "66281459",
   "metadata": {},
   "source": [
    "Using the simulator backend we have adjusted the volume in the simulator, which you can best compare to adding liquid in reality. Now we need to update the wells (that live in Python) to reflect how much volume is in them, so that LiquidHandler can validate your actions. This is done using {func}`~pylabrobot.resources.Plate.set_well_liquids`. Note that this can be done in all liquid handling protocols, not just the simulator."
   ]
  },
  {
   "cell_type": "code",
   "execution_count": 22,
   "id": "7275f8c4",
   "metadata": {},
   "outputs": [],
   "source": [
    "plate_1.set_well_liquids(plate_1_liquids)\n",
    "plate_2.set_well_liquids(plate_2_liquids)"
   ]
  },
  {
   "cell_type": "markdown",
   "id": "66a27cfc",
   "metadata": {},
   "source": [
    "![Simulator after the tips have been placed and the volumes adjusted](./img/simulator/resources.png)"
   ]
  },
  {
   "cell_type": "markdown",
   "id": "27af93d8",
   "metadata": {},
   "source": [
    "## Liquid handling\n",
    "\n",
    "Once the layout is complete, you can run the same commands as described in the [basic liquid handling tutorial](basic)."
   ]
  },
  {
   "cell_type": "markdown",
   "id": "21c3f2cd",
   "metadata": {},
   "source": [
    "### Picking up tips"
   ]
  },
  {
   "cell_type": "code",
   "execution_count": 19,
   "id": "899f07e4",
   "metadata": {},
   "outputs": [],
   "source": [
    "tip_0 = lh.get_resource(\"tips_01\")"
   ]
  },
  {
   "cell_type": "code",
   "execution_count": 20,
   "id": "f97eadd4",
   "metadata": {},
   "outputs": [],
   "source": [
    "await lh.pick_up_tips(tip_0[\"A1\", \"B2\", \"C3\", \"D4\"])"
   ]
  },
  {
   "cell_type": "code",
   "execution_count": 21,
   "id": "bf46e476",
   "metadata": {},
   "outputs": [],
   "source": [
    "await lh.drop_tips(tip_0[\"A1\", \"B2\", \"C3\", \"D4\"])"
   ]
  },
  {
   "cell_type": "markdown",
   "id": "5c6948b2",
   "metadata": {},
   "source": [
    "### Aspirating and dispensing"
   ]
  },
  {
   "cell_type": "code",
   "execution_count": 22,
   "id": "947977c7",
   "metadata": {},
   "outputs": [],
   "source": [
    "await lh.pick_up_tips(tip_0[\"A1\"])"
   ]
  },
  {
   "cell_type": "code",
   "execution_count": 23,
   "id": "2e82aaa6",
   "metadata": {},
   "outputs": [],
   "source": [
    "plate = lh.get_resource(\"plate_01\")"
   ]
  },
  {
   "cell_type": "code",
   "execution_count": 24,
   "id": "c25a147f",
   "metadata": {},
   "outputs": [],
   "source": [
    "await lh.aspirate(plate[\"A2\"], vols=[300])"
   ]
  },
  {
   "cell_type": "code",
   "execution_count": 25,
   "id": "e86428ea",
   "metadata": {},
   "outputs": [],
   "source": [
    "await lh.dispense(plate_2[\"A1\"], vols=[300])"
   ]
  },
  {
   "cell_type": "code",
   "execution_count": 26,
   "id": "70117e04",
   "metadata": {},
   "outputs": [],
   "source": [
    "await lh.drop_tips(tip_0[\"A1\"])"
   ]
  },
  {
   "cell_type": "markdown",
   "id": "8a8b3d59",
   "metadata": {},
   "source": [
    "### Aspirating using CoRe 96\n",
    "\n",
    "The CoRe 96 head supports liquid handling operations for 96 channels at once. Here's how to use:\n",
    "\n",
    "- {func}`~pylabrobot.liquid_handling.liquid_handler.LiquidHandler.pick_up_tips96` for picking up 96 tips;\n",
    "- {func}`~pylabrobot.liquid_handling.liquid_handler.LiquidHandler.aspirate_plate` for aspirating liquid from an entire plate at once;\n",
    "- {func}`~pylabrobot.liquid_handling.liquid_handler.LiquidHandler.dispense_plate` for dispensing liquid to an entire plate at once;\n",
    "- {func}`~pylabrobot.liquid_handling.liquid_handler.LiquidHandler.drop_tips96` for dropping tips to the tip rack.\n"
   ]
  },
  {
   "cell_type": "code",
   "execution_count": 27,
   "id": "b8c5706d",
   "metadata": {},
   "outputs": [],
   "source": [
    "await lh.pick_up_tips96(tiprack)"
   ]
  },
  {
   "cell_type": "code",
   "execution_count": 28,
   "id": "c09144c9",
   "metadata": {},
   "outputs": [],
   "source": [
    "await lh.aspirate_plate(plt_car[0].resource, volume=200)"
   ]
  },
  {
   "cell_type": "code",
   "execution_count": 29,
   "id": "2ba711bb",
   "metadata": {},
   "outputs": [],
   "source": [
    "await lh.dispense_plate(plt_car[2].resource, volume=200)"
   ]
  },
  {
   "cell_type": "code",
   "execution_count": 30,
   "id": "6d205ea7",
   "metadata": {},
   "outputs": [],
   "source": [
    "await lh.drop_tips96(tiprack)"
   ]
  },
  {
   "cell_type": "markdown",
   "id": "9cc77505",
   "metadata": {},
   "source": [
    "![The simulator after the liquid handling operations completed](./img/simulator/after_lh.png)"
   ]
  },
  {
   "cell_type": "markdown",
   "id": "e49020a5",
   "metadata": {},
   "source": [
    "## Shutting down\n",
    "\n",
    "When you're done, remember to shut down the simulator by calling {func}`~pylabrobot.liquid_handling.liquid_handler.LiquidHandler.stop`."
   ]
  },
  {
   "cell_type": "code",
   "execution_count": 31,
   "id": "44a61431",
   "metadata": {},
   "outputs": [
    {
     "name": "stderr",
     "output_type": "stream",
     "text": [
      "connection handler failed\n",
      "Traceback (most recent call last):\n",
      "  File \"c:\\Users\\vikmol\\OneDrive\\Dokumenter\\GitHub\\pylabrobot_DALSA\\venv\\lib\\site-packages\\websockets\\legacy\\server.py\", line 236, in handler\n",
      "    await self.ws_handler(self)\n",
      "  File \"c:\\users\\vikmol\\onedrive\\dokumenter\\github\\pylabrobot_dalsa\\pylabrobot\\liquid_handling\\backends\\websocket.py\", line 138, in _socket_handler\n",
      "    await self.handle_event(data.get(\"event\"), data)\n",
      "  File \"c:\\users\\vikmol\\onedrive\\dokumenter\\github\\pylabrobot_dalsa\\pylabrobot\\liquid_handling\\backends\\websocket.py\", line 112, in handle_event\n",
      "    await self.websocket.send(json.dumps({\"event\": \"pong\"}))\n",
      "  File \"c:\\users\\vikmol\\onedrive\\dokumenter\\github\\pylabrobot_dalsa\\pylabrobot\\liquid_handling\\backends\\websocket.py\", line 69, in websocket\n",
      "    raise RuntimeError(\"No websocket connection has been established.\")\n",
      "RuntimeError: No websocket connection has been established.\n"
     ]
    }
   ],
   "source": [
    "await lh.stop()"
   ]
  },
  {
   "cell_type": "code",
   "execution_count": null,
   "id": "622df5bf",
   "metadata": {},
   "outputs": [],
   "source": []
  }
 ],
 "metadata": {
  "kernelspec": {
   "display_name": "Python 3",
   "language": "python",
   "name": "python3"
  },
  "language_info": {
   "codemirror_mode": {
    "name": "ipython",
    "version": 3
   },
   "file_extension": ".py",
   "mimetype": "text/x-python",
   "name": "python",
   "nbconvert_exporter": "python",
   "pygments_lexer": "ipython3",
   "version": "3.10.7"
  },
  "toc": {
   "base_numbering": 1,
   "nav_menu": {},
   "number_sections": true,
   "sideBar": true,
   "skip_h1_title": false,
   "title_cell": "Table of Contents",
   "title_sidebar": "Contents",
   "toc_cell": false,
   "toc_position": {},
   "toc_section_display": true,
   "toc_window_display": false
  },
  "varInspector": {
   "cols": {
    "lenName": 16,
    "lenType": 16,
    "lenVar": 40
   },
   "kernels_config": {
    "python": {
     "delete_cmd_postfix": "",
     "delete_cmd_prefix": "del ",
     "library": "var_list.py",
     "varRefreshCmd": "print(var_dic_list())"
    },
    "r": {
     "delete_cmd_postfix": ") ",
     "delete_cmd_prefix": "rm(",
     "library": "var_list.r",
     "varRefreshCmd": "cat(var_dic_list()) "
    }
   },
   "types_to_exclude": [
    "module",
    "function",
    "builtin_function_or_method",
    "instance",
    "_Feature"
   ],
   "window_display": false
  },
  "vscode": {
   "interpreter": {
    "hash": "bf274dfc1b974177267b6b8fba8543eeb0bb4c5d64c637dde420829b05625268"
   }
  }
 },
 "nbformat": 4,
 "nbformat_minor": 5
}
