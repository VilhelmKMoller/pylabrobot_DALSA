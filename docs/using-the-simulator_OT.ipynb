{
 "cells": [
  {
   "cell_type": "markdown",
   "id": "c3c71913",
   "metadata": {},
   "source": [
    "# Using the simulator on Opentrons\n",
    "\n",
    "In this notebook you will learn how to use the simulator to test out methods."
   ]
  },
  {
   "cell_type": "markdown",
   "id": "d6cdca52",
   "metadata": {},
   "source": [
    "## Setting up a connection with the robot\n",
    "\n",
    "As described in the [basic liquid handling tutorial](basic), we will use the {class}`~pylabrobot.liquid_handling.liquid_handler.LiquidHandler` class to control the robot. This time, however, instead of using the Hamilton {class}`~pylabrobot.liquid_handling.backends.hamilton.STAR.STAR` backend, we are using virtual the {class}`~pylabrobot.liquid_handling.backends.simulation.simulator_backend.SimulatorBackend` backend. This means that liquid handling will work exactly the same, but the commands are sent to the simulator instead of a real physical robot."
   ]
  },
  {
   "cell_type": "code",
   "execution_count": null,
   "id": "e18d370e",
   "metadata": {},
   "outputs": [
    {
     "ename": "",
     "evalue": "",
     "output_type": "error",
     "traceback": [
      "\u001b[1;31mRunning cells with 'venv' requires the ipykernel package.\n",
      "\u001b[1;31mRun the following command to install 'ipykernel' into the Python environment. \n",
      "\u001b[1;31mCommand: 'c:/Users/vikmol/OneDrive/Dokumenter/GitHub/pylabrobot_DALSA/venv/Scripts/python.exe -m pip install ipykernel -U --force-reinstall'"
     ]
    }
   ],
   "source": [
    "%load_ext autoreload\n",
    "%autoreload 2\n",
    "# Test move, branch main to learn_PLR"
   ]
  },
  {
   "cell_type": "code",
   "execution_count": null,
   "id": "7c5a2629",
   "metadata": {},
   "outputs": [
    {
     "ename": "",
     "evalue": "",
     "output_type": "error",
     "traceback": [
      "\u001b[1;31mRunning cells with 'venv' requires the ipykernel package.\n",
      "\u001b[1;31mRun the following command to install 'ipykernel' into the Python environment. \n",
      "\u001b[1;31mCommand: 'c:/Users/vikmol/OneDrive/Dokumenter/GitHub/pylabrobot_DALSA/venv/Scripts/python.exe -m pip install ipykernel -U --force-reinstall'"
     ]
    }
   ],
   "source": [
    "from pylabrobot.liquid_handling import LiquidHandler\n",
    "from pylabrobot.liquid_handling.backends.simulation.simulator_backend import SimulatorBackend"
   ]
  },
  {
   "cell_type": "code",
   "execution_count": null,
   "id": "a71f50b8",
   "metadata": {},
   "outputs": [
    {
     "ename": "",
     "evalue": "",
     "output_type": "error",
     "traceback": [
      "\u001b[1;31mRunning cells with 'venv' requires the ipykernel package.\n",
      "\u001b[1;31mRun the following command to install 'ipykernel' into the Python environment. \n",
      "\u001b[1;31mCommand: 'c:/Users/vikmol/OneDrive/Dokumenter/GitHub/pylabrobot_DALSA/venv/Scripts/python.exe -m pip install ipykernel -U --force-reinstall'"
     ]
    }
   ],
   "source": [
    "### QUESTION::\n",
    "\"\"\"\n",
    "  - For OT: HOW DO I FIND OUT WHAT PIPET IS ON THE HEAD? AND HOW DO I CHANGE THE PIPETS ON THE OT HEAD??\n",
    "  - HOW CAN I DEFINE USING PIPET 1 AND PIPET 2? IF i have a robot with two of the same pipets on(aka our Tecan evo)\n",
    "  - CAN I USE LLD ON HAMILTON ROBOT?\n",
    "  - How can i override lld?\n",
    "  - HOW CAN I PLACE LIDS ON PLATES? CAN I STACK PLATES ON TOP OF EACH OTHER?\n",
    "  - HOW DO I REMOVE A LID WITH THE ISWAP ON THE HAMILTON\n",
    "  - Difference between STAR and STARLet backend?? -> the length. STARLet is shorter.\n",
    "  - How do i drop tips into trash???\n",
    "  - Is there no tube runners for hamilton? ex: RGT_CAR_3R_A01, RGT_CAR_5R_A00, SMP_CAR_24_A00\n",
    "  - How do i raise the tip 5 mm from the bottom of the plate? From where it pipets.\n",
    "  - Does opentrons modules also work on PLR? (shaker, heater, PCR)\n",
    "  - What is ChatterBox? in using-trackers.ipynb: lh = LiquidHandler(backend=ChatterBoxBackend(num_channels=8), deck=STARLetDeck())\n",
    "  - How to copy the deck of Hamilton into PLR\n",
    "\"\"\"\n",
    "\n",
    "### TO DO FOR ME:\n",
    "\"\"\"\n",
    "  - ADD PRODUCT NUMBERS TO ALL TIP POSITIONS. USE THE SOFTWARE SO YOU CAN CROSS REFERENCE. The current structure assumes that the user has hamilton software to find out what the different carriers are.\n",
    "\"\"\"\n",
    "\n",
    "# from pylabrobot.liquid_handling.backends.opentrons_backend import OpentronsBackend"
   ]
  },
  {
   "cell_type": "code",
   "execution_count": null,
   "id": "272520d3",
   "metadata": {},
   "outputs": [
    {
     "ename": "",
     "evalue": "",
     "output_type": "error",
     "traceback": [
      "\u001b[1;31mRunning cells with 'venv' requires the ipykernel package.\n",
      "\u001b[1;31mRun the following command to install 'ipykernel' into the Python environment. \n",
      "\u001b[1;31mCommand: 'c:/Users/vikmol/OneDrive/Dokumenter/GitHub/pylabrobot_DALSA/venv/Scripts/python.exe -m pip install ipykernel -U --force-reinstall'"
     ]
    }
   ],
   "source": [
    "## For Hamilton:\n",
    "# from pylabrobot.resources.hamilton import STARLetDeck\n",
    "\n",
    "## For Opentrons:\n",
    "# from pylabrobot.resources.opentrons import OTDeck # deck\n",
    "\n",
    "from pylabrobot.resources.opentrons.deck import OTDeck"
   ]
  },
  {
   "cell_type": "code",
   "execution_count": null,
   "id": "2e280caa",
   "metadata": {},
   "outputs": [
    {
     "ename": "",
     "evalue": "",
     "output_type": "error",
     "traceback": [
      "\u001b[1;31mRunning cells with 'venv' requires the ipykernel package.\n",
      "\u001b[1;31mRun the following command to install 'ipykernel' into the Python environment. \n",
      "\u001b[1;31mCommand: 'c:/Users/vikmol/OneDrive/Dokumenter/GitHub/pylabrobot_DALSA/venv/Scripts/python.exe -m pip install ipykernel -U --force-reinstall'"
     ]
    }
   ],
   "source": [
    "# ## For Hamilton:\n",
    "# sb = SimulatorBackend(open_browser=False)\n",
    "# lh = LiquidHandler(backend=sb, deck=STARLetDeck())\n",
    "\n",
    "sb = SimulatorBackend(ws_host=\"127.0.0.1\", fs_host=\"127.0.0.1\")\n",
    "# sb = SimulatorBackend(ws_host=\"0.0.0.0\", fs_host=\"0.0.0.0\")\n",
    "lh = LiquidHandler(backend=sb, deck=OTDeck())"
   ]
  },
  {
   "cell_type": "markdown",
   "id": "30dcf4a1",
   "metadata": {},
   "source": [
    "Calling {func}`~pylabrobot.liquid_handling.liquid_handler.LiquidHandler.setup` will set up the simulation server and open it in a new browser tab."
   ]
  },
  {
   "cell_type": "code",
   "execution_count": null,
   "id": "1419f2b3",
   "metadata": {},
   "outputs": [
    {
     "ename": "",
     "evalue": "",
     "output_type": "error",
     "traceback": [
      "\u001b[1;31mRunning cells with 'venv' requires the ipykernel package.\n",
      "\u001b[1;31mRun the following command to install 'ipykernel' into the Python environment. \n",
      "\u001b[1;31mCommand: 'c:/Users/vikmol/OneDrive/Dokumenter/GitHub/pylabrobot_DALSA/venv/Scripts/python.exe -m pip install ipykernel -U --force-reinstall'"
     ]
    }
   ],
   "source": [
    "await lh.setup()"
   ]
  },
  {
   "cell_type": "markdown",
   "id": "871184ce",
   "metadata": {},
   "source": [
    "For the optimal experience, we recommend that you run the notebook and simulator side by side."
   ]
  },
  {
   "cell_type": "code",
   "execution_count": null,
   "id": "165c9de4",
   "metadata": {},
   "outputs": [
    {
     "ename": "",
     "evalue": "",
     "output_type": "error",
     "traceback": [
      "\u001b[1;31mRunning cells with 'venv' requires the ipykernel package.\n",
      "\u001b[1;31mRun the following command to install 'ipykernel' into the Python environment. \n",
      "\u001b[1;31mCommand: 'c:/Users/vikmol/OneDrive/Dokumenter/GitHub/pylabrobot_DALSA/venv/Scripts/python.exe -m pip install ipykernel -U --force-reinstall'"
     ]
    }
   ],
   "source": [
    "sb.wait_for_connection()"
   ]
  },
  {
   "cell_type": "markdown",
   "id": "3002429b",
   "metadata": {},
   "source": [
    "![The empty simulator](./img/simulator/empty.png)"
   ]
  },
  {
   "cell_type": "markdown",
   "id": "050ccefd",
   "metadata": {},
   "source": [
    "## Assigning plates and tips\n",
    "\n",
    "With the simulator, {func}`assigning resources <pylabrobot.resources.Deck.assign_child_resource>` has the additional affect of placing the resources on the simulated deck. They will appear immediately."
   ]
  },
  {
   "cell_type": "code",
   "execution_count": null,
   "id": "c8c464c8",
   "metadata": {},
   "outputs": [
    {
     "ename": "",
     "evalue": "",
     "output_type": "error",
     "traceback": [
      "\u001b[1;31mRunning cells with 'venv' requires the ipykernel package.\n",
      "\u001b[1;31mRun the following command to install 'ipykernel' into the Python environment. \n",
      "\u001b[1;31mCommand: 'c:/Users/vikmol/OneDrive/Dokumenter/GitHub/pylabrobot_DALSA/venv/Scripts/python.exe -m pip install ipykernel -U --force-reinstall'"
     ]
    }
   ],
   "source": [
    "## For Hamilton:\n",
    "# from pylabrobot.resources import (\n",
    "#     TIP_CAR_480_A00,\n",
    "#     PLT_CAR_L5AC_A00,\n",
    "#     Cos_96_DW_1mL,\n",
    "#     HTF_L\n",
    "# )\n",
    "\n",
    "## For Opentrons:\n",
    "from pylabrobot.resources.opentrons import (\n",
    "  opentrons_96_filtertiprack_20ul\n",
    ")\n",
    "from pylabrobot.resources.corning_costar import (\n",
    "  Cos_96_EZWash,\n",
    "  Cos_96_DW_1mL\n",
    ")\n"
   ]
  },
  {
   "cell_type": "code",
   "execution_count": null,
   "id": "b14e3628",
   "metadata": {},
   "outputs": [
    {
     "ename": "",
     "evalue": "",
     "output_type": "error",
     "traceback": [
      "\u001b[1;31mRunning cells with 'venv' requires the ipykernel package.\n",
      "\u001b[1;31mRun the following command to install 'ipykernel' into the Python environment. \n",
      "\u001b[1;31mCommand: 'c:/Users/vikmol/OneDrive/Dokumenter/GitHub/pylabrobot_DALSA/venv/Scripts/python.exe -m pip install ipykernel -U --force-reinstall'"
     ]
    }
   ],
   "source": [
    "# For Hamilton:\n",
    "# tip_car = TIP_CAR_480_A00(name='tip carrier')\n",
    "# tip_car[0] = tips = HTF_L(name='tips_01')\n",
    "# tip_car[1] = HTF_L(name='tips_02')\n",
    "# tip_car[2] = HTF_L(name='tips_03')\n",
    "# tip_car[3] = HTF_L(name='tips_04')\n",
    "# tip_car[4] = HTF_L(name='tips_05')\n",
    "\n",
    "## For Opentrons:\n",
    "tips1 = opentrons_96_filtertiprack_20ul(name=\"tip_rack1\")\n",
    "tips2 = opentrons_96_filtertiprack_20ul(name=\"tip_rack2\")\n",
    "plate1 = Cos_96_EZWash(name=\"plate1\")\n",
    "plate2 = Cos_96_DW_1mL(name=\"plate2\")\n"
   ]
  },
  {
   "cell_type": "code",
   "execution_count": null,
   "id": "140872be",
   "metadata": {},
   "outputs": [
    {
     "ename": "",
     "evalue": "",
     "output_type": "error",
     "traceback": [
      "\u001b[1;31mRunning cells with 'venv' requires the ipykernel package.\n",
      "\u001b[1;31mRun the following command to install 'ipykernel' into the Python environment. \n",
      "\u001b[1;31mCommand: 'c:/Users/vikmol/OneDrive/Dokumenter/GitHub/pylabrobot_DALSA/venv/Scripts/python.exe -m pip install ipykernel -U --force-reinstall'"
     ]
    }
   ],
   "source": [
    "## For Hamilton:\n",
    "# lh.deck.assign_child_resource(tips rails=15)\n",
    "\n",
    "## OPS OPS WE ARE USING asign_child_at_slot not RESOURCE!!!\n",
    "\n",
    "## For Opentrons:\n",
    "# lh.deck.assign_child_resource(tips1, location=3, reassign=False)\n",
    "\n",
    "lh.deck.assign_child_at_slot(tips1, slot=3)\n",
    "lh.deck.assign_child_at_slot(tips2, slot=5)\n",
    "lh.deck.assign_child_at_slot(plate1, slot=11)\n",
    "lh.deck.assign_child_at_slot(plate2, slot=10)\n"
   ]
  },
  {
   "cell_type": "code",
   "execution_count": null,
   "id": "82c6f44b",
   "metadata": {},
   "outputs": [
    {
     "ename": "",
     "evalue": "",
     "output_type": "error",
     "traceback": [
      "\u001b[1;31mRunning cells with 'venv' requires the ipykernel package.\n",
      "\u001b[1;31mRun the following command to install 'ipykernel' into the Python environment. \n",
      "\u001b[1;31mCommand: 'c:/Users/vikmol/OneDrive/Dokumenter/GitHub/pylabrobot_DALSA/venv/Scripts/python.exe -m pip install ipykernel -U --force-reinstall'"
     ]
    }
   ],
   "source": [
    "# summary function that displayes deck\n",
    "print(lh.deck.summary())"
   ]
  },
  {
   "cell_type": "code",
   "execution_count": null,
   "id": "9ca50703",
   "metadata": {},
   "outputs": [
    {
     "ename": "",
     "evalue": "",
     "output_type": "error",
     "traceback": [
      "\u001b[1;31mRunning cells with 'venv' requires the ipykernel package.\n",
      "\u001b[1;31mRun the following command to install 'ipykernel' into the Python environment. \n",
      "\u001b[1;31mCommand: 'c:/Users/vikmol/OneDrive/Dokumenter/GitHub/pylabrobot_DALSA/venv/Scripts/python.exe -m pip install ipykernel -U --force-reinstall'"
     ]
    }
   ],
   "source": [
    "# get slot position of resource\n",
    "lh.deck.get_slot(tips1)"
   ]
  },
  {
   "cell_type": "markdown",
   "id": "21835f31",
   "metadata": {},
   "source": [
    "![The simulator after the resources have been assigned](./img/simulator/assignment.png)"
   ]
  },
  {
   "cell_type": "markdown",
   "id": "68a9721b",
   "metadata": {},
   "source": [
    "## Build the deck layout: placing resources\n",
    "\n",
    "Where you would manually place the resources like tips and liquid on the deck when using a physical system, with the Simulator you can add them using code."
   ]
  },
  {
   "cell_type": "markdown",
   "id": "daf99520",
   "metadata": {},
   "source": [
    "### Tips\n",
    "\n",
    "Let's use {func}`~pylabrobot.liquid_handling.backends.simulation.SimulatorBackend.fill_tip_rack` to place tips at all spots in the tip rack in location `0`."
   ]
  },
  {
   "cell_type": "code",
   "execution_count": null,
   "id": "717550b3",
   "metadata": {},
   "outputs": [
    {
     "ename": "",
     "evalue": "",
     "output_type": "error",
     "traceback": [
      "\u001b[1;31mRunning cells with 'venv' requires the ipykernel package.\n",
      "\u001b[1;31mRun the following command to install 'ipykernel' into the Python environment. \n",
      "\u001b[1;31mCommand: 'c:/Users/vikmol/OneDrive/Dokumenter/GitHub/pylabrobot_DALSA/venv/Scripts/python.exe -m pip install ipykernel -U --force-reinstall'"
     ]
    }
   ],
   "source": [
    "# same code only change is the resource name: tip_rack1\n",
    "tiprack = lh.get_resource(\"tip_rack1\")\n",
    "tiprack\n"
   ]
  },
  {
   "cell_type": "code",
   "execution_count": null,
   "id": "ca3152d0",
   "metadata": {
    "scrolled": true
   },
   "outputs": [
    {
     "ename": "",
     "evalue": "",
     "output_type": "error",
     "traceback": [
      "\u001b[1;31mRunning cells with 'venv' requires the ipykernel package.\n",
      "\u001b[1;31mRun the following command to install 'ipykernel' into the Python environment. \n",
      "\u001b[1;31mCommand: 'c:/Users/vikmol/OneDrive/Dokumenter/GitHub/pylabrobot_DALSA/venv/Scripts/python.exe -m pip install ipykernel -U --force-reinstall'"
     ]
    }
   ],
   "source": [
    "await sb.fill_tip_rack(tiprack)"
   ]
  },
  {
   "cell_type": "markdown",
   "id": "26f036c6",
   "metadata": {},
   "source": [
    "\n",
    "You can precisely control the presence of tips using {func}`~pylabrobot.liquid_handling.backends.simulation.SimulatorBackend.edit_tips`."
   ]
  },
  {
   "cell_type": "code",
   "execution_count": null,
   "id": "8f574b8d",
   "metadata": {},
   "outputs": [
    {
     "ename": "",
     "evalue": "",
     "output_type": "error",
     "traceback": [
      "\u001b[1;31mRunning cells with 'venv' requires the ipykernel package.\n",
      "\u001b[1;31mRun the following command to install 'ipykernel' into the Python environment. \n",
      "\u001b[1;31mCommand: 'c:/Users/vikmol/OneDrive/Dokumenter/GitHub/pylabrobot_DALSA/venv/Scripts/python.exe -m pip install ipykernel -U --force-reinstall'"
     ]
    }
   ],
   "source": [
    "tips4 = lh.get_resource(\"tip_rack2\")\n",
    "await sb.edit_tips(tips4, pattern=[[True]*6 + [False]*6]*8)"
   ]
  },
  {
   "cell_type": "code",
   "execution_count": null,
   "id": "8e1ed1e6",
   "metadata": {},
   "outputs": [
    {
     "ename": "",
     "evalue": "",
     "output_type": "error",
     "traceback": [
      "\u001b[1;31mRunning cells with 'venv' requires the ipykernel package.\n",
      "\u001b[1;31mRun the following command to install 'ipykernel' into the Python environment. \n",
      "\u001b[1;31mCommand: 'c:/Users/vikmol/OneDrive/Dokumenter/GitHub/pylabrobot_DALSA/venv/Scripts/python.exe -m pip install ipykernel -U --force-reinstall'"
     ]
    }
   ],
   "source": [
    "await sb.edit_tips(lh.get_resource(\"tip_rack2\"), pattern=[[True, False]*6]*8)"
   ]
  },
  {
   "cell_type": "code",
   "execution_count": null,
   "id": "579da35b",
   "metadata": {},
   "outputs": [
    {
     "ename": "",
     "evalue": "",
     "output_type": "error",
     "traceback": [
      "\u001b[1;31mRunning cells with 'venv' requires the ipykernel package.\n",
      "\u001b[1;31mRun the following command to install 'ipykernel' into the Python environment. \n",
      "\u001b[1;31mCommand: 'c:/Users/vikmol/OneDrive/Dokumenter/GitHub/pylabrobot_DALSA/venv/Scripts/python.exe -m pip install ipykernel -U --force-reinstall'"
     ]
    }
   ],
   "source": [
    "await sb.edit_tips(lh.get_resource(\"tip_rack2\"), pattern=[[True, True, False, False]*3]*8)"
   ]
  },
  {
   "cell_type": "markdown",
   "id": "594d8016",
   "metadata": {},
   "source": [
    "### Liquids\n",
    "\n",
    "Adding liquid to wells works similarly. You can use {func}`~pylabrobot.liquid_handling.backends.simulation.SimulatorBackend.adjust_well_volume` to adjust the volume of individual wells in each resource. Note that the opacity of the well matches the volume of the well."
   ]
  },
  {
   "cell_type": "code",
   "execution_count": null,
   "id": "5b76aac2",
   "metadata": {},
   "outputs": [
    {
     "ename": "",
     "evalue": "",
     "output_type": "error",
     "traceback": [
      "\u001b[1;31mRunning cells with 'venv' requires the ipykernel package.\n",
      "\u001b[1;31mRun the following command to install 'ipykernel' into the Python environment. \n",
      "\u001b[1;31mCommand: 'c:/Users/vikmol/OneDrive/Dokumenter/GitHub/pylabrobot_DALSA/venv/Scripts/python.exe -m pip install ipykernel -U --force-reinstall'"
     ]
    }
   ],
   "source": [
    "plate_1_liquids = [[(None, 500)]]*96\n",
    "await sb.adjust_wells_liquids(plate1, liquids=plate_1_liquids)"
   ]
  },
  {
   "cell_type": "code",
   "execution_count": null,
   "id": "400208c7",
   "metadata": {},
   "outputs": [
    {
     "ename": "",
     "evalue": "",
     "output_type": "error",
     "traceback": [
      "\u001b[1;31mRunning cells with 'venv' requires the ipykernel package.\n",
      "\u001b[1;31mRun the following command to install 'ipykernel' into the Python environment. \n",
      "\u001b[1;31mCommand: 'c:/Users/vikmol/OneDrive/Dokumenter/GitHub/pylabrobot_DALSA/venv/Scripts/python.exe -m pip install ipykernel -U --force-reinstall'"
     ]
    }
   ],
   "source": [
    "plate_2_liquids = [[(None, 100)], [(None, 500)]]*(96//2)\n",
    "await sb.adjust_wells_liquids(plate2, liquids=plate_2_liquids)"
   ]
  },
  {
   "cell_type": "markdown",
   "id": "66281459",
   "metadata": {},
   "source": [
    "Using the simulator backend we have adjusted the volume in the simulator, which you can best compare to adding liquid in reality. Now we need to update the wells (that live in Python) to reflect how much volume is in them, so that LiquidHandler can validate your actions. This is done using {func}`~pylabrobot.resources.Plate.set_well_liquids`. Note that this can be done in all liquid handling protocols, not just the simulator."
   ]
  },
  {
   "cell_type": "code",
   "execution_count": null,
   "id": "7275f8c4",
   "metadata": {},
   "outputs": [
    {
     "ename": "",
     "evalue": "",
     "output_type": "error",
     "traceback": [
      "\u001b[1;31mRunning cells with 'venv' requires the ipykernel package.\n",
      "\u001b[1;31mRun the following command to install 'ipykernel' into the Python environment. \n",
      "\u001b[1;31mCommand: 'c:/Users/vikmol/OneDrive/Dokumenter/GitHub/pylabrobot_DALSA/venv/Scripts/python.exe -m pip install ipykernel -U --force-reinstall'"
     ]
    }
   ],
   "source": [
    "plate1.set_well_liquids(plate_1_liquids)\n",
    "plate2.set_well_liquids(plate_2_liquids)"
   ]
  },
  {
   "cell_type": "markdown",
   "id": "66a27cfc",
   "metadata": {},
   "source": [
    "![Simulator after the tips have been placed and the volumes adjusted](./img/simulator/resources.png)"
   ]
  },
  {
   "cell_type": "markdown",
   "id": "27af93d8",
   "metadata": {},
   "source": [
    "## Liquid handling\n",
    "\n",
    "Once the layout is complete, you can run the same commands as described in the [basic liquid handling tutorial](basic)."
   ]
  },
  {
   "cell_type": "markdown",
   "id": "21c3f2cd",
   "metadata": {},
   "source": [
    "### Picking up tips"
   ]
  },
  {
   "cell_type": "code",
   "execution_count": null,
   "id": "899f07e4",
   "metadata": {},
   "outputs": [
    {
     "ename": "",
     "evalue": "",
     "output_type": "error",
     "traceback": [
      "\u001b[1;31mRunning cells with 'venv' requires the ipykernel package.\n",
      "\u001b[1;31mRun the following command to install 'ipykernel' into the Python environment. \n",
      "\u001b[1;31mCommand: 'c:/Users/vikmol/OneDrive/Dokumenter/GitHub/pylabrobot_DALSA/venv/Scripts/python.exe -m pip install ipykernel -U --force-reinstall'"
     ]
    }
   ],
   "source": [
    "tip_0 = lh.get_resource(\"tip_rack1\")"
   ]
  },
  {
   "cell_type": "code",
   "execution_count": null,
   "id": "f97eadd4",
   "metadata": {},
   "outputs": [
    {
     "ename": "",
     "evalue": "",
     "output_type": "error",
     "traceback": [
      "\u001b[1;31mRunning cells with 'venv' requires the ipykernel package.\n",
      "\u001b[1;31mRun the following command to install 'ipykernel' into the Python environment. \n",
      "\u001b[1;31mCommand: 'c:/Users/vikmol/OneDrive/Dokumenter/GitHub/pylabrobot_DALSA/venv/Scripts/python.exe -m pip install ipykernel -U --force-reinstall'"
     ]
    }
   ],
   "source": [
    "# await lh.pick_up_tips(tip_0[\"A1\", \"B2\", \"C3\", \"D4\"])\n",
    "await lh.pick_up_tips(tip_0[\"A1\"])\n"
   ]
  },
  {
   "cell_type": "code",
   "execution_count": 22,
   "id": "bf46e476",
   "metadata": {},
   "outputs": [],
   "source": [
    "# await lh.drop_tips(tip_0[\"A1\"])\n",
    "## TRY TO THROUGH IN TRASH!!!???\n",
    "# trash_container\n",
    "from pylabrobot.resources.trash import Trash\n",
    "\n",
    "trash = lh.deck.get_trash_area()\n",
    "# n must match with the number of pipets\n",
    "n=1\n",
    "\n",
    "offsets = trash.get_2d_center_offsets(n=n)\n",
    "\n",
    "await lh.drop_tips(tip_spots=[trash]*n, offsets=offsets)"
   ]
  },
  {
   "cell_type": "markdown",
   "id": "5c6948b2",
   "metadata": {},
   "source": [
    "### Aspirating and dispensing"
   ]
  },
  {
   "cell_type": "code",
   "execution_count": 23,
   "id": "947977c7",
   "metadata": {},
   "outputs": [],
   "source": [
    "await lh.pick_up_tips(tip_0[\"A1\"])"
   ]
  },
  {
   "cell_type": "code",
   "execution_count": 24,
   "id": "2e82aaa6",
   "metadata": {},
   "outputs": [],
   "source": [
    "plate = lh.get_resource(\"plate1\")"
   ]
  },
  {
   "cell_type": "code",
   "execution_count": 25,
   "id": "c25a147f",
   "metadata": {},
   "outputs": [],
   "source": [
    "## OPS OPS SOME ERROR!? REASON== robot head is set to use 20 or 10 ul pipet. How do i change that??\n",
    "# await lh.aspirate(plate[\"A2\"], vols=[300])\n",
    "await lh.aspirate(plate[\"A2\"], vols=[5])\n",
    "\n",
    "## FOUND BUG! IF LIQUID IS HIGHER THAN PIPET VOLUME OR TIP VOLUME THEN SIMULATION WILL GO INTO AN INFINITE LOOP"
   ]
  },
  {
   "cell_type": "code",
   "execution_count": 26,
   "id": "e86428ea",
   "metadata": {},
   "outputs": [],
   "source": [
    "await lh.dispense(plate2[\"A1\"], vols=[5])"
   ]
  },
  {
   "cell_type": "code",
   "execution_count": 27,
   "id": "70117e04",
   "metadata": {},
   "outputs": [],
   "source": [
    "await lh.drop_tips(tip_0[\"A1\"])"
   ]
  },
  {
   "cell_type": "markdown",
   "id": "8a8b3d59",
   "metadata": {},
   "source": [
    "### Aspirating using CoRe 96\n",
    "\n",
    "The CoRe 96 head supports liquid handling operations for 96 channels at once. Here's how to use:\n",
    "\n",
    "- {func}`~pylabrobot.liquid_handling.liquid_handler.LiquidHandler.pick_up_tips96` for picking up 96 tips;\n",
    "- {func}`~pylabrobot.liquid_handling.liquid_handler.LiquidHandler.aspirate_plate` for aspirating liquid from an entire plate at once;\n",
    "- {func}`~pylabrobot.liquid_handling.liquid_handler.LiquidHandler.dispense_plate` for dispensing liquid to an entire plate at once;\n",
    "- {func}`~pylabrobot.liquid_handling.liquid_handler.LiquidHandler.drop_tips96` for dropping tips to the tip rack.\n"
   ]
  },
  {
   "cell_type": "code",
   "execution_count": 27,
   "id": "b8c5706d",
   "metadata": {},
   "outputs": [],
   "source": [
    "### INSTEAD O CORE 96 IMPLEMENT USING PIPET NUMER 2!\n",
    "\n",
    "await lh.pick_up_tips96(tiprack)"
   ]
  },
  {
   "cell_type": "code",
   "execution_count": 28,
   "id": "c09144c9",
   "metadata": {},
   "outputs": [],
   "source": [
    "await lh.aspirate_plate(plt_car[0].resource, volume=200)"
   ]
  },
  {
   "cell_type": "code",
   "execution_count": 29,
   "id": "2ba711bb",
   "metadata": {},
   "outputs": [],
   "source": [
    "await lh.dispense_plate(plt_car[2].resource, volume=200)"
   ]
  },
  {
   "cell_type": "code",
   "execution_count": 30,
   "id": "6d205ea7",
   "metadata": {},
   "outputs": [],
   "source": [
    "await lh.drop_tips96(tiprack)"
   ]
  },
  {
   "cell_type": "markdown",
   "id": "9cc77505",
   "metadata": {},
   "source": [
    "![The simulator after the liquid handling operations completed](./img/simulator/after_lh.png)"
   ]
  },
  {
   "cell_type": "markdown",
   "id": "e49020a5",
   "metadata": {},
   "source": [
    "## Shutting down\n",
    "\n",
    "When you're done, remember to shut down the simulator by calling {func}`~pylabrobot.liquid_handling.liquid_handler.LiquidHandler.stop`."
   ]
  },
  {
   "cell_type": "code",
   "execution_count": 31,
   "id": "44a61431",
   "metadata": {},
   "outputs": [
    {
     "name": "stderr",
     "output_type": "stream",
     "text": [
      "connection handler failed\n",
      "Traceback (most recent call last):\n",
      "  File \"c:\\Users\\vikmol\\OneDrive\\Dokumenter\\GitHub\\pylabrobot_DALSA\\venv\\lib\\site-packages\\websockets\\legacy\\server.py\", line 236, in handler\n",
      "    await self.ws_handler(self)\n",
      "  File \"c:\\users\\vikmol\\onedrive\\dokumenter\\github\\pylabrobot_dalsa\\pylabrobot\\liquid_handling\\backends\\websocket.py\", line 138, in _socket_handler\n",
      "    await self.handle_event(data.get(\"event\"), data)\n",
      "  File \"c:\\users\\vikmol\\onedrive\\dokumenter\\github\\pylabrobot_dalsa\\pylabrobot\\liquid_handling\\backends\\websocket.py\", line 112, in handle_event\n",
      "    await self.websocket.send(json.dumps({\"event\": \"pong\"}))\n",
      "  File \"c:\\users\\vikmol\\onedrive\\dokumenter\\github\\pylabrobot_dalsa\\pylabrobot\\liquid_handling\\backends\\websocket.py\", line 69, in websocket\n",
      "    raise RuntimeError(\"No websocket connection has been established.\")\n",
      "RuntimeError: No websocket connection has been established.\n"
     ]
    }
   ],
   "source": [
    "await lh.stop()"
   ]
  },
  {
   "cell_type": "markdown",
   "id": "f2b224f2",
   "metadata": {},
   "source": [
    "# Bug test Does trashbin work in Simulation"
   ]
  },
  {
   "cell_type": "code",
   "execution_count": 1,
   "id": "622df5bf",
   "metadata": {},
   "outputs": [
    {
     "name": "stdout",
     "output_type": "stream",
     "text": [
      "Websocket server started at http://127.0.0.1:2121\n",
      "File server started at http://127.0.0.1:1337 . Open this URL in your browser.\n"
     ]
    }
   ],
   "source": [
    "from pylabrobot.liquid_handling import LiquidHandler\n",
    "from pylabrobot.liquid_handling.backends.simulation.simulator_backend import SimulatorBackend\n",
    "from pylabrobot.resources.opentrons.deck import OTDeck\n",
    "\n",
    "sb = SimulatorBackend(ws_host=\"127.0.0.1\", fs_host=\"127.0.0.1\")\n",
    "# lh = LiquidHandler(backend=sb, deck=OTDeck())\n",
    "lh = LiquidHandler(backend=sb, deck=OTDeck(no_trash=True))\n",
    "\n",
    "# lh = LiquidHandler(backend=OpentronsBackend(host=\"10.199.253.164\"), deck=OTDeck(no_trash=True)) # This seems to work\n",
    "\n",
    "await lh.setup()"
   ]
  },
  {
   "cell_type": "code",
   "execution_count": 2,
   "id": "5c6a3528",
   "metadata": {},
   "outputs": [],
   "source": [
    "sb.wait_for_connection()"
   ]
  },
  {
   "cell_type": "code",
   "execution_count": 3,
   "id": "db3aad65",
   "metadata": {},
   "outputs": [
    {
     "name": "stdout",
     "output_type": "stream",
     "text": [
      "\n",
      "Deck: 624.3mm x 565.2mm\n",
      "\n",
      "+-----------------+-----------------+-----------------+\n",
      "|                 |                 |                 |\n",
      "| 10: plate_02    | 11: plate_01    | 12: Empty       |\n",
      "|                 |                 |                 |\n",
      "+-----------------+-----------------+-----------------+\n",
      "|                 |                 |                 |\n",
      "|  7: Empty       |  8: Empty       |  9: Empty       |\n",
      "|                 |                 |                 |\n",
      "+-----------------+-----------------+-----------------+\n",
      "|                 |                 |                 |\n",
      "|  4: Empty       |  5: tip_rack2   |  6: Empty       |\n",
      "|                 |                 |                 |\n",
      "+-----------------+-----------------+-----------------+\n",
      "|                 |                 |                 |\n",
      "|  1: Empty       |  2: Empty       |  3: tip_rack1   |\n",
      "|                 |                 |                 |\n",
      "+-----------------+-----------------+-----------------+\n",
      "\n"
     ]
    }
   ],
   "source": [
    "from pylabrobot.resources.opentrons import (\n",
    "  opentrons_96_filtertiprack_20ul\n",
    ")\n",
    "from pylabrobot.resources.corning_costar import (\n",
    "  Cos_96_EZWash,\n",
    "  Cos_96_DW_1mL\n",
    ")\n",
    "\n",
    "tips1 = opentrons_96_filtertiprack_20ul(name=\"tip_rack1\")\n",
    "tips2 = opentrons_96_filtertiprack_20ul(name=\"tip_rack2\")\n",
    "plate1 = Cos_96_EZWash(name=\"plate_01\")\n",
    "plate2 = Cos_96_DW_1mL(name=\"plate_02\")\n",
    "\n",
    "lh.deck.assign_child_at_slot(tips1, slot=3)\n",
    "lh.deck.assign_child_at_slot(tips2, slot=5)\n",
    "lh.deck.assign_child_at_slot(plate1, slot=11)\n",
    "lh.deck.assign_child_at_slot(plate2, slot=10)\n",
    "\n",
    "print(lh.deck.summary())"
   ]
  },
  {
   "cell_type": "code",
   "execution_count": 4,
   "id": "f81e10ff",
   "metadata": {},
   "outputs": [],
   "source": [
    "## SImulating specific code\n",
    "tiprack = lh.get_resource(\"tip_rack1\")\n",
    "tiprack\n",
    "await sb.fill_tip_rack(tiprack)"
   ]
  },
  {
   "cell_type": "code",
   "execution_count": 5,
   "id": "f2413bc3",
   "metadata": {},
   "outputs": [],
   "source": [
    "tiprack = lh.get_resource(\"tip_rack1\")\n",
    "await lh.pick_up_tips(tiprack[\"A1\"])"
   ]
  },
  {
   "cell_type": "code",
   "execution_count": 6,
   "id": "3a3eaa69",
   "metadata": {},
   "outputs": [],
   "source": [
    "from pylabrobot.resources.trash import Trash"
   ]
  },
  {
   "cell_type": "code",
   "execution_count": 7,
   "id": "868351ff",
   "metadata": {},
   "outputs": [],
   "source": [
    "lh.deck._assign_trash()\n",
    "\n",
    "# lh.deck._assign_trash()"
   ]
  },
  {
   "cell_type": "code",
   "execution_count": 8,
   "id": "1fe4ec77",
   "metadata": {},
   "outputs": [],
   "source": [
    "trash = lh.deck.get_trash_area()"
   ]
  },
  {
   "cell_type": "code",
   "execution_count": null,
   "id": "bef5ad65",
   "metadata": {},
   "outputs": [],
   "source": []
  },
  {
   "cell_type": "code",
   "execution_count": 9,
   "id": "7980b576",
   "metadata": {},
   "outputs": [
    {
     "name": "stdout",
     "output_type": "stream",
     "text": [
      "\n",
      "Deck: 624.3mm x 565.2mm\n",
      "\n",
      "+-----------------+-----------------+-----------------+\n",
      "|                 |                 |                 |\n",
      "| 10: plate_02    | 11: plate_01    | 12: trash_co... |\n",
      "|                 |                 |                 |\n",
      "+-----------------+-----------------+-----------------+\n",
      "|                 |                 |                 |\n",
      "|  7: Empty       |  8: Empty       |  9: Empty       |\n",
      "|                 |                 |                 |\n",
      "+-----------------+-----------------+-----------------+\n",
      "|                 |                 |                 |\n",
      "|  4: Empty       |  5: tip_rack2   |  6: Empty       |\n",
      "|                 |                 |                 |\n",
      "+-----------------+-----------------+-----------------+\n",
      "|                 |                 |                 |\n",
      "|  1: Empty       |  2: Empty       |  3: tip_rack1   |\n",
      "|                 |                 |                 |\n",
      "+-----------------+-----------------+-----------------+\n",
      "\n"
     ]
    }
   ],
   "source": [
    "print(lh.deck.summary())"
   ]
  },
  {
   "cell_type": "code",
   "execution_count": 12,
   "id": "748ad5dc",
   "metadata": {},
   "outputs": [
    {
     "ename": "AttributeError",
     "evalue": "'LiquidHandler' object has no attribute 'sb'",
     "output_type": "error",
     "traceback": [
      "\u001b[1;31m---------------------------------------------------------------------------\u001b[0m",
      "\u001b[1;31mAttributeError\u001b[0m                            Traceback (most recent call last)",
      "Cell \u001b[1;32mIn[12], line 1\u001b[0m\n\u001b[1;32m----> 1\u001b[0m \u001b[38;5;28mprint\u001b[39m(\u001b[43mlh\u001b[49m\u001b[38;5;241;43m.\u001b[39;49m\u001b[43msb\u001b[49m\u001b[38;5;241m.\u001b[39mdefined_labware)\n",
      "\u001b[1;31mAttributeError\u001b[0m: 'LiquidHandler' object has no attribute 'sb'"
     ]
    }
   ],
   "source": [
    "print(lh.sb.defined_labware)"
   ]
  },
  {
   "cell_type": "code",
   "execution_count": 13,
   "id": "73e08a4a",
   "metadata": {},
   "outputs": [
    {
     "ename": "NoTipError",
     "evalue": "Channel 0 does not have a tip.",
     "output_type": "error",
     "traceback": [
      "\u001b[1;31m---------------------------------------------------------------------------\u001b[0m",
      "\u001b[1;31mNoTipError\u001b[0m                                Traceback (most recent call last)",
      "Cell \u001b[1;32mIn[13], line 1\u001b[0m\n\u001b[1;32m----> 1\u001b[0m \u001b[38;5;28;01mawait\u001b[39;00m lh\u001b[38;5;241m.\u001b[39mdrop_tips(tip_spots\u001b[38;5;241m=\u001b[39m[trash]\u001b[38;5;241m*\u001b[39m\u001b[38;5;241m1\u001b[39m)\n",
      "File \u001b[1;32mc:\\users\\vikmol\\onedrive\\dokumenter\\github\\pylabrobot_dalsa\\pylabrobot\\machine.py:20\u001b[0m, in \u001b[0;36mneed_setup_finished.<locals>.wrapper\u001b[1;34m(self, *args, **kwargs)\u001b[0m\n\u001b[0;32m     18\u001b[0m \u001b[38;5;28;01mif\u001b[39;00m \u001b[38;5;129;01mnot\u001b[39;00m \u001b[38;5;28mself\u001b[39m\u001b[38;5;241m.\u001b[39msetup_finished:\n\u001b[0;32m     19\u001b[0m   \u001b[38;5;28;01mraise\u001b[39;00m \u001b[38;5;167;01mRuntimeError\u001b[39;00m(\u001b[38;5;124m\"\u001b[39m\u001b[38;5;124mThe setup has not finished. See `setup`.\u001b[39m\u001b[38;5;124m\"\u001b[39m)\n\u001b[1;32m---> 20\u001b[0m \u001b[38;5;28;01mreturn\u001b[39;00m \u001b[38;5;28;01mawait\u001b[39;00m func(\u001b[38;5;28mself\u001b[39m, \u001b[38;5;241m*\u001b[39margs, \u001b[38;5;241m*\u001b[39m\u001b[38;5;241m*\u001b[39mkwargs)\n",
      "File \u001b[1;32mc:\\users\\vikmol\\onedrive\\dokumenter\\github\\pylabrobot_dalsa\\pylabrobot\\liquid_handling\\liquid_handler.py:467\u001b[0m, in \u001b[0;36mLiquidHandler.drop_tips\u001b[1;34m(self, tip_spots, use_channels, offsets, allow_nonzero_volume, **backend_kwargs)\u001b[0m\n\u001b[0;32m    465\u001b[0m tips \u001b[38;5;241m=\u001b[39m []\n\u001b[0;32m    466\u001b[0m \u001b[38;5;28;01mfor\u001b[39;00m channel \u001b[38;5;129;01min\u001b[39;00m use_channels:\n\u001b[1;32m--> 467\u001b[0m   tip \u001b[38;5;241m=\u001b[39m \u001b[38;5;28;43mself\u001b[39;49m\u001b[38;5;241;43m.\u001b[39;49m\u001b[43mhead\u001b[49m\u001b[43m[\u001b[49m\u001b[43mchannel\u001b[49m\u001b[43m]\u001b[49m\u001b[38;5;241;43m.\u001b[39;49m\u001b[43mget_tip\u001b[49m\u001b[43m(\u001b[49m\u001b[43m)\u001b[49m\n\u001b[0;32m    468\u001b[0m   \u001b[38;5;28;01mif\u001b[39;00m tip\u001b[38;5;241m.\u001b[39mtracker\u001b[38;5;241m.\u001b[39mget_used_volume() \u001b[38;5;241m>\u001b[39m \u001b[38;5;241m0\u001b[39m \u001b[38;5;129;01mand\u001b[39;00m \u001b[38;5;129;01mnot\u001b[39;00m allow_nonzero_volume:\n\u001b[0;32m    469\u001b[0m     \u001b[38;5;28;01mraise\u001b[39;00m \u001b[38;5;167;01mRuntimeError\u001b[39;00m(\u001b[38;5;124mf\u001b[39m\u001b[38;5;124m\"\u001b[39m\u001b[38;5;124mCannot drop tip with volume \u001b[39m\u001b[38;5;132;01m{\u001b[39;00mtip\u001b[38;5;241m.\u001b[39mtracker\u001b[38;5;241m.\u001b[39mget_used_volume()\u001b[38;5;132;01m}\u001b[39;00m\u001b[38;5;124m\"\u001b[39m)\n",
      "File \u001b[1;32mc:\\users\\vikmol\\onedrive\\dokumenter\\github\\pylabrobot_dalsa\\pylabrobot\\resources\\tip_tracker.py:57\u001b[0m, in \u001b[0;36mTipTracker.get_tip\u001b[1;34m(self)\u001b[0m\n\u001b[0;32m     50\u001b[0m \u001b[38;5;250m\u001b[39m\u001b[38;5;124;03m\"\"\" Get the tip. Note that does includes pending operations.\u001b[39;00m\n\u001b[0;32m     51\u001b[0m \n\u001b[0;32m     52\u001b[0m \u001b[38;5;124;03mRaises:\u001b[39;00m\n\u001b[0;32m     53\u001b[0m \u001b[38;5;124;03m  NoTipError: If the tip spot does not have a tip.\u001b[39;00m\n\u001b[0;32m     54\u001b[0m \u001b[38;5;124;03m\"\"\"\u001b[39;00m\n\u001b[0;32m     56\u001b[0m \u001b[38;5;28;01mif\u001b[39;00m \u001b[38;5;28mself\u001b[39m\u001b[38;5;241m.\u001b[39m_tip \u001b[38;5;129;01mis\u001b[39;00m \u001b[38;5;28;01mNone\u001b[39;00m:\n\u001b[1;32m---> 57\u001b[0m   \u001b[38;5;28;01mraise\u001b[39;00m NoTipError(\u001b[38;5;124mf\u001b[39m\u001b[38;5;124m\"\u001b[39m\u001b[38;5;132;01m{\u001b[39;00m\u001b[38;5;28mself\u001b[39m\u001b[38;5;241m.\u001b[39mthing\u001b[38;5;132;01m}\u001b[39;00m\u001b[38;5;124m does not have a tip.\u001b[39m\u001b[38;5;124m\"\u001b[39m)\n\u001b[0;32m     58\u001b[0m \u001b[38;5;28;01mreturn\u001b[39;00m \u001b[38;5;28mself\u001b[39m\u001b[38;5;241m.\u001b[39m_tip\n",
      "\u001b[1;31mNoTipError\u001b[0m: Channel 0 does not have a tip."
     ]
    }
   ],
   "source": [
    "await lh.drop_tips(tip_spots=[trash]*1)"
   ]
  },
  {
   "cell_type": "code",
   "execution_count": null,
   "id": "f9f60c6c",
   "metadata": {},
   "outputs": [],
   "source": []
  }
 ],
 "metadata": {
  "kernelspec": {
   "display_name": "Python 3",
   "language": "python",
   "name": "python3"
  },
  "language_info": {
   "codemirror_mode": {
    "name": "ipython",
    "version": 3
   },
   "file_extension": ".py",
   "mimetype": "text/x-python",
   "name": "python",
   "nbconvert_exporter": "python",
   "pygments_lexer": "ipython3",
   "version": "3.10.7"
  },
  "toc": {
   "base_numbering": 1,
   "nav_menu": {},
   "number_sections": true,
   "sideBar": true,
   "skip_h1_title": false,
   "title_cell": "Table of Contents",
   "title_sidebar": "Contents",
   "toc_cell": false,
   "toc_position": {},
   "toc_section_display": true,
   "toc_window_display": false
  },
  "varInspector": {
   "cols": {
    "lenName": 16,
    "lenType": 16,
    "lenVar": 40
   },
   "kernels_config": {
    "python": {
     "delete_cmd_postfix": "",
     "delete_cmd_prefix": "del ",
     "library": "var_list.py",
     "varRefreshCmd": "print(var_dic_list())"
    },
    "r": {
     "delete_cmd_postfix": ") ",
     "delete_cmd_prefix": "rm(",
     "library": "var_list.r",
     "varRefreshCmd": "cat(var_dic_list()) "
    }
   },
   "types_to_exclude": [
    "module",
    "function",
    "builtin_function_or_method",
    "instance",
    "_Feature"
   ],
   "window_display": false
  },
  "vscode": {
   "interpreter": {
    "hash": "bf274dfc1b974177267b6b8fba8543eeb0bb4c5d64c637dde420829b05625268"
   }
  }
 },
 "nbformat": 4,
 "nbformat_minor": 5
}
