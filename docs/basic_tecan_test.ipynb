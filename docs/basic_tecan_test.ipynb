{
  "cells": [
    {
      "cell_type": "markdown",
      "metadata": {},
      "source": [
        "# Basic liquid handling\n",
        "\n",
        "In this notebook, you will learn how to use PyHamilton to move water from one range of wells to another.\n",
        "\n",
        "**Note: before running this notebook, you should have**:\n",
        "\n",
        "- Installed PyHamilton and the USB driver as described in [the installation guide](installation).\n",
        "- Connected the Hamilton to your computer using the USB cable.\n",
        "\n",
        "Video of what this code does:\n",
        "\n",
        "<iframe width=\"640\" height=\"360\" src=\"https://www.youtube.com/embed/NN6ltrRj3bU\" title=\"YouTube video player\" frameborder=\"0\" allow=\"accelerometer; autoplay; clipboard-write; encrypted-media; gyroscope; picture-in-picture\" allowfullscreen></iframe>"
      ]
    },
    {
      "cell_type": "markdown",
      "metadata": {},
      "source": [
        "## Setting up a connection with the robot\n",
        "\n",
        "Start by importing the {class}`~pylabrobot.liquid_handling.liquid_handler.LiquidHandler` class, which will serve as a front end for all liquid handling operations.\n",
        "\n",
        "Backends serve as communicators between between `LiquidHandler`s and the actual hardware. Since we are using a Hamilton STAR, we also import the {class}`~pylabrobot.liquid_handling.backends.STAR` backend."
      ]
    },
    {
      "cell_type": "code",
      "execution_count": 1,
      "metadata": {},
      "outputs": [],
      "source": [
        "%load_ext autoreload\n",
        "%autoreload 2"
      ]
    },
    {
      "cell_type": "code",
      "execution_count": 2,
      "metadata": {},
      "outputs": [],
      "source": [
        "from pylabrobot.liquid_handling import LiquidHandler\n",
        "from pylabrobot.liquid_handling.backends import EVO"
      ]
    },
    {
      "cell_type": "markdown",
      "metadata": {},
      "source": [
        "In addition, import the {class}`~pylabrobot.resources.hamilton.STARLetDeck`, which represents the deck of the Hamilton STAR."
      ]
    },
    {
      "cell_type": "code",
      "execution_count": 3,
      "metadata": {},
      "outputs": [],
      "source": [
        "from pylabrobot.resources.tecan import EVO200Deck"
      ]
    },
    {
      "cell_type": "markdown",
      "metadata": {},
      "source": [
        "Create a new liquid handler using `STAR` as its backend."
      ]
    },
    {
      "cell_type": "code",
      "execution_count": 4,
      "metadata": {},
      "outputs": [],
      "source": [
        "backend = EVO()\n",
        "lh = LiquidHandler(backend=backend, deck=EVO200Deck())"
      ]
    },
    {
      "cell_type": "code",
      "execution_count": 5,
      "metadata": {},
      "outputs": [
        {
          "name": "stdout",
          "output_type": "stream",
          "text": [
            "DEVICE ID 0c47:4000 on Bus 000 Address 255 =================\n",
            " bLength                :   0x12 (18 bytes)\n",
            " bDescriptorType        :    0x1 Device\n",
            " bcdUSB                 :  0x110 USB 1.1\n",
            " bDeviceClass           :    0x0 Specified at interface\n",
            " bDeviceSubClass        :    0x0\n",
            " bDeviceProtocol        :    0x0\n",
            " bMaxPacketSize0        :    0x8 (8 bytes)\n",
            " idVendor               : 0x0c47\n",
            " idProduct              : 0x4000\n",
            " bcdDevice              :  0x120 Device 1.2\n",
            " iManufacturer          :    0x1 TECAN\n",
            " iProduct               :    0x2 TECU\n",
            " iSerialNumber          :    0x3 1110009028\n",
            " bNumConfigurations     :    0x1\n",
            "  CONFIGURATION 1: 0 mA ====================================\n",
            "   bLength              :    0x9 (9 bytes)\n",
            "   bDescriptorType      :    0x2 Configuration\n",
            "   wTotalLength         :   0x20 (32 bytes)\n",
            "   bNumInterfaces       :    0x1\n",
            "   bConfigurationValue  :    0x1\n",
            "   iConfiguration       :    0x4 easy\n",
            "   bmAttributes         :   0x40 Self Powered\n",
            "   bMaxPower            :    0x0 (0 mA)\n",
            "    INTERFACE 0: Reserved ==================================\n",
            "     bLength            :    0x9 (9 bytes)\n",
            "     bDescriptorType    :    0x4 Interface\n",
            "     bInterfaceNumber   :    0x0\n",
            "     bAlternateSetting  :    0x0\n",
            "     bNumEndpoints      :    0x2\n",
            "     bInterfaceClass    :    0x0 Reserved\n",
            "     bInterfaceSubClass :    0x0\n",
            "     bInterfaceProtocol :    0x0\n",
            "     iInterface         :    0x0 \n",
            "      ENDPOINT 0x2: Bulk OUT ===============================\n",
            "       bLength          :    0x7 (7 bytes)\n",
            "       bDescriptorType  :    0x5 Endpoint\n",
            "       bEndpointAddress :    0x2 OUT\n",
            "       bmAttributes     :    0x2 Bulk\n",
            "       wMaxPacketSize   :   0x40 (64 bytes)\n",
            "       bInterval        :    0x0\n",
            "      ENDPOINT 0x81: Bulk IN ===============================\n",
            "       bLength          :    0x7 (7 bytes)\n",
            "       bDescriptorType  :    0x5 Endpoint\n",
            "       bEndpointAddress :   0x81 IN\n",
            "       bmAttributes     :    0x2 Bulk\n",
            "       wMaxPacketSize   :   0x40 (64 bytes)\n",
            "       bInterval        :    0x0\n"
          ]
        }
      ],
      "source": [
        "# testing for device type. matches for 0x4000. used by PLR dev. not importatn for code.\n",
        "import usb.core\n",
        "for dev in usb.core.find(find_all=True): print(dev)\n"
      ]
    },
    {
      "cell_type": "markdown",
      "metadata": {},
      "source": [
        "The final step is to open communication with the robot. This is done using the {func}`~pylabrobot.liquid_handling.LiquidHandler.setup` method."
      ]
    },
    {
      "cell_type": "code",
      "execution_count": 5,
      "metadata": {
        "scrolled": false
      },
      "outputs": [],
      "source": [
        "await lh.setup()\n",
        "### EVO PART FOR TO HERE BUT ONWARDS I NEED TO WRITE EVO SPECEFIC COMMANDS, CURRENTLY IT LOOKS LIKE HAMILTON COMMANDS"
      ]
    },
    {
      "cell_type": "markdown",
      "metadata": {},
      "source": [
        "## Creating the deck layout\n",
        "\n",
        "Now that we have a `LiquidHandler` instance, we can define the deck layout.\n",
        "\n",
        "The layout in this tutorial will contain five sets of standard volume tips with filter, 1 set of 96 1mL wells, and tip and plate carriers on which these resources are positioned.\n",
        "\n",
        "Start by importing the relevant objects and variables from the PyHamilton package. This notebook uses the following resources:\n",
        "\n",
        "- {class}`~pylabrobot.resources.ml_star.tip_carriers.TIP_CAR_480_A00` tip carrier\n",
        "- {class}`~pylabrobot.resources.ml_star.plate_carriers.PLT_CAR_L5AC_A00` plate carrier\n",
        "- {class}`~pylabrobot.resources.corning_costar.plates.Cos_96_DW_1mL` wells\n",
        "- {class}`~pylabrobot.resources.ml_star.tip_racks.HTF_L` tips"
      ]
    },
    {
      "cell_type": "code",
      "execution_count": 30,
      "metadata": {},
      "outputs": [],
      "source": [
        "from pylabrobot.resources import (\n",
        "  Wash_Station,\n",
        "  Microplate_96_Well,\n",
        "  MP_3Pos,\n",
        "  Microplate_Nunc_96_Well, # for test\n",
        "  Microplate_Nunc_v_96_Well, \n",
        "  Microplate_Nuncflat_96_Well, \n",
        "  PCR_Plate_96_Well, \n",
        "  AB_Plate_96_Well,\n",
        "  DeepWell_96_Well,\n",
        "  corning_96_wellplate_360ul_flat\n",
        "\n",
        ")\n",
        "\n",
        "# from pylabrobot.resources import (\n",
        "#     TIP_CAR_480_A00,\n",
        "#     PLT_CAR_L5AC_A00,\n",
        "#     Cos_96_DW_1mL,\n",
        "#     HTF_L\n",
        "# )"
      ]
    },
    {
      "cell_type": "markdown",
      "metadata": {},
      "source": [
        "Then create a tip carrier named `tip carrier`, which will contain tip rack at all 5 positions. These positions can be accessed using `tip_car[x]`, and are 0 indexed."
      ]
    },
    {
      "cell_type": "code",
      "execution_count": 8,
      "metadata": {},
      "outputs": [],
      "source": [
        "# tip_car = TIP_CAR_480_A00(name='tip carrier')\n",
        "# tip_car[0] = HTF_L(name='tips_01')\n",
        "wash_station = Wash_Station(name='wash_station')\n",
        "\n",
        "## MAYBE NEEDED:\n",
        "# wash_station[0] = Wash_Station_Cleaner_deep(name=\"wash_clean_deep\")\n",
        "# wash_station[1] = Wash_Station_Waste(name=\"wash_waste\")\n",
        "# wash_station[2] = Wash_Station_Cleaner_shallow(name=\"wash_clean_shallow\")"
      ]
    },
    {
      "cell_type": "markdown",
      "metadata": {},
      "source": [
        "Use {func}`~pylabrobot.resources.abstract.assign_child_resources` to assign the tip carrier to the deck of the liquid handler. All resources contained by this carrier will be assigned automatically.\n",
        "\n",
        "In the `rails` parameter, we can pass the location of the tip carrier. The locations of the tips will automatically be calculated."
      ]
    },
    {
      "cell_type": "code",
      "execution_count": 9,
      "metadata": {},
      "outputs": [],
      "source": [
        "# lh.deck.assign_child_resource(tip_car, rails=3)\n",
        "\n",
        "# as washstation is allready defined on position rails=1 i need to redefine it.\n",
        "lh.deck.assign_child_resource(wash_station, rails=14, replace=True)"
      ]
    },
    {
      "cell_type": "code",
      "execution_count": 12,
      "metadata": {},
      "outputs": [
        {
          "name": "stdout",
          "output_type": "stream",
          "text": [
            "Rail     Resource                   Type                Coordinates (mm)\n",
            "===============================================================================================\n",
            "(14) ├── wash_station               TecanWashStation    (412.500, -20.300, 000.000)\n",
            "     │   ├── <empty>\n",
            "     │   ├── <empty>\n",
            "     │   ├── <empty>\n",
            "\n"
          ]
        }
      ],
      "source": [
        "print(lh.deck.summary())"
      ]
    },
    {
      "cell_type": "markdown",
      "metadata": {},
      "source": [
        "Repeat this for the plates."
      ]
    },
    {
      "cell_type": "code",
      "execution_count": 33,
      "metadata": {},
      "outputs": [
        {
          "ename": "TypeError",
          "evalue": "Well.__init__() missing 1 required positional argument: 'size_z'",
          "output_type": "error",
          "traceback": [
            "\u001b[1;31m---------------------------------------------------------------------------\u001b[0m",
            "\u001b[1;31mTypeError\u001b[0m                                 Traceback (most recent call last)",
            "Cell \u001b[1;32mIn[33], line 7\u001b[0m\n\u001b[0;32m      1\u001b[0m \u001b[38;5;66;03m## HAmilton \u001b[39;00m\n\u001b[0;32m      2\u001b[0m \u001b[38;5;66;03m# plt_car = PLT_CAR_L5AC_A00(name='plate carrier')\u001b[39;00m\n\u001b[0;32m      3\u001b[0m \u001b[38;5;66;03m# plt_car[0] = Cos_96_DW_1mL(name='plate_01')\u001b[39;00m\n\u001b[0;32m      4\u001b[0m \n\u001b[0;32m      5\u001b[0m \u001b[38;5;66;03m## Tecan \u001b[39;00m\n\u001b[0;32m      6\u001b[0m mp_3pos \u001b[38;5;241m=\u001b[39m MP_3Pos(name\u001b[38;5;241m=\u001b[39m\u001b[38;5;124m'\u001b[39m\u001b[38;5;124mmp_3pos\u001b[39m\u001b[38;5;124m'\u001b[39m)\n\u001b[1;32m----> 7\u001b[0m mp_3pos[\u001b[38;5;241m0\u001b[39m] \u001b[38;5;241m=\u001b[39m \u001b[43mMicroplate_96_Well\u001b[49m\u001b[43m(\u001b[49m\u001b[43mname\u001b[49m\u001b[38;5;241;43m=\u001b[39;49m\u001b[38;5;124;43m'\u001b[39;49m\u001b[38;5;124;43mplate_1\u001b[39;49m\u001b[38;5;124;43m'\u001b[39;49m\u001b[43m,\u001b[49m\u001b[43m \u001b[49m\u001b[43mwith_lid\u001b[49m\u001b[38;5;241;43m=\u001b[39;49m\u001b[38;5;28;43;01mFalse\u001b[39;49;00m\u001b[43m)\u001b[49m\n\u001b[0;32m      8\u001b[0m \u001b[38;5;66;03m# mp_3pos[0] = Microplate_Nunc_96_Well(name='plate_1', with_lid=False)\u001b[39;00m\n\u001b[0;32m      9\u001b[0m \u001b[38;5;66;03m# mp_3pos[0] = corning_96_wellplate_360ul_flat(name='plate_1')\u001b[39;00m\n",
            "File \u001b[1;32mc:\\users\\vikmol\\onedrive\\dokumenter\\github\\pylabrobot_dalsa\\pylabrobot\\resources\\tecan\\plates.py:90\u001b[0m, in \u001b[0;36mMicroplate_96_Well\u001b[1;34m(name, with_lid)\u001b[0m\n\u001b[0;32m     43\u001b[0m \u001b[38;5;28;01mdef\u001b[39;00m \u001b[38;5;21mMicroplate_96_Well\u001b[39m(name: \u001b[38;5;28mstr\u001b[39m, with_lid: \u001b[38;5;28mbool\u001b[39m \u001b[38;5;241m=\u001b[39m \u001b[38;5;28;01mFalse\u001b[39;00m) \u001b[38;5;241m-\u001b[39m\u001b[38;5;241m>\u001b[39m TecanPlate:\n\u001b[0;32m     44\u001b[0m \u001b[38;5;250m  \u001b[39m\u001b[38;5;124;03m\"\"\" white: pn 30122300, black: pn 30122298, cell culture/clear: pn 30122304, cell culture/black with clear bottom: pn 30122306\u001b[39;00m\n\u001b[0;32m     45\u001b[0m \n\u001b[0;32m     46\u001b[0m \u001b[38;5;124;03m  Coley\u001b[39;00m\n\u001b[1;32m   (...)\u001b[0m\n\u001b[0;32m     74\u001b[0m \u001b[38;5;124;03m      )\u001b[39;00m\n\u001b[0;32m     75\u001b[0m \u001b[38;5;124;03m  \"\"\"\u001b[39;00m\n\u001b[0;32m     77\u001b[0m   \u001b[38;5;28;01mreturn\u001b[39;00m TecanPlate(\n\u001b[0;32m     78\u001b[0m     name\u001b[38;5;241m=\u001b[39mname,\n\u001b[0;32m     79\u001b[0m     size_x\u001b[38;5;241m=\u001b[39m\u001b[38;5;241m127.8\u001b[39m,\n\u001b[0;32m     80\u001b[0m     size_y\u001b[38;5;241m=\u001b[39m\u001b[38;5;241m85.4\u001b[39m,\n\u001b[0;32m     81\u001b[0m     size_z\u001b[38;5;241m=\u001b[39m\u001b[38;5;241m7.6\u001b[39m,\n\u001b[0;32m     82\u001b[0m     with_lid\u001b[38;5;241m=\u001b[39mwith_lid,\n\u001b[0;32m     83\u001b[0m     lid_height\u001b[38;5;241m=\u001b[39m\u001b[38;5;241m8\u001b[39m,\n\u001b[0;32m     84\u001b[0m     model\u001b[38;5;241m=\u001b[39m\u001b[38;5;124m\"\u001b[39m\u001b[38;5;124mMicroplate_96_Well\u001b[39m\u001b[38;5;124m\"\u001b[39m,\n\u001b[0;32m     85\u001b[0m     z_travel\u001b[38;5;241m=\u001b[39m\u001b[38;5;241m1900.0\u001b[39m,\n\u001b[0;32m     86\u001b[0m     z_start\u001b[38;5;241m=\u001b[39m\u001b[38;5;241m1957.0\u001b[39m,\n\u001b[0;32m     87\u001b[0m     z_dispense\u001b[38;5;241m=\u001b[39m\u001b[38;5;241m1975.0\u001b[39m,\n\u001b[0;32m     88\u001b[0m     z_max\u001b[38;5;241m=\u001b[39m\u001b[38;5;241m2005.0\u001b[39m,\n\u001b[0;32m     89\u001b[0m     area\u001b[38;5;241m=\u001b[39m\u001b[38;5;241m33.2\u001b[39m,\n\u001b[1;32m---> 90\u001b[0m     items\u001b[38;5;241m=\u001b[39m\u001b[43mcreate_equally_spaced\u001b[49m\u001b[43m(\u001b[49m\u001b[43mWell\u001b[49m\u001b[43m,\u001b[49m\n\u001b[0;32m     91\u001b[0m \u001b[43m      \u001b[49m\u001b[43mnum_items_x\u001b[49m\u001b[38;5;241;43m=\u001b[39;49m\u001b[38;5;241;43m12\u001b[39;49m\u001b[43m,\u001b[49m\n\u001b[0;32m     92\u001b[0m \u001b[43m      \u001b[49m\u001b[43mnum_items_y\u001b[49m\u001b[38;5;241;43m=\u001b[39;49m\u001b[38;5;241;43m8\u001b[39;49m\u001b[43m,\u001b[49m\n\u001b[0;32m     93\u001b[0m \u001b[43m      \u001b[49m\u001b[43mdx\u001b[49m\u001b[38;5;241;43m=\u001b[39;49m\u001b[38;5;241;43m12.5\u001b[39;49m\u001b[43m,\u001b[49m\n\u001b[0;32m     94\u001b[0m \u001b[43m      \u001b[49m\u001b[43mdy\u001b[49m\u001b[38;5;241;43m=\u001b[39;49m\u001b[38;5;241;43m7.6\u001b[39;49m\u001b[43m,\u001b[49m\n\u001b[0;32m     95\u001b[0m \u001b[43m      \u001b[49m\u001b[43mdz\u001b[49m\u001b[38;5;241;43m=\u001b[39;49m\u001b[38;5;241;43m0.0\u001b[39;49m\u001b[43m,\u001b[49m\n\u001b[0;32m     96\u001b[0m \u001b[43m      \u001b[49m\u001b[43mitem_dx\u001b[49m\u001b[38;5;241;43m=\u001b[39;49m\u001b[38;5;241;43m9.0\u001b[39;49m\u001b[43m,\u001b[49m\n\u001b[0;32m     97\u001b[0m \u001b[43m      \u001b[49m\u001b[43mitem_dy\u001b[49m\u001b[38;5;241;43m=\u001b[39;49m\u001b[38;5;241;43m9.0\u001b[39;49m\u001b[43m,\u001b[49m\n\u001b[0;32m     98\u001b[0m \u001b[43m      \u001b[49m\u001b[43msize_x\u001b[49m\u001b[38;5;241;43m=\u001b[39;49m\u001b[38;5;241;43m9.0\u001b[39;49m\u001b[43m,\u001b[49m\n\u001b[0;32m     99\u001b[0m \u001b[43m      \u001b[49m\u001b[43msize_y\u001b[49m\u001b[38;5;241;43m=\u001b[39;49m\u001b[38;5;241;43m9.0\u001b[39;49m\n\u001b[0;32m    100\u001b[0m \u001b[43m    \u001b[49m\u001b[43m)\u001b[49m,\n\u001b[0;32m    101\u001b[0m   )\n",
            "File \u001b[1;32mc:\\users\\vikmol\\onedrive\\dokumenter\\github\\pylabrobot_dalsa\\pylabrobot\\resources\\itemized_resource.py:418\u001b[0m, in \u001b[0;36mcreate_equally_spaced\u001b[1;34m(klass, num_items_x, num_items_y, dx, dy, dz, item_dx, item_dy, **kwargs)\u001b[0m\n\u001b[0;32m    416\u001b[0m \u001b[38;5;28;01mfor\u001b[39;00m j \u001b[38;5;129;01min\u001b[39;00m \u001b[38;5;28mrange\u001b[39m(num_items_y):\n\u001b[0;32m    417\u001b[0m   name \u001b[38;5;241m=\u001b[39m \u001b[38;5;124mf\u001b[39m\u001b[38;5;124m\"\u001b[39m\u001b[38;5;132;01m{\u001b[39;00mklass\u001b[38;5;241m.\u001b[39m\u001b[38;5;18m__name__\u001b[39m\u001b[38;5;241m.\u001b[39mlower()\u001b[38;5;132;01m}\u001b[39;00m\u001b[38;5;124m_\u001b[39m\u001b[38;5;132;01m{\u001b[39;00mi\u001b[38;5;132;01m}\u001b[39;00m\u001b[38;5;124m_\u001b[39m\u001b[38;5;132;01m{\u001b[39;00mj\u001b[38;5;132;01m}\u001b[39;00m\u001b[38;5;124m\"\u001b[39m\n\u001b[1;32m--> 418\u001b[0m   item \u001b[38;5;241m=\u001b[39m klass(\n\u001b[0;32m    419\u001b[0m     name\u001b[38;5;241m=\u001b[39mname,\n\u001b[0;32m    420\u001b[0m     \u001b[38;5;241m*\u001b[39m\u001b[38;5;241m*\u001b[39mkwargs\n\u001b[0;32m    421\u001b[0m   )\n\u001b[0;32m    422\u001b[0m   item\u001b[38;5;241m.\u001b[39mlocation\u001b[38;5;241m=\u001b[39mCoordinate(x\u001b[38;5;241m=\u001b[39mdx \u001b[38;5;241m+\u001b[39m i \u001b[38;5;241m*\u001b[39m item_dx, y\u001b[38;5;241m=\u001b[39mdy \u001b[38;5;241m+\u001b[39m (num_items_y\u001b[38;5;241m-\u001b[39mj\u001b[38;5;241m-\u001b[39m\u001b[38;5;241m1\u001b[39m) \u001b[38;5;241m*\u001b[39m item_dy, z\u001b[38;5;241m=\u001b[39mdz)\n\u001b[0;32m    423\u001b[0m   items[i]\u001b[38;5;241m.\u001b[39mappend(item)\n",
            "\u001b[1;31mTypeError\u001b[0m: Well.__init__() missing 1 required positional argument: 'size_z'"
          ]
        }
      ],
      "source": [
        "## HAmilton \n",
        "# plt_car = PLT_CAR_L5AC_A00(name='plate carrier')\n",
        "# plt_car[0] = Cos_96_DW_1mL(name='plate_01')\n",
        "\n",
        "## Tecan \n",
        "mp_3pos = MP_3Pos(name='mp_3pos')\n",
        "mp_3pos[0] = Microplate_96_Well(name='plate_1', with_lid=False)\n",
        "# mp_3pos[0] = Microplate_Nunc_96_Well(name='plate_1', with_lid=False)\n",
        "# mp_3pos[0] = corning_96_wellplate_360ul_flat(name='plate_1')\n"
      ]
    },
    {
      "cell_type": "code",
      "execution_count": 26,
      "metadata": {},
      "outputs": [],
      "source": [
        "# lh.deck.assign_child_resource(plt_car, rails=15)"
      ]
    },
    {
      "cell_type": "markdown",
      "metadata": {},
      "source": [
        "Let's look at a summary of the deck layout using {func}`~pylabrobot.liquid_handling.LiquidHandler.summary`."
      ]
    },
    {
      "cell_type": "code",
      "execution_count": 11,
      "metadata": {},
      "outputs": [
        {
          "name": "stdout",
          "output_type": "stream",
          "text": [
            "Rail     Resource                   Type                Coordinates (mm)\n",
            "===============================================================================================\n",
            "(3)  ├── tip carrier                TipCarrier          (145.000, 063.000, 100.000)\n",
            "     │   ├── tips_01                TipRack             (162.900, 145.800, 131.450)\n",
            "     │   ├── <empty>\n",
            "     │   ├── <empty>\n",
            "     │   ├── <empty>\n",
            "     │   ├── <empty>\n",
            "     │\n",
            "(15) ├── plate carrier              PlateCarrier        (415.000, 063.000, 100.000)\n",
            "     │   ├── plate_01               Plate               (433.000, 146.000, 187.150)\n",
            "     │   ├── <empty>\n",
            "     │   ├── <empty>\n",
            "     │   ├── <empty>\n",
            "     │   ├── <empty>\n",
            "     │\n",
            "(32) ├── trash                      Trash               (800.000, 190.600, 137.100)\n",
            "\n"
          ]
        }
      ],
      "source": [
        "lh.summary()"
      ]
    },
    {
      "cell_type": "markdown",
      "metadata": {},
      "source": [
        "## Picking up tips\n",
        "\n",
        "Picking up tips is as easy as querying the tips from the tiprack."
      ]
    },
    {
      "cell_type": "code",
      "execution_count": 12,
      "metadata": {},
      "outputs": [
        {
          "name": "stderr",
          "output_type": "stream",
          "text": [
            "INFO:pylabrobot.liquid_handling.backends.hamilton.STAR:Sent command: C0TTid0004tt01tf1tl0871tv12500tg3tu0\n",
            "INFO:pylabrobot.liquid_handling.backends.hamilton.STAR:Received response: C0TTid0004er00/00\n",
            "INFO:pylabrobot.liquid_handling.backends.hamilton.STAR:Sent command: C0TPid0005xp01629 01629 01629 00000&yp1458 1368 1278 0000&tm1 1 1 0&tt01tp2244tz2164th2450td0\n",
            "INFO:pylabrobot.liquid_handling.backends.hamilton.STAR:Received response: C0TPid0005er00/00\n"
          ]
        }
      ],
      "source": [
        "tiprack = lh.get_resource(\"tips_01\")\n",
        "await lh.pick_up_tips(tiprack[\"A1:C1\"])"
      ]
    },
    {
      "cell_type": "markdown",
      "metadata": {},
      "source": [
        "## Aspirating and dispensing"
      ]
    },
    {
      "cell_type": "markdown",
      "metadata": {},
      "source": [
        "Aspirating and dispensing work similarly to picking up tips: where you use booleans to specify which tips to pick up, with aspiration and dispensing you use floats to specify the volume to aspirate or dispense in $\\mu L$.\n",
        "\n",
        "The cells below move liquid from wells `'A1:C1'` to `'D1:F1'` using channels 1, 2, and 3 using the {func}`~pylabrobot.liquid_handling.LiquidHandler.aspirate` and {func}`~pylabrobot.liquid_handling.LiquidHandler.dispense` methods."
      ]
    },
    {
      "cell_type": "code",
      "execution_count": 13,
      "metadata": {},
      "outputs": [
        {
          "name": "stderr",
          "output_type": "stream",
          "text": [
            "INFO:pylabrobot.liquid_handling.backends.hamilton.STAR:Sent command: C0ASid0006at0&tm1 1 1 0&xp04330 04330 04330 00000&yp1460 1370 1280 0000&th2450te2450lp1931 1931 1931&ch000 000 000&zl1881 1881 1881&po0100 0100 0100&zu0032 0032 0032&zr06180 06180 06180&zx1831 1831 1831&ip0000 0000 0000&it0 0 0&fp0000 0000 0000&av01072 00551 02110&as1000 1000 1000&ta000 000 000&ba0000 0000 0000&oa000 000 000&lm0 0 0&ll1 1 1&lv1 1 1&zo000 000 000&ld00 00 00&de0020 0020 0020&wt10 10 10&mv00000 00000 00000&mc00 00 00&mp000 000 000&ms1000 1000 1000&mh0000 0000 0000&gi000 000 000&gj0gk0lk0 0 0&ik0000 0000 0000&sd0500 0500 0500&se0500 0500 0500&sz0300 0300 0300&io0000 0000 0000&il00000 00000 00000&in0000 0000 0000&\n",
            "INFO:pylabrobot.liquid_handling.backends.hamilton.STAR:Received response: C0ASid0006er00/00\n"
          ]
        }
      ],
      "source": [
        "plate = lh.get_resource(\"plate_01\")\n",
        "await lh.aspirate(plate[\"A1:C1\"], vols=[100.0, 50.0, 200.0])"
      ]
    },
    {
      "cell_type": "markdown",
      "metadata": {},
      "source": [
        "After the liquid has been aspirated, dispense it in the wells below. Note that while we specify different wells, we are still using the same channels. This is needed because only these channels contain liquid, of course."
      ]
    },
    {
      "cell_type": "code",
      "execution_count": 14,
      "metadata": {},
      "outputs": [
        {
          "name": "stderr",
          "output_type": "stream",
          "text": [
            "INFO:pylabrobot.liquid_handling.backends.hamilton.STAR:Sent command: C0DSid0007dm2 2 2&tm1 1 1 0&xp04330 04330 04330 00000&yp1190 1100 1010 0000&zx1871 1871 1871&lp2321 2321 2321&zl1881 1881 1881&po0100 0100 0100&ip0000 0000 0000&it0 0 0&fp0000 0000 0000&zu0032 0032 0032&zr06180 06180 06180&th2450te2450dv01072 00551 02110&ds1200 1200 1200&ss0050 0050 0050&rv000 000 000&ta000 000 000&ba0000 0000 0000&lm0 0 0&dj00zo000 000 000&ll1 1 1&lv1 1 1&de0020 0020 0020&wt00 00 00&mv00000 00000 00000&mc00 00 00&mp000 000 000&ms0010 0010 0010&mh0000 0000 0000&gi000 000 000&gj0gk0\n",
            "INFO:pylabrobot.liquid_handling.backends.hamilton.STAR:Received response: C0DSid0007er00/00\n"
          ]
        }
      ],
      "source": [
        "await lh.dispense(plate[\"D1:F1\"], vols=[100.0, 50.0, 200.0])"
      ]
    },
    {
      "cell_type": "markdown",
      "metadata": {},
      "source": [
        "Let's move the liquid back to the original wells."
      ]
    },
    {
      "cell_type": "code",
      "execution_count": 15,
      "metadata": {},
      "outputs": [
        {
          "name": "stderr",
          "output_type": "stream",
          "text": [
            "INFO:pylabrobot.liquid_handling.backends.hamilton.STAR:Sent command: C0ASid0008at0&tm1 1 1 0&xp04330 04330 04330 00000&yp1190 1100 1010 0000&th2450te2450lp1931 1931 1931&ch000 000 000&zl1881 1881 1881&po0100 0100 0100&zu0032 0032 0032&zr06180 06180 06180&zx1831 1831 1831&ip0000 0000 0000&it0 0 0&fp0000 0000 0000&av01072 00551 02110&as1000 1000 1000&ta000 000 000&ba0000 0000 0000&oa000 000 000&lm0 0 0&ll1 1 1&lv1 1 1&zo000 000 000&ld00 00 00&de0020 0020 0020&wt10 10 10&mv00000 00000 00000&mc00 00 00&mp000 000 000&ms1000 1000 1000&mh0000 0000 0000&gi000 000 000&gj0gk0lk0 0 0&ik0000 0000 0000&sd0500 0500 0500&se0500 0500 0500&sz0300 0300 0300&io0000 0000 0000&il00000 00000 00000&in0000 0000 0000&\n",
            "INFO:pylabrobot.liquid_handling.backends.hamilton.STAR:Received response: C0ASid0008er00/00\n",
            "INFO:pylabrobot.liquid_handling.backends.hamilton.STAR:Sent command: C0DSid0009dm2 2 2&tm1 1 1 0&xp04330 04330 04330 00000&yp1460 1370 1280 0000&zx1871 1871 1871&lp2321 2321 2321&zl1881 1881 1881&po0100 0100 0100&ip0000 0000 0000&it0 0 0&fp0000 0000 0000&zu0032 0032 0032&zr06180 06180 06180&th2450te2450dv01072 00551 02110&ds1200 1200 1200&ss0050 0050 0050&rv000 000 000&ta000 000 000&ba0000 0000 0000&lm0 0 0&dj00zo000 000 000&ll1 1 1&lv1 1 1&de0020 0020 0020&wt00 00 00&mv00000 00000 00000&mc00 00 00&mp000 000 000&ms0010 0010 0010&mh0000 0000 0000&gi000 000 000&gj0gk0\n",
            "INFO:pylabrobot.liquid_handling.backends.hamilton.STAR:Received response: C0DSid0009er00/00\n"
          ]
        }
      ],
      "source": [
        "await lh.aspirate(plate[\"D1:F1\"], vols=[100.0, 50.0, 200.0])\n",
        "await lh.dispense(plate[\"A1:C1\"], vols=[100.0, 50.0, 200.0])"
      ]
    },
    {
      "cell_type": "markdown",
      "metadata": {},
      "source": [
        "## Discarding tips\n",
        "\n",
        "Finally, you can discard tips by using the {func}`~pylabrobot.liquid_handling.LiquidHandler.discard_tips` method."
      ]
    },
    {
      "cell_type": "code",
      "execution_count": 16,
      "metadata": {},
      "outputs": [
        {
          "name": "stderr",
          "output_type": "stream",
          "text": [
            "INFO:pylabrobot.liquid_handling.backends.hamilton.STAR:Sent command: C0TRid0010xp01629 01629 01629 00000&yp1458 1368 1278 0000&tm1 1 1 0&tt01tp1314tz1414th2450ti0\n",
            "INFO:pylabrobot.liquid_handling.backends.hamilton.STAR:Received response: C0TRid0010er00/00kz381 356 365 000 000 000 000 000vz303 360 368 000 000 000 000 000\n"
          ]
        }
      ],
      "source": [
        "await lh.drop_tips(tiprack[\"A1:C1\"])"
      ]
    },
    {
      "cell_type": "code",
      "execution_count": 17,
      "metadata": {},
      "outputs": [
        {
          "name": "stderr",
          "output_type": "stream",
          "text": [
            "WARNING:root:Closing connection to USB device.\n"
          ]
        }
      ],
      "source": [
        "await lh.stop()"
      ]
    }
  ],
  "metadata": {
    "kernelspec": {
      "display_name": "Python 3.9.13 ('env': venv)",
      "language": "python",
      "name": "python3"
    },
    "language_info": {
      "codemirror_mode": {
        "name": "ipython",
        "version": 3
      },
      "file_extension": ".py",
      "mimetype": "text/x-python",
      "name": "python",
      "nbconvert_exporter": "python",
      "pygments_lexer": "ipython3",
      "version": "3.10.7"
    },
    "vscode": {
      "interpreter": {
        "hash": "bf274dfc1b974177267b6b8fba8543eeb0bb4c5d64c637dde420829b05625268"
      }
    }
  },
  "nbformat": 4,
  "nbformat_minor": 2
}
