{
  "cells": [
    {
      "cell_type": "markdown",
      "metadata": {},
      "source": [
        "# Basic liquid handling\n",
        "\n",
        "In this notebook, you will learn how to use PyHamilton to move water from one range of wells to another.\n",
        "\n",
        "**Note: before running this notebook, you should have**:\n",
        "\n",
        "- Installed PyHamilton and the USB driver as described in [the installation guide](installation).\n",
        "- Connected the Hamilton to your computer using the USB cable.\n",
        "\n",
        "Video of what this code does:\n",
        "\n",
        "<iframe width=\"640\" height=\"360\" src=\"https://www.youtube.com/embed/NN6ltrRj3bU\" title=\"YouTube video player\" frameborder=\"0\" allow=\"accelerometer; autoplay; clipboard-write; encrypted-media; gyroscope; picture-in-picture\" allowfullscreen></iframe>"
      ]
    },
    {
      "cell_type": "markdown",
      "metadata": {},
      "source": [
        "## Setting up a connection with the robot\n",
        "\n",
        "Start by importing the {class}`~pylabrobot.liquid_handling.liquid_handler.LiquidHandler` class, which will serve as a front end for all liquid handling operations.\n",
        "\n",
        "Backends serve as communicators between between `LiquidHandler`s and the actual hardware. Since we are using a Hamilton STAR, we also import the {class}`~pylabrobot.liquid_handling.backends.STAR` backend."
      ]
    },
    {
      "cell_type": "code",
      "execution_count": 1,
      "metadata": {},
      "outputs": [],
      "source": [
        "%load_ext autoreload\n",
        "%autoreload 2"
      ]
    },
    {
      "cell_type": "code",
      "execution_count": 2,
      "metadata": {},
      "outputs": [],
      "source": [
        "from pylabrobot.liquid_handling import LiquidHandler\n",
        "from pylabrobot.liquid_handling.backends import STAR"
      ]
    },
    {
      "cell_type": "markdown",
      "metadata": {},
      "source": [
        "In addition, import the {class}`~pylabrobot.resources.hamilton.STARLetDeck`, which represents the deck of the Hamilton STAR."
      ]
    },
    {
      "cell_type": "code",
      "execution_count": 3,
      "metadata": {},
      "outputs": [],
      "source": [
        "from pylabrobot.resources.hamilton import STARLetDeck"
      ]
    },
    {
      "cell_type": "markdown",
      "metadata": {},
      "source": [
        "Create a new liquid handler using `STAR` as its backend."
      ]
    },
    {
      "cell_type": "code",
      "execution_count": 4,
      "metadata": {},
      "outputs": [],
      "source": [
        "backend = STAR()\n",
        "lh = LiquidHandler(backend=backend, deck=STARLetDeck())"
      ]
    },
    {
      "cell_type": "markdown",
      "metadata": {},
      "source": [
        "The final step is to open communication with the robot. This is done using the {func}`~pylabrobot.liquid_handling.LiquidHandler.setup` method."
      ]
    },
    {
      "cell_type": "code",
      "execution_count": 5,
      "metadata": {
        "scrolled": false
      },
      "outputs": [
        {
          "name": "stderr",
          "output_type": "stream",
          "text": [
            "WARNING:root:Already initialized. Please call stop() first.\n"
          ]
        }
      ],
      "source": [
        "await lh.setup()"
      ]
    },
    {
      "cell_type": "markdown",
      "metadata": {},
      "source": [
        "## Creating the deck layout\n",
        "\n",
        "Now that we have a `LiquidHandler` instance, we can define the deck layout.\n",
        "\n",
        "The layout in this tutorial will contain five sets of standard volume tips with filter, 1 set of 96 1mL wells, and tip and plate carriers on which these resources are positioned.\n",
        "\n",
        "Start by importing the relevant objects and variables from the PyHamilton package. This notebook uses the following resources:\n",
        "\n",
        "- {class}`~pylabrobot.resources.ml_star.tip_carriers.TIP_CAR_480_A00` tip carrier\n",
        "- {class}`~pylabrobot.resources.ml_star.plate_carriers.PLT_CAR_L5AC_A00` plate carrier\n",
        "- {class}`~pylabrobot.resources.corning_costar.plates.Cos_96_DW_1mL` wells\n",
        "- {class}`~pylabrobot.resources.ml_star.tip_racks.HTF_L` tips"
      ]
    },
    {
      "cell_type": "code",
      "execution_count": 6,
      "metadata": {},
      "outputs": [],
      "source": [
        "from pylabrobot.resources import (\n",
        "    TIP_CAR_480_A00,\n",
        "    PLT_CAR_L5AC_A00,\n",
        "    Cos_96_DW_1mL,\n",
        "    HTF_L\n",
        ")"
      ]
    },
    {
      "cell_type": "markdown",
      "metadata": {},
      "source": [
        "Then create a tip carrier named `tip carrier`, which will contain tip rack at all 5 positions. These positions can be accessed using `tip_car[x]`, and are 0 indexed."
      ]
    },
    {
      "cell_type": "code",
      "execution_count": 7,
      "metadata": {},
      "outputs": [],
      "source": [
        "tip_car = TIP_CAR_480_A00(name='tip carrier')\n",
        "tip_car[0] = HTF_L(name='tips_01')"
      ]
    },
    {
      "cell_type": "markdown",
      "metadata": {},
      "source": [
        "Use {func}`~pylabrobot.resources.abstract.assign_child_resources` to assign the tip carrier to the deck of the liquid handler. All resources contained by this carrier will be assigned automatically.\n",
        "\n",
        "In the `rails` parameter, we can pass the location of the tip carrier. The locations of the tips will automatically be calculated."
      ]
    },
    {
      "cell_type": "code",
      "execution_count": 8,
      "metadata": {},
      "outputs": [],
      "source": [
        "# lh.deck.assign_child_resource(tip_car, rails=7)\n",
        "\n",
        "## OPS OSP HOW DO I REPLACE A RESOURCE WITH OUT HAVING TO RESTART EVERY TIME!??\n",
        "# lh.deck.resource_unassigned_callback(tip_car)\n",
        "\n",
        "# lh.deck.assign_child_resource(tip_car, rails=7, reassign=True)\n",
        "lh.deck.assign_child_resource(tip_car, rails=7)\n"
      ]
    },
    {
      "cell_type": "code",
      "execution_count": 9,
      "metadata": {},
      "outputs": [
        {
          "name": "stdout",
          "output_type": "stream",
          "text": [
            "Rail     Resource                   Type                Coordinates (mm)\n",
            "===============================================================================================\n",
            "(7)  ├── tip carrier                TipCarrier          (235.000, 063.000, 100.000)\n",
            "     │   ├── tips_01                TipRack             (252.900, 145.800, 131.450)\n",
            "     │   ├── <empty>\n",
            "     │   ├── <empty>\n",
            "     │   ├── <empty>\n",
            "     │   ├── <empty>\n",
            "     │\n",
            "(32) ├── trash                      Trash               (800.000, 190.600, 137.100)\n",
            "\n"
          ]
        }
      ],
      "source": [
        "lh.summary()"
      ]
    },
    {
      "cell_type": "markdown",
      "metadata": {},
      "source": [
        "Repeat this for the plates."
      ]
    },
    {
      "cell_type": "code",
      "execution_count": 9,
      "metadata": {},
      "outputs": [],
      "source": [
        "## CHANGE TIP CARRIERS TO CORRECT SIZE\n",
        "plt_car = PLT_CAR_L5AC_A00(name='plate carrier')\n",
        "plt_car[0] = Cos_96_DW_1mL(name='plate_01')"
      ]
    },
    {
      "cell_type": "code",
      "execution_count": 10,
      "metadata": {},
      "outputs": [],
      "source": [
        "lh.deck.assign_child_resource(plt_car, rails=15)"
      ]
    },
    {
      "cell_type": "markdown",
      "metadata": {},
      "source": [
        "Let's look at a summary of the deck layout using {func}`~pylabrobot.liquid_handling.LiquidHandler.summary`."
      ]
    },
    {
      "cell_type": "code",
      "execution_count": 11,
      "metadata": {},
      "outputs": [
        {
          "name": "stdout",
          "output_type": "stream",
          "text": [
            "Rail     Resource                   Type                Coordinates (mm)\n",
            "===============================================================================================\n",
            "(3)  ├── tip carrier                TipCarrier          (145.000, 063.000, 100.000)\n",
            "     │   ├── tips_01                TipRack             (162.900, 145.800, 131.450)\n",
            "     │   ├── <empty>\n",
            "     │   ├── <empty>\n",
            "     │   ├── <empty>\n",
            "     │   ├── <empty>\n",
            "     │\n",
            "(15) ├── plate carrier              PlateCarrier        (415.000, 063.000, 100.000)\n",
            "     │   ├── plate_01               Plate               (433.000, 146.000, 187.150)\n",
            "     │   ├── <empty>\n",
            "     │   ├── <empty>\n",
            "     │   ├── <empty>\n",
            "     │   ├── <empty>\n",
            "     │\n",
            "(32) ├── trash                      Trash               (800.000, 190.600, 137.100)\n",
            "\n"
          ]
        }
      ],
      "source": [
        "lh.summary()"
      ]
    },
    {
      "cell_type": "markdown",
      "metadata": {},
      "source": [
        "## Picking up tips\n",
        "\n",
        "Picking up tips is as easy as querying the tips from the tiprack."
      ]
    },
    {
      "cell_type": "code",
      "execution_count": 10,
      "metadata": {},
      "outputs": [
        {
          "ename": "NoTipError",
          "evalue": "No tip present in locations for channels [0, 1, 2]",
          "output_type": "error",
          "traceback": [
            "\u001b[1;31m---------------------------------------------------------------------------\u001b[0m",
            "\u001b[1;31mSTARFirmwareError\u001b[0m                         Traceback (most recent call last)",
            "File \u001b[1;32mc:\\users\\vikmol\\onedrive\\dokumenter\\github\\pylabrobot_dalsa\\pylabrobot\\liquid_handling\\backends\\hamilton\\STAR.py:1296\u001b[0m, in \u001b[0;36mSTAR.pick_up_tips\u001b[1;34m(self, ops, use_channels)\u001b[0m\n\u001b[0;32m   1295\u001b[0m   \u001b[38;5;28;01massert\u001b[39;00m \u001b[38;5;28misinstance\u001b[39m(tip, HamiltonTip), \u001b[38;5;124m\"\u001b[39m\u001b[38;5;124mTip type must be HamiltonTip.\u001b[39m\u001b[38;5;124m\"\u001b[39m\n\u001b[1;32m-> 1296\u001b[0m   \u001b[38;5;28;01mreturn\u001b[39;00m \u001b[38;5;28;01mawait\u001b[39;00m \u001b[38;5;28mself\u001b[39m\u001b[38;5;241m.\u001b[39mpick_up_tip(\n\u001b[0;32m   1297\u001b[0m     x_positions\u001b[38;5;241m=\u001b[39mx_positions,\n\u001b[0;32m   1298\u001b[0m     y_positions\u001b[38;5;241m=\u001b[39my_positions,\n\u001b[0;32m   1299\u001b[0m     tip_pattern\u001b[38;5;241m=\u001b[39mchannels_involved,\n\u001b[0;32m   1300\u001b[0m     tip_type_idx\u001b[38;5;241m=\u001b[39mttti,\n\u001b[0;32m   1301\u001b[0m     begin_tip_pick_up_process\u001b[38;5;241m=\u001b[39m\u001b[38;5;28mint\u001b[39m((max_z \u001b[38;5;241m+\u001b[39m max_total_tip_length)\u001b[38;5;241m*\u001b[39m\u001b[38;5;241m10\u001b[39m),\n\u001b[0;32m   1302\u001b[0m     end_tip_pick_up_process\u001b[38;5;241m=\u001b[39m\u001b[38;5;28mint\u001b[39m((max_z \u001b[38;5;241m+\u001b[39m max_tip_length)\u001b[38;5;241m*\u001b[39m\u001b[38;5;241m10\u001b[39m),\n\u001b[0;32m   1303\u001b[0m     minimum_traverse_height_at_beginning_of_a_command\u001b[38;5;241m=\u001b[39m\u001b[38;5;241m2450\u001b[39m,\n\u001b[0;32m   1304\u001b[0m     pickup_method\u001b[38;5;241m=\u001b[39mtip\u001b[38;5;241m.\u001b[39mpickup_method,\n\u001b[0;32m   1305\u001b[0m   )\n\u001b[0;32m   1306\u001b[0m \u001b[38;5;28;01mexcept\u001b[39;00m STARFirmwareError \u001b[38;5;28;01mas\u001b[39;00m e:\n",
            "File \u001b[1;32mc:\\users\\vikmol\\onedrive\\dokumenter\\github\\pylabrobot_dalsa\\pylabrobot\\liquid_handling\\backends\\hamilton\\STAR.py:3373\u001b[0m, in \u001b[0;36mSTAR.pick_up_tip\u001b[1;34m(self, x_positions, y_positions, tip_pattern, tip_type_idx, begin_tip_pick_up_process, end_tip_pick_up_process, minimum_traverse_height_at_beginning_of_a_command, pickup_method)\u001b[0m\n\u001b[0;32m   3370\u001b[0m \u001b[38;5;28;01massert\u001b[39;00m \u001b[38;5;241m0\u001b[39m \u001b[38;5;241m<\u001b[39m\u001b[38;5;241m=\u001b[39m minimum_traverse_height_at_beginning_of_a_command \u001b[38;5;241m<\u001b[39m\u001b[38;5;241m=\u001b[39m \u001b[38;5;241m3600\u001b[39m, \\\n\u001b[0;32m   3371\u001b[0m   \u001b[38;5;124m\"\u001b[39m\u001b[38;5;124mminimum_traverse_height_at_beginning_of_a_command must be between 0 and 3600\u001b[39m\u001b[38;5;124m\"\u001b[39m\n\u001b[1;32m-> 3373\u001b[0m \u001b[38;5;28;01mreturn\u001b[39;00m \u001b[38;5;28;01mawait\u001b[39;00m \u001b[38;5;28mself\u001b[39m\u001b[38;5;241m.\u001b[39msend_command(\n\u001b[0;32m   3374\u001b[0m   module\u001b[38;5;241m=\u001b[39m\u001b[38;5;124m\"\u001b[39m\u001b[38;5;124mC0\u001b[39m\u001b[38;5;124m\"\u001b[39m,\n\u001b[0;32m   3375\u001b[0m   command\u001b[38;5;241m=\u001b[39m\u001b[38;5;124m\"\u001b[39m\u001b[38;5;124mTP\u001b[39m\u001b[38;5;124m\"\u001b[39m,\n\u001b[0;32m   3376\u001b[0m   tip_pattern\u001b[38;5;241m=\u001b[39mtip_pattern,\n\u001b[0;32m   3377\u001b[0m   read_timeout\u001b[38;5;241m=\u001b[39m\u001b[38;5;241m60\u001b[39m,\n\u001b[0;32m   3378\u001b[0m   xp\u001b[38;5;241m=\u001b[39m[\u001b[38;5;124mf\u001b[39m\u001b[38;5;124m\"\u001b[39m\u001b[38;5;132;01m{\u001b[39;00mx\u001b[38;5;132;01m:\u001b[39;00m\u001b[38;5;124m05\u001b[39m\u001b[38;5;132;01m}\u001b[39;00m\u001b[38;5;124m\"\u001b[39m \u001b[38;5;28;01mfor\u001b[39;00m x \u001b[38;5;129;01min\u001b[39;00m x_positions],\n\u001b[0;32m   3379\u001b[0m   yp\u001b[38;5;241m=\u001b[39m[\u001b[38;5;124mf\u001b[39m\u001b[38;5;124m\"\u001b[39m\u001b[38;5;132;01m{\u001b[39;00my\u001b[38;5;132;01m:\u001b[39;00m\u001b[38;5;124m04\u001b[39m\u001b[38;5;132;01m}\u001b[39;00m\u001b[38;5;124m\"\u001b[39m \u001b[38;5;28;01mfor\u001b[39;00m y \u001b[38;5;129;01min\u001b[39;00m y_positions],\n\u001b[0;32m   3380\u001b[0m   tm\u001b[38;5;241m=\u001b[39mtip_pattern,\n\u001b[0;32m   3381\u001b[0m   tt\u001b[38;5;241m=\u001b[39m\u001b[38;5;124mf\u001b[39m\u001b[38;5;124m\"\u001b[39m\u001b[38;5;132;01m{\u001b[39;00mtip_type_idx\u001b[38;5;132;01m:\u001b[39;00m\u001b[38;5;124m02\u001b[39m\u001b[38;5;132;01m}\u001b[39;00m\u001b[38;5;124m\"\u001b[39m,\n\u001b[0;32m   3382\u001b[0m   tp\u001b[38;5;241m=\u001b[39m\u001b[38;5;124mf\u001b[39m\u001b[38;5;124m\"\u001b[39m\u001b[38;5;132;01m{\u001b[39;00mbegin_tip_pick_up_process\u001b[38;5;132;01m:\u001b[39;00m\u001b[38;5;124m04\u001b[39m\u001b[38;5;132;01m}\u001b[39;00m\u001b[38;5;124m\"\u001b[39m,\n\u001b[0;32m   3383\u001b[0m   tz\u001b[38;5;241m=\u001b[39m\u001b[38;5;124mf\u001b[39m\u001b[38;5;124m\"\u001b[39m\u001b[38;5;132;01m{\u001b[39;00mend_tip_pick_up_process\u001b[38;5;132;01m:\u001b[39;00m\u001b[38;5;124m04\u001b[39m\u001b[38;5;132;01m}\u001b[39;00m\u001b[38;5;124m\"\u001b[39m,\n\u001b[0;32m   3384\u001b[0m   th\u001b[38;5;241m=\u001b[39m\u001b[38;5;124mf\u001b[39m\u001b[38;5;124m\"\u001b[39m\u001b[38;5;132;01m{\u001b[39;00mminimum_traverse_height_at_beginning_of_a_command\u001b[38;5;132;01m:\u001b[39;00m\u001b[38;5;124m04\u001b[39m\u001b[38;5;132;01m}\u001b[39;00m\u001b[38;5;124m\"\u001b[39m,\n\u001b[0;32m   3385\u001b[0m   td\u001b[38;5;241m=\u001b[39mpickup_method\u001b[38;5;241m.\u001b[39mvalue,\n\u001b[0;32m   3386\u001b[0m )\n",
            "File \u001b[1;32mc:\\users\\vikmol\\onedrive\\dokumenter\\github\\pylabrobot_dalsa\\pylabrobot\\liquid_handling\\backends\\hamilton\\STAR.py:1172\u001b[0m, in \u001b[0;36mSTAR.send_command\u001b[1;34m(self, module, command, tip_pattern, write_timeout, read_timeout, wait, fmt, **kwargs)\u001b[0m\n\u001b[0;32m   1169\u001b[0m \u001b[38;5;250m\u001b[39m\u001b[38;5;124;03m\"\"\" Send a command to the machine. Parse the response if `fmt != \"\"`, else return the raw\u001b[39;00m\n\u001b[0;32m   1170\u001b[0m \u001b[38;5;124;03mresponse. \"\"\"\u001b[39;00m\n\u001b[1;32m-> 1172\u001b[0m resp \u001b[38;5;241m=\u001b[39m \u001b[38;5;28;01mawait\u001b[39;00m \u001b[38;5;28msuper\u001b[39m()\u001b[38;5;241m.\u001b[39msend_command(\n\u001b[0;32m   1173\u001b[0m   module\u001b[38;5;241m=\u001b[39mmodule,\n\u001b[0;32m   1174\u001b[0m   command\u001b[38;5;241m=\u001b[39mcommand,\n\u001b[0;32m   1175\u001b[0m   tip_pattern\u001b[38;5;241m=\u001b[39mtip_pattern,\n\u001b[0;32m   1176\u001b[0m   write_timeout\u001b[38;5;241m=\u001b[39mwrite_timeout,\n\u001b[0;32m   1177\u001b[0m   read_timeout\u001b[38;5;241m=\u001b[39mread_timeout,\n\u001b[0;32m   1178\u001b[0m   wait\u001b[38;5;241m=\u001b[39mwait,\n\u001b[0;32m   1179\u001b[0m   \u001b[38;5;241m*\u001b[39m\u001b[38;5;241m*\u001b[39mkwargs\n\u001b[0;32m   1180\u001b[0m )\n\u001b[0;32m   1181\u001b[0m \u001b[38;5;28;01mif\u001b[39;00m fmt \u001b[38;5;241m!=\u001b[39m \u001b[38;5;124m\"\u001b[39m\u001b[38;5;124m\"\u001b[39m:\n",
            "File \u001b[1;32mc:\\users\\vikmol\\onedrive\\dokumenter\\github\\pylabrobot_dalsa\\pylabrobot\\liquid_handling\\backends\\hamilton\\base.py:191\u001b[0m, in \u001b[0;36mHamiltonLiquidHandler.send_command\u001b[1;34m(self, module, command, tip_pattern, write_timeout, read_timeout, wait, **kwargs)\u001b[0m\n\u001b[0;32m    189\u001b[0m cmd, id_ \u001b[38;5;241m=\u001b[39m \u001b[38;5;28mself\u001b[39m\u001b[38;5;241m.\u001b[39m_assemble_command(module\u001b[38;5;241m=\u001b[39mmodule, command\u001b[38;5;241m=\u001b[39mcommand, tip_pattern\u001b[38;5;241m=\u001b[39mtip_pattern,\n\u001b[0;32m    190\u001b[0m   \u001b[38;5;241m*\u001b[39m\u001b[38;5;241m*\u001b[39mkwargs)\n\u001b[1;32m--> 191\u001b[0m \u001b[38;5;28;01mreturn\u001b[39;00m \u001b[38;5;28;01mawait\u001b[39;00m \u001b[38;5;28mself\u001b[39m\u001b[38;5;241m.\u001b[39m_write_and_read_command(id_\u001b[38;5;241m=\u001b[39mid_, cmd\u001b[38;5;241m=\u001b[39mcmd, write_timeout\u001b[38;5;241m=\u001b[39mwrite_timeout,\n\u001b[0;32m    192\u001b[0m                 read_timeout\u001b[38;5;241m=\u001b[39mread_timeout, wait\u001b[38;5;241m=\u001b[39mwait)\n",
            "File \u001b[1;32mc:\\users\\vikmol\\onedrive\\dokumenter\\github\\pylabrobot_dalsa\\pylabrobot\\liquid_handling\\backends\\hamilton\\base.py:215\u001b[0m, in \u001b[0;36mHamiltonLiquidHandler._write_and_read_command\u001b[1;34m(self, id_, cmd, write_timeout, read_timeout, wait)\u001b[0m\n\u001b[0;32m    214\u001b[0m \u001b[38;5;28mself\u001b[39m\u001b[38;5;241m.\u001b[39m_start_reading(id_, loop, fut, cmd, read_timeout)\n\u001b[1;32m--> 215\u001b[0m result \u001b[38;5;241m=\u001b[39m \u001b[38;5;28;01mawait\u001b[39;00m fut\n\u001b[0;32m    216\u001b[0m \u001b[38;5;28;01mreturn\u001b[39;00m cast(\u001b[38;5;28mdict\u001b[39m, result)\n",
            "File \u001b[1;32mc:\\users\\vikmol\\onedrive\\dokumenter\\github\\pylabrobot_dalsa\\pylabrobot\\liquid_handling\\backends\\hamilton\\base.py:284\u001b[0m, in \u001b[0;36mHamiltonLiquidHandler._continuously_read\u001b[1;34m(self)\u001b[0m\n\u001b[0;32m    283\u001b[0m \u001b[38;5;28;01mtry\u001b[39;00m:\n\u001b[1;32m--> 284\u001b[0m   \u001b[38;5;28;43mself\u001b[39;49m\u001b[38;5;241;43m.\u001b[39;49m\u001b[43mcheck_fw_string_error\u001b[49m\u001b[43m(\u001b[49m\u001b[43mresp\u001b[49m\u001b[43m)\u001b[49m\n\u001b[0;32m    285\u001b[0m \u001b[38;5;28;01mexcept\u001b[39;00m \u001b[38;5;167;01mException\u001b[39;00m \u001b[38;5;28;01mas\u001b[39;00m e: \u001b[38;5;66;03m# pylint: disable=broad-exception-caught\u001b[39;00m\n",
            "File \u001b[1;32mc:\\users\\vikmol\\onedrive\\dokumenter\\github\\pylabrobot_dalsa\\pylabrobot\\liquid_handling\\backends\\hamilton\\STAR.py:1156\u001b[0m, in \u001b[0;36mSTAR.check_fw_string_error\u001b[1;34m(self, resp)\u001b[0m\n\u001b[0;32m   1154\u001b[0m     he[module_name]\u001b[38;5;241m.\u001b[39mmessage \u001b[38;5;241m+\u001b[39m\u001b[38;5;241m=\u001b[39m \u001b[38;5;124m\"\u001b[39m\u001b[38;5;124m (call lh.backend.request_name_of_last_faulty_parameter)\u001b[39m\u001b[38;5;124m\"\u001b[39m\n\u001b[1;32m-> 1156\u001b[0m \u001b[38;5;28;01mraise\u001b[39;00m he\n",
            "\u001b[1;31mSTARFirmwareError\u001b[0m: STARFirmwareError(errors={'Pipetting channel 1': HamiltonNoTipError('No tip picked up, possibly because no was present at specified position'), 'Pipetting channel 2': HamiltonNoTipError('No tip picked up, possibly because no was present at specified position'), 'Pipetting channel 3': HamiltonNoTipError('No tip picked up, possibly because no was present at specified position')}, raw_response=C0TPid0011er99/00 P108/75 P208/75 P308/75sx466 466 466 000 000 000 000 000sg000 000 000 000 000 000 000 000)",
            "\nThe above exception was the direct cause of the following exception:\n",
            "\u001b[1;31mNoTipError\u001b[0m                                Traceback (most recent call last)",
            "Cell \u001b[1;32mIn[10], line 2\u001b[0m\n\u001b[0;32m      1\u001b[0m tiprack \u001b[38;5;241m=\u001b[39m lh\u001b[38;5;241m.\u001b[39mget_resource(\u001b[38;5;124m\"\u001b[39m\u001b[38;5;124mtips_01\u001b[39m\u001b[38;5;124m\"\u001b[39m)\n\u001b[1;32m----> 2\u001b[0m \u001b[38;5;28;01mawait\u001b[39;00m lh\u001b[38;5;241m.\u001b[39mpick_up_tips(tiprack[\u001b[38;5;124m\"\u001b[39m\u001b[38;5;124mA1:C1\u001b[39m\u001b[38;5;124m\"\u001b[39m])\n",
            "File \u001b[1;32mc:\\users\\vikmol\\onedrive\\dokumenter\\github\\pylabrobot_dalsa\\pylabrobot\\machine.py:20\u001b[0m, in \u001b[0;36mneed_setup_finished.<locals>.wrapper\u001b[1;34m(self, *args, **kwargs)\u001b[0m\n\u001b[0;32m     18\u001b[0m \u001b[38;5;28;01mif\u001b[39;00m \u001b[38;5;129;01mnot\u001b[39;00m \u001b[38;5;28mself\u001b[39m\u001b[38;5;241m.\u001b[39msetup_finished:\n\u001b[0;32m     19\u001b[0m   \u001b[38;5;28;01mraise\u001b[39;00m \u001b[38;5;167;01mRuntimeError\u001b[39;00m(\u001b[38;5;124m\"\u001b[39m\u001b[38;5;124mThe setup has not finished. See `setup`.\u001b[39m\u001b[38;5;124m\"\u001b[39m)\n\u001b[1;32m---> 20\u001b[0m \u001b[38;5;28;01mawait\u001b[39;00m func(\u001b[38;5;28mself\u001b[39m, \u001b[38;5;241m*\u001b[39margs, \u001b[38;5;241m*\u001b[39m\u001b[38;5;241m*\u001b[39mkwargs)\n",
            "File \u001b[1;32mc:\\users\\vikmol\\onedrive\\dokumenter\\github\\pylabrobot_dalsa\\pylabrobot\\liquid_handling\\liquid_handler.py:366\u001b[0m, in \u001b[0;36mLiquidHandler.pick_up_tips\u001b[1;34m(self, tip_spots, use_channels, offsets, **backend_kwargs)\u001b[0m\n\u001b[0;32m    363\u001b[0m   \u001b[38;5;28;01mdel\u001b[39;00m backend_kwargs[extra]\n\u001b[0;32m    365\u001b[0m \u001b[38;5;28;01mtry\u001b[39;00m:\n\u001b[1;32m--> 366\u001b[0m   \u001b[38;5;28;01mawait\u001b[39;00m \u001b[38;5;28mself\u001b[39m\u001b[38;5;241m.\u001b[39mbackend\u001b[38;5;241m.\u001b[39mpick_up_tips(ops\u001b[38;5;241m=\u001b[39mpickups, use_channels\u001b[38;5;241m=\u001b[39muse_channels, \u001b[38;5;241m*\u001b[39m\u001b[38;5;241m*\u001b[39mbackend_kwargs)\n\u001b[0;32m    367\u001b[0m \u001b[38;5;28;01mexcept\u001b[39;00m:\n\u001b[0;32m    368\u001b[0m   \u001b[38;5;28;01mfor\u001b[39;00m channel, op \u001b[38;5;129;01min\u001b[39;00m \u001b[38;5;28mzip\u001b[39m(use_channels, pickups):\n",
            "File \u001b[1;32mc:\\users\\vikmol\\onedrive\\dokumenter\\github\\pylabrobot_dalsa\\pylabrobot\\liquid_handling\\backends\\hamilton\\STAR.py:61\u001b[0m, in \u001b[0;36mneed_iswap_parked.<locals>.wrapper\u001b[1;34m(self, *args, **kwargs)\u001b[0m\n\u001b[0;32m     58\u001b[0m \u001b[38;5;28;01mif\u001b[39;00m \u001b[38;5;129;01mnot\u001b[39;00m \u001b[38;5;28mself\u001b[39m\u001b[38;5;241m.\u001b[39miswap_parked:\n\u001b[0;32m     59\u001b[0m   \u001b[38;5;28;01mawait\u001b[39;00m \u001b[38;5;28mself\u001b[39m\u001b[38;5;241m.\u001b[39mpark_iswap()\n\u001b[1;32m---> 61\u001b[0m result \u001b[38;5;241m=\u001b[39m \u001b[38;5;28;01mawait\u001b[39;00m method(\u001b[38;5;28mself\u001b[39m, \u001b[38;5;241m*\u001b[39margs, \u001b[38;5;241m*\u001b[39m\u001b[38;5;241m*\u001b[39mkwargs) \u001b[38;5;66;03m# pylint: disable=not-callable\u001b[39;00m\n\u001b[0;32m     63\u001b[0m \u001b[38;5;28;01mreturn\u001b[39;00m result\n",
            "File \u001b[1;32mc:\\users\\vikmol\\onedrive\\dokumenter\\github\\pylabrobot_dalsa\\pylabrobot\\liquid_handling\\backends\\hamilton\\STAR.py:1321\u001b[0m, in \u001b[0;36mSTAR.pick_up_tips\u001b[1;34m(self, ops, use_channels)\u001b[0m\n\u001b[0;32m   1318\u001b[0m   \u001b[38;5;28;01mraise\u001b[39;00m HasTipError(\u001b[38;5;124mf\u001b[39m\u001b[38;5;124m\"\u001b[39m\u001b[38;5;124mTip already fitted on channels \u001b[39m\u001b[38;5;132;01m{\u001b[39;00mtip_already_fitted_errors\u001b[38;5;132;01m}\u001b[39;00m\u001b[38;5;124m\"\u001b[39m) \\\n\u001b[0;32m   1319\u001b[0m     \u001b[38;5;28;01mfrom\u001b[39;00m \u001b[38;5;21;01me\u001b[39;00m\n\u001b[0;32m   1320\u001b[0m \u001b[38;5;28;01melif\u001b[39;00m \u001b[38;5;28mlen\u001b[39m(no_tip_present_errors) \u001b[38;5;241m>\u001b[39m \u001b[38;5;241m0\u001b[39m:\n\u001b[1;32m-> 1321\u001b[0m   \u001b[38;5;28;01mraise\u001b[39;00m NoTipError(\u001b[38;5;124m\"\u001b[39m\u001b[38;5;124mNo tip present in locations for channels \u001b[39m\u001b[38;5;124m\"\u001b[39m\n\u001b[0;32m   1322\u001b[0m                             \u001b[38;5;124mf\u001b[39m\u001b[38;5;124m\"\u001b[39m\u001b[38;5;132;01m{\u001b[39;00mno_tip_present_errors\u001b[38;5;132;01m}\u001b[39;00m\u001b[38;5;124m\"\u001b[39m) \u001b[38;5;28;01mfrom\u001b[39;00m \u001b[38;5;21;01me\u001b[39;00m\n\u001b[0;32m   1324\u001b[0m \u001b[38;5;28;01mraise\u001b[39;00m e\n",
            "\u001b[1;31mNoTipError\u001b[0m: No tip present in locations for channels [0, 1, 2]"
          ]
        }
      ],
      "source": [
        "tiprack = lh.get_resource(\"tips_01\")\n",
        "await lh.pick_up_tips(tiprack[\"A1:C1\"])"
      ]
    },
    {
      "cell_type": "markdown",
      "metadata": {},
      "source": [
        "## Aspirating and dispensing"
      ]
    },
    {
      "cell_type": "markdown",
      "metadata": {},
      "source": [
        "Aspirating and dispensing work similarly to picking up tips: where you use booleans to specify which tips to pick up, with aspiration and dispensing you use floats to specify the volume to aspirate or dispense in $\\mu L$.\n",
        "\n",
        "The cells below move liquid from wells `'A1:C1'` to `'D1:F1'` using channels 1, 2, and 3 using the {func}`~pylabrobot.liquid_handling.LiquidHandler.aspirate` and {func}`~pylabrobot.liquid_handling.LiquidHandler.dispense` methods."
      ]
    },
    {
      "cell_type": "code",
      "execution_count": 13,
      "metadata": {},
      "outputs": [
        {
          "name": "stderr",
          "output_type": "stream",
          "text": [
            "INFO:pylabrobot.liquid_handling.backends.hamilton.STAR:Sent command: C0ASid0006at0&tm1 1 1 0&xp04330 04330 04330 00000&yp1460 1370 1280 0000&th2450te2450lp1931 1931 1931&ch000 000 000&zl1881 1881 1881&po0100 0100 0100&zu0032 0032 0032&zr06180 06180 06180&zx1831 1831 1831&ip0000 0000 0000&it0 0 0&fp0000 0000 0000&av01072 00551 02110&as1000 1000 1000&ta000 000 000&ba0000 0000 0000&oa000 000 000&lm0 0 0&ll1 1 1&lv1 1 1&zo000 000 000&ld00 00 00&de0020 0020 0020&wt10 10 10&mv00000 00000 00000&mc00 00 00&mp000 000 000&ms1000 1000 1000&mh0000 0000 0000&gi000 000 000&gj0gk0lk0 0 0&ik0000 0000 0000&sd0500 0500 0500&se0500 0500 0500&sz0300 0300 0300&io0000 0000 0000&il00000 00000 00000&in0000 0000 0000&\n",
            "INFO:pylabrobot.liquid_handling.backends.hamilton.STAR:Received response: C0ASid0006er00/00\n"
          ]
        }
      ],
      "source": [
        "plate = lh.get_resource(\"plate_01\")\n",
        "await lh.aspirate(plate[\"A1:C1\"], vols=[100.0, 50.0, 200.0])"
      ]
    },
    {
      "cell_type": "markdown",
      "metadata": {},
      "source": [
        "After the liquid has been aspirated, dispense it in the wells below. Note that while we specify different wells, we are still using the same channels. This is needed because only these channels contain liquid, of course."
      ]
    },
    {
      "cell_type": "code",
      "execution_count": 14,
      "metadata": {},
      "outputs": [
        {
          "name": "stderr",
          "output_type": "stream",
          "text": [
            "INFO:pylabrobot.liquid_handling.backends.hamilton.STAR:Sent command: C0DSid0007dm2 2 2&tm1 1 1 0&xp04330 04330 04330 00000&yp1190 1100 1010 0000&zx1871 1871 1871&lp2321 2321 2321&zl1881 1881 1881&po0100 0100 0100&ip0000 0000 0000&it0 0 0&fp0000 0000 0000&zu0032 0032 0032&zr06180 06180 06180&th2450te2450dv01072 00551 02110&ds1200 1200 1200&ss0050 0050 0050&rv000 000 000&ta000 000 000&ba0000 0000 0000&lm0 0 0&dj00zo000 000 000&ll1 1 1&lv1 1 1&de0020 0020 0020&wt00 00 00&mv00000 00000 00000&mc00 00 00&mp000 000 000&ms0010 0010 0010&mh0000 0000 0000&gi000 000 000&gj0gk0\n",
            "INFO:pylabrobot.liquid_handling.backends.hamilton.STAR:Received response: C0DSid0007er00/00\n"
          ]
        }
      ],
      "source": [
        "await lh.dispense(plate[\"D1:F1\"], vols=[100.0, 50.0, 200.0])"
      ]
    },
    {
      "cell_type": "markdown",
      "metadata": {},
      "source": [
        "Let's move the liquid back to the original wells."
      ]
    },
    {
      "cell_type": "code",
      "execution_count": 15,
      "metadata": {},
      "outputs": [
        {
          "name": "stderr",
          "output_type": "stream",
          "text": [
            "INFO:pylabrobot.liquid_handling.backends.hamilton.STAR:Sent command: C0ASid0008at0&tm1 1 1 0&xp04330 04330 04330 00000&yp1190 1100 1010 0000&th2450te2450lp1931 1931 1931&ch000 000 000&zl1881 1881 1881&po0100 0100 0100&zu0032 0032 0032&zr06180 06180 06180&zx1831 1831 1831&ip0000 0000 0000&it0 0 0&fp0000 0000 0000&av01072 00551 02110&as1000 1000 1000&ta000 000 000&ba0000 0000 0000&oa000 000 000&lm0 0 0&ll1 1 1&lv1 1 1&zo000 000 000&ld00 00 00&de0020 0020 0020&wt10 10 10&mv00000 00000 00000&mc00 00 00&mp000 000 000&ms1000 1000 1000&mh0000 0000 0000&gi000 000 000&gj0gk0lk0 0 0&ik0000 0000 0000&sd0500 0500 0500&se0500 0500 0500&sz0300 0300 0300&io0000 0000 0000&il00000 00000 00000&in0000 0000 0000&\n",
            "INFO:pylabrobot.liquid_handling.backends.hamilton.STAR:Received response: C0ASid0008er00/00\n",
            "INFO:pylabrobot.liquid_handling.backends.hamilton.STAR:Sent command: C0DSid0009dm2 2 2&tm1 1 1 0&xp04330 04330 04330 00000&yp1460 1370 1280 0000&zx1871 1871 1871&lp2321 2321 2321&zl1881 1881 1881&po0100 0100 0100&ip0000 0000 0000&it0 0 0&fp0000 0000 0000&zu0032 0032 0032&zr06180 06180 06180&th2450te2450dv01072 00551 02110&ds1200 1200 1200&ss0050 0050 0050&rv000 000 000&ta000 000 000&ba0000 0000 0000&lm0 0 0&dj00zo000 000 000&ll1 1 1&lv1 1 1&de0020 0020 0020&wt00 00 00&mv00000 00000 00000&mc00 00 00&mp000 000 000&ms0010 0010 0010&mh0000 0000 0000&gi000 000 000&gj0gk0\n",
            "INFO:pylabrobot.liquid_handling.backends.hamilton.STAR:Received response: C0DSid0009er00/00\n"
          ]
        }
      ],
      "source": [
        "await lh.aspirate(plate[\"D1:F1\"], vols=[100.0, 50.0, 200.0])\n",
        "await lh.dispense(plate[\"A1:C1\"], vols=[100.0, 50.0, 200.0])"
      ]
    },
    {
      "cell_type": "markdown",
      "metadata": {},
      "source": [
        "## Discarding tips\n",
        "\n",
        "Finally, you can discard tips by using the {func}`~pylabrobot.liquid_handling.LiquidHandler.discard_tips` method."
      ]
    },
    {
      "cell_type": "code",
      "execution_count": 16,
      "metadata": {},
      "outputs": [
        {
          "name": "stderr",
          "output_type": "stream",
          "text": [
            "INFO:pylabrobot.liquid_handling.backends.hamilton.STAR:Sent command: C0TRid0010xp01629 01629 01629 00000&yp1458 1368 1278 0000&tm1 1 1 0&tt01tp1314tz1414th2450ti0\n",
            "INFO:pylabrobot.liquid_handling.backends.hamilton.STAR:Received response: C0TRid0010er00/00kz381 356 365 000 000 000 000 000vz303 360 368 000 000 000 000 000\n"
          ]
        }
      ],
      "source": [
        "await lh.drop_tips(tiprack[\"A1:C1\"])"
      ]
    },
    {
      "cell_type": "code",
      "execution_count": 17,
      "metadata": {},
      "outputs": [
        {
          "name": "stderr",
          "output_type": "stream",
          "text": [
            "WARNING:root:Closing connection to USB device.\n"
          ]
        }
      ],
      "source": [
        "await lh.stop()"
      ]
    }
  ],
  "metadata": {
    "kernelspec": {
      "display_name": "Python 3.9.13 ('env': venv)",
      "language": "python",
      "name": "python3"
    },
    "language_info": {
      "codemirror_mode": {
        "name": "ipython",
        "version": 3
      },
      "file_extension": ".py",
      "mimetype": "text/x-python",
      "name": "python",
      "nbconvert_exporter": "python",
      "pygments_lexer": "ipython3",
      "version": "3.10.7"
    },
    "vscode": {
      "interpreter": {
        "hash": "bf274dfc1b974177267b6b8fba8543eeb0bb4c5d64c637dde420829b05625268"
      }
    }
  },
  "nbformat": 4,
  "nbformat_minor": 2
}
