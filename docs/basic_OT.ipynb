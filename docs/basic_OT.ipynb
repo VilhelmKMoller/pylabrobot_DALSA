{
 "cells": [
  {
   "cell_type": "markdown",
   "metadata": {},
   "source": [
    "# Basic liquid handling\n",
    "\n",
    "In this notebook, you will learn how to use PyHamilton to move water from one range of wells to another.\n",
    "\n",
    "**Note: before running this notebook, you should have**:\n",
    "\n",
    "- Installed PyHamilton and the USB driver as described in [the installation guide](installation).\n",
    "- Connected the Hamilton to your computer using the USB cable.\n",
    "\n",
    "Video of what this code does:\n",
    "\n",
    "<iframe width=\"640\" height=\"360\" src=\"https://www.youtube.com/embed/NN6ltrRj3bU\" title=\"YouTube video player\" frameborder=\"0\" allow=\"accelerometer; autoplay; clipboard-write; encrypted-media; gyroscope; picture-in-picture\" allowfullscreen></iframe>"
   ]
  },
  {
   "cell_type": "markdown",
   "metadata": {},
   "source": [
    "## Setting up a connection with the robot\n",
    "\n",
    "Start by importing the {class}`~pylabrobot.liquid_handling.liquid_handler.LiquidHandler` class, which will serve as a front end for all liquid handling operations.\n",
    "\n",
    "Backends serve as communicators between between `LiquidHandler`s and the actual hardware. Since we are using a Hamilton STAR, we also import the {class}`~pylabrobot.liquid_handling.backends.STAR` backend."
   ]
  },
  {
   "cell_type": "code",
   "execution_count": 1,
   "metadata": {},
   "outputs": [],
   "source": [
    "%load_ext autoreload\n",
    "%autoreload 2"
   ]
  },
  {
   "cell_type": "code",
   "execution_count": 6,
   "metadata": {},
   "outputs": [
    {
     "name": "stdout",
     "output_type": "stream",
     "text": [
      "Requirement already satisfied: pip in c:\\users\\vikmol\\onedrive\\dokumenter\\github\\pylabrobot_dalsa\\venv\\lib\\site-packages (23.0.1)\n",
      "Collecting pip\n",
      "  Downloading pip-24.0-py3-none-any.whl (2.1 MB)\n",
      "     ---------------------------------------- 0.0/2.1 MB ? eta -:--:--\n",
      "      --------------------------------------- 0.0/2.1 MB 991.0 kB/s eta 0:00:03\n",
      "     -- ------------------------------------- 0.1/2.1 MB 1.7 MB/s eta 0:00:02\n",
      "     ----- ---------------------------------- 0.3/2.1 MB 2.3 MB/s eta 0:00:01\n",
      "     ------- -------------------------------- 0.4/2.1 MB 2.4 MB/s eta 0:00:01\n",
      "     ---------- ----------------------------- 0.5/2.1 MB 2.8 MB/s eta 0:00:01\n",
      "     --------------- ------------------------ 0.8/2.1 MB 3.2 MB/s eta 0:00:01\n",
      "     ------------------- -------------------- 1.0/2.1 MB 3.4 MB/s eta 0:00:01\n",
      "     ---------------------- ----------------- 1.2/2.1 MB 3.6 MB/s eta 0:00:01\n",
      "     --------------------------- ------------ 1.4/2.1 MB 3.7 MB/s eta 0:00:01\n",
      "     --------------------------------- ------ 1.8/2.1 MB 4.0 MB/s eta 0:00:01\n",
      "     ------------------------------------- -- 2.0/2.1 MB 4.0 MB/s eta 0:00:01\n",
      "     ---------------------------------------- 2.1/2.1 MB 4.1 MB/s eta 0:00:00\n",
      "Installing collected packages: pip\n",
      "  Attempting uninstall: pip\n",
      "    Found existing installation: pip 23.0.1\n",
      "    Uninstalling pip-23.0.1:\n",
      "      Successfully uninstalled pip-23.0.1\n",
      "Successfully installed pip-24.0\n"
     ]
    }
   ],
   "source": [
    "!python.exe -m pip install --upgrade pip"
   ]
  },
  {
   "cell_type": "code",
   "execution_count": 7,
   "metadata": {},
   "outputs": [
    {
     "name": "stdout",
     "output_type": "stream",
     "text": [
      "Requirement already satisfied: opentrons in c:\\users\\vikmol\\onedrive\\dokumenter\\github\\pylabrobot_dalsa\\venv\\lib\\site-packages (7.1.0)\n",
      "Requirement already satisfied: opentrons-shared-data==7.1.0 in c:\\users\\vikmol\\onedrive\\dokumenter\\github\\pylabrobot_dalsa\\venv\\lib\\site-packages (from opentrons) (7.1.0)\n",
      "Requirement already satisfied: aionotify==0.2.0 in c:\\users\\vikmol\\onedrive\\dokumenter\\github\\pylabrobot_dalsa\\venv\\lib\\site-packages (from opentrons) (0.2.0)\n",
      "Requirement already satisfied: anyio==3.3.0 in c:\\users\\vikmol\\onedrive\\dokumenter\\github\\pylabrobot_dalsa\\venv\\lib\\site-packages (from opentrons) (3.3.0)\n",
      "Requirement already satisfied: jsonschema==3.0.2 in c:\\users\\vikmol\\onedrive\\dokumenter\\github\\pylabrobot_dalsa\\venv\\lib\\site-packages (from opentrons) (3.0.2)\n",
      "Requirement already satisfied: numpy<2,>=1.15.1 in c:\\users\\vikmol\\onedrive\\dokumenter\\github\\pylabrobot_dalsa\\venv\\lib\\site-packages (from opentrons) (1.26.2)\n",
      "Requirement already satisfied: pydantic==1.8.2 in c:\\users\\vikmol\\onedrive\\dokumenter\\github\\pylabrobot_dalsa\\venv\\lib\\site-packages (from opentrons) (1.8.2)\n",
      "Requirement already satisfied: pyserial==3.5 in c:\\users\\vikmol\\onedrive\\dokumenter\\github\\pylabrobot_dalsa\\venv\\lib\\site-packages (from opentrons) (3.5)\n",
      "Requirement already satisfied: typing-extensions<5,>=4.0.0 in c:\\users\\vikmol\\onedrive\\dokumenter\\github\\pylabrobot_dalsa\\venv\\lib\\site-packages (from opentrons) (4.9.0)\n",
      "Requirement already satisfied: click<9,>=8.0.0 in c:\\users\\vikmol\\onedrive\\dokumenter\\github\\pylabrobot_dalsa\\venv\\lib\\site-packages (from opentrons) (8.1.7)\n",
      "Requirement already satisfied: idna>=2.8 in c:\\users\\vikmol\\onedrive\\dokumenter\\github\\pylabrobot_dalsa\\venv\\lib\\site-packages (from anyio==3.3.0->opentrons) (3.6)\n",
      "Requirement already satisfied: sniffio>=1.1 in c:\\users\\vikmol\\onedrive\\dokumenter\\github\\pylabrobot_dalsa\\venv\\lib\\site-packages (from anyio==3.3.0->opentrons) (1.3.0)\n",
      "Requirement already satisfied: attrs>=17.4.0 in c:\\users\\vikmol\\onedrive\\dokumenter\\github\\pylabrobot_dalsa\\venv\\lib\\site-packages (from jsonschema==3.0.2->opentrons) (23.1.0)\n",
      "Requirement already satisfied: pyrsistent>=0.14.0 in c:\\users\\vikmol\\onedrive\\dokumenter\\github\\pylabrobot_dalsa\\venv\\lib\\site-packages (from jsonschema==3.0.2->opentrons) (0.20.0)\n",
      "Requirement already satisfied: setuptools in c:\\users\\vikmol\\onedrive\\dokumenter\\github\\pylabrobot_dalsa\\venv\\lib\\site-packages (from jsonschema==3.0.2->opentrons) (65.5.0)\n",
      "Requirement already satisfied: six>=1.11.0 in c:\\users\\vikmol\\onedrive\\dokumenter\\github\\pylabrobot_dalsa\\venv\\lib\\site-packages (from jsonschema==3.0.2->opentrons) (1.16.0)\n",
      "Requirement already satisfied: colorama in c:\\users\\vikmol\\onedrive\\dokumenter\\github\\pylabrobot_dalsa\\venv\\lib\\site-packages (from click<9,>=8.0.0->opentrons) (0.4.6)\n"
     ]
    }
   ],
   "source": [
    "!pip install --upgrade opentrons"
   ]
  },
  {
   "cell_type": "code",
   "execution_count": 8,
   "metadata": {},
   "outputs": [],
   "source": [
    "from pylabrobot.liquid_handling import LiquidHandler\n",
    "# from pylabrobot.liquid_handling.backends import STAR\n",
    "from pylabrobot.liquid_handling.backends import OpentronsBackend\n",
    "\n",
    "# from pylabrobot.liquid_handling.backends.opentrons_backend import OpentronsBackend"
   ]
  },
  {
   "cell_type": "markdown",
   "metadata": {},
   "source": [
    "In addition, import the {class}`~pylabrobot.resources.hamilton.STARLetDeck`, which represents the deck of the Hamilton STAR."
   ]
  },
  {
   "cell_type": "code",
   "execution_count": 9,
   "metadata": {},
   "outputs": [],
   "source": [
    "# from pylabrobot.resources.hamilton import STARLetDeck\n",
    "from pylabrobot.resources.opentrons.deck import OTDeck"
   ]
  },
  {
   "cell_type": "code",
   "execution_count": 10,
   "metadata": {},
   "outputs": [],
   "source": [
    "## OPS:: EXTRA PART ADD SEARCH FOR THE CORRECT TYPE OF USB CABLE BY VIEWING IP ADRESSES"
   ]
  },
  {
   "cell_type": "markdown",
   "metadata": {},
   "source": [
    "Create a new liquid handler using `STAR` as its backend."
   ]
  },
  {
   "cell_type": "code",
   "execution_count": 11,
   "metadata": {},
   "outputs": [],
   "source": [
    "# backend = STAR()\n",
    "# lh = LiquidHandler(backend=backend, deck=STARLetDeck())\n",
    "# lh = LiquidHandler(backend=OpentronsBackend(host=\"10.199.253.164\"), deck=OTDeck())\n",
    "lh = LiquidHandler(backend=OpentronsBackend(host=\"10.199.253.164\"), deck=OTDeck(no_trash=True)) # This seems to work\n",
    "# web: 10.199.253.164 (OT032)\n",
    "# web: 10.199.253.141 (OT006)\n",
    "# web: 10.199.253.233 (OT028)\n",
    "# lan: 169.254.131.46\n",
    "# backend = OpentronsBackend(host=\"0.0.0.0\", port=5001)\n",
    "# lh = LiquidHandler(backend=backend, deck=OTDeck())"
   ]
  },
  {
   "cell_type": "markdown",
   "metadata": {},
   "source": [
    "The final step is to open communication with the robot. This is done using the {func}`~pylabrobot.liquid_handling.LiquidHandler.setup` method."
   ]
  },
  {
   "cell_type": "code",
   "execution_count": 12,
   "metadata": {},
   "outputs": [],
   "source": [
    "await lh.setup()"
   ]
  },
  {
   "cell_type": "code",
   "execution_count": null,
   "metadata": {},
   "outputs": [],
   "source": []
  },
  {
   "cell_type": "markdown",
   "metadata": {},
   "source": [
    "## Creating the deck layout\n",
    "\n",
    "Now that we have a `LiquidHandler` instance, we can define the deck layout.\n",
    "\n",
    "The layout in this tutorial will contain five sets of standard volume tips with filter, 1 set of 96 1mL wells, and tip and plate carriers on which these resources are positioned.\n",
    "\n",
    "Start by importing the relevant objects and variables from the PyHamilton package. This notebook uses the following resources:\n",
    "\n",
    "- {class}`~pylabrobot.resources.ml_star.tip_carriers.TIP_CAR_480_A00` tip carrier\n",
    "- {class}`~pylabrobot.resources.ml_star.plate_carriers.PLT_CAR_L5AC_A00` plate carrier\n",
    "- {class}`~pylabrobot.resources.corning_costar.plates.Cos_96_DW_1mL` wells\n",
    "- {class}`~pylabrobot.resources.ml_star.tip_racks.HTF_L` tips"
   ]
  },
  {
   "cell_type": "code",
   "execution_count": 13,
   "metadata": {},
   "outputs": [],
   "source": [
    "from pylabrobot.resources.opentrons import (\n",
    "  opentrons_96_filtertiprack_20ul\n",
    ")\n",
    "from pylabrobot.resources.corning_costar import (\n",
    "  Cos_96_EZWash,\n",
    "  Cos_96_DW_1mL\n",
    ")\n"
   ]
  },
  {
   "cell_type": "markdown",
   "metadata": {},
   "source": []
  },
  {
   "cell_type": "markdown",
   "metadata": {},
   "source": [
    "Then create a tip carrier named `tip carrier`, which will contain tip rack at all 5 positions. These positions can be accessed using `tip_car[x]`, and are 0 indexed."
   ]
  },
  {
   "cell_type": "code",
   "execution_count": 14,
   "metadata": {},
   "outputs": [],
   "source": [
    "tips1 = opentrons_96_filtertiprack_20ul(name=\"tip_rack1\")\n",
    "tips2 = opentrons_96_filtertiprack_20ul(name=\"tip_rack2\")\n",
    "plate1 = Cos_96_EZWash(name=\"plate_01\")\n",
    "plate2 = Cos_96_DW_1mL(name=\"plate_02\")"
   ]
  },
  {
   "cell_type": "markdown",
   "metadata": {},
   "source": [
    "Use {func}`~pylabrobot.resources.abstract.assign_child_resources` to assign the tip carrier to the deck of the liquid handler. All resources contained by this carrier will be assigned automatically.\n",
    "\n",
    "In the `rails` parameter, we can pass the location of the tip carrier. The locations of the tips will automatically be calculated."
   ]
  },
  {
   "cell_type": "code",
   "execution_count": 15,
   "metadata": {},
   "outputs": [
    {
     "name": "stderr",
     "output_type": "stream",
     "text": [
      "Exception in thread Thread-14 (callback):\n",
      "Traceback (most recent call last):\n",
      "  File \"C:\\Users\\vikmol\\OneDrive\\Dokumenter\\GitHub\\pylabrobot_DALSA\\venv\\lib\\site-packages\\urllib3\\connectionpool.py\", line 536, in _make_request\n",
      "    response = conn.getresponse()\n",
      "  File \"C:\\Users\\vikmol\\OneDrive\\Dokumenter\\GitHub\\pylabrobot_DALSA\\venv\\lib\\site-packages\\urllib3\\connection.py\", line 461, in getresponse\n",
      "    httplib_response = super().getresponse()\n",
      "  File \"C:\\Users\\vikmol\\AppData\\Local\\Programs\\Python\\Python310\\Lib\\http\\client.py\", line 1375, in getresponse\n",
      "    response.begin()\n",
      "  File \"C:\\Users\\vikmol\\AppData\\Local\\Programs\\Python\\Python310\\Lib\\http\\client.py\", line 318, in begin\n",
      "    version, status, reason = self._read_status()\n",
      "  File \"C:\\Users\\vikmol\\AppData\\Local\\Programs\\Python\\Python310\\Lib\\http\\client.py\", line 279, in _read_status\n",
      "    line = str(self.fp.readline(_MAXLINE + 1), \"iso-8859-1\")\n",
      "  File \"C:\\Users\\vikmol\\AppData\\Local\\Programs\\Python\\Python310\\Lib\\socket.py\", line 705, in readinto\n",
      "    return self._sock.recv_into(b)\n",
      "TimeoutError: [WinError 10060] A connection attempt failed because the connected party did not properly respond after a period of time, or established connection failed because connected host has failed to respond\n",
      "\n",
      "The above exception was the direct cause of the following exception:\n",
      "\n",
      "Traceback (most recent call last):\n",
      "  File \"C:\\Users\\vikmol\\OneDrive\\Dokumenter\\GitHub\\pylabrobot_DALSA\\venv\\lib\\site-packages\\requests\\adapters.py\", line 486, in send\n",
      "    resp = conn.urlopen(\n",
      "  File \"C:\\Users\\vikmol\\OneDrive\\Dokumenter\\GitHub\\pylabrobot_DALSA\\venv\\lib\\site-packages\\urllib3\\connectionpool.py\", line 844, in urlopen\n",
      "    retries = retries.increment(\n",
      "  File \"C:\\Users\\vikmol\\OneDrive\\Dokumenter\\GitHub\\pylabrobot_DALSA\\venv\\lib\\site-packages\\urllib3\\util\\retry.py\", line 470, in increment\n",
      "    raise reraise(type(error), error, _stacktrace)\n",
      "  File \"C:\\Users\\vikmol\\OneDrive\\Dokumenter\\GitHub\\pylabrobot_DALSA\\venv\\lib\\site-packages\\urllib3\\util\\util.py\", line 39, in reraise\n",
      "    raise value\n",
      "  File \"C:\\Users\\vikmol\\OneDrive\\Dokumenter\\GitHub\\pylabrobot_DALSA\\venv\\lib\\site-packages\\urllib3\\connectionpool.py\", line 790, in urlopen\n",
      "    response = self._make_request(\n",
      "  File \"C:\\Users\\vikmol\\OneDrive\\Dokumenter\\GitHub\\pylabrobot_DALSA\\venv\\lib\\site-packages\\urllib3\\connectionpool.py\", line 538, in _make_request\n",
      "    self._raise_timeout(err=e, url=url, timeout_value=read_timeout)\n",
      "  File \"C:\\Users\\vikmol\\OneDrive\\Dokumenter\\GitHub\\pylabrobot_DALSA\\venv\\lib\\site-packages\\urllib3\\connectionpool.py\", line 370, in _raise_timeout\n",
      "    raise ReadTimeoutError(\n",
      "urllib3.exceptions.ReadTimeoutError: HTTPConnectionPool(host='10.199.253.164', port=31950): Read timed out. (read timeout=None)\n",
      "\n",
      "During handling of the above exception, another exception occurred:\n",
      "\n",
      "Traceback (most recent call last):\n",
      "  File \"C:\\Users\\vikmol\\AppData\\Local\\Programs\\Python\\Python310\\Lib\\threading.py\", line 1016, in _bootstrap_inner\n",
      "    self.run()\n",
      "  File \"C:\\Users\\vikmol\\AppData\\Local\\Programs\\Python\\Python310\\Lib\\threading.py\", line 953, in run\n",
      "    self._target(*self._args, **self._kwargs)\n",
      "  File \"c:\\users\\vikmol\\onedrive\\dokumenter\\github\\pylabrobot_dalsa\\pylabrobot\\liquid_handling\\liquid_handler.py\", line 163, in callback\n",
      "    loop.run_until_complete(func(*args, **kwargs))\n",
      "  File \"C:\\Users\\vikmol\\AppData\\Local\\Programs\\Python\\Python310\\Lib\\asyncio\\base_events.py\", line 649, in run_until_complete\n",
      "    return future.result()\n",
      "  File \"c:\\users\\vikmol\\onedrive\\dokumenter\\github\\pylabrobot_dalsa\\pylabrobot\\liquid_handling\\backends\\opentrons_backend.py\", line 211, in assigned_resource_callback\n",
      "    data = ot_api.labware.define(lw)\n",
      "  File \"C:\\Users\\vikmol\\OneDrive\\Dokumenter\\GitHub\\pylabrobot_DALSA\\venv\\lib\\site-packages\\ot_api\\decorators.py\", line 23, in wrapper\n",
      "    return f(*args, **kwargs)\n",
      "  File \"C:\\Users\\vikmol\\OneDrive\\Dokumenter\\GitHub\\pylabrobot_DALSA\\venv\\lib\\site-packages\\ot_api\\labware.py\", line 11, in define\n",
      "    return ot_api.requestor.post(f\"/runs/{run_id}/labware_definitions\", data)\n",
      "  File \"C:\\Users\\vikmol\\OneDrive\\Dokumenter\\GitHub\\pylabrobot_DALSA\\venv\\lib\\site-packages\\ot_api\\requestor.py\", line 37, in post\n",
      "    resp = requests.post(url, headers=headers, data=data)\n",
      "  File \"C:\\Users\\vikmol\\OneDrive\\Dokumenter\\GitHub\\pylabrobot_DALSA\\venv\\lib\\site-packages\\requests\\api.py\", line 115, in post\n",
      "    return request(\"post\", url, data=data, json=json, **kwargs)\n",
      "  File \"C:\\Users\\vikmol\\OneDrive\\Dokumenter\\GitHub\\pylabrobot_DALSA\\venv\\lib\\site-packages\\requests\\api.py\", line 59, in request\n",
      "    return session.request(method=method, url=url, **kwargs)\n",
      "  File \"C:\\Users\\vikmol\\OneDrive\\Dokumenter\\GitHub\\pylabrobot_DALSA\\venv\\lib\\site-packages\\requests\\sessions.py\", line 589, in request\n",
      "    resp = self.send(prep, **send_kwargs)\n",
      "  File \"C:\\Users\\vikmol\\OneDrive\\Dokumenter\\GitHub\\pylabrobot_DALSA\\venv\\lib\\site-packages\\requests\\sessions.py\", line 703, in send\n",
      "    r = adapter.send(request, **kwargs)\n",
      "  File \"C:\\Users\\vikmol\\OneDrive\\Dokumenter\\GitHub\\pylabrobot_DALSA\\venv\\lib\\site-packages\\requests\\adapters.py\", line 532, in send\n",
      "    raise ReadTimeout(e, request=request)\n",
      "requests.exceptions.ReadTimeout: HTTPConnectionPool(host='10.199.253.164', port=31950): Read timed out. (read timeout=None)\n"
     ]
    }
   ],
   "source": [
    "lh.deck.assign_child_at_slot(tips1, slot=3)\n",
    "lh.deck.assign_child_at_slot(tips2, slot=5)\n",
    "lh.deck.assign_child_at_slot(plate1, slot=11)\n",
    "lh.deck.assign_child_at_slot(plate2, slot=10)"
   ]
  },
  {
   "cell_type": "markdown",
   "metadata": {},
   "source": [
    "Repeat this for the plates."
   ]
  },
  {
   "cell_type": "code",
   "execution_count": 16,
   "metadata": {},
   "outputs": [
    {
     "name": "stdout",
     "output_type": "stream",
     "text": [
      "\n",
      "Deck: 624.3mm x 565.2mm\n",
      "\n",
      "+-----------------+-----------------+-----------------+\n",
      "|                 |                 |                 |\n",
      "| 10: plate_02    | 11: plate_01    | 12: Empty       |\n",
      "|                 |                 |                 |\n",
      "+-----------------+-----------------+-----------------+\n",
      "|                 |                 |                 |\n",
      "|  7: Empty       |  8: Empty       |  9: Empty       |\n",
      "|                 |                 |                 |\n",
      "+-----------------+-----------------+-----------------+\n",
      "|                 |                 |                 |\n",
      "|  4: Empty       |  5: tip_rack2   |  6: Empty       |\n",
      "|                 |                 |                 |\n",
      "+-----------------+-----------------+-----------------+\n",
      "|                 |                 |                 |\n",
      "|  1: Empty       |  2: Empty       |  3: tip_rack1   |\n",
      "|                 |                 |                 |\n",
      "+-----------------+-----------------+-----------------+\n",
      "\n"
     ]
    }
   ],
   "source": [
    "# summary function that displayes deck\n",
    "print(lh.deck.summary())"
   ]
  },
  {
   "cell_type": "code",
   "execution_count": 17,
   "metadata": {},
   "outputs": [
    {
     "data": {
      "text/plain": [
       "3"
      ]
     },
     "execution_count": 17,
     "metadata": {},
     "output_type": "execute_result"
    }
   ],
   "source": [
    "# get slot position of resource\n",
    "lh.deck.get_slot(tips1)"
   ]
  },
  {
   "cell_type": "markdown",
   "metadata": {},
   "source": [
    "Let's look at a summary of the deck layout using {func}`~pylabrobot.liquid_handling.LiquidHandler.summary`."
   ]
  },
  {
   "cell_type": "code",
   "execution_count": 18,
   "metadata": {},
   "outputs": [
    {
     "name": "stdout",
     "output_type": "stream",
     "text": [
      "\n",
      "Deck: 624.3mm x 565.2mm\n",
      "\n",
      "+-----------------+-----------------+-----------------+\n",
      "|                 |                 |                 |\n",
      "| 10: plate_02    | 11: plate_01    | 12: Empty       |\n",
      "|                 |                 |                 |\n",
      "+-----------------+-----------------+-----------------+\n",
      "|                 |                 |                 |\n",
      "|  7: Empty       |  8: Empty       |  9: Empty       |\n",
      "|                 |                 |                 |\n",
      "+-----------------+-----------------+-----------------+\n",
      "|                 |                 |                 |\n",
      "|  4: Empty       |  5: tip_rack2   |  6: Empty       |\n",
      "|                 |                 |                 |\n",
      "+-----------------+-----------------+-----------------+\n",
      "|                 |                 |                 |\n",
      "|  1: Empty       |  2: Empty       |  3: tip_rack1   |\n",
      "|                 |                 |                 |\n",
      "+-----------------+-----------------+-----------------+\n",
      "\n"
     ]
    }
   ],
   "source": [
    "lh.summary()"
   ]
  },
  {
   "cell_type": "markdown",
   "metadata": {},
   "source": [
    "## Picking up tips\n",
    "\n",
    "Picking up tips is as easy as querying the tips from the tiprack."
   ]
  },
  {
   "cell_type": "code",
   "execution_count": 50,
   "metadata": {},
   "outputs": [],
   "source": [
    "tiprack = lh.get_resource(\"tip_rack1\")\n",
    "## OPS OPS CHANGE TO SINGLE CHANNEL OG MULTI CHANNEL FOR THE OT ROBOT\n",
    "await lh.pick_up_tips(tiprack[\"A1\"])"
   ]
  },
  {
   "cell_type": "markdown",
   "metadata": {},
   "source": [
    "## Aspirating and dispensing"
   ]
  },
  {
   "cell_type": "markdown",
   "metadata": {},
   "source": [
    "Aspirating and dispensing work similarly to picking up tips: where you use booleans to specify which tips to pick up, with aspiration and dispensing you use floats to specify the volume to aspirate or dispense in $\\mu L$.\n",
    "\n",
    "The cells below move liquid from wells `'A1:C1'` to `'D1:F1'` using channels 1, 2, and 3 using the {func}`~pylabrobot.liquid_handling.LiquidHandler.aspirate` and {func}`~pylabrobot.liquid_handling.LiquidHandler.dispense` methods."
   ]
  },
  {
   "cell_type": "code",
   "execution_count": 13,
   "metadata": {},
   "outputs": [],
   "source": [
    "plate = lh.get_resource(\"plate_01\")\n",
    "await lh.aspirate(plate[\"A1\"], vols=[15])"
   ]
  },
  {
   "cell_type": "markdown",
   "metadata": {},
   "source": [
    "After the liquid has been aspirated, dispense it in the wells below. Note that while we specify different wells, we are still using the same channels. This is needed because only these channels contain liquid, of course."
   ]
  },
  {
   "cell_type": "code",
   "execution_count": 14,
   "metadata": {},
   "outputs": [],
   "source": [
    "await lh.dispense(plate[\"F1\"], vols=[15])"
   ]
  },
  {
   "cell_type": "markdown",
   "metadata": {},
   "source": [
    "Let's move the liquid back to the original wells."
   ]
  },
  {
   "cell_type": "code",
   "execution_count": 15,
   "metadata": {},
   "outputs": [
    {
     "name": "stderr",
     "output_type": "stream",
     "text": [
      "INFO:pylabrobot.liquid_handling.backends.hamilton.STAR:Sent command: C0ASid0008at0&tm1 1 1 0&xp04330 04330 04330 00000&yp1190 1100 1010 0000&th2450te2450lp1931 1931 1931&ch000 000 000&zl1881 1881 1881&po0100 0100 0100&zu0032 0032 0032&zr06180 06180 06180&zx1831 1831 1831&ip0000 0000 0000&it0 0 0&fp0000 0000 0000&av01072 00551 02110&as1000 1000 1000&ta000 000 000&ba0000 0000 0000&oa000 000 000&lm0 0 0&ll1 1 1&lv1 1 1&zo000 000 000&ld00 00 00&de0020 0020 0020&wt10 10 10&mv00000 00000 00000&mc00 00 00&mp000 000 000&ms1000 1000 1000&mh0000 0000 0000&gi000 000 000&gj0gk0lk0 0 0&ik0000 0000 0000&sd0500 0500 0500&se0500 0500 0500&sz0300 0300 0300&io0000 0000 0000&il00000 00000 00000&in0000 0000 0000&\n",
      "INFO:pylabrobot.liquid_handling.backends.hamilton.STAR:Received response: C0ASid0008er00/00\n",
      "INFO:pylabrobot.liquid_handling.backends.hamilton.STAR:Sent command: C0DSid0009dm2 2 2&tm1 1 1 0&xp04330 04330 04330 00000&yp1460 1370 1280 0000&zx1871 1871 1871&lp2321 2321 2321&zl1881 1881 1881&po0100 0100 0100&ip0000 0000 0000&it0 0 0&fp0000 0000 0000&zu0032 0032 0032&zr06180 06180 06180&th2450te2450dv01072 00551 02110&ds1200 1200 1200&ss0050 0050 0050&rv000 000 000&ta000 000 000&ba0000 0000 0000&lm0 0 0&dj00zo000 000 000&ll1 1 1&lv1 1 1&de0020 0020 0020&wt00 00 00&mv00000 00000 00000&mc00 00 00&mp000 000 000&ms0010 0010 0010&mh0000 0000 0000&gi000 000 000&gj0gk0\n",
      "INFO:pylabrobot.liquid_handling.backends.hamilton.STAR:Received response: C0DSid0009er00/00\n"
     ]
    }
   ],
   "source": [
    "# await lh.aspirate(plate[\"D1:F1\"], vols=[100.0, 50.0, 200.0])\n",
    "# await lh.dispense(plate[\"A1:C1\"], vols=[100.0, 50.0, 200.0])"
   ]
  },
  {
   "cell_type": "markdown",
   "metadata": {},
   "source": [
    "## Discarding tips\n",
    "\n",
    "Finally, you can discard tips by using the {func}`~pylabrobot.liquid_handling.LiquidHandler.discard_tips` method."
   ]
  },
  {
   "cell_type": "code",
   "execution_count": 15,
   "metadata": {},
   "outputs": [],
   "source": [
    "await lh.drop_tips(tiprack[\"A1\"])"
   ]
  },
  {
   "cell_type": "markdown",
   "metadata": {},
   "source": [
    "# TEST Throughing tip into trash"
   ]
  },
  {
   "cell_type": "code",
   "execution_count": 1,
   "metadata": {},
   "outputs": [
    {
     "name": "stdout",
     "output_type": "stream",
     "text": [
      "\n",
      "Deck: 624.3mm x 565.2mm\n",
      "\n",
      "+-----------------+-----------------+-----------------+\n",
      "|                 |                 |                 |\n",
      "| 10: plate_02    | 11: plate_01    | 12: Empty       |\n",
      "|                 |                 |                 |\n",
      "+-----------------+-----------------+-----------------+\n",
      "|                 |                 |                 |\n",
      "|  7: Empty       |  8: Empty       |  9: Empty       |\n",
      "|                 |                 |                 |\n",
      "+-----------------+-----------------+-----------------+\n",
      "|                 |                 |                 |\n",
      "|  4: Empty       |  5: tip_rack2   |  6: Empty       |\n",
      "|                 |                 |                 |\n",
      "+-----------------+-----------------+-----------------+\n",
      "|                 |                 |                 |\n",
      "|  1: Empty       |  2: Empty       |  3: tip_rack1   |\n",
      "|                 |                 |                 |\n",
      "+-----------------+-----------------+-----------------+\n",
      "\n"
     ]
    }
   ],
   "source": [
    "from pylabrobot.liquid_handling import LiquidHandler\n",
    "\n",
    "from pylabrobot.liquid_handling.backends import OpentronsBackend\n",
    "\n",
    "from pylabrobot.resources.opentrons.deck import OTDeck\n",
    "\n",
    "lh = LiquidHandler(backend=OpentronsBackend(host=\"10.199.253.164\"), deck=OTDeck(no_trash=True)) # This seems to work\n",
    "\n",
    "await lh.setup()\n",
    "\n",
    "from pylabrobot.resources.opentrons import (\n",
    "  opentrons_96_filtertiprack_20ul\n",
    ")\n",
    "from pylabrobot.resources.corning_costar import (\n",
    "  Cos_96_EZWash,\n",
    "  Cos_96_DW_1mL\n",
    ")\n",
    "\n",
    "tips1 = opentrons_96_filtertiprack_20ul(name=\"tip_rack1\")\n",
    "tips2 = opentrons_96_filtertiprack_20ul(name=\"tip_rack2\")\n",
    "plate1 = Cos_96_EZWash(name=\"plate_01\")\n",
    "plate2 = Cos_96_DW_1mL(name=\"plate_02\")\n",
    "\n",
    "lh.deck.assign_child_at_slot(tips1, slot=3)\n",
    "lh.deck.assign_child_at_slot(tips2, slot=5)\n",
    "lh.deck.assign_child_at_slot(plate1, slot=11)\n",
    "lh.deck.assign_child_at_slot(plate2, slot=10)\n",
    "\n",
    "print(lh.deck.summary())"
   ]
  },
  {
   "cell_type": "code",
   "execution_count": 2,
   "metadata": {},
   "outputs": [],
   "source": [
    "tiprack = lh.get_resource(\"tip_rack1\")\n",
    "await lh.pick_up_tips(tiprack[\"A1\"])"
   ]
  },
  {
   "cell_type": "code",
   "execution_count": 3,
   "metadata": {},
   "outputs": [],
   "source": [
    "from pylabrobot.resources.trash import Trash\n",
    "# from pylabrobot.resources.opentrons.deck import OTDeck"
   ]
  },
  {
   "cell_type": "code",
   "execution_count": 11,
   "metadata": {},
   "outputs": [
    {
     "data": {
      "text/plain": [
       "<bound method OTDeck._assign_trash of OTDeck(name=deck, location=(000.000, 000.000, 000.000), size_x=624.3, size_y=565.2, size_z=900, category=deck)>"
      ]
     },
     "execution_count": 11,
     "metadata": {},
     "output_type": "execute_result"
    }
   ],
   "source": [
    "# trash = lh.deck.get_trash_area()\n",
    "# # n must match with the number of pipets\n",
    "# n=1\n",
    "# OTDeck._assign_trash()\n",
    "lh.deck._assign_trash\n",
    "\n",
    "# lh.deck._assign_trash()\n",
    "\n",
    "\n",
    "# trash_container.assign_child_resource(actual_trash, location=Coordinate(x=82.84, y=53.56, z=5))\n",
    "# lh.deck.assign_child_at_slot(lh.deck._assign_trash, 12)\n"
   ]
  },
  {
   "cell_type": "code",
   "execution_count": null,
   "metadata": {},
   "outputs": [],
   "source": [
    "\n"
   ]
  },
  {
   "cell_type": "code",
   "execution_count": 12,
   "metadata": {},
   "outputs": [],
   "source": [
    "# Trash.assign_child_resource(actual_trash, location=Coordinate(x=82.84, y=53.56, z=5))\n"
   ]
  },
  {
   "cell_type": "code",
   "execution_count": 13,
   "metadata": {},
   "outputs": [],
   "source": [
    "trash = lh.deck.get_trash_area()"
   ]
  },
  {
   "cell_type": "code",
   "execution_count": 14,
   "metadata": {},
   "outputs": [],
   "source": [
    "# lh.deck.assign_child_at_slot(trash, 11)\n",
    "# trash_container.assign_child_resource(actual_trash, location=Coordinate(x=82.84, y=53.56, z=5))"
   ]
  },
  {
   "cell_type": "code",
   "execution_count": 15,
   "metadata": {},
   "outputs": [
    {
     "name": "stdout",
     "output_type": "stream",
     "text": [
      "\n",
      "Deck: 624.3mm x 565.2mm\n",
      "\n",
      "+-----------------+-----------------+-----------------+\n",
      "|                 |                 |                 |\n",
      "| 10: plate_02    | 11: plate_01    | 12: trash_co... |\n",
      "|                 |                 |                 |\n",
      "+-----------------+-----------------+-----------------+\n",
      "|                 |                 |                 |\n",
      "|  7: Empty       |  8: Empty       |  9: Empty       |\n",
      "|                 |                 |                 |\n",
      "+-----------------+-----------------+-----------------+\n",
      "|                 |                 |                 |\n",
      "|  4: Empty       |  5: tip_rack2   |  6: Empty       |\n",
      "|                 |                 |                 |\n",
      "+-----------------+-----------------+-----------------+\n",
      "|                 |                 |                 |\n",
      "|  1: Empty       |  2: Empty       |  3: tip_rack1   |\n",
      "|                 |                 |                 |\n",
      "+-----------------+-----------------+-----------------+\n",
      "\n"
     ]
    }
   ],
   "source": [
    "print(lh.deck.summary())\n"
   ]
  },
  {
   "cell_type": "code",
   "execution_count": 16,
   "metadata": {},
   "outputs": [
    {
     "name": "stdout",
     "output_type": "stream",
     "text": [
      "{'tip_rack1': 'tip_rack1', 'tip_rack2': 'tip_rack2', 'plate_01': 'plate_01', 'plate_02': 'plate_02'}\n"
     ]
    }
   ],
   "source": [
    "print(lh.backend.defined_labware)"
   ]
  },
  {
   "cell_type": "code",
   "execution_count": 17,
   "metadata": {},
   "outputs": [
    {
     "ename": "KeyError",
     "evalue": "'trash_container'",
     "output_type": "error",
     "traceback": [
      "\u001b[1;31m---------------------------------------------------------------------------\u001b[0m",
      "\u001b[1;31mKeyError\u001b[0m                                  Traceback (most recent call last)",
      "Cell \u001b[1;32mIn[17], line 1\u001b[0m\n\u001b[1;32m----> 1\u001b[0m \u001b[38;5;28;01mawait\u001b[39;00m lh\u001b[38;5;241m.\u001b[39mdrop_tips(tip_spots\u001b[38;5;241m=\u001b[39m[trash]\u001b[38;5;241m*\u001b[39m\u001b[38;5;241m1\u001b[39m)\n\u001b[0;32m      3\u001b[0m \u001b[38;5;66;03m# await lh.drop_tips(\u001b[39;00m\n",
      "File \u001b[1;32mc:\\users\\vikmol\\onedrive\\dokumenter\\github\\pylabrobot_dalsa\\pylabrobot\\machine.py:20\u001b[0m, in \u001b[0;36mneed_setup_finished.<locals>.wrapper\u001b[1;34m(self, *args, **kwargs)\u001b[0m\n\u001b[0;32m     18\u001b[0m \u001b[38;5;28;01mif\u001b[39;00m \u001b[38;5;129;01mnot\u001b[39;00m \u001b[38;5;28mself\u001b[39m\u001b[38;5;241m.\u001b[39msetup_finished:\n\u001b[0;32m     19\u001b[0m   \u001b[38;5;28;01mraise\u001b[39;00m \u001b[38;5;167;01mRuntimeError\u001b[39;00m(\u001b[38;5;124m\"\u001b[39m\u001b[38;5;124mThe setup has not finished. See `setup`.\u001b[39m\u001b[38;5;124m\"\u001b[39m)\n\u001b[1;32m---> 20\u001b[0m \u001b[38;5;28;01mreturn\u001b[39;00m \u001b[38;5;28;01mawait\u001b[39;00m func(\u001b[38;5;28mself\u001b[39m, \u001b[38;5;241m*\u001b[39margs, \u001b[38;5;241m*\u001b[39m\u001b[38;5;241m*\u001b[39mkwargs)\n",
      "File \u001b[1;32mc:\\users\\vikmol\\onedrive\\dokumenter\\github\\pylabrobot_dalsa\\pylabrobot\\liquid_handling\\liquid_handler.py:497\u001b[0m, in \u001b[0;36mLiquidHandler.drop_tips\u001b[1;34m(self, tip_spots, use_channels, offsets, allow_nonzero_volume, **backend_kwargs)\u001b[0m\n\u001b[0;32m    495\u001b[0m       op\u001b[38;5;241m.\u001b[39mresource\u001b[38;5;241m.\u001b[39mtracker\u001b[38;5;241m.\u001b[39mrollback()\n\u001b[0;32m    496\u001b[0m     \u001b[38;5;28mself\u001b[39m\u001b[38;5;241m.\u001b[39mhead[channel]\u001b[38;5;241m.\u001b[39mrollback()\n\u001b[1;32m--> 497\u001b[0m   \u001b[38;5;28mself\u001b[39m\u001b[38;5;241m.\u001b[39m_trigger_callback(\n\u001b[0;32m    498\u001b[0m     \u001b[38;5;124m\"\u001b[39m\u001b[38;5;124mdrop_tips\u001b[39m\u001b[38;5;124m\"\u001b[39m,\n\u001b[0;32m    499\u001b[0m     liquid_handler\u001b[38;5;241m=\u001b[39m\u001b[38;5;28mself\u001b[39m,\n\u001b[0;32m    500\u001b[0m     operations\u001b[38;5;241m=\u001b[39mdrops,\n\u001b[0;32m    501\u001b[0m     use_channels\u001b[38;5;241m=\u001b[39muse_channels,\n\u001b[0;32m    502\u001b[0m     error\u001b[38;5;241m=\u001b[39merror,\n\u001b[0;32m    503\u001b[0m     \u001b[38;5;241m*\u001b[39m\u001b[38;5;241m*\u001b[39mbackend_kwargs,\n\u001b[0;32m    504\u001b[0m   )\n\u001b[0;32m    505\u001b[0m \u001b[38;5;28;01melse\u001b[39;00m:\n\u001b[0;32m    506\u001b[0m   \u001b[38;5;28;01mfor\u001b[39;00m channel, op \u001b[38;5;129;01min\u001b[39;00m \u001b[38;5;28mzip\u001b[39m(use_channels, drops):\n",
      "File \u001b[1;32mc:\\users\\vikmol\\onedrive\\dokumenter\\github\\pylabrobot_dalsa\\pylabrobot\\liquid_handling\\liquid_handler.py:1523\u001b[0m, in \u001b[0;36mLiquidHandler._trigger_callback\u001b[1;34m(self, method_name, error, *args, **kwargs)\u001b[0m\n\u001b[0;32m   1521\u001b[0m   callback(\u001b[38;5;28mself\u001b[39m, \u001b[38;5;241m*\u001b[39margs, error\u001b[38;5;241m=\u001b[39merror, \u001b[38;5;241m*\u001b[39m\u001b[38;5;241m*\u001b[39mkwargs)\n\u001b[0;32m   1522\u001b[0m \u001b[38;5;28;01melif\u001b[39;00m error \u001b[38;5;129;01mis\u001b[39;00m \u001b[38;5;129;01mnot\u001b[39;00m \u001b[38;5;28;01mNone\u001b[39;00m:\n\u001b[1;32m-> 1523\u001b[0m   \u001b[38;5;28;01mraise\u001b[39;00m error\n",
      "File \u001b[1;32mc:\\users\\vikmol\\onedrive\\dokumenter\\github\\pylabrobot_dalsa\\pylabrobot\\liquid_handling\\liquid_handler.py:490\u001b[0m, in \u001b[0;36mLiquidHandler.drop_tips\u001b[1;34m(self, tip_spots, use_channels, offsets, allow_nonzero_volume, **backend_kwargs)\u001b[0m\n\u001b[0;32m    487\u001b[0m   \u001b[38;5;28;01mdel\u001b[39;00m backend_kwargs[extra]\n\u001b[0;32m    489\u001b[0m \u001b[38;5;28;01mtry\u001b[39;00m:\n\u001b[1;32m--> 490\u001b[0m   \u001b[38;5;28;01mawait\u001b[39;00m \u001b[38;5;28mself\u001b[39m\u001b[38;5;241m.\u001b[39mbackend\u001b[38;5;241m.\u001b[39mdrop_tips(ops\u001b[38;5;241m=\u001b[39mdrops, use_channels\u001b[38;5;241m=\u001b[39muse_channels, \u001b[38;5;241m*\u001b[39m\u001b[38;5;241m*\u001b[39mbackend_kwargs)\n\u001b[0;32m    491\u001b[0m \u001b[38;5;28;01mexcept\u001b[39;00m \u001b[38;5;167;01mException\u001b[39;00m \u001b[38;5;28;01mas\u001b[39;00m error:  \u001b[38;5;66;03m# pylint: disable=broad-except\u001b[39;00m\n\u001b[0;32m    492\u001b[0m   \u001b[38;5;28;01mfor\u001b[39;00m channel, op \u001b[38;5;129;01min\u001b[39;00m \u001b[38;5;28mzip\u001b[39m(use_channels, drops):\n",
      "File \u001b[1;32mc:\\users\\vikmol\\onedrive\\dokumenter\\github\\pylabrobot_dalsa\\pylabrobot\\liquid_handling\\backends\\opentrons_backend.py:306\u001b[0m, in \u001b[0;36mOpentronsBackend.drop_tips\u001b[1;34m(self, ops, use_channels)\u001b[0m\n\u001b[0;32m    303\u001b[0m \u001b[38;5;66;03m# this feels wrong, why should backends check?\u001b[39;00m\n\u001b[0;32m    304\u001b[0m \u001b[38;5;28;01massert\u001b[39;00m op\u001b[38;5;241m.\u001b[39mresource\u001b[38;5;241m.\u001b[39mparent \u001b[38;5;129;01mis\u001b[39;00m \u001b[38;5;129;01mnot\u001b[39;00m \u001b[38;5;28;01mNone\u001b[39;00m, \u001b[38;5;124m\"\u001b[39m\u001b[38;5;124mmust not be a floating resource\u001b[39m\u001b[38;5;124m\"\u001b[39m\n\u001b[1;32m--> 306\u001b[0m labware_id \u001b[38;5;241m=\u001b[39m \u001b[38;5;28;43mself\u001b[39;49m\u001b[38;5;241;43m.\u001b[39;49m\u001b[43mdefined_labware\u001b[49m\u001b[43m[\u001b[49m\u001b[43mop\u001b[49m\u001b[38;5;241;43m.\u001b[39;49m\u001b[43mresource\u001b[49m\u001b[38;5;241;43m.\u001b[39;49m\u001b[43mparent\u001b[49m\u001b[38;5;241;43m.\u001b[39;49m\u001b[43mname\u001b[49m\u001b[43m]\u001b[49m \u001b[38;5;66;03m# get name of tip rack\u001b[39;00m\n\u001b[0;32m    307\u001b[0m tip_max_volume \u001b[38;5;241m=\u001b[39m \u001b[38;5;241m20\u001b[39m \u001b[38;5;66;03m# op.resource.maximal_volume\u001b[39;00m\n\u001b[0;32m    308\u001b[0m pipette_id \u001b[38;5;241m=\u001b[39m \u001b[38;5;28mself\u001b[39m\u001b[38;5;241m.\u001b[39mselect_tip_pipette(tip_max_volume, with_tip\u001b[38;5;241m=\u001b[39m\u001b[38;5;28;01mTrue\u001b[39;00m)\n",
      "\u001b[1;31mKeyError\u001b[0m: 'trash_container'"
     ]
    }
   ],
   "source": [
    "await lh.drop_tips(tip_spots=[trash]*1)\n",
    "\n",
    "# await lh.drop_tips("
   ]
  },
  {
   "cell_type": "code",
   "execution_count": 20,
   "metadata": {},
   "outputs": [],
   "source": [
    "await lh.stop()"
   ]
  },
  {
   "cell_type": "code",
   "execution_count": null,
   "metadata": {},
   "outputs": [],
   "source": [
    "!python -c \"import opentrons.protocol_engine.errors as ot_errors; print(getattr(ot_errors, 'AreaNotInDeckConfigurationError'))\""
   ]
  },
  {
   "cell_type": "code",
   "execution_count": 22,
   "metadata": {},
   "outputs": [
    {
     "name": "stdout",
     "output_type": "stream",
     "text": [
      "accessible-pygments==0.0.4\n",
      "aionotify==0.2.0\n",
      "alabaster==0.7.13\n",
      "anyio==3.3.0\n",
      "argon2-cffi==23.1.0\n",
      "argon2-cffi-bindings==21.2.0\n",
      "arrow==1.3.0\n",
      "asgiref==3.7.2\n",
      "astroid==3.0.2\n",
      "asttokens==2.4.1\n",
      "async-lru==2.0.4\n",
      "attrs==23.1.0\n",
      "Babel==2.14.0\n",
      "beautifulsoup4==4.12.2\n",
      "bleach==6.1.0\n",
      "blinker==1.7.0\n",
      "certifi==2023.11.17\n",
      "cffi==1.16.0\n",
      "charset-normalizer==3.3.2\n",
      "click==8.1.7\n",
      "clr-loader==0.2.6\n",
      "colorama==0.4.6\n",
      "comm==0.2.0\n",
      "debugpy==1.8.0\n",
      "decorator==5.1.1\n",
      "defusedxml==0.7.1\n",
      "dill==0.3.7\n",
      "docutils==0.19\n",
      "exceptiongroup==1.2.0\n",
      "executing==2.0.1\n",
      "fastjsonschema==2.19.0\n",
      "Flask==3.0.0\n",
      "fqdn==1.5.1\n",
      "greenlet==3.0.2\n",
      "idna==3.6\n",
      "imagesize==1.4.1\n",
      "importlib-metadata==7.0.0\n",
      "iniconfig==2.0.0\n",
      "ipykernel==6.27.1\n",
      "ipython==8.18.1\n",
      "ipywidgets==8.1.1\n",
      "isoduration==20.11.0\n",
      "isort==5.13.2\n",
      "itsdangerous==2.1.2\n",
      "jedi==0.19.1\n",
      "Jinja2==3.1.2\n",
      "json5==0.9.14\n",
      "jsonpointer==2.4\n",
      "jsonschema==3.0.2\n",
      "jsonschema-specifications==2023.12.1\n",
      "jupyter==1.0.0\n",
      "jupyter-cache==1.0.0\n",
      "jupyter-console==6.6.3\n",
      "jupyter-events==0.9.0\n",
      "jupyter-lsp==2.2.2\n",
      "jupyter_client==8.6.0\n",
      "jupyter_core==5.5.0\n",
      "jupyter_server==2.12.5\n",
      "jupyter_server_terminals==0.5.2\n",
      "jupyterlab==4.0.12\n",
      "jupyterlab-widgets==3.0.9\n",
      "jupyterlab_pygments==0.3.0\n",
      "jupyterlab_server==2.25.2\n",
      "markdown-it-py==3.0.0\n",
      "MarkupSafe==2.1.3\n",
      "matplotlib-inline==0.1.6\n",
      "mccabe==0.7.0\n",
      "mdit-py-plugins==0.4.0\n",
      "mdurl==0.1.2\n",
      "mistune==3.0.2\n",
      "multimethod==1.10\n",
      "mypy==1.7.1\n",
      "mypy-extensions==1.0.0\n",
      "myst-nb==1.0.0\n",
      "myst-parser==2.0.0\n",
      "nbclient==0.9.0\n",
      "nbconvert==7.14.2\n",
      "nbformat==5.9.2\n",
      "nest-asyncio==1.5.8\n",
      "notebook==7.0.7\n",
      "notebook_shim==0.2.3\n",
      "numpy==1.26.2\n",
      "opentrons==7.1.0\n",
      "opentrons-http-api-client==0.1.2\n",
      "opentrons-shared-data==7.1.0\n",
      "overrides==7.7.0\n",
      "packaging==23.2\n",
      "pandocfilters==1.5.1\n",
      "parse==1.20.0\n",
      "parso==0.8.3\n",
      "platformdirs==4.1.0\n",
      "pluggy==1.3.0\n",
      "prometheus-client==0.19.0\n",
      "prompt-toolkit==3.0.43\n",
      "psutil==5.9.6\n",
      "pure-eval==0.2.2\n",
      "pycparser==2.21\n",
      "pydantic==1.8.2\n",
      "pydata-sphinx-theme==0.14.4\n",
      "Pygments==2.17.2\n",
      "pyhamilton==1.491.17\n",
      "pylibftdi==0.21.0\n",
      "pylint==3.0.3\n",
      "pyrsistent==0.20.0\n",
      "pyserial==3.5\n",
      "pytest==7.4.3\n",
      "pytest-timeout==2.2.0\n",
      "python-dateutil==2.8.2\n",
      "python-json-logger==2.0.7\n",
      "pythonnet==3.0.3\n",
      "pyusb==1.2.1\n",
      "pywin32==306\n",
      "pywinpty==2.0.12\n",
      "PyYAML==6.0.1\n",
      "pyzmq==25.1.2\n",
      "qtconsole==5.5.1\n",
      "QtPy==2.4.1\n",
      "referencing==0.33.0\n",
      "requests==2.31.0\n",
      "responses==0.24.1\n",
      "rfc3339-validator==0.1.4\n",
      "rfc3986-validator==0.1.1\n",
      "rpds-py==0.17.1\n",
      "Send2Trash==1.8.2\n",
      "six==1.16.0\n",
      "sniffio==1.3.0\n",
      "snowballstemmer==2.2.0\n",
      "soupsieve==2.5\n",
      "Sphinx==6.2.1\n",
      "sphinx-book-theme==1.0.1\n",
      "sphinx-copybutton==0.5.2\n",
      "sphinxcontrib-applehelp==1.0.7\n",
      "sphinxcontrib-devhelp==1.0.5\n",
      "sphinxcontrib-htmlhelp==2.0.4\n",
      "sphinxcontrib-jsmath==1.0.1\n",
      "sphinxcontrib-qthelp==1.0.6\n",
      "sphinxcontrib-serializinghtml==1.1.9\n",
      "SQLAlchemy==2.0.23\n",
      "stack-data==0.6.3\n",
      "tabulate==0.9.0\n",
      "terminado==0.18.0\n",
      "tinycss2==1.2.1\n",
      "tomli==2.0.1\n",
      "tomlkit==0.12.3\n",
      "tornado==6.4\n",
      "traitlets==5.14.0\n",
      "types-python-dateutil==2.8.19.20240106\n",
      "types-requests==2.31.0.10\n",
      "typing_extensions==4.9.0\n",
      "uri-template==1.3.0\n",
      "urllib3==2.1.0\n",
      "waiter==1.4\n",
      "wcwidth==0.2.12\n",
      "webcolors==1.13\n",
      "webencodings==0.5.1\n",
      "websocket-client==1.7.0\n",
      "websockets==12.0\n",
      "Werkzeug==3.0.1\n",
      "widgetsnbextension==4.0.9\n",
      "WTForms==3.1.1\n",
      "zipp==3.17.0\n"
     ]
    }
   ],
   "source": [
    "!pip freeze\n",
    "#| grep opentrons"
   ]
  },
  {
   "cell_type": "code",
   "execution_count": null,
   "metadata": {},
   "outputs": [],
   "source": []
  }
 ],
 "metadata": {
  "kernelspec": {
   "display_name": "Python 3 (ipykernel)",
   "language": "python",
   "name": "python3"
  },
  "language_info": {
   "codemirror_mode": {
    "name": "ipython",
    "version": 3
   },
   "file_extension": ".py",
   "mimetype": "text/x-python",
   "name": "python",
   "nbconvert_exporter": "python",
   "pygments_lexer": "ipython3",
   "version": "3.10.7"
  },
  "vscode": {
   "interpreter": {
    "hash": "bf274dfc1b974177267b6b8fba8543eeb0bb4c5d64c637dde420829b05625268"
   }
  }
 },
 "nbformat": 4,
 "nbformat_minor": 4
}
