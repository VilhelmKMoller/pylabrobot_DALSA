{
  "cells": [
    {
      "cell_type": "markdown",
      "metadata": {},
      "source": [
        "# Basic liquid handling\n",
        "\n",
        "In this notebook, you will learn how to use PyHamilton to move water from one range of wells to another.\n",
        "\n",
        "**Note: before running this notebook, you should have**:\n",
        "\n",
        "- Installed PyHamilton and the USB driver as described in [the installation guide](installation).\n",
        "- Connected the Hamilton to your computer using the USB cable.\n",
        "\n",
        "Video of what this code does:\n",
        "\n",
        "<iframe width=\"640\" height=\"360\" src=\"https://www.youtube.com/embed/NN6ltrRj3bU\" title=\"YouTube video player\" frameborder=\"0\" allow=\"accelerometer; autoplay; clipboard-write; encrypted-media; gyroscope; picture-in-picture\" allowfullscreen></iframe>"
      ]
    },
    {
      "cell_type": "markdown",
      "metadata": {},
      "source": [
        "## Setting up a connection with the robot\n",
        "\n",
        "Start by importing the {class}`~pylabrobot.liquid_handling.liquid_handler.LiquidHandler` class, which will serve as a front end for all liquid handling operations.\n",
        "\n",
        "Backends serve as communicators between between `LiquidHandler`s and the actual hardware. Since we are using a Hamilton STAR, we also import the {class}`~pylabrobot.liquid_handling.backends.STAR` backend."
      ]
    },
    {
      "cell_type": "code",
      "execution_count": 1,
      "metadata": {},
      "outputs": [],
      "source": [
        "%load_ext autoreload\n",
        "%autoreload 2"
      ]
    },
    {
      "cell_type": "code",
      "execution_count": 2,
      "metadata": {},
      "outputs": [],
      "source": [
        "from pylabrobot.liquid_handling import LiquidHandler\n",
        "# from pylabrobot.liquid_handling.backends import STAR\n",
        "from pylabrobot.liquid_handling.backends import OpentronsBackend\n",
        "\n",
        "# from pylabrobot.liquid_handling.backends.opentrons_backend import OpentronsBackend"
      ]
    },
    {
      "cell_type": "markdown",
      "metadata": {},
      "source": [
        "In addition, import the {class}`~pylabrobot.resources.hamilton.STARLetDeck`, which represents the deck of the Hamilton STAR."
      ]
    },
    {
      "cell_type": "code",
      "execution_count": 3,
      "metadata": {},
      "outputs": [],
      "source": [
        "# from pylabrobot.resources.hamilton import STARLetDeck\n",
        "from pylabrobot.resources.opentrons.deck import OTDeck"
      ]
    },
    {
      "cell_type": "code",
      "execution_count": 4,
      "metadata": {},
      "outputs": [],
      "source": [
        "## OPS:: EXTRA PART ADD SEARCH FOR THE CORRECT TYPE OF USB CABLE BY VIEWING IP ADRESSES"
      ]
    },
    {
      "cell_type": "markdown",
      "metadata": {},
      "source": [
        "Create a new liquid handler using `STAR` as its backend."
      ]
    },
    {
      "cell_type": "code",
      "execution_count": 5,
      "metadata": {},
      "outputs": [],
      "source": [
        "# backend = STAR()\n",
        "# lh = LiquidHandler(backend=backend, deck=STARLetDeck())\n",
        "# lh = LiquidHandler(backend=OpentronsBackend(host=\"10.199.253.164\"), deck=OTDeck())\n",
        "lh = LiquidHandler(backend=OpentronsBackend(host=\"10.199.253.164\"), deck=OTDeck(no_trash=True)) # This seems to work\n",
        "# web: 10.199.253.164 (OT032)\n",
        "# web: 10.199.253.141 (OT006)\n",
        "# web: 10.199.253.233 (OT028)\n",
        "# lan: 169.254.131.46\n",
        "# backend = OpentronsBackend(host=\"0.0.0.0\", port=5001)\n",
        "# lh = LiquidHandler(backend=backend, deck=OTDeck())"
      ]
    },
    {
      "cell_type": "markdown",
      "metadata": {},
      "source": [
        "The final step is to open communication with the robot. This is done using the {func}`~pylabrobot.liquid_handling.LiquidHandler.setup` method."
      ]
    },
    {
      "cell_type": "code",
      "execution_count": 6,
      "metadata": {
        "scrolled": false
      },
      "outputs": [],
      "source": [
        "await lh.setup()"
      ]
    },
    {
      "cell_type": "code",
      "execution_count": null,
      "metadata": {},
      "outputs": [],
      "source": []
    },
    {
      "cell_type": "markdown",
      "metadata": {},
      "source": [
        "## Creating the deck layout\n",
        "\n",
        "Now that we have a `LiquidHandler` instance, we can define the deck layout.\n",
        "\n",
        "The layout in this tutorial will contain five sets of standard volume tips with filter, 1 set of 96 1mL wells, and tip and plate carriers on which these resources are positioned.\n",
        "\n",
        "Start by importing the relevant objects and variables from the PyHamilton package. This notebook uses the following resources:\n",
        "\n",
        "- {class}`~pylabrobot.resources.ml_star.tip_carriers.TIP_CAR_480_A00` tip carrier\n",
        "- {class}`~pylabrobot.resources.ml_star.plate_carriers.PLT_CAR_L5AC_A00` plate carrier\n",
        "- {class}`~pylabrobot.resources.corning_costar.plates.Cos_96_DW_1mL` wells\n",
        "- {class}`~pylabrobot.resources.ml_star.tip_racks.HTF_L` tips"
      ]
    },
    {
      "cell_type": "code",
      "execution_count": 7,
      "metadata": {},
      "outputs": [],
      "source": [
        "from pylabrobot.resources.opentrons import (\n",
        "  opentrons_96_filtertiprack_20ul\n",
        ")\n",
        "from pylabrobot.resources.corning_costar import (\n",
        "  Cos_96_EZWash,\n",
        "  Cos_96_DW_1mL\n",
        ")\n"
      ]
    },
    {
      "cell_type": "markdown",
      "metadata": {},
      "source": []
    },
    {
      "cell_type": "markdown",
      "metadata": {},
      "source": [
        "Then create a tip carrier named `tip carrier`, which will contain tip rack at all 5 positions. These positions can be accessed using `tip_car[x]`, and are 0 indexed."
      ]
    },
    {
      "cell_type": "code",
      "execution_count": 8,
      "metadata": {},
      "outputs": [],
      "source": [
        "tips1 = opentrons_96_filtertiprack_20ul(name=\"tip_rack1\")\n",
        "tips2 = opentrons_96_filtertiprack_20ul(name=\"tip_rack2\")\n",
        "plate1 = Cos_96_EZWash(name=\"plate_01\")\n",
        "plate2 = Cos_96_DW_1mL(name=\"plate_02\")"
      ]
    },
    {
      "cell_type": "markdown",
      "metadata": {},
      "source": [
        "Use {func}`~pylabrobot.resources.abstract.assign_child_resources` to assign the tip carrier to the deck of the liquid handler. All resources contained by this carrier will be assigned automatically.\n",
        "\n",
        "In the `rails` parameter, we can pass the location of the tip carrier. The locations of the tips will automatically be calculated."
      ]
    },
    {
      "cell_type": "code",
      "execution_count": 9,
      "metadata": {},
      "outputs": [],
      "source": [
        "lh.deck.assign_child_at_slot(tips1, slot=3)\n",
        "lh.deck.assign_child_at_slot(tips2, slot=5)\n",
        "lh.deck.assign_child_at_slot(plate1, slot=11)\n",
        "lh.deck.assign_child_at_slot(plate2, slot=10)"
      ]
    },
    {
      "cell_type": "markdown",
      "metadata": {},
      "source": [
        "Repeat this for the plates."
      ]
    },
    {
      "cell_type": "code",
      "execution_count": 10,
      "metadata": {},
      "outputs": [
        {
          "name": "stdout",
          "output_type": "stream",
          "text": [
            "\n",
            "Deck: 624.3mm x 565.2mm\n",
            "\n",
            "+-----------------+-----------------+-----------------+\n",
            "|                 |                 |                 |\n",
            "| 10: plate_02    | 11: plate_01    | 12: Empty       |\n",
            "|                 |                 |                 |\n",
            "+-----------------+-----------------+-----------------+\n",
            "|                 |                 |                 |\n",
            "|  7: Empty       |  8: Empty       |  9: Empty       |\n",
            "|                 |                 |                 |\n",
            "+-----------------+-----------------+-----------------+\n",
            "|                 |                 |                 |\n",
            "|  4: Empty       |  5: tip_rack2   |  6: Empty       |\n",
            "|                 |                 |                 |\n",
            "+-----------------+-----------------+-----------------+\n",
            "|                 |                 |                 |\n",
            "|  1: Empty       |  2: Empty       |  3: tip_rack1   |\n",
            "|                 |                 |                 |\n",
            "+-----------------+-----------------+-----------------+\n",
            "\n"
          ]
        }
      ],
      "source": [
        "# summary function that displayes deck\n",
        "print(lh.deck.summary())"
      ]
    },
    {
      "cell_type": "code",
      "execution_count": 11,
      "metadata": {},
      "outputs": [
        {
          "data": {
            "text/plain": [
              "3"
            ]
          },
          "execution_count": 11,
          "metadata": {},
          "output_type": "execute_result"
        }
      ],
      "source": [
        "# get slot position of resource\n",
        "lh.deck.get_slot(tips1)"
      ]
    },
    {
      "cell_type": "markdown",
      "metadata": {},
      "source": [
        "Let's look at a summary of the deck layout using {func}`~pylabrobot.liquid_handling.LiquidHandler.summary`."
      ]
    },
    {
      "cell_type": "code",
      "execution_count": 9,
      "metadata": {},
      "outputs": [
        {
          "name": "stdout",
          "output_type": "stream",
          "text": [
            "\n",
            "Deck: 624.3mm x 565.2mm\n",
            "\n",
            "+-----------------+-----------------+-----------------+\n",
            "|                 |                 |                 |\n",
            "| 10: plate_02    | 11: plate_01    | 12: Empty       |\n",
            "|                 |                 |                 |\n",
            "+-----------------+-----------------+-----------------+\n",
            "|                 |                 |                 |\n",
            "|  7: Empty       |  8: Empty       |  9: Empty       |\n",
            "|                 |                 |                 |\n",
            "+-----------------+-----------------+-----------------+\n",
            "|                 |                 |                 |\n",
            "|  4: Empty       |  5: tip_rack2   |  6: Empty       |\n",
            "|                 |                 |                 |\n",
            "+-----------------+-----------------+-----------------+\n",
            "|                 |                 |                 |\n",
            "|  1: Empty       |  2: Empty       |  3: tip_rack1   |\n",
            "|                 |                 |                 |\n",
            "+-----------------+-----------------+-----------------+\n",
            "\n"
          ]
        }
      ],
      "source": [
        "lh.summary()"
      ]
    },
    {
      "cell_type": "markdown",
      "metadata": {},
      "source": [
        "## Picking up tips\n",
        "\n",
        "Picking up tips is as easy as querying the tips from the tiprack."
      ]
    },
    {
      "cell_type": "code",
      "execution_count": 50,
      "metadata": {},
      "outputs": [],
      "source": [
        "tiprack = lh.get_resource(\"tip_rack1\")\n",
        "## OPS OPS CHANGE TO SINGLE CHANNEL OG MULTI CHANNEL FOR THE OT ROBOT\n",
        "await lh.pick_up_tips(tiprack[\"A1\"])"
      ]
    },
    {
      "cell_type": "markdown",
      "metadata": {},
      "source": [
        "## Aspirating and dispensing"
      ]
    },
    {
      "cell_type": "markdown",
      "metadata": {},
      "source": [
        "Aspirating and dispensing work similarly to picking up tips: where you use booleans to specify which tips to pick up, with aspiration and dispensing you use floats to specify the volume to aspirate or dispense in $\\mu L$.\n",
        "\n",
        "The cells below move liquid from wells `'A1:C1'` to `'D1:F1'` using channels 1, 2, and 3 using the {func}`~pylabrobot.liquid_handling.LiquidHandler.aspirate` and {func}`~pylabrobot.liquid_handling.LiquidHandler.dispense` methods."
      ]
    },
    {
      "cell_type": "code",
      "execution_count": 13,
      "metadata": {},
      "outputs": [],
      "source": [
        "plate = lh.get_resource(\"plate_01\")\n",
        "await lh.aspirate(plate[\"A1\"], vols=[15])"
      ]
    },
    {
      "cell_type": "markdown",
      "metadata": {},
      "source": [
        "After the liquid has been aspirated, dispense it in the wells below. Note that while we specify different wells, we are still using the same channels. This is needed because only these channels contain liquid, of course."
      ]
    },
    {
      "cell_type": "code",
      "execution_count": 14,
      "metadata": {},
      "outputs": [],
      "source": [
        "await lh.dispense(plate[\"F1\"], vols=[15])"
      ]
    },
    {
      "cell_type": "markdown",
      "metadata": {},
      "source": [
        "Let's move the liquid back to the original wells."
      ]
    },
    {
      "cell_type": "code",
      "execution_count": 15,
      "metadata": {},
      "outputs": [
        {
          "name": "stderr",
          "output_type": "stream",
          "text": [
            "INFO:pylabrobot.liquid_handling.backends.hamilton.STAR:Sent command: C0ASid0008at0&tm1 1 1 0&xp04330 04330 04330 00000&yp1190 1100 1010 0000&th2450te2450lp1931 1931 1931&ch000 000 000&zl1881 1881 1881&po0100 0100 0100&zu0032 0032 0032&zr06180 06180 06180&zx1831 1831 1831&ip0000 0000 0000&it0 0 0&fp0000 0000 0000&av01072 00551 02110&as1000 1000 1000&ta000 000 000&ba0000 0000 0000&oa000 000 000&lm0 0 0&ll1 1 1&lv1 1 1&zo000 000 000&ld00 00 00&de0020 0020 0020&wt10 10 10&mv00000 00000 00000&mc00 00 00&mp000 000 000&ms1000 1000 1000&mh0000 0000 0000&gi000 000 000&gj0gk0lk0 0 0&ik0000 0000 0000&sd0500 0500 0500&se0500 0500 0500&sz0300 0300 0300&io0000 0000 0000&il00000 00000 00000&in0000 0000 0000&\n",
            "INFO:pylabrobot.liquid_handling.backends.hamilton.STAR:Received response: C0ASid0008er00/00\n",
            "INFO:pylabrobot.liquid_handling.backends.hamilton.STAR:Sent command: C0DSid0009dm2 2 2&tm1 1 1 0&xp04330 04330 04330 00000&yp1460 1370 1280 0000&zx1871 1871 1871&lp2321 2321 2321&zl1881 1881 1881&po0100 0100 0100&ip0000 0000 0000&it0 0 0&fp0000 0000 0000&zu0032 0032 0032&zr06180 06180 06180&th2450te2450dv01072 00551 02110&ds1200 1200 1200&ss0050 0050 0050&rv000 000 000&ta000 000 000&ba0000 0000 0000&lm0 0 0&dj00zo000 000 000&ll1 1 1&lv1 1 1&de0020 0020 0020&wt00 00 00&mv00000 00000 00000&mc00 00 00&mp000 000 000&ms0010 0010 0010&mh0000 0000 0000&gi000 000 000&gj0gk0\n",
            "INFO:pylabrobot.liquid_handling.backends.hamilton.STAR:Received response: C0DSid0009er00/00\n"
          ]
        }
      ],
      "source": [
        "# await lh.aspirate(plate[\"D1:F1\"], vols=[100.0, 50.0, 200.0])\n",
        "# await lh.dispense(plate[\"A1:C1\"], vols=[100.0, 50.0, 200.0])"
      ]
    },
    {
      "cell_type": "markdown",
      "metadata": {},
      "source": [
        "## Discarding tips\n",
        "\n",
        "Finally, you can discard tips by using the {func}`~pylabrobot.liquid_handling.LiquidHandler.discard_tips` method."
      ]
    },
    {
      "cell_type": "code",
      "execution_count": 15,
      "metadata": {},
      "outputs": [],
      "source": [
        "await lh.drop_tips(tiprack[\"A1\"])"
      ]
    },
    {
      "cell_type": "markdown",
      "metadata": {},
      "source": [
        "# TEST Throughing tip into trash"
      ]
    },
    {
      "cell_type": "code",
      "execution_count": 12,
      "metadata": {},
      "outputs": [],
      "source": [
        "tiprack = lh.get_resource(\"tip_rack1\")\n",
        "await lh.pick_up_tips(tiprack[\"A1\"])"
      ]
    },
    {
      "cell_type": "code",
      "execution_count": 13,
      "metadata": {},
      "outputs": [],
      "source": [
        "from pylabrobot.resources.trash import Trash\n",
        "# from pylabrobot.resources.opentrons.deck import OTDeck"
      ]
    },
    {
      "cell_type": "code",
      "execution_count": 19,
      "metadata": {},
      "outputs": [
        {
          "data": {
            "text/plain": [
              "<bound method OTDeck._assign_trash of OTDeck(name=deck, location=(000.000, 000.000, 000.000), size_x=624.3, size_y=565.2, size_z=900, category=deck)>"
            ]
          },
          "execution_count": 19,
          "metadata": {},
          "output_type": "execute_result"
        }
      ],
      "source": [
        "# trash = lh.deck.get_trash_area()\n",
        "# # n must match with the number of pipets\n",
        "# n=1\n",
        "# OTDeck._assign_trash()\n",
        "lh.deck._assign_trash\n",
        "# trash_container.assign_child_resource(actual_trash, location=Coordinate(x=82.84, y=53.56, z=5))\n",
        "# lh.deck.assign_child_at_slot(lh.deck._assign_trash, 12)\n"
      ]
    },
    {
      "cell_type": "code",
      "execution_count": null,
      "metadata": {},
      "outputs": [],
      "source": [
        "# Trash.assign_child_resource(actual_trash, location=Coordinate(x=82.84, y=53.56, z=5))\n"
      ]
    },
    {
      "cell_type": "code",
      "execution_count": 15,
      "metadata": {},
      "outputs": [],
      "source": [
        "trash = lh.deck.get_trash_area"
      ]
    },
    {
      "cell_type": "code",
      "execution_count": 16,
      "metadata": {},
      "outputs": [
        {
          "name": "stdout",
          "output_type": "stream",
          "text": [
            "\n",
            "Deck: 624.3mm x 565.2mm\n",
            "\n",
            "+-----------------+-----------------+-----------------+\n",
            "|                 |                 |                 |\n",
            "| 10: plate_02    | 11: plate_01    | 12: Empty       |\n",
            "|                 |                 |                 |\n",
            "+-----------------+-----------------+-----------------+\n",
            "|                 |                 |                 |\n",
            "|  7: Empty       |  8: Empty       |  9: Empty       |\n",
            "|                 |                 |                 |\n",
            "+-----------------+-----------------+-----------------+\n",
            "|                 |                 |                 |\n",
            "|  4: Empty       |  5: tip_rack2   |  6: Empty       |\n",
            "|                 |                 |                 |\n",
            "+-----------------+-----------------+-----------------+\n",
            "|                 |                 |                 |\n",
            "|  1: Empty       |  2: Empty       |  3: tip_rack1   |\n",
            "|                 |                 |                 |\n",
            "+-----------------+-----------------+-----------------+\n",
            "\n"
          ]
        }
      ],
      "source": [
        "print(lh.deck.summary())\n"
      ]
    },
    {
      "cell_type": "code",
      "execution_count": 17,
      "metadata": {},
      "outputs": [
        {
          "ename": "TypeError",
          "evalue": "'method' object is not iterable",
          "output_type": "error",
          "traceback": [
            "\u001b[1;31m---------------------------------------------------------------------------\u001b[0m",
            "\u001b[1;31mTypeError\u001b[0m                                 Traceback (most recent call last)",
            "Cell \u001b[1;32mIn[17], line 1\u001b[0m\n\u001b[1;32m----> 1\u001b[0m \u001b[38;5;28;01mawait\u001b[39;00m lh\u001b[38;5;241m.\u001b[39mdrop_tips(trash)\n",
            "File \u001b[1;32mc:\\users\\vikmol\\onedrive\\dokumenter\\github\\pylabrobot_dalsa\\pylabrobot\\machine.py:20\u001b[0m, in \u001b[0;36mneed_setup_finished.<locals>.wrapper\u001b[1;34m(self, *args, **kwargs)\u001b[0m\n\u001b[0;32m     18\u001b[0m \u001b[38;5;28;01mif\u001b[39;00m \u001b[38;5;129;01mnot\u001b[39;00m \u001b[38;5;28mself\u001b[39m\u001b[38;5;241m.\u001b[39msetup_finished:\n\u001b[0;32m     19\u001b[0m   \u001b[38;5;28;01mraise\u001b[39;00m \u001b[38;5;167;01mRuntimeError\u001b[39;00m(\u001b[38;5;124m\"\u001b[39m\u001b[38;5;124mThe setup has not finished. See `setup`.\u001b[39m\u001b[38;5;124m\"\u001b[39m)\n\u001b[1;32m---> 20\u001b[0m \u001b[38;5;28;01mreturn\u001b[39;00m \u001b[38;5;28;01mawait\u001b[39;00m func(\u001b[38;5;28mself\u001b[39m, \u001b[38;5;241m*\u001b[39margs, \u001b[38;5;241m*\u001b[39m\u001b[38;5;241m*\u001b[39mkwargs)\n",
            "File \u001b[1;32mc:\\users\\vikmol\\onedrive\\dokumenter\\github\\pylabrobot_dalsa\\pylabrobot\\liquid_handling\\liquid_handler.py:456\u001b[0m, in \u001b[0;36mLiquidHandler.drop_tips\u001b[1;34m(self, tip_spots, use_channels, offsets, allow_nonzero_volume, **backend_kwargs)\u001b[0m\n\u001b[0;32m    405\u001b[0m \u001b[38;5;129m@need_setup_finished\u001b[39m\n\u001b[0;32m    406\u001b[0m \u001b[38;5;28;01masync\u001b[39;00m \u001b[38;5;28;01mdef\u001b[39;00m \u001b[38;5;21mdrop_tips\u001b[39m(\n\u001b[0;32m    407\u001b[0m   \u001b[38;5;28mself\u001b[39m,\n\u001b[1;32m   (...)\u001b[0m\n\u001b[0;32m    412\u001b[0m   \u001b[38;5;241m*\u001b[39m\u001b[38;5;241m*\u001b[39mbackend_kwargs\n\u001b[0;32m    413\u001b[0m ):\n\u001b[0;32m    414\u001b[0m \u001b[38;5;250m  \u001b[39m\u001b[38;5;124;03m\"\"\" Drop tips to a resource.\u001b[39;00m\n\u001b[0;32m    415\u001b[0m \n\u001b[0;32m    416\u001b[0m \u001b[38;5;124;03m  Examples:\u001b[39;00m\n\u001b[1;32m   (...)\u001b[0m\n\u001b[0;32m    453\u001b[0m \u001b[38;5;124;03m    HasTipError: If a spot already has a tip.\u001b[39;00m\n\u001b[0;32m    454\u001b[0m \u001b[38;5;124;03m  \"\"\"\u001b[39;00m\n\u001b[1;32m--> 456\u001b[0m   \u001b[38;5;28;43mself\u001b[39;49m\u001b[38;5;241;43m.\u001b[39;49m\u001b[43m_assert_resources_exist\u001b[49m\u001b[43m(\u001b[49m\u001b[43mtip_spots\u001b[49m\u001b[43m)\u001b[49m\n\u001b[0;32m    458\u001b[0m   offsets \u001b[38;5;241m=\u001b[39m expand(offsets, \u001b[38;5;28mlen\u001b[39m(tip_spots))\n\u001b[0;32m    460\u001b[0m   \u001b[38;5;28;01mif\u001b[39;00m use_channels \u001b[38;5;129;01mis\u001b[39;00m \u001b[38;5;28;01mNone\u001b[39;00m:\n",
            "File \u001b[1;32mc:\\users\\vikmol\\onedrive\\dokumenter\\github\\pylabrobot_dalsa\\pylabrobot\\liquid_handling\\liquid_handler.py:231\u001b[0m, in \u001b[0;36mLiquidHandler._assert_resources_exist\u001b[1;34m(self, resources)\u001b[0m\n\u001b[0;32m    221\u001b[0m \u001b[38;5;28;01mdef\u001b[39;00m \u001b[38;5;21m_assert_resources_exist\u001b[39m(\u001b[38;5;28mself\u001b[39m, resources: Sequence[Resource]):\n\u001b[0;32m    222\u001b[0m \u001b[38;5;250m  \u001b[39m\u001b[38;5;124;03m\"\"\" Checks that each resource in `resources` is assigned to the deck.\u001b[39;00m\n\u001b[0;32m    223\u001b[0m \n\u001b[0;32m    224\u001b[0m \u001b[38;5;124;03m  Args:\u001b[39;00m\n\u001b[1;32m   (...)\u001b[0m\n\u001b[0;32m    228\u001b[0m \u001b[38;5;124;03m    ValueError: If a resource is not assigned to the deck.\u001b[39;00m\n\u001b[0;32m    229\u001b[0m \u001b[38;5;124;03m  \"\"\"\u001b[39;00m\n\u001b[1;32m--> 231\u001b[0m   \u001b[38;5;28;01mfor\u001b[39;00m resource \u001b[38;5;129;01min\u001b[39;00m resources:\n\u001b[0;32m    232\u001b[0m     \u001b[38;5;66;03m# see of top parent of resource is the deck (i.e. resource is assigned to deck)\u001b[39;00m\n\u001b[0;32m    233\u001b[0m     \u001b[38;5;28;01mwhile\u001b[39;00m resource\u001b[38;5;241m.\u001b[39mparent \u001b[38;5;129;01mis\u001b[39;00m \u001b[38;5;129;01mnot\u001b[39;00m \u001b[38;5;28;01mNone\u001b[39;00m:\n\u001b[0;32m    234\u001b[0m       resource \u001b[38;5;241m=\u001b[39m resource\u001b[38;5;241m.\u001b[39mparent\n",
            "\u001b[1;31mTypeError\u001b[0m: 'method' object is not iterable"
          ]
        }
      ],
      "source": [
        "await lh.drop_tips(tip_spots=[trash]*1)"
      ]
    },
    {
      "cell_type": "code",
      "execution_count": 19,
      "metadata": {},
      "outputs": [],
      "source": [
        "await lh.stop()"
      ]
    }
  ],
  "metadata": {
    "kernelspec": {
      "display_name": "Python 3.9.13 ('env': venv)",
      "language": "python",
      "name": "python3"
    },
    "language_info": {
      "codemirror_mode": {
        "name": "ipython",
        "version": 3
      },
      "file_extension": ".py",
      "mimetype": "text/x-python",
      "name": "python",
      "nbconvert_exporter": "python",
      "pygments_lexer": "ipython3",
      "version": "3.10.7"
    },
    "vscode": {
      "interpreter": {
        "hash": "bf274dfc1b974177267b6b8fba8543eeb0bb4c5d64c637dde420829b05625268"
      }
    }
  },
  "nbformat": 4,
  "nbformat_minor": 2
}
