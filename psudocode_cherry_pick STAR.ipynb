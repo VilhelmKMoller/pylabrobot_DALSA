{
 "cells": [
  {
   "cell_type": "code",
   "execution_count": null,
   "metadata": {},
   "outputs": [],
   "source": []
  },
  {
   "cell_type": "markdown",
   "metadata": {},
   "source": [
    "# Cherry Pick script with PyLabRobot for Hamilton"
   ]
  },
  {
   "cell_type": "markdown",
   "metadata": {},
   "source": [
    "# questions \n",
    "\n",
    "Does lld work? "
   ]
  },
  {
   "cell_type": "markdown",
   "metadata": {},
   "source": [
    "# To do\n",
    "\n",
    "- [X] Copy Hamilton 223 specs from lab to fit in PLR <br>\n",
    "- [ ] Test pipeting in each position to ensure the sites and carriers are correctly located\n",
    "- [ ] Write code for cherry pick <br>\n",
    "- [ ] Simulate code on PLR simulator <br>\n",
    "- [ ] Test code with water.  <br>\n",
    "- [ ] Implement in cherry_pick git repo <br>\n",
    "- [ ] Test with foil seal. Can i get it to override LLD? <br>\n",
    "  - [ ] How do i switch off the LLD?\n",
    "- [ ] Test if i can pearse the seals <br>\n",
    "- [ ] Test if i can split into the three parts. <br>\n",
    "- [ ] How do i move this code over to the Cherry picking folders and still have it work? \n",
    "\n",
    "# Fun to do\n",
    "\n",
    "Test using the ISWAP to move plates or remove lids <br>\n"
   ]
  },
  {
   "cell_type": "code",
   "execution_count": 1,
   "metadata": {},
   "outputs": [],
   "source": [
    "# await lh.stop()\n",
    "# await vis.stop()"
   ]
  },
  {
   "cell_type": "code",
   "execution_count": 2,
   "metadata": {},
   "outputs": [],
   "source": [
    "# !pip install pyusb"
   ]
  },
  {
   "cell_type": "code",
   "execution_count": 4,
   "metadata": {},
   "outputs": [
    {
     "name": "stdout",
     "output_type": "stream",
     "text": [
      "Collecting libusb_package\n",
      "  Downloading libusb_package-1.0.26.2-cp310-cp310-win_amd64.whl.metadata (6.3 kB)\n",
      "Collecting importlib-resources (from libusb_package)\n",
      "  Downloading importlib_resources-6.4.0-py3-none-any.whl.metadata (3.9 kB)\n",
      "Downloading libusb_package-1.0.26.2-cp310-cp310-win_amd64.whl (90 kB)\n",
      "   ---------------------------------------- 0.0/90.4 kB ? eta -:--:--\n",
      "   --------------------------- ------------ 61.4/90.4 kB 1.7 MB/s eta 0:00:01\n",
      "   ---------------------------------------- 90.4/90.4 kB 1.3 MB/s eta 0:00:00\n",
      "Downloading importlib_resources-6.4.0-py3-none-any.whl (38 kB)\n",
      "Installing collected packages: importlib-resources, libusb_package\n",
      "Successfully installed importlib-resources-6.4.0 libusb_package-1.0.26.2\n"
     ]
    }
   ],
   "source": [
    "!pip install libusb_package"
   ]
  },
  {
   "cell_type": "markdown",
   "metadata": {},
   "source": [
    "# Settup Robot"
   ]
  },
  {
   "cell_type": "code",
   "execution_count": 5,
   "metadata": {},
   "outputs": [],
   "source": [
    "simulate = False\n",
    "# simulate = True\n",
    "\n",
    "from pylabrobot.liquid_handling import LiquidHandler\n",
    "from pylabrobot.liquid_handling.backends import ChatterBoxBackend\n",
    "from pylabrobot.visualizer.visualizer import Visualizer\n",
    "from pylabrobot.liquid_handling.backends import STAR\n",
    "from pylabrobot.resources.hamilton import STARDeck\n",
    "from pylabrobot.resources.trash import Trash\n",
    "from pylabrobot.resources.carrier import Coordinate\n",
    "\n",
    "\n",
    "if simulate:\n",
    "  lh = LiquidHandler(backend=ChatterBoxBackend(), deck=STARDeck())\n",
    "  vis = Visualizer(resource=lh)\n",
    "else:\n",
    "  backend = STAR()\n",
    "  lh = LiquidHandler(backend=backend, deck=STARDeck())\n",
    "\n",
    "await lh.setup()\n",
    "\n",
    "if simulate:\n",
    "  await vis.setup()\n",
    "\n",
    "# labware resources:\n",
    "from pylabrobot.resources import (\n",
    "  PLT_CAR_L5AC, # plate carrier\n",
    "  STF_L, # standard volume 300ul tips with filter\n",
    "  TIP_50ul_w_filter_L, # 50ul with filter landscape position\n",
    "  HT_L, # Rack with 96 1000ul High Volume Tip\n",
    "  corning_96_wellplate_360ul_flat, # OT plate type\n",
    "  Cos_96_FL # corning alternative to OT plate\n",
    ")\n",
    "\n",
    "## there are no tube runners in PLR yet.\n",
    "\n",
    "trash = lh.deck.get_trash_area()"
   ]
  },
  {
   "cell_type": "markdown",
   "metadata": {},
   "source": [
    "# Upload deck configuration for Star B223"
   ]
  },
  {
   "cell_type": "code",
   "execution_count": 6,
   "metadata": {},
   "outputs": [],
   "source": [
    "import sys\n",
    "sys.path.append('C:/Users/vikmol/OneDrive/Dokumenter/GitHub/pylabrobot_DALSA')\n",
    "\n",
    "# import deck specs for Hamilton in building 223 room 032\n",
    "from hamilton_star_B223 import CVS_Shaker_DTU, TIP_CAR_NTR_A00, MFX_CAR_DTU, RGT_CAR_3R_A01, RGT_CAR_5R_A00, COOLER"
   ]
  },
  {
   "cell_type": "code",
   "execution_count": 7,
   "metadata": {},
   "outputs": [],
   "source": [
    "shaker_carrier = CVS_Shaker_DTU(name='my_shaker_0')\n",
    "tip_car = TIP_CAR_NTR_A00(name='tip_carrier')\n",
    "tip_car_mfx = MFX_CAR_DTU(name='tip_carrier_mfx')\n",
    "plt_car1 = PLT_CAR_L5AC(name='PLT_CAR_L5AC_1')\n",
    "plt_car2 = PLT_CAR_L5AC(name='PLT_CAR_L5AC_2')\n",
    "reservar_carrier1 = RGT_CAR_3R_A01(name='reservar_1')\n",
    "reservar_carrier2 = RGT_CAR_3R_A01(name='reservar_2')\n",
    "reservar_carrier3 = RGT_CAR_3R_A01(name='reservar_3_R5')\n",
    "cooler_carrier1 = COOLER(name='cooler_1')\n",
    "cooler_carrier2 = COOLER(name='cooler_2')\n"
   ]
  },
  {
   "cell_type": "markdown",
   "metadata": {},
   "source": [
    "# Add labware"
   ]
  },
  {
   "cell_type": "code",
   "execution_count": 8,
   "metadata": {},
   "outputs": [],
   "source": [
    "\n",
    "tip_car[0] = TIP_50ul_w_filter_L(name='tips_01_50ul') # for TIP_CAR_480_A00\n",
    "tip_car[1] = TIP_50ul_w_filter_L(name='tips_02_50ul') # for TIP_CAR_480_A00\n",
    "tip_car[2] = TIP_50ul_w_filter_L(name='tips_03_50ul') # for TIP_CAR_480_A00\n",
    "\n",
    "tip_car_mfx[0] = STF_L(name='tips_01_300ul') # for MFX\n",
    "tip_car_mfx[1] = STF_L(name='tips_02_300ul') # for MFX\n",
    "tip_car_mfx[2] = HT_L(name='tips_01_1000ul') # for MFX\n",
    "tip_car_mfx[3] = HT_L(name='tips_02_1000ul') # for MFX\n",
    "tip_car_mfx[4] = HT_L(name='tips_03_1000ul') # for MFX\n",
    "\n",
    "\n",
    "## Test on cooler\n",
    "cooler_carrier1[1] = Cos_96_FL(name='source_1')\n",
    "cooler_carrier1[2] = Cos_96_FL(name='source_2')\n",
    "cooler_carrier1[3] = Cos_96_FL(name='source_3')\n",
    "cooler_carrier1[4] = Cos_96_FL(name='source_4')\n",
    "cooler_carrier2[4] = Cos_96_FL(name='dist1')\n"
   ]
  },
  {
   "cell_type": "markdown",
   "metadata": {},
   "source": [
    "# Place labware and Carriers"
   ]
  },
  {
   "cell_type": "code",
   "execution_count": 9,
   "metadata": {},
   "outputs": [],
   "source": [
    "location_shaker = Coordinate(x=77.5, y=63.0, z=100.0)\n",
    "lh.deck.assign_child_resource(shaker_carrier, rails=None, location=location_shaker, reassign=True)\n",
    "lh.deck.assign_child_resource(tip_car, rails=7)\n",
    "lh.deck.assign_child_resource(plt_car1, rails=27)\n",
    "lh.deck.assign_child_resource(plt_car2, rails=33)\n",
    "lh.deck.assign_child_resource(tip_car_mfx, rails=13, reassign=True)\n",
    "lh.deck.assign_child_resource(reservar_carrier1, rails=19, reassign=True)\n",
    "lh.deck.assign_child_resource(reservar_carrier2, rails=20, reassign=True)\n",
    "lh.deck.assign_child_resource(reservar_carrier3, rails=21, reassign=True)\n",
    "lh.deck.assign_child_resource(cooler_carrier1, rails=43, reassign=True)\n",
    "lh.deck.assign_child_resource(cooler_carrier2, rails=49, reassign=True)"
   ]
  },
  {
   "cell_type": "code",
   "execution_count": 10,
   "metadata": {},
   "outputs": [],
   "source": [
    "tiprack50_1 = lh.get_resource(\"tips_01_50ul\")\n",
    "tiprack50_2 = lh.get_resource(\"tips_02_50ul\")\n",
    "tiprack50_3 = lh.get_resource(\"tips_03_50ul\")\n",
    "\n",
    "tiprack300_1 = lh.get_resource(\"tips_01_300ul\")\n",
    "tiprack300_2 = lh.get_resource(\"tips_02_300ul\")\n",
    "tiprack1000_1 = lh.get_resource(\"tips_01_1000ul\")\n",
    "tiprack1000_2 = lh.get_resource(\"tips_02_1000ul\")\n",
    "tiprack1000_3 = lh.get_resource(\"tips_03_1000ul\")\n",
    "\n",
    "source1 = lh.get_resource('source_1')\n",
    "source2 = lh.get_resource('source_2')\n",
    "source3 = lh.get_resource('source_3')\n",
    "source4 = lh.get_resource('source_4')\n",
    "dist1 = lh.get_resource('dist1')"
   ]
  },
  {
   "cell_type": "markdown",
   "metadata": {},
   "source": [
    "# Simulation create liquids in plates and fill tips"
   ]
  },
  {
   "cell_type": "code",
   "execution_count": 11,
   "metadata": {},
   "outputs": [],
   "source": [
    "\n",
    "\n",
    "if simulate:\n",
    "  # define liquids\n",
    "  plate_1_liquids = [[(None, 100)]]*96\n",
    "\n",
    "  source1.set_well_liquids(plate_1_liquids)\n",
    "  source2.set_well_liquids(plate_1_liquids)\n",
    "  source3.set_well_liquids(plate_1_liquids)\n",
    "  source4.set_well_liquids(plate_1_liquids)\n",
    "  # plate_2.set_well_liquids(plate_2_liquids)"
   ]
  },
  {
   "cell_type": "markdown",
   "metadata": {},
   "source": [
    "# Liquid Commands"
   ]
  },
  {
   "cell_type": "code",
   "execution_count": 12,
   "metadata": {},
   "outputs": [],
   "source": [
    "# variable input\n",
    "t_list = [['10', 'A1', '9', 'A1', '100', 'FSH0345O'], ['10', 'B1', '9', 'B1', '100', 'FSH0345O'], ['10', 'C1', '9', 'C1', '100', 'FSH0345O'], ['10', 'D1', '9', 'D1', '100', 'FSH0345O'], ['10', 'E1', '9', 'E1', '100', 'FSH0345O'], ['10', 'F1', '9', 'F1', '100', 'FSH0345O'], ['10', 'G1', '9', 'G1', '100', 'FSH0345O'], ['10', 'H1', '9', 'H1', '100', 'FSH0345O'], ['10', 'A2', '9', 'A2', '100', 'FSH0345O'], ['10', 'B2', '9', 'B2', '100', 'FSH0345O'], ['10', 'C2', '9', 'C2', '100', 'FSH0345O'], ['10', 'D2', '9', 'D2', '100', 'FSH0345O'], ['10', 'E2', '9', 'E2', '100', 'FSH0345O'], ['10', 'F2', '9', 'F2', '100', 'FSH0345O'], ['10', 'G2', '9', 'G2', '100', 'FSH0345O'], ['10', 'H2', '9', 'H2', '100', 'FSH0345O'], ['10', 'A3', '9', 'A3', '100', 'FSH0345O'], ['10', 'B3', '9', 'B3', '100', 'FSH0345O'], ['10', 'C3', '9', 'C3', '100', 'FSH0345O'], ['10', 'D3', '9', 'D3', '100', 'FSH0345O'], ['10', 'E3', '9', 'E3', '100', 'FSH0345O'], ['10', 'F3', '9', 'F3', '100', 'FSH0345O'], ['10', 'G3', '9', 'G3', '100', 'FSH0345O'], ['10', 'H3', '9', 'H3', '100', 'FSH0345O'], ['10', 'A4', '9', 'A4', '100', 'FSH0345O'], ['10', 'B4', '9', 'B4', '100', 'FSH0345O'], ['10', 'C4', '9', 'C4', '100', 'FSH0345O'], ['10', 'D4', '9', 'D4', '100', 'FSH0345O'], ['10', 'E4', '9', 'E4', '100', 'FSH0345O'], ['10', 'F4', '9', 'F4', '100', 'FSH0345O'], ['10', 'G4', '9', 'G4', '100', 'FSH0345O'], ['10', 'H4', '9', 'H4', '100', 'FSH0345O'], ['10', 'A5', '9', 'A5', '100', 'FSH0345O'], ['10', 'B5', '9', 'B5', '100', 'FSH0345O'], ['10', 'C5', '9', 'C5', '100', 'FSH0345O'], ['10', 'D5', '9', 'D5', '100', 'FSH0345O'], ['10', 'E5', '9', 'E5', '100', 'FSH0345O'], ['10', 'F5', '9', 'F5', '100', 'FSH0345O'], ['7', 'A1', '9', 'G5', '100', 'FSH034AP'], ['7', 'B1', '9', 'H5', '100', 'FSH034AP'], ['7', 'C1', '9', 'A6', '100', 'FSH034AP'], ['7', 'E1', '9', 'B6', '100', 'FSH034AP'], ['7', 'A2', '9', 'C6', '100', 'FSH034AP'], ['7', 'D2', '9', 'D6', '100', 'FSH034AP'], ['7', 'E2', '9', 'E6', '100', 'FSH034AP'], ['7', 'F2', '9', 'F6', '100', 'FSH034AP'], ['7', 'G2', '9', 'G6', '100', 'FSH034AP'], ['7', 'B3', '9', 'H6', '100', 'FSH034AP'], ['7', 'E3', '9', 'A7', '100', 'FSH034AP'], ['7', 'F3', '9', 'B7', '100', 'FSH034AP'], ['7', 'G3', '9', 'C7', '100', 'FSH034AP'], ['7', 'A4', '9', 'D7', '100', 'FSH034AP'], ['7', 'C4', '9', 'E7', '100', 'FSH034AP'], ['7', 'F4', '9', 'F7', '100', 'FSH034AP'], ['7', 'H4', '9', 'G7', '100', 'FSH034AP'], ['7', 'A5', '9', 'H7', '100', 'FSH034AP'], ['7', 'B5', '9', 'A8', '100', 'FSH034AP'], ['7', 'C5', '9', 'B8', '100', 'FSH034AP'], ['7', 'D5', '9', 'C8', '100', 'FSH034AP'], ['7', 'E5', '9', 'D8', '100', 'FSH034AP'], ['7', 'F5', '9', 'E8', '100', 'FSH034AP'], ['7', 'G5', '9', 'F8', '100', 'FSH034AP'], ['7', 'H5', '9', 'G8', '100', 'FSH034AP'], ['7', 'E6', '9', 'H8', '100', 'FSH034AP'], ['7', 'F6', '9', 'A9', '100', 'FSH034AP'], ['7', 'G6', '9', 'B9', '100', 'FSH034AP'], ['7', 'H6', '9', 'C9', '100', 'FSH034AP'], ['7', 'A7', '9', 'D9', '100', 'FSH034AP'], ['7', 'B7', '9', 'E9', '100', 'FSH034AP'], ['7', 'C7', '9', 'F9', '100', 'FSH034AP'], ['7', 'D7', '9', 'G9', '100', 'FSH034AP'], ['7', 'E7', '9', 'H9', '100', 'FSH034AP'], ['7', 'F7', '9', 'A10', '100', 'FSH034AP'], ['7', 'G7', '9', 'B10', '100', 'FSH034AP'], ['7', 'H7', '9', 'C10', '100', 'FSH034AP'], ['7', 'A8', '9', 'D10', '100', 'FSH034AP'], ['7', 'B8', '9', 'E10', '100', 'FSH034AP'], ['7', 'C8', '9', 'F10', '100', 'FSH034AP'], ['7', 'D8', '9', 'G10', '100', 'FSH034AP'], ['7', 'E8', '9', 'H10', '100', 'FSH034AP'], ['7', 'F8', '9', 'A11', '100', 'FSH034AP'], ['7', 'G8', '9', 'B11', '100', 'FSH034AP'], ['7', 'H8', '9', 'C11', '100', 'FSH034AP'], ['7', 'A9', '9', 'D11', '100', 'FSH034AP'], ['7', 'B9', '9', 'E11', '100', 'FSH034AP'], ['7', 'C9', '9', 'F11', '100', 'FSH034AP'], ['7', 'F9', '9', 'G11', '100', 'FSH034AP'], ['7', 'G9', '9', 'H11', '100', 'FSH034AP'], ['7', 'A10', '9', 'A12', '100', 'FSH034AP'], ['7', 'B10', '9', 'B12', '100', 'FSH034AP'], ['7', 'C10', '9', 'C12', '100', 'FSH034AP'], ['7', 'D10', '9', 'D12', '100', 'FSH034AP']]"
   ]
  },
  {
   "cell_type": "code",
   "execution_count": 13,
   "metadata": {},
   "outputs": [],
   "source": [
    "# tip configuration in box:\n",
    "\n",
    "tip_slot = ['A1', 'B1', 'C1', 'D1', 'E1', 'F1', 'G1', 'H1', 'A2', 'B2', 'C2', 'D2', 'E2', 'F2', 'G2', 'H2', 'A3', 'B3', 'C3', 'D3', 'E3', 'F3', 'G3', 'H3', 'A4', 'B4', 'C4', 'D4', 'E4', 'F4', 'G4', 'H4', 'A5', 'B5', 'C5', 'D5', 'E5', 'F5', 'G5', 'H5', 'A6', 'B6', 'C6', 'D6', 'E6', 'F6', 'G6', 'H6', 'A7', 'B7', 'C7', 'D7', 'E7', 'F7', 'G7', 'H7', 'A8', 'B8', 'C8', 'D8', 'E8', 'F8', 'G8', 'H8', 'A9', 'B9', 'C9', 'D9', 'E9', 'F9', 'G9', 'H9', 'A10', 'B10', 'C10', 'D10', 'E10', 'F10', 'G10', 'H10', 'A11', 'B11', 'C11', 'D11', 'E11', 'F11', 'G11', 'H11', 'A12', 'B12', 'C12', 'D12', 'E12', 'F12', 'G12', 'H12']\n",
    "\n",
    "# fixed input\n",
    "control_input = {'source_plate': 'biorad_96_wellplate_200ul_pcr', 'dest_plate': 'usascientific_96_wellplate_2.4ml_deep', 'right_pipette': 'p300_single', 'left_pipette': 'p10_single'}"
   ]
  },
  {
   "cell_type": "code",
   "execution_count": 14,
   "metadata": {},
   "outputs": [
    {
     "data": {
      "text/plain": [
       "Plate(name=source_1, size_x=127.0, size_y=86.0, size_z=14.24, location=(000.000, 000.000, 000.000))"
      ]
     },
     "execution_count": 14,
     "metadata": {},
     "output_type": "execute_result"
    }
   ],
   "source": [
    "input_slots = {10: source1, 7: source2, 4: source3, 1: source4, 9: dist1}\n",
    "def find_plate_name(input_slots, source_slot):\n",
    "    for key, value in input_slots.items():\n",
    "        if key == source_slot:\n",
    "            return value\n",
    "    return None  # Return None if no value found for the given key\n",
    "test_input = 10\n",
    "find_plate_name(input_slots, test_input)\n"
   ]
  },
  {
   "cell_type": "code",
   "execution_count": 15,
   "metadata": {},
   "outputs": [
    {
     "name": "stdout",
     "output_type": "stream",
     "text": [
      "source_plate Plate(name=source_1, size_x=127.0, size_y=86.0, size_z=14.24, location=(000.000, 000.000, 000.000))\n",
      "source_well B1\n",
      "['10', 'B1', '9', 'B1', '100', 'FSH0345O']\n"
     ]
    }
   ],
   "source": [
    "## Testing with\n",
    "\n",
    "count = 1\n",
    "\n",
    "source_slot = t_list[count][0]\n",
    "source_well = t_list[count][1]\n",
    "dist_slot = t_list[count][2]\n",
    "dist_well = t_list[count][3]\n",
    "volume = float(t_list[0][4])\n",
    "source_plate = find_plate_name(input_slots, int(source_slot))\n",
    "print('source_plate', source_plate)\n",
    "print('source_well', source_well)\n",
    "print(t_list[count])"
   ]
  },
  {
   "cell_type": "code",
   "execution_count": 19,
   "metadata": {},
   "outputs": [
    {
     "name": "stdout",
     "output_type": "stream",
     "text": [
      "source_plate Plate(name=source_1, size_x=127.0, size_y=86.0, size_z=14.24, location=(000.000, 000.000, 000.000))\n",
      "source_well B1\n",
      "['10', 'A1', '9', 'A1', '100', 'FSH0345O']\n",
      "\n",
      "source_plate Plate(name=source_1, size_x=127.0, size_y=86.0, size_z=14.24, location=(000.000, 000.000, 000.000))\n",
      "source_well B1\n",
      "['10', 'B1', '9', 'B1', '100', 'FSH0345O']\n",
      "\n",
      "source_plate Plate(name=source_1, size_x=127.0, size_y=86.0, size_z=14.24, location=(000.000, 000.000, 000.000))\n",
      "source_well B1\n",
      "['10', 'C1', '9', 'C1', '100', 'FSH0345O']\n",
      "\n",
      "source_plate Plate(name=source_1, size_x=127.0, size_y=86.0, size_z=14.24, location=(000.000, 000.000, 000.000))\n",
      "source_well B1\n",
      "['10', 'D1', '9', 'D1', '100', 'FSH0345O']\n",
      "\n",
      "source_plate Plate(name=source_1, size_x=127.0, size_y=86.0, size_z=14.24, location=(000.000, 000.000, 000.000))\n",
      "source_well B1\n",
      "['10', 'E1', '9', 'E1', '100', 'FSH0345O']\n",
      "\n",
      "source_plate Plate(name=source_1, size_x=127.0, size_y=86.0, size_z=14.24, location=(000.000, 000.000, 000.000))\n",
      "source_well B1\n",
      "['10', 'F1', '9', 'F1', '100', 'FSH0345O']\n",
      "\n",
      "source_plate Plate(name=source_1, size_x=127.0, size_y=86.0, size_z=14.24, location=(000.000, 000.000, 000.000))\n",
      "source_well B1\n",
      "['10', 'G1', '9', 'G1', '100', 'FSH0345O']\n",
      "\n",
      "source_plate Plate(name=source_1, size_x=127.0, size_y=86.0, size_z=14.24, location=(000.000, 000.000, 000.000))\n",
      "source_well B1\n",
      "['10', 'H1', '9', 'H1', '100', 'FSH0345O']\n",
      "\n",
      "source_plate Plate(name=source_1, size_x=127.0, size_y=86.0, size_z=14.24, location=(000.000, 000.000, 000.000))\n",
      "source_well B1\n",
      "['10', 'A2', '9', 'A2', '100', 'FSH0345O']\n",
      "\n",
      "source_plate Plate(name=source_1, size_x=127.0, size_y=86.0, size_z=14.24, location=(000.000, 000.000, 000.000))\n",
      "source_well B1\n",
      "['10', 'B2', '9', 'B2', '100', 'FSH0345O']\n",
      "\n",
      "source_plate Plate(name=source_1, size_x=127.0, size_y=86.0, size_z=14.24, location=(000.000, 000.000, 000.000))\n",
      "source_well B1\n",
      "['10', 'C2', '9', 'C2', '100', 'FSH0345O']\n",
      "\n",
      "source_plate Plate(name=source_1, size_x=127.0, size_y=86.0, size_z=14.24, location=(000.000, 000.000, 000.000))\n",
      "source_well B1\n",
      "['10', 'D2', '9', 'D2', '100', 'FSH0345O']\n",
      "\n",
      "source_plate Plate(name=source_1, size_x=127.0, size_y=86.0, size_z=14.24, location=(000.000, 000.000, 000.000))\n",
      "source_well B1\n",
      "['10', 'E2', '9', 'E2', '100', 'FSH0345O']\n",
      "\n",
      "source_plate Plate(name=source_1, size_x=127.0, size_y=86.0, size_z=14.24, location=(000.000, 000.000, 000.000))\n",
      "source_well B1\n",
      "['10', 'F2', '9', 'F2', '100', 'FSH0345O']\n",
      "\n",
      "source_plate Plate(name=source_1, size_x=127.0, size_y=86.0, size_z=14.24, location=(000.000, 000.000, 000.000))\n",
      "source_well B1\n",
      "['10', 'G2', '9', 'G2', '100', 'FSH0345O']\n",
      "\n",
      "source_plate Plate(name=source_1, size_x=127.0, size_y=86.0, size_z=14.24, location=(000.000, 000.000, 000.000))\n",
      "source_well B1\n",
      "['10', 'H2', '9', 'H2', '100', 'FSH0345O']\n",
      "\n",
      "source_plate Plate(name=source_1, size_x=127.0, size_y=86.0, size_z=14.24, location=(000.000, 000.000, 000.000))\n",
      "source_well B1\n",
      "['10', 'A3', '9', 'A3', '100', 'FSH0345O']\n",
      "\n",
      "source_plate Plate(name=source_1, size_x=127.0, size_y=86.0, size_z=14.24, location=(000.000, 000.000, 000.000))\n",
      "source_well B1\n",
      "['10', 'B3', '9', 'B3', '100', 'FSH0345O']\n",
      "\n",
      "source_plate Plate(name=source_1, size_x=127.0, size_y=86.0, size_z=14.24, location=(000.000, 000.000, 000.000))\n",
      "source_well B1\n",
      "['10', 'C3', '9', 'C3', '100', 'FSH0345O']\n",
      "\n",
      "source_plate Plate(name=source_1, size_x=127.0, size_y=86.0, size_z=14.24, location=(000.000, 000.000, 000.000))\n",
      "source_well B1\n",
      "['10', 'D3', '9', 'D3', '100', 'FSH0345O']\n",
      "\n",
      "source_plate Plate(name=source_1, size_x=127.0, size_y=86.0, size_z=14.24, location=(000.000, 000.000, 000.000))\n",
      "source_well B1\n",
      "['10', 'E3', '9', 'E3', '100', 'FSH0345O']\n",
      "\n",
      "source_plate Plate(name=source_1, size_x=127.0, size_y=86.0, size_z=14.24, location=(000.000, 000.000, 000.000))\n",
      "source_well B1\n",
      "['10', 'F3', '9', 'F3', '100', 'FSH0345O']\n",
      "\n",
      "source_plate Plate(name=source_1, size_x=127.0, size_y=86.0, size_z=14.24, location=(000.000, 000.000, 000.000))\n",
      "source_well B1\n",
      "['10', 'G3', '9', 'G3', '100', 'FSH0345O']\n",
      "\n",
      "source_plate Plate(name=source_1, size_x=127.0, size_y=86.0, size_z=14.24, location=(000.000, 000.000, 000.000))\n",
      "source_well B1\n",
      "['10', 'H3', '9', 'H3', '100', 'FSH0345O']\n",
      "\n",
      "source_plate Plate(name=source_1, size_x=127.0, size_y=86.0, size_z=14.24, location=(000.000, 000.000, 000.000))\n",
      "source_well B1\n",
      "['10', 'A4', '9', 'A4', '100', 'FSH0345O']\n",
      "\n",
      "source_plate Plate(name=source_1, size_x=127.0, size_y=86.0, size_z=14.24, location=(000.000, 000.000, 000.000))\n",
      "source_well B1\n",
      "['10', 'B4', '9', 'B4', '100', 'FSH0345O']\n",
      "\n",
      "source_plate Plate(name=source_1, size_x=127.0, size_y=86.0, size_z=14.24, location=(000.000, 000.000, 000.000))\n",
      "source_well B1\n",
      "['10', 'C4', '9', 'C4', '100', 'FSH0345O']\n",
      "\n",
      "source_plate Plate(name=source_1, size_x=127.0, size_y=86.0, size_z=14.24, location=(000.000, 000.000, 000.000))\n",
      "source_well B1\n",
      "['10', 'D4', '9', 'D4', '100', 'FSH0345O']\n",
      "\n",
      "source_plate Plate(name=source_1, size_x=127.0, size_y=86.0, size_z=14.24, location=(000.000, 000.000, 000.000))\n",
      "source_well B1\n",
      "['10', 'E4', '9', 'E4', '100', 'FSH0345O']\n",
      "\n",
      "source_plate Plate(name=source_1, size_x=127.0, size_y=86.0, size_z=14.24, location=(000.000, 000.000, 000.000))\n",
      "source_well B1\n",
      "['10', 'F4', '9', 'F4', '100', 'FSH0345O']\n",
      "\n",
      "source_plate Plate(name=source_1, size_x=127.0, size_y=86.0, size_z=14.24, location=(000.000, 000.000, 000.000))\n",
      "source_well B1\n",
      "['10', 'G4', '9', 'G4', '100', 'FSH0345O']\n",
      "\n",
      "source_plate Plate(name=source_1, size_x=127.0, size_y=86.0, size_z=14.24, location=(000.000, 000.000, 000.000))\n",
      "source_well B1\n",
      "['10', 'H4', '9', 'H4', '100', 'FSH0345O']\n",
      "\n",
      "source_plate Plate(name=source_1, size_x=127.0, size_y=86.0, size_z=14.24, location=(000.000, 000.000, 000.000))\n",
      "source_well B1\n",
      "['10', 'A5', '9', 'A5', '100', 'FSH0345O']\n",
      "\n",
      "source_plate Plate(name=source_1, size_x=127.0, size_y=86.0, size_z=14.24, location=(000.000, 000.000, 000.000))\n",
      "source_well B1\n",
      "['10', 'B5', '9', 'B5', '100', 'FSH0345O']\n",
      "\n",
      "source_plate Plate(name=source_1, size_x=127.0, size_y=86.0, size_z=14.24, location=(000.000, 000.000, 000.000))\n",
      "source_well B1\n",
      "['10', 'C5', '9', 'C5', '100', 'FSH0345O']\n",
      "\n",
      "source_plate Plate(name=source_1, size_x=127.0, size_y=86.0, size_z=14.24, location=(000.000, 000.000, 000.000))\n",
      "source_well B1\n",
      "['10', 'D5', '9', 'D5', '100', 'FSH0345O']\n",
      "\n",
      "source_plate Plate(name=source_1, size_x=127.0, size_y=86.0, size_z=14.24, location=(000.000, 000.000, 000.000))\n",
      "source_well B1\n",
      "['10', 'E5', '9', 'E5', '100', 'FSH0345O']\n",
      "\n",
      "source_plate Plate(name=source_1, size_x=127.0, size_y=86.0, size_z=14.24, location=(000.000, 000.000, 000.000))\n",
      "source_well B1\n",
      "['10', 'F5', '9', 'F5', '100', 'FSH0345O']\n",
      "\n",
      "source_plate Plate(name=source_1, size_x=127.0, size_y=86.0, size_z=14.24, location=(000.000, 000.000, 000.000))\n",
      "source_well B1\n",
      "['7', 'A1', '9', 'G5', '100', 'FSH034AP']\n",
      "\n",
      "source_plate Plate(name=source_1, size_x=127.0, size_y=86.0, size_z=14.24, location=(000.000, 000.000, 000.000))\n",
      "source_well B1\n",
      "['7', 'B1', '9', 'H5', '100', 'FSH034AP']\n",
      "\n",
      "source_plate Plate(name=source_1, size_x=127.0, size_y=86.0, size_z=14.24, location=(000.000, 000.000, 000.000))\n",
      "source_well B1\n",
      "['7', 'C1', '9', 'A6', '100', 'FSH034AP']\n",
      "\n",
      "source_plate Plate(name=source_1, size_x=127.0, size_y=86.0, size_z=14.24, location=(000.000, 000.000, 000.000))\n",
      "source_well B1\n",
      "['7', 'E1', '9', 'B6', '100', 'FSH034AP']\n",
      "\n",
      "source_plate Plate(name=source_1, size_x=127.0, size_y=86.0, size_z=14.24, location=(000.000, 000.000, 000.000))\n",
      "source_well B1\n",
      "['7', 'A2', '9', 'C6', '100', 'FSH034AP']\n",
      "\n",
      "source_plate Plate(name=source_1, size_x=127.0, size_y=86.0, size_z=14.24, location=(000.000, 000.000, 000.000))\n",
      "source_well B1\n",
      "['7', 'D2', '9', 'D6', '100', 'FSH034AP']\n",
      "\n",
      "source_plate Plate(name=source_1, size_x=127.0, size_y=86.0, size_z=14.24, location=(000.000, 000.000, 000.000))\n",
      "source_well B1\n",
      "['7', 'E2', '9', 'E6', '100', 'FSH034AP']\n",
      "\n",
      "source_plate Plate(name=source_1, size_x=127.0, size_y=86.0, size_z=14.24, location=(000.000, 000.000, 000.000))\n",
      "source_well B1\n",
      "['7', 'F2', '9', 'F6', '100', 'FSH034AP']\n",
      "\n",
      "source_plate Plate(name=source_1, size_x=127.0, size_y=86.0, size_z=14.24, location=(000.000, 000.000, 000.000))\n",
      "source_well B1\n",
      "['7', 'G2', '9', 'G6', '100', 'FSH034AP']\n",
      "\n",
      "source_plate Plate(name=source_1, size_x=127.0, size_y=86.0, size_z=14.24, location=(000.000, 000.000, 000.000))\n",
      "source_well B1\n",
      "['7', 'B3', '9', 'H6', '100', 'FSH034AP']\n",
      "\n",
      "source_plate Plate(name=source_1, size_x=127.0, size_y=86.0, size_z=14.24, location=(000.000, 000.000, 000.000))\n",
      "source_well B1\n",
      "['7', 'E3', '9', 'A7', '100', 'FSH034AP']\n",
      "\n",
      "source_plate Plate(name=source_1, size_x=127.0, size_y=86.0, size_z=14.24, location=(000.000, 000.000, 000.000))\n",
      "source_well B1\n",
      "['7', 'F3', '9', 'B7', '100', 'FSH034AP']\n",
      "\n",
      "source_plate Plate(name=source_1, size_x=127.0, size_y=86.0, size_z=14.24, location=(000.000, 000.000, 000.000))\n",
      "source_well B1\n",
      "['7', 'G3', '9', 'C7', '100', 'FSH034AP']\n",
      "\n",
      "source_plate Plate(name=source_1, size_x=127.0, size_y=86.0, size_z=14.24, location=(000.000, 000.000, 000.000))\n",
      "source_well B1\n",
      "['7', 'A4', '9', 'D7', '100', 'FSH034AP']\n",
      "\n",
      "source_plate Plate(name=source_1, size_x=127.0, size_y=86.0, size_z=14.24, location=(000.000, 000.000, 000.000))\n",
      "source_well B1\n",
      "['7', 'C4', '9', 'E7', '100', 'FSH034AP']\n",
      "\n",
      "source_plate Plate(name=source_1, size_x=127.0, size_y=86.0, size_z=14.24, location=(000.000, 000.000, 000.000))\n",
      "source_well B1\n",
      "['7', 'F4', '9', 'F7', '100', 'FSH034AP']\n",
      "\n",
      "source_plate Plate(name=source_1, size_x=127.0, size_y=86.0, size_z=14.24, location=(000.000, 000.000, 000.000))\n",
      "source_well B1\n",
      "['7', 'H4', '9', 'G7', '100', 'FSH034AP']\n",
      "\n",
      "source_plate Plate(name=source_1, size_x=127.0, size_y=86.0, size_z=14.24, location=(000.000, 000.000, 000.000))\n",
      "source_well B1\n",
      "['7', 'A5', '9', 'H7', '100', 'FSH034AP']\n",
      "\n",
      "source_plate Plate(name=source_1, size_x=127.0, size_y=86.0, size_z=14.24, location=(000.000, 000.000, 000.000))\n",
      "source_well B1\n",
      "['7', 'B5', '9', 'A8', '100', 'FSH034AP']\n",
      "\n",
      "source_plate Plate(name=source_1, size_x=127.0, size_y=86.0, size_z=14.24, location=(000.000, 000.000, 000.000))\n",
      "source_well B1\n",
      "['7', 'C5', '9', 'B8', '100', 'FSH034AP']\n",
      "\n",
      "source_plate Plate(name=source_1, size_x=127.0, size_y=86.0, size_z=14.24, location=(000.000, 000.000, 000.000))\n",
      "source_well B1\n",
      "['7', 'D5', '9', 'C8', '100', 'FSH034AP']\n",
      "\n",
      "source_plate Plate(name=source_1, size_x=127.0, size_y=86.0, size_z=14.24, location=(000.000, 000.000, 000.000))\n",
      "source_well B1\n",
      "['7', 'E5', '9', 'D8', '100', 'FSH034AP']\n",
      "\n",
      "source_plate Plate(name=source_1, size_x=127.0, size_y=86.0, size_z=14.24, location=(000.000, 000.000, 000.000))\n",
      "source_well B1\n",
      "['7', 'F5', '9', 'E8', '100', 'FSH034AP']\n",
      "\n",
      "source_plate Plate(name=source_1, size_x=127.0, size_y=86.0, size_z=14.24, location=(000.000, 000.000, 000.000))\n",
      "source_well B1\n",
      "['7', 'G5', '9', 'F8', '100', 'FSH034AP']\n",
      "\n",
      "source_plate Plate(name=source_1, size_x=127.0, size_y=86.0, size_z=14.24, location=(000.000, 000.000, 000.000))\n",
      "source_well B1\n",
      "['7', 'H5', '9', 'G8', '100', 'FSH034AP']\n",
      "\n",
      "source_plate Plate(name=source_1, size_x=127.0, size_y=86.0, size_z=14.24, location=(000.000, 000.000, 000.000))\n",
      "source_well B1\n",
      "['7', 'E6', '9', 'H8', '100', 'FSH034AP']\n",
      "\n",
      "source_plate Plate(name=source_1, size_x=127.0, size_y=86.0, size_z=14.24, location=(000.000, 000.000, 000.000))\n",
      "source_well B1\n",
      "['7', 'F6', '9', 'A9', '100', 'FSH034AP']\n",
      "\n",
      "source_plate Plate(name=source_1, size_x=127.0, size_y=86.0, size_z=14.24, location=(000.000, 000.000, 000.000))\n",
      "source_well B1\n",
      "['7', 'G6', '9', 'B9', '100', 'FSH034AP']\n",
      "\n",
      "source_plate Plate(name=source_1, size_x=127.0, size_y=86.0, size_z=14.24, location=(000.000, 000.000, 000.000))\n",
      "source_well B1\n",
      "['7', 'H6', '9', 'C9', '100', 'FSH034AP']\n",
      "\n",
      "source_plate Plate(name=source_1, size_x=127.0, size_y=86.0, size_z=14.24, location=(000.000, 000.000, 000.000))\n",
      "source_well B1\n",
      "['7', 'A7', '9', 'D9', '100', 'FSH034AP']\n",
      "\n",
      "source_plate Plate(name=source_1, size_x=127.0, size_y=86.0, size_z=14.24, location=(000.000, 000.000, 000.000))\n",
      "source_well B1\n",
      "['7', 'B7', '9', 'E9', '100', 'FSH034AP']\n",
      "\n",
      "source_plate Plate(name=source_1, size_x=127.0, size_y=86.0, size_z=14.24, location=(000.000, 000.000, 000.000))\n",
      "source_well B1\n",
      "['7', 'C7', '9', 'F9', '100', 'FSH034AP']\n",
      "\n",
      "source_plate Plate(name=source_1, size_x=127.0, size_y=86.0, size_z=14.24, location=(000.000, 000.000, 000.000))\n",
      "source_well B1\n",
      "['7', 'D7', '9', 'G9', '100', 'FSH034AP']\n",
      "\n",
      "source_plate Plate(name=source_1, size_x=127.0, size_y=86.0, size_z=14.24, location=(000.000, 000.000, 000.000))\n",
      "source_well B1\n",
      "['7', 'E7', '9', 'H9', '100', 'FSH034AP']\n",
      "\n",
      "source_plate Plate(name=source_1, size_x=127.0, size_y=86.0, size_z=14.24, location=(000.000, 000.000, 000.000))\n",
      "source_well B1\n",
      "['7', 'F7', '9', 'A10', '100', 'FSH034AP']\n",
      "\n",
      "source_plate Plate(name=source_1, size_x=127.0, size_y=86.0, size_z=14.24, location=(000.000, 000.000, 000.000))\n",
      "source_well B1\n",
      "['7', 'G7', '9', 'B10', '100', 'FSH034AP']\n",
      "\n",
      "source_plate Plate(name=source_1, size_x=127.0, size_y=86.0, size_z=14.24, location=(000.000, 000.000, 000.000))\n",
      "source_well B1\n",
      "['7', 'H7', '9', 'C10', '100', 'FSH034AP']\n",
      "\n",
      "source_plate Plate(name=source_1, size_x=127.0, size_y=86.0, size_z=14.24, location=(000.000, 000.000, 000.000))\n",
      "source_well B1\n",
      "['7', 'A8', '9', 'D10', '100', 'FSH034AP']\n",
      "\n",
      "source_plate Plate(name=source_1, size_x=127.0, size_y=86.0, size_z=14.24, location=(000.000, 000.000, 000.000))\n",
      "source_well B1\n",
      "['7', 'B8', '9', 'E10', '100', 'FSH034AP']\n",
      "\n",
      "source_plate Plate(name=source_1, size_x=127.0, size_y=86.0, size_z=14.24, location=(000.000, 000.000, 000.000))\n",
      "source_well B1\n",
      "['7', 'C8', '9', 'F10', '100', 'FSH034AP']\n",
      "\n",
      "source_plate Plate(name=source_1, size_x=127.0, size_y=86.0, size_z=14.24, location=(000.000, 000.000, 000.000))\n",
      "source_well B1\n",
      "['7', 'D8', '9', 'G10', '100', 'FSH034AP']\n",
      "\n",
      "source_plate Plate(name=source_1, size_x=127.0, size_y=86.0, size_z=14.24, location=(000.000, 000.000, 000.000))\n",
      "source_well B1\n",
      "['7', 'E8', '9', 'H10', '100', 'FSH034AP']\n",
      "\n",
      "source_plate Plate(name=source_1, size_x=127.0, size_y=86.0, size_z=14.24, location=(000.000, 000.000, 000.000))\n",
      "source_well B1\n",
      "['7', 'F8', '9', 'A11', '100', 'FSH034AP']\n",
      "\n",
      "source_plate Plate(name=source_1, size_x=127.0, size_y=86.0, size_z=14.24, location=(000.000, 000.000, 000.000))\n",
      "source_well B1\n",
      "['7', 'G8', '9', 'B11', '100', 'FSH034AP']\n",
      "\n",
      "source_plate Plate(name=source_1, size_x=127.0, size_y=86.0, size_z=14.24, location=(000.000, 000.000, 000.000))\n",
      "source_well B1\n",
      "['7', 'H8', '9', 'C11', '100', 'FSH034AP']\n",
      "\n",
      "source_plate Plate(name=source_1, size_x=127.0, size_y=86.0, size_z=14.24, location=(000.000, 000.000, 000.000))\n",
      "source_well B1\n",
      "['7', 'A9', '9', 'D11', '100', 'FSH034AP']\n",
      "\n",
      "source_plate Plate(name=source_1, size_x=127.0, size_y=86.0, size_z=14.24, location=(000.000, 000.000, 000.000))\n",
      "source_well B1\n",
      "['7', 'B9', '9', 'E11', '100', 'FSH034AP']\n",
      "\n",
      "source_plate Plate(name=source_1, size_x=127.0, size_y=86.0, size_z=14.24, location=(000.000, 000.000, 000.000))\n",
      "source_well B1\n",
      "['7', 'C9', '9', 'F11', '100', 'FSH034AP']\n",
      "\n",
      "source_plate Plate(name=source_1, size_x=127.0, size_y=86.0, size_z=14.24, location=(000.000, 000.000, 000.000))\n",
      "source_well B1\n",
      "['7', 'F9', '9', 'G11', '100', 'FSH034AP']\n",
      "\n",
      "source_plate Plate(name=source_1, size_x=127.0, size_y=86.0, size_z=14.24, location=(000.000, 000.000, 000.000))\n",
      "source_well B1\n",
      "['7', 'G9', '9', 'H11', '100', 'FSH034AP']\n",
      "\n",
      "source_plate Plate(name=source_1, size_x=127.0, size_y=86.0, size_z=14.24, location=(000.000, 000.000, 000.000))\n",
      "source_well B1\n",
      "['7', 'A10', '9', 'A12', '100', 'FSH034AP']\n",
      "\n",
      "source_plate Plate(name=source_1, size_x=127.0, size_y=86.0, size_z=14.24, location=(000.000, 000.000, 000.000))\n",
      "source_well B1\n",
      "['7', 'B10', '9', 'B12', '100', 'FSH034AP']\n",
      "\n",
      "source_plate Plate(name=source_1, size_x=127.0, size_y=86.0, size_z=14.24, location=(000.000, 000.000, 000.000))\n",
      "source_well B1\n",
      "['7', 'C10', '9', 'C12', '100', 'FSH034AP']\n",
      "\n",
      "source_plate Plate(name=source_1, size_x=127.0, size_y=86.0, size_z=14.24, location=(000.000, 000.000, 000.000))\n",
      "source_well B1\n",
      "['7', 'D10', '9', 'D12', '100', 'FSH034AP']\n",
      "\n"
     ]
    }
   ],
   "source": [
    "volumes = []\n",
    "source_slots = []\n",
    "source_wells = []\n",
    "dist_slots = []\n",
    "dist_wells = []\n",
    "source_plates = []\n",
    "dist_plates = []\n",
    "\n",
    "for count in range(len(t_list)):\n",
    "  source_slots.append(t_list[count][0])\n",
    "  source_wells.append(t_list[count][1])\n",
    "  dist_slots.append(t_list[count][2])\n",
    "  dist_wells.append(t_list[count][3])\n",
    "  volumes.append(float(t_list[0][4]))\n",
    "  source_plates.append(find_plate_name(input_slots, int(source_slots[count])))\n",
    "  dist_plates.append(find_plate_name(input_slots, int(dist_slots[count])))\n",
    "  print('source_plate', source_plate)\n",
    "  print('source_well', source_well)\n",
    "  print(t_list[count])\n",
    "  print()\n"
   ]
  },
  {
   "cell_type": "code",
   "execution_count": 19,
   "metadata": {},
   "outputs": [],
   "source": [
    "\n",
    "def all_elements_same(source_plates):\n",
    "    ## test if a list of len=8 contains the same plate if yes aspirate all 8 at the same time if not then aspirate one at a time.\n",
    "    # Check if the list is empty\n",
    "    if not source_plates:\n",
    "        return True\n",
    "    # Compare all elements to the first element\n",
    "    first_element = source_plates[0]\n",
    "    return all(element == first_element for element in source_plates[1:])"
   ]
  },
  {
   "cell_type": "code",
   "execution_count": 20,
   "metadata": {},
   "outputs": [
    {
     "name": "stdout",
     "output_type": "stream",
     "text": [
      "[[0, 8], [8, 16], [16, 24], [24, 32], [32, 40], [40, 48], [48, 56], [56, 64], [64, 72], [72, 80], [80, 88], [88, 96]]\n"
     ]
    }
   ],
   "source": [
    "\n",
    "## create a tip pick up nested list for doing all work in columns(ei use 8 channels)\n",
    "multiples_of_8  = [0, 8, 16, 24, 32, 40, 48, 56, 64, 72, 80, 88, 96]\n",
    "tip_pick_up_eight = []\n",
    "for i in range(len(multiples_of_8)-1):\n",
    "  if i == 0:\n",
    "    start = multiples_of_8[i]\n",
    "  else:\n",
    "    start = multiples_of_8[i]\n",
    "\n",
    "  end = multiples_of_8[i+1]\n",
    "  tip_pick_up_eight.append([start, end])\n",
    "\n",
    "print(tip_pick_up_eight)"
   ]
  },
  {
   "cell_type": "code",
   "execution_count": 21,
   "metadata": {},
   "outputs": [
    {
     "name": "stdout",
     "output_type": "stream",
     "text": [
      "32 40\n"
     ]
    }
   ],
   "source": [
    "count = 4\n",
    "start, end = tip_pick_up_eight[count][0] , tip_pick_up_eight[count][1]\n",
    "print(start, end)"
   ]
  },
  {
   "cell_type": "code",
   "execution_count": 22,
   "metadata": {},
   "outputs": [
    {
     "ename": "NameError",
     "evalue": "name 'volumes' is not defined",
     "output_type": "error",
     "traceback": [
      "\u001b[1;31m---------------------------------------------------------------------------\u001b[0m",
      "\u001b[1;31mNameError\u001b[0m                                 Traceback (most recent call last)",
      "Cell \u001b[1;32mIn[22], line 1\u001b[0m\n\u001b[1;32m----> 1\u001b[0m \u001b[38;5;28mprint\u001b[39m(\u001b[43mvolumes\u001b[49m[start:end])\n\u001b[0;32m      2\u001b[0m \u001b[38;5;28mprint\u001b[39m(source_slots[start:end])\n\u001b[0;32m      3\u001b[0m \u001b[38;5;28mprint\u001b[39m(source_wells[start:end])\n",
      "\u001b[1;31mNameError\u001b[0m: name 'volumes' is not defined"
     ]
    }
   ],
   "source": [
    "print(volumes[start:end])\n",
    "print(source_slots[start:end])\n",
    "print(source_wells[start:end])\n",
    "print(dist_slots[start:end])\n",
    "print(dist_wells[start:end])\n",
    "print(source_plates[start:end])"
   ]
  },
  {
   "cell_type": "code",
   "execution_count": 24,
   "metadata": {},
   "outputs": [
    {
     "name": "stdout",
     "output_type": "stream",
     "text": [
      "32\n",
      "40\n"
     ]
    }
   ],
   "source": [
    "print(start)\n",
    "print(end)"
   ]
  },
  {
   "cell_type": "code",
   "execution_count": 23,
   "metadata": {},
   "outputs": [
    {
     "name": "stdout",
     "output_type": "stream",
     "text": [
      "-8\n",
      "['H4', 'A5', 'B5', 'C5', 'D5', 'E5', 'F5', 'G5', 'H5']\n"
     ]
    },
    {
     "ename": "NoTipError",
     "evalue": "No tip present in locations for channels [0, 1, 2, 3, 4, 5, 6, 7]",
     "output_type": "error",
     "traceback": [
      "\u001b[1;31m---------------------------------------------------------------------------\u001b[0m",
      "\u001b[1;31mSTARFirmwareError\u001b[0m                         Traceback (most recent call last)",
      "File \u001b[1;32mc:\\Users\\vikmol\\OneDrive\\Dokumenter\\GitHub\\pylabrobot_DALSA\\pylabrobot\\liquid_handling\\backends\\hamilton\\STAR.py:1307\u001b[0m, in \u001b[0;36mSTAR.pick_up_tips\u001b[1;34m(self, ops, use_channels)\u001b[0m\n\u001b[0;32m   1306\u001b[0m   \u001b[38;5;28;01massert\u001b[39;00m \u001b[38;5;28misinstance\u001b[39m(tip, HamiltonTip), \u001b[38;5;124m\"\u001b[39m\u001b[38;5;124mTip type must be HamiltonTip.\u001b[39m\u001b[38;5;124m\"\u001b[39m\n\u001b[1;32m-> 1307\u001b[0m   \u001b[38;5;28;01mreturn\u001b[39;00m \u001b[38;5;28;01mawait\u001b[39;00m \u001b[38;5;28mself\u001b[39m\u001b[38;5;241m.\u001b[39mpick_up_tip(\n\u001b[0;32m   1308\u001b[0m     x_positions\u001b[38;5;241m=\u001b[39mx_positions,\n\u001b[0;32m   1309\u001b[0m     y_positions\u001b[38;5;241m=\u001b[39my_positions,\n\u001b[0;32m   1310\u001b[0m     tip_pattern\u001b[38;5;241m=\u001b[39mchannels_involved,\n\u001b[0;32m   1311\u001b[0m     tip_type_idx\u001b[38;5;241m=\u001b[39mttti,\n\u001b[0;32m   1312\u001b[0m     begin_tip_pick_up_process\u001b[38;5;241m=\u001b[39m\u001b[38;5;28mint\u001b[39m((max_z \u001b[38;5;241m+\u001b[39m max_total_tip_length)\u001b[38;5;241m*\u001b[39m\u001b[38;5;241m10\u001b[39m),\n\u001b[0;32m   1313\u001b[0m     end_tip_pick_up_process\u001b[38;5;241m=\u001b[39m\u001b[38;5;28mint\u001b[39m((max_z \u001b[38;5;241m+\u001b[39m max_tip_length)\u001b[38;5;241m*\u001b[39m\u001b[38;5;241m10\u001b[39m),\n\u001b[0;32m   1314\u001b[0m     minimum_traverse_height_at_beginning_of_a_command\u001b[38;5;241m=\u001b[39m\u001b[38;5;28mint\u001b[39m(\u001b[38;5;28mself\u001b[39m\u001b[38;5;241m.\u001b[39m_traversal_height \u001b[38;5;241m*\u001b[39m \u001b[38;5;241m10\u001b[39m),\n\u001b[0;32m   1315\u001b[0m     pickup_method\u001b[38;5;241m=\u001b[39mtip\u001b[38;5;241m.\u001b[39mpickup_method,\n\u001b[0;32m   1316\u001b[0m   )\n\u001b[0;32m   1317\u001b[0m \u001b[38;5;28;01mexcept\u001b[39;00m STARFirmwareError \u001b[38;5;28;01mas\u001b[39;00m e:\n",
      "File \u001b[1;32mc:\\Users\\vikmol\\OneDrive\\Dokumenter\\GitHub\\pylabrobot_DALSA\\pylabrobot\\liquid_handling\\backends\\hamilton\\STAR.py:3537\u001b[0m, in \u001b[0;36mSTAR.pick_up_tip\u001b[1;34m(self, x_positions, y_positions, tip_pattern, tip_type_idx, begin_tip_pick_up_process, end_tip_pick_up_process, minimum_traverse_height_at_beginning_of_a_command, pickup_method)\u001b[0m\n\u001b[0;32m   3534\u001b[0m \u001b[38;5;28;01massert\u001b[39;00m \u001b[38;5;241m0\u001b[39m \u001b[38;5;241m<\u001b[39m\u001b[38;5;241m=\u001b[39m minimum_traverse_height_at_beginning_of_a_command \u001b[38;5;241m<\u001b[39m\u001b[38;5;241m=\u001b[39m \u001b[38;5;241m3600\u001b[39m, \\\n\u001b[0;32m   3535\u001b[0m   \u001b[38;5;124m\"\u001b[39m\u001b[38;5;124mminimum_traverse_height_at_beginning_of_a_command must be between 0 and 3600\u001b[39m\u001b[38;5;124m\"\u001b[39m\n\u001b[1;32m-> 3537\u001b[0m \u001b[38;5;28;01mreturn\u001b[39;00m \u001b[38;5;28;01mawait\u001b[39;00m \u001b[38;5;28mself\u001b[39m\u001b[38;5;241m.\u001b[39msend_command(\n\u001b[0;32m   3538\u001b[0m   module\u001b[38;5;241m=\u001b[39m\u001b[38;5;124m\"\u001b[39m\u001b[38;5;124mC0\u001b[39m\u001b[38;5;124m\"\u001b[39m,\n\u001b[0;32m   3539\u001b[0m   command\u001b[38;5;241m=\u001b[39m\u001b[38;5;124m\"\u001b[39m\u001b[38;5;124mTP\u001b[39m\u001b[38;5;124m\"\u001b[39m,\n\u001b[0;32m   3540\u001b[0m   tip_pattern\u001b[38;5;241m=\u001b[39mtip_pattern,\n\u001b[0;32m   3541\u001b[0m   read_timeout\u001b[38;5;241m=\u001b[39m\u001b[38;5;241m60\u001b[39m,\n\u001b[0;32m   3542\u001b[0m   xp\u001b[38;5;241m=\u001b[39m[\u001b[38;5;124mf\u001b[39m\u001b[38;5;124m\"\u001b[39m\u001b[38;5;132;01m{\u001b[39;00mx\u001b[38;5;132;01m:\u001b[39;00m\u001b[38;5;124m05\u001b[39m\u001b[38;5;132;01m}\u001b[39;00m\u001b[38;5;124m\"\u001b[39m \u001b[38;5;28;01mfor\u001b[39;00m x \u001b[38;5;129;01min\u001b[39;00m x_positions],\n\u001b[0;32m   3543\u001b[0m   yp\u001b[38;5;241m=\u001b[39m[\u001b[38;5;124mf\u001b[39m\u001b[38;5;124m\"\u001b[39m\u001b[38;5;132;01m{\u001b[39;00my\u001b[38;5;132;01m:\u001b[39;00m\u001b[38;5;124m04\u001b[39m\u001b[38;5;132;01m}\u001b[39;00m\u001b[38;5;124m\"\u001b[39m \u001b[38;5;28;01mfor\u001b[39;00m y \u001b[38;5;129;01min\u001b[39;00m y_positions],\n\u001b[0;32m   3544\u001b[0m   tm\u001b[38;5;241m=\u001b[39mtip_pattern,\n\u001b[0;32m   3545\u001b[0m   tt\u001b[38;5;241m=\u001b[39m\u001b[38;5;124mf\u001b[39m\u001b[38;5;124m\"\u001b[39m\u001b[38;5;132;01m{\u001b[39;00mtip_type_idx\u001b[38;5;132;01m:\u001b[39;00m\u001b[38;5;124m02\u001b[39m\u001b[38;5;132;01m}\u001b[39;00m\u001b[38;5;124m\"\u001b[39m,\n\u001b[0;32m   3546\u001b[0m   tp\u001b[38;5;241m=\u001b[39m\u001b[38;5;124mf\u001b[39m\u001b[38;5;124m\"\u001b[39m\u001b[38;5;132;01m{\u001b[39;00mbegin_tip_pick_up_process\u001b[38;5;132;01m:\u001b[39;00m\u001b[38;5;124m04\u001b[39m\u001b[38;5;132;01m}\u001b[39;00m\u001b[38;5;124m\"\u001b[39m,\n\u001b[0;32m   3547\u001b[0m   tz\u001b[38;5;241m=\u001b[39m\u001b[38;5;124mf\u001b[39m\u001b[38;5;124m\"\u001b[39m\u001b[38;5;132;01m{\u001b[39;00mend_tip_pick_up_process\u001b[38;5;132;01m:\u001b[39;00m\u001b[38;5;124m04\u001b[39m\u001b[38;5;132;01m}\u001b[39;00m\u001b[38;5;124m\"\u001b[39m,\n\u001b[0;32m   3548\u001b[0m   th\u001b[38;5;241m=\u001b[39m\u001b[38;5;124mf\u001b[39m\u001b[38;5;124m\"\u001b[39m\u001b[38;5;132;01m{\u001b[39;00mminimum_traverse_height_at_beginning_of_a_command\u001b[38;5;132;01m:\u001b[39;00m\u001b[38;5;124m04\u001b[39m\u001b[38;5;132;01m}\u001b[39;00m\u001b[38;5;124m\"\u001b[39m,\n\u001b[0;32m   3549\u001b[0m   td\u001b[38;5;241m=\u001b[39mpickup_method\u001b[38;5;241m.\u001b[39mvalue,\n\u001b[0;32m   3550\u001b[0m )\n",
      "File \u001b[1;32mc:\\Users\\vikmol\\OneDrive\\Dokumenter\\GitHub\\pylabrobot_DALSA\\pylabrobot\\liquid_handling\\backends\\hamilton\\base.py:193\u001b[0m, in \u001b[0;36mHamiltonLiquidHandler.send_command\u001b[1;34m(self, module, command, tip_pattern, write_timeout, read_timeout, wait, fmt, **kwargs)\u001b[0m\n\u001b[0;32m    191\u001b[0m cmd, id_ \u001b[38;5;241m=\u001b[39m \u001b[38;5;28mself\u001b[39m\u001b[38;5;241m.\u001b[39m_assemble_command(module\u001b[38;5;241m=\u001b[39mmodule, command\u001b[38;5;241m=\u001b[39mcommand, tip_pattern\u001b[38;5;241m=\u001b[39mtip_pattern,\n\u001b[0;32m    192\u001b[0m   \u001b[38;5;241m*\u001b[39m\u001b[38;5;241m*\u001b[39mkwargs)\n\u001b[1;32m--> 193\u001b[0m resp \u001b[38;5;241m=\u001b[39m \u001b[38;5;28;01mawait\u001b[39;00m \u001b[38;5;28mself\u001b[39m\u001b[38;5;241m.\u001b[39m_write_and_read_command(id_\u001b[38;5;241m=\u001b[39mid_, cmd\u001b[38;5;241m=\u001b[39mcmd, write_timeout\u001b[38;5;241m=\u001b[39mwrite_timeout,\n\u001b[0;32m    194\u001b[0m                 read_timeout\u001b[38;5;241m=\u001b[39mread_timeout, wait\u001b[38;5;241m=\u001b[39mwait)\n\u001b[0;32m    195\u001b[0m \u001b[38;5;28;01mif\u001b[39;00m resp \u001b[38;5;129;01mis\u001b[39;00m \u001b[38;5;129;01mnot\u001b[39;00m \u001b[38;5;28;01mNone\u001b[39;00m \u001b[38;5;129;01mand\u001b[39;00m fmt \u001b[38;5;129;01mis\u001b[39;00m \u001b[38;5;129;01mnot\u001b[39;00m \u001b[38;5;28;01mNone\u001b[39;00m:\n",
      "File \u001b[1;32mc:\\Users\\vikmol\\OneDrive\\Dokumenter\\GitHub\\pylabrobot_DALSA\\pylabrobot\\liquid_handling\\backends\\hamilton\\base.py:220\u001b[0m, in \u001b[0;36mHamiltonLiquidHandler._write_and_read_command\u001b[1;34m(self, id_, cmd, write_timeout, read_timeout, wait)\u001b[0m\n\u001b[0;32m    219\u001b[0m \u001b[38;5;28mself\u001b[39m\u001b[38;5;241m.\u001b[39m_start_reading(id_, loop, fut, cmd, read_timeout)\n\u001b[1;32m--> 220\u001b[0m result \u001b[38;5;241m=\u001b[39m \u001b[38;5;28;01mawait\u001b[39;00m fut\n\u001b[0;32m    221\u001b[0m \u001b[38;5;28;01mreturn\u001b[39;00m cast(\u001b[38;5;28mstr\u001b[39m, result)\n",
      "File \u001b[1;32mc:\\Users\\vikmol\\OneDrive\\Dokumenter\\GitHub\\pylabrobot_DALSA\\pylabrobot\\liquid_handling\\backends\\hamilton\\base.py:293\u001b[0m, in \u001b[0;36mHamiltonLiquidHandler._continuously_read\u001b[1;34m(self)\u001b[0m\n\u001b[0;32m    292\u001b[0m \u001b[38;5;28;01mtry\u001b[39;00m:\n\u001b[1;32m--> 293\u001b[0m   \u001b[38;5;28;43mself\u001b[39;49m\u001b[38;5;241;43m.\u001b[39;49m\u001b[43mcheck_fw_string_error\u001b[49m\u001b[43m(\u001b[49m\u001b[43mresp\u001b[49m\u001b[43m)\u001b[49m\n\u001b[0;32m    294\u001b[0m \u001b[38;5;28;01mexcept\u001b[39;00m \u001b[38;5;167;01mException\u001b[39;00m \u001b[38;5;28;01mas\u001b[39;00m e: \u001b[38;5;66;03m# pylint: disable=broad-exception-caught\u001b[39;00m\n",
      "File \u001b[1;32mc:\\Users\\vikmol\\OneDrive\\Dokumenter\\GitHub\\pylabrobot_DALSA\\pylabrobot\\liquid_handling\\backends\\hamilton\\STAR.py:1196\u001b[0m, in \u001b[0;36mSTAR.check_fw_string_error\u001b[1;34m(self, resp)\u001b[0m\n\u001b[0;32m   1194\u001b[0m     he[module_name]\u001b[38;5;241m.\u001b[39mmessage \u001b[38;5;241m+\u001b[39m\u001b[38;5;241m=\u001b[39m \u001b[38;5;124m\"\u001b[39m\u001b[38;5;124m (call lh.backend.request_name_of_last_faulty_parameter)\u001b[39m\u001b[38;5;124m\"\u001b[39m\n\u001b[1;32m-> 1196\u001b[0m \u001b[38;5;28;01mraise\u001b[39;00m he\n",
      "\u001b[1;31mSTARFirmwareError\u001b[0m: STARFirmwareError(errors={'Pipetting channel 1': HamiltonNoTipError('No tip picked up, possibly because no was present at specified position'), 'Pipetting channel 2': HamiltonNoTipError('No tip picked up, possibly because no was present at specified position'), 'Pipetting channel 3': HamiltonNoTipError('No tip picked up, possibly because no was present at specified position'), 'Pipetting channel 4': HamiltonNoTipError('No tip picked up, possibly because no was present at specified position'), 'Pipetting channel 5': HamiltonNoTipError('No tip picked up, possibly because no was present at specified position'), 'Pipetting channel 6': HamiltonNoTipError('No tip picked up, possibly because no was present at specified position'), 'Pipetting channel 7': HamiltonNoTipError('No tip picked up, possibly because no was present at specified position'), 'Pipetting channel 8': HamiltonNoTipError('No tip picked up, possibly because no was present at specified position')}, raw_response=C0TPid0010er99/00 P108/75 P208/75 P308/75 P408/75 P508/75 P608/75 P708/75 P808/75sx279 279 279 279 279 279 279 279sg000 000 000 000 000 000 000 000)",
      "\nThe above exception was the direct cause of the following exception:\n",
      "\u001b[1;31mNoTipError\u001b[0m                                Traceback (most recent call last)",
      "Cell \u001b[1;32mIn[23], line 3\u001b[0m\n\u001b[0;32m      1\u001b[0m \u001b[38;5;28mprint\u001b[39m(start \u001b[38;5;241m-\u001b[39m end)\n\u001b[0;32m      2\u001b[0m \u001b[38;5;28mprint\u001b[39m(tip_slot[start\u001b[38;5;241m-\u001b[39m\u001b[38;5;241m1\u001b[39m:end])\n\u001b[1;32m----> 3\u001b[0m \u001b[38;5;28;01mawait\u001b[39;00m lh\u001b[38;5;241m.\u001b[39mpick_up_tips(tiprack300_1[tip_slot[start:end]])\n",
      "File \u001b[1;32mc:\\Users\\vikmol\\OneDrive\\Dokumenter\\GitHub\\pylabrobot_DALSA\\pylabrobot\\machine.py:23\u001b[0m, in \u001b[0;36mneed_setup_finished.<locals>.wrapper\u001b[1;34m(self, *args, **kwargs)\u001b[0m\n\u001b[0;32m     21\u001b[0m \u001b[38;5;28;01mif\u001b[39;00m \u001b[38;5;129;01mnot\u001b[39;00m \u001b[38;5;28mself\u001b[39m\u001b[38;5;241m.\u001b[39msetup_finished:\n\u001b[0;32m     22\u001b[0m   \u001b[38;5;28;01mraise\u001b[39;00m \u001b[38;5;167;01mRuntimeError\u001b[39;00m(\u001b[38;5;124m\"\u001b[39m\u001b[38;5;124mThe setup has not finished. See `setup`.\u001b[39m\u001b[38;5;124m\"\u001b[39m)\n\u001b[1;32m---> 23\u001b[0m \u001b[38;5;28;01mreturn\u001b[39;00m \u001b[38;5;28;01mawait\u001b[39;00m func(\u001b[38;5;28mself\u001b[39m, \u001b[38;5;241m*\u001b[39margs, \u001b[38;5;241m*\u001b[39m\u001b[38;5;241m*\u001b[39mkwargs)\n",
      "File \u001b[1;32mc:\\Users\\vikmol\\OneDrive\\Dokumenter\\GitHub\\pylabrobot_DALSA\\pylabrobot\\liquid_handling\\liquid_handler.py:387\u001b[0m, in \u001b[0;36mLiquidHandler.pick_up_tips\u001b[1;34m(self, tip_spots, use_channels, offsets, **backend_kwargs)\u001b[0m\n\u001b[0;32m    385\u001b[0m       op\u001b[38;5;241m.\u001b[39mresource\u001b[38;5;241m.\u001b[39mtracker\u001b[38;5;241m.\u001b[39mrollback()\n\u001b[0;32m    386\u001b[0m     \u001b[38;5;28mself\u001b[39m\u001b[38;5;241m.\u001b[39mhead[channel]\u001b[38;5;241m.\u001b[39mrollback()\n\u001b[1;32m--> 387\u001b[0m   \u001b[38;5;28mself\u001b[39m\u001b[38;5;241m.\u001b[39m_trigger_callback(\n\u001b[0;32m    388\u001b[0m     \u001b[38;5;124m\"\u001b[39m\u001b[38;5;124mpick_up_tips\u001b[39m\u001b[38;5;124m\"\u001b[39m,\n\u001b[0;32m    389\u001b[0m     liquid_handler\u001b[38;5;241m=\u001b[39m\u001b[38;5;28mself\u001b[39m,\n\u001b[0;32m    390\u001b[0m     operations\u001b[38;5;241m=\u001b[39mpickups,\n\u001b[0;32m    391\u001b[0m     use_channels\u001b[38;5;241m=\u001b[39muse_channels,\n\u001b[0;32m    392\u001b[0m     error\u001b[38;5;241m=\u001b[39merror,\n\u001b[0;32m    393\u001b[0m     \u001b[38;5;241m*\u001b[39m\u001b[38;5;241m*\u001b[39mbackend_kwargs,\n\u001b[0;32m    394\u001b[0m   )\n\u001b[0;32m    395\u001b[0m \u001b[38;5;28;01melse\u001b[39;00m:\n\u001b[0;32m    396\u001b[0m   \u001b[38;5;28;01mfor\u001b[39;00m channel, op \u001b[38;5;129;01min\u001b[39;00m \u001b[38;5;28mzip\u001b[39m(use_channels, pickups):\n",
      "File \u001b[1;32mc:\\Users\\vikmol\\OneDrive\\Dokumenter\\GitHub\\pylabrobot_DALSA\\pylabrobot\\liquid_handling\\liquid_handler.py:1767\u001b[0m, in \u001b[0;36mLiquidHandler._trigger_callback\u001b[1;34m(self, method_name, error, *args, **kwargs)\u001b[0m\n\u001b[0;32m   1765\u001b[0m   callback(\u001b[38;5;28mself\u001b[39m, \u001b[38;5;241m*\u001b[39margs, error\u001b[38;5;241m=\u001b[39merror, \u001b[38;5;241m*\u001b[39m\u001b[38;5;241m*\u001b[39mkwargs)\n\u001b[0;32m   1766\u001b[0m \u001b[38;5;28;01melif\u001b[39;00m error \u001b[38;5;129;01mis\u001b[39;00m \u001b[38;5;129;01mnot\u001b[39;00m \u001b[38;5;28;01mNone\u001b[39;00m:\n\u001b[1;32m-> 1767\u001b[0m   \u001b[38;5;28;01mraise\u001b[39;00m error\n",
      "File \u001b[1;32mc:\\Users\\vikmol\\OneDrive\\Dokumenter\\GitHub\\pylabrobot_DALSA\\pylabrobot\\liquid_handling\\liquid_handler.py:381\u001b[0m, in \u001b[0;36mLiquidHandler.pick_up_tips\u001b[1;34m(self, tip_spots, use_channels, offsets, **backend_kwargs)\u001b[0m\n\u001b[0;32m    378\u001b[0m   \u001b[38;5;28;01mdel\u001b[39;00m backend_kwargs[extra]\n\u001b[0;32m    380\u001b[0m \u001b[38;5;28;01mtry\u001b[39;00m:\n\u001b[1;32m--> 381\u001b[0m   \u001b[38;5;28;01mawait\u001b[39;00m \u001b[38;5;28mself\u001b[39m\u001b[38;5;241m.\u001b[39mbackend\u001b[38;5;241m.\u001b[39mpick_up_tips(ops\u001b[38;5;241m=\u001b[39mpickups, use_channels\u001b[38;5;241m=\u001b[39muse_channels, \u001b[38;5;241m*\u001b[39m\u001b[38;5;241m*\u001b[39mbackend_kwargs)\n\u001b[0;32m    382\u001b[0m \u001b[38;5;28;01mexcept\u001b[39;00m \u001b[38;5;167;01mException\u001b[39;00m \u001b[38;5;28;01mas\u001b[39;00m error:  \u001b[38;5;66;03m# pylint: disable=broad-except\u001b[39;00m\n\u001b[0;32m    383\u001b[0m   \u001b[38;5;28;01mfor\u001b[39;00m channel, op \u001b[38;5;129;01min\u001b[39;00m \u001b[38;5;28mzip\u001b[39m(use_channels, pickups):\n",
      "File \u001b[1;32mc:\\Users\\vikmol\\OneDrive\\Dokumenter\\GitHub\\pylabrobot_DALSA\\pylabrobot\\liquid_handling\\backends\\hamilton\\STAR.py:62\u001b[0m, in \u001b[0;36mneed_iswap_parked.<locals>.wrapper\u001b[1;34m(self, *args, **kwargs)\u001b[0m\n\u001b[0;32m     58\u001b[0m \u001b[38;5;28;01mif\u001b[39;00m \u001b[38;5;28mself\u001b[39m\u001b[38;5;241m.\u001b[39miswap_installed \u001b[38;5;129;01mand\u001b[39;00m \u001b[38;5;129;01mnot\u001b[39;00m \u001b[38;5;28mself\u001b[39m\u001b[38;5;241m.\u001b[39miswap_parked:\n\u001b[0;32m     59\u001b[0m   \u001b[38;5;28;01mawait\u001b[39;00m \u001b[38;5;28mself\u001b[39m\u001b[38;5;241m.\u001b[39mpark_iswap(minimum_traverse_height_at_beginning_of_a_command\u001b[38;5;241m=\u001b[39m\n\u001b[0;32m     60\u001b[0m                         \u001b[38;5;28mint\u001b[39m(\u001b[38;5;28mself\u001b[39m\u001b[38;5;241m.\u001b[39m_traversal_height \u001b[38;5;241m*\u001b[39m \u001b[38;5;241m10\u001b[39m)) \u001b[38;5;66;03m# pylint: disable=protected-access\u001b[39;00m\n\u001b[1;32m---> 62\u001b[0m result \u001b[38;5;241m=\u001b[39m \u001b[38;5;28;01mawait\u001b[39;00m method(\u001b[38;5;28mself\u001b[39m, \u001b[38;5;241m*\u001b[39margs, \u001b[38;5;241m*\u001b[39m\u001b[38;5;241m*\u001b[39mkwargs) \u001b[38;5;66;03m# pylint: disable=not-callable\u001b[39;00m\n\u001b[0;32m     64\u001b[0m \u001b[38;5;28;01mreturn\u001b[39;00m result\n",
      "File \u001b[1;32mc:\\Users\\vikmol\\OneDrive\\Dokumenter\\GitHub\\pylabrobot_DALSA\\pylabrobot\\liquid_handling\\backends\\hamilton\\STAR.py:1332\u001b[0m, in \u001b[0;36mSTAR.pick_up_tips\u001b[1;34m(self, ops, use_channels)\u001b[0m\n\u001b[0;32m   1329\u001b[0m   \u001b[38;5;28;01mraise\u001b[39;00m HasTipError(\u001b[38;5;124mf\u001b[39m\u001b[38;5;124m\"\u001b[39m\u001b[38;5;124mTip already fitted on channels \u001b[39m\u001b[38;5;132;01m{\u001b[39;00mtip_already_fitted_errors\u001b[38;5;132;01m}\u001b[39;00m\u001b[38;5;124m\"\u001b[39m) \\\n\u001b[0;32m   1330\u001b[0m     \u001b[38;5;28;01mfrom\u001b[39;00m \u001b[38;5;21;01me\u001b[39;00m\n\u001b[0;32m   1331\u001b[0m \u001b[38;5;28;01melif\u001b[39;00m \u001b[38;5;28mlen\u001b[39m(no_tip_present_errors) \u001b[38;5;241m>\u001b[39m \u001b[38;5;241m0\u001b[39m:\n\u001b[1;32m-> 1332\u001b[0m   \u001b[38;5;28;01mraise\u001b[39;00m NoTipError(\u001b[38;5;124m\"\u001b[39m\u001b[38;5;124mNo tip present in locations for channels \u001b[39m\u001b[38;5;124m\"\u001b[39m\n\u001b[0;32m   1333\u001b[0m                             \u001b[38;5;124mf\u001b[39m\u001b[38;5;124m\"\u001b[39m\u001b[38;5;132;01m{\u001b[39;00mno_tip_present_errors\u001b[38;5;132;01m}\u001b[39;00m\u001b[38;5;124m\"\u001b[39m) \u001b[38;5;28;01mfrom\u001b[39;00m \u001b[38;5;21;01me\u001b[39;00m\n\u001b[0;32m   1335\u001b[0m \u001b[38;5;28;01mraise\u001b[39;00m e\n",
      "\u001b[1;31mNoTipError\u001b[0m: No tip present in locations for channels [0, 1, 2, 3, 4, 5, 6, 7]"
     ]
    }
   ],
   "source": [
    "# why is it using tiprack300_2 and not _1?? Why is it not using row A1-H1??\n",
    "\n",
    "print(start - end)\n",
    "print(tip_slot[start-1:end])\n",
    "await lh.pick_up_tips(tiprack300_1[tip_slot[start:end]])"
   ]
  },
  {
   "cell_type": "code",
   "execution_count": 129,
   "metadata": {},
   "outputs": [
    {
     "name": "stdout",
     "output_type": "stream",
     "text": [
      "Aspirating [Aspiration(resource=Well(name=source_2_well_0_1, location=(010.570, 062.070, 001.000), size_x=6.86, size_y=6.86, size_z=10.67, category=well), offset=None, tip=HamiltonTip(STANDARD_VOLUME, has_filter=False, maximal_volume=65, fitting_depth=8, total_tip_length=50.4, pickup_method=OUT_OF_RACK), volume=100.0, flow_rate=None, liquid_height=None, blow_out_air_volume=None, liquids=[(None, 100.0)])].\n"
     ]
    }
   ],
   "source": []
  },
  {
   "cell_type": "code",
   "execution_count": 131,
   "metadata": {},
   "outputs": [
    {
     "name": "stdout",
     "output_type": "stream",
     "text": [
      "Aspirating [Aspiration(resource=Well(name=source_1_well_4_0, location=(046.570, 071.070, 001.000), size_x=6.86, size_y=6.86, size_z=10.67, category=well), offset=None, tip=HamiltonTip(STANDARD_VOLUME, has_filter=False, maximal_volume=65, fitting_depth=8, total_tip_length=50.4, pickup_method=OUT_OF_RACK), volume=100.0, flow_rate=None, liquid_height=None, blow_out_air_volume=None, liquids=[(None, 100.0)])].\n",
      "Aspirating [Aspiration(resource=Well(name=source_1_well_4_1, location=(046.570, 062.070, 001.000), size_x=6.86, size_y=6.86, size_z=10.67, category=well), offset=None, tip=HamiltonTip(STANDARD_VOLUME, has_filter=False, maximal_volume=65, fitting_depth=8, total_tip_length=50.4, pickup_method=OUT_OF_RACK), volume=100.0, flow_rate=None, liquid_height=None, blow_out_air_volume=None, liquids=[(None, 100.0)])].\n",
      "Aspirating [Aspiration(resource=Well(name=source_1_well_4_2, location=(046.570, 053.070, 001.000), size_x=6.86, size_y=6.86, size_z=10.67, category=well), offset=None, tip=HamiltonTip(STANDARD_VOLUME, has_filter=False, maximal_volume=65, fitting_depth=8, total_tip_length=50.4, pickup_method=OUT_OF_RACK), volume=100.0, flow_rate=None, liquid_height=None, blow_out_air_volume=None, liquids=[(None, 100.0)])].\n",
      "Aspirating [Aspiration(resource=Well(name=source_1_well_4_3, location=(046.570, 044.070, 001.000), size_x=6.86, size_y=6.86, size_z=10.67, category=well), offset=None, tip=HamiltonTip(STANDARD_VOLUME, has_filter=False, maximal_volume=65, fitting_depth=8, total_tip_length=50.4, pickup_method=OUT_OF_RACK), volume=100.0, flow_rate=None, liquid_height=None, blow_out_air_volume=None, liquids=[(None, 100.0)])].\n",
      "Aspirating [Aspiration(resource=Well(name=source_1_well_4_4, location=(046.570, 035.070, 001.000), size_x=6.86, size_y=6.86, size_z=10.67, category=well), offset=None, tip=HamiltonTip(STANDARD_VOLUME, has_filter=False, maximal_volume=65, fitting_depth=8, total_tip_length=50.4, pickup_method=OUT_OF_RACK), volume=100.0, flow_rate=None, liquid_height=None, blow_out_air_volume=None, liquids=[(None, 100.0)])].\n",
      "Aspirating [Aspiration(resource=Well(name=source_1_well_4_5, location=(046.570, 026.070, 001.000), size_x=6.86, size_y=6.86, size_z=10.67, category=well), offset=None, tip=HamiltonTip(STANDARD_VOLUME, has_filter=False, maximal_volume=65, fitting_depth=8, total_tip_length=50.4, pickup_method=OUT_OF_RACK), volume=100.0, flow_rate=None, liquid_height=None, blow_out_air_volume=None, liquids=[(None, 100.0)])].\n",
      "Aspirating [Aspiration(resource=Well(name=source_2_well_0_0, location=(010.570, 071.070, 001.000), size_x=6.86, size_y=6.86, size_z=10.67, category=well), offset=None, tip=HamiltonTip(STANDARD_VOLUME, has_filter=False, maximal_volume=65, fitting_depth=8, total_tip_length=50.4, pickup_method=OUT_OF_RACK), volume=100.0, flow_rate=None, liquid_height=None, blow_out_air_volume=None, liquids=[(None, 100.0)])].\n",
      "Aspirating [Aspiration(resource=Well(name=source_2_well_0_1, location=(010.570, 062.070, 001.000), size_x=6.86, size_y=6.86, size_z=10.67, category=well), offset=None, tip=HamiltonTip(STANDARD_VOLUME, has_filter=False, maximal_volume=65, fitting_depth=8, total_tip_length=50.4, pickup_method=OUT_OF_RACK), volume=100.0, flow_rate=None, liquid_height=None, blow_out_air_volume=None, liquids=[(None, 100.0)])].\n"
     ]
    }
   ],
   "source": [
    "\n",
    "if all_elements_same(source_plates[start:end]):\n",
    "  source_plate = source_plates[0]\n",
    "  await lh.aspirate(source_plate[source_wells[start:end]], vols=volumes[start:end])#, swap_speed=100, homogenization_speed=1000)\n",
    "else:\n",
    "  # aspirate one at a time\n",
    "  for i in range(start, end):\n",
    "    channel = i - start\n",
    "    source_plate = source_plates[i]\n",
    "    await lh.aspirate(source_plate[source_wells[i]], vols=volumes[i], use_channels=[channel])"
   ]
  },
  {
   "cell_type": "code",
   "execution_count": 132,
   "metadata": {},
   "outputs": [
    {
     "name": "stdout",
     "output_type": "stream",
     "text": [
      "Dispensing [Dispense(resource=Well(name=dist1_well_4_0, location=(046.570, 071.070, 001.000), size_x=6.86, size_y=6.86, size_z=10.67, category=well), offset=None, tip=HamiltonTip(STANDARD_VOLUME, has_filter=False, maximal_volume=65, fitting_depth=8, total_tip_length=50.4, pickup_method=OUT_OF_RACK), volume=100.0, flow_rate=None, liquid_height=None, blow_out_air_volume=None, liquids=[(None, 100.0)]), Dispense(resource=Well(name=dist1_well_4_1, location=(046.570, 062.070, 001.000), size_x=6.86, size_y=6.86, size_z=10.67, category=well), offset=None, tip=HamiltonTip(STANDARD_VOLUME, has_filter=False, maximal_volume=65, fitting_depth=8, total_tip_length=50.4, pickup_method=OUT_OF_RACK), volume=100.0, flow_rate=None, liquid_height=None, blow_out_air_volume=None, liquids=[(None, 100.0)]), Dispense(resource=Well(name=dist1_well_4_2, location=(046.570, 053.070, 001.000), size_x=6.86, size_y=6.86, size_z=10.67, category=well), offset=None, tip=HamiltonTip(STANDARD_VOLUME, has_filter=False, maximal_volume=65, fitting_depth=8, total_tip_length=50.4, pickup_method=OUT_OF_RACK), volume=100.0, flow_rate=None, liquid_height=None, blow_out_air_volume=None, liquids=[(None, 100.0)]), Dispense(resource=Well(name=dist1_well_4_3, location=(046.570, 044.070, 001.000), size_x=6.86, size_y=6.86, size_z=10.67, category=well), offset=None, tip=HamiltonTip(STANDARD_VOLUME, has_filter=False, maximal_volume=65, fitting_depth=8, total_tip_length=50.4, pickup_method=OUT_OF_RACK), volume=100.0, flow_rate=None, liquid_height=None, blow_out_air_volume=None, liquids=[(None, 100.0)]), Dispense(resource=Well(name=dist1_well_4_4, location=(046.570, 035.070, 001.000), size_x=6.86, size_y=6.86, size_z=10.67, category=well), offset=None, tip=HamiltonTip(STANDARD_VOLUME, has_filter=False, maximal_volume=65, fitting_depth=8, total_tip_length=50.4, pickup_method=OUT_OF_RACK), volume=100.0, flow_rate=None, liquid_height=None, blow_out_air_volume=None, liquids=[(None, 100.0)]), Dispense(resource=Well(name=dist1_well_4_5, location=(046.570, 026.070, 001.000), size_x=6.86, size_y=6.86, size_z=10.67, category=well), offset=None, tip=HamiltonTip(STANDARD_VOLUME, has_filter=False, maximal_volume=65, fitting_depth=8, total_tip_length=50.4, pickup_method=OUT_OF_RACK), volume=100.0, flow_rate=None, liquid_height=None, blow_out_air_volume=None, liquids=[(None, 100.0)]), Dispense(resource=Well(name=dist1_well_4_6, location=(046.570, 017.070, 001.000), size_x=6.86, size_y=6.86, size_z=10.67, category=well), offset=None, tip=HamiltonTip(STANDARD_VOLUME, has_filter=False, maximal_volume=65, fitting_depth=8, total_tip_length=50.4, pickup_method=OUT_OF_RACK), volume=100.0, flow_rate=None, liquid_height=None, blow_out_air_volume=None, liquids=[(None, 100.0)]), Dispense(resource=Well(name=dist1_well_4_7, location=(046.570, 008.070, 001.000), size_x=6.86, size_y=6.86, size_z=10.67, category=well), offset=None, tip=HamiltonTip(STANDARD_VOLUME, has_filter=False, maximal_volume=65, fitting_depth=8, total_tip_length=50.4, pickup_method=OUT_OF_RACK), volume=100.0, flow_rate=None, liquid_height=None, blow_out_air_volume=None, liquids=[(None, 100.0)])].\n"
     ]
    }
   ],
   "source": [
    "if all_elements_same(dist_plates[start:end]):\n",
    "  dist1 = dist_plates[0]\n",
    "  await lh.dispense(dist1[dist_wells[start:end]], vols=volumes[start:end])#, swap_speed=100, homogenization_speed=1000, mix_speed=1000)\n",
    "else:\n",
    "  # dispense one at a time\n",
    "  for i in range(start, end):\n",
    "    channel = i - start\n",
    "    dist1 = dist_plates[i]\n",
    "    await lh.dispense(dist1[dist_wells[i]], vols=volumes[i], use_channels=[channel])\n",
    "\n"
   ]
  },
  {
   "cell_type": "code",
   "execution_count": 133,
   "metadata": {},
   "outputs": [
    {
     "name": "stdout",
     "output_type": "stream",
     "text": [
      "Dropping tips [Drop(resource=TipSpot(name=tips_01_tipspot_4_0, location=(043.200, 068.300, -40.500), size_x=9.0, size_y=9.0, size_z=0, category=tip_spot), offset=None, tip=HamiltonTip(STANDARD_VOLUME, has_filter=False, maximal_volume=65, fitting_depth=8, total_tip_length=50.4, pickup_method=OUT_OF_RACK)), Drop(resource=TipSpot(name=tips_01_tipspot_4_1, location=(043.200, 059.300, -40.500), size_x=9.0, size_y=9.0, size_z=0, category=tip_spot), offset=None, tip=HamiltonTip(STANDARD_VOLUME, has_filter=False, maximal_volume=65, fitting_depth=8, total_tip_length=50.4, pickup_method=OUT_OF_RACK)), Drop(resource=TipSpot(name=tips_01_tipspot_4_2, location=(043.200, 050.300, -40.500), size_x=9.0, size_y=9.0, size_z=0, category=tip_spot), offset=None, tip=HamiltonTip(STANDARD_VOLUME, has_filter=False, maximal_volume=65, fitting_depth=8, total_tip_length=50.4, pickup_method=OUT_OF_RACK)), Drop(resource=TipSpot(name=tips_01_tipspot_4_3, location=(043.200, 041.300, -40.500), size_x=9.0, size_y=9.0, size_z=0, category=tip_spot), offset=None, tip=HamiltonTip(STANDARD_VOLUME, has_filter=False, maximal_volume=65, fitting_depth=8, total_tip_length=50.4, pickup_method=OUT_OF_RACK)), Drop(resource=TipSpot(name=tips_01_tipspot_4_4, location=(043.200, 032.300, -40.500), size_x=9.0, size_y=9.0, size_z=0, category=tip_spot), offset=None, tip=HamiltonTip(STANDARD_VOLUME, has_filter=False, maximal_volume=65, fitting_depth=8, total_tip_length=50.4, pickup_method=OUT_OF_RACK)), Drop(resource=TipSpot(name=tips_01_tipspot_4_5, location=(043.200, 023.300, -40.500), size_x=9.0, size_y=9.0, size_z=0, category=tip_spot), offset=None, tip=HamiltonTip(STANDARD_VOLUME, has_filter=False, maximal_volume=65, fitting_depth=8, total_tip_length=50.4, pickup_method=OUT_OF_RACK)), Drop(resource=TipSpot(name=tips_01_tipspot_4_6, location=(043.200, 014.300, -40.500), size_x=9.0, size_y=9.0, size_z=0, category=tip_spot), offset=None, tip=HamiltonTip(STANDARD_VOLUME, has_filter=False, maximal_volume=65, fitting_depth=8, total_tip_length=50.4, pickup_method=OUT_OF_RACK)), Drop(resource=TipSpot(name=tips_01_tipspot_4_7, location=(043.200, 005.300, -40.500), size_x=9.0, size_y=9.0, size_z=0, category=tip_spot), offset=None, tip=HamiltonTip(STANDARD_VOLUME, has_filter=False, maximal_volume=65, fitting_depth=8, total_tip_length=50.4, pickup_method=OUT_OF_RACK))].\n"
     ]
    }
   ],
   "source": [
    "await lh.drop_tips(tiprack300_1[tip_slot[start:end]])"
   ]
  },
  {
   "cell_type": "code",
   "execution_count": null,
   "metadata": {},
   "outputs": [
    {
     "name": "stdout",
     "output_type": "stream",
     "text": [
      "Rail     Resource                   Type                Coordinates (mm)\n",
      "==============================================================================================\n",
      "(-13) ├── trash_core96               Trash               (-232.100, 110.300, 189.000)\n",
      "      │\n",
      "(0)   ├── my_shaker_carrier          ShakerCarrier       (077.500, 063.000, 100.000)\n",
      "      │   ├── <empty>\n",
      "      │   ├── <empty>\n",
      "      │   ├── <empty>\n",
      "      │   ├── <empty>\n",
      "      │   ├── <empty>\n",
      "      │\n",
      "(7)   ├── tip_carrier                TipCarrier          (235.000, 063.000, 100.000)\n",
      "      │   ├── <empty>\n",
      "      │   ├── tip01                  TipRack             (252.900, 241.800, 174.450)\n",
      "      │   ├── tip02                  TipRack             (252.900, 337.800, 174.450)\n",
      "      │   ├── <empty>\n",
      "      │   ├── <empty>\n",
      "      │\n",
      "(13)  ├── my_mfx_carrier             MFXCarrier          (370.000, 063.000, 100.000)\n",
      "      │   ├── <empty>\n",
      "      │   ├── <empty>\n",
      "      │   ├── <empty>\n",
      "      │   ├── <empty>\n",
      "      │   ├── <empty>\n",
      "      │\n",
      "(19)  ├── my_RGT_CAR_3R_A01_1        TubeCarrier         (505.000, 063.000, 100.000)\n",
      "      │   ├── <empty>\n",
      "      │   ├── <empty>\n",
      "      │   ├── <empty>\n",
      "      │\n",
      "(20)  ├── my_RGT_CAR_3R_A01_2        TubeCarrier         (527.500, 063.000, 100.000)\n",
      "      │   ├── <empty>\n",
      "      │   ├── <empty>\n",
      "      │   ├── <empty>\n",
      "      │\n",
      "(21)  ├── my_RGT_CAR_5R_A00          TubeCarrier         (550.000, 063.000, 100.000)\n",
      "      │   ├── <empty>\n",
      "      │   ├── <empty>\n",
      "      │   ├── <empty>\n",
      "      │   ├── <empty>\n",
      "      │   ├── <empty>\n",
      "      │\n",
      "(27)  ├── PLT_CAR_L5AC_1             PlateCarrier        (685.000, 063.000, 100.000)\n",
      "      │   ├── <empty>\n",
      "      │   ├── <empty>\n",
      "      │   ├── <empty>\n",
      "      │   ├── plt01                  Plate               (703.000, 434.000, 187.150)\n",
      "      │   ├── plt02                  Plate               (703.000, 530.000, 187.150)\n",
      "      │\n",
      "(33)  ├── PLT_CAR_L5AC_2             PlateCarrier        (820.000, 063.000, 100.000)\n",
      "      │   ├── <empty>\n",
      "      │   ├── <empty>\n",
      "      │   ├── <empty>\n",
      "      │   ├── <empty>\n",
      "      │   ├── <empty>\n",
      "      │\n",
      "(43)  ├── my_cooler_carrier_1        PlateCarrier        (1045.000, 063.000, 100.000)\n",
      "      │   ├── <empty>\n",
      "      │   ├── <empty>\n",
      "      │   ├── <empty>\n",
      "      │   ├── <empty>\n",
      "      │   ├── <empty>\n",
      "      │\n",
      "(49)  ├── my_cooler_carrier_2        PlateCarrier        (1180.000, 063.000, 100.000)\n",
      "      │   ├── <empty>\n",
      "      │   ├── <empty>\n",
      "      │   ├── <empty>\n",
      "      │   ├── <empty>\n",
      "      │   ├── <empty>\n",
      "      │\n",
      "(56)  ├── trash                      Trash               (1340.000, 190.600, 137.100)\n",
      "\n"
     ]
    }
   ],
   "source": [
    "print(lh.deck.summary())"
   ]
  },
  {
   "cell_type": "markdown",
   "metadata": {},
   "source": [
    "# Shutdown"
   ]
  },
  {
   "cell_type": "code",
   "execution_count": 40,
   "metadata": {},
   "outputs": [
    {
     "name": "stderr",
     "output_type": "stream",
     "text": [
      "WARNING:root:Closing connection to USB device.\n"
     ]
    }
   ],
   "source": [
    "await lh.stop()"
   ]
  },
  {
   "cell_type": "markdown",
   "metadata": {},
   "source": [
    "# Test LLD = Off"
   ]
  },
  {
   "cell_type": "code",
   "execution_count": 16,
   "metadata": {},
   "outputs": [],
   "source": [
    "await lh.pick_up_tips(tiprack300_1['A1'])"
   ]
  },
  {
   "cell_type": "code",
   "execution_count": 18,
   "metadata": {},
   "outputs": [
    {
     "ename": "ChannelizedError",
     "evalue": "ChannelizedError(errors={0: AspirationError('Liquid not correctly aspirated')}, raw_response=C0ASid0011er99/00 P117/80)",
     "output_type": "error",
     "traceback": [
      "\u001b[1;31m---------------------------------------------------------------------------\u001b[0m",
      "\u001b[1;31mSTARFirmwareError\u001b[0m                         Traceback (most recent call last)",
      "File \u001b[1;32mc:\\Users\\vikmol\\OneDrive\\Dokumenter\\GitHub\\pylabrobot_DALSA\\pylabrobot\\liquid_handling\\backends\\hamilton\\STAR.py:1611\u001b[0m, in \u001b[0;36mSTAR.aspirate\u001b[1;34m(self, ops, use_channels, jet, blow_out, lld_search_height, clot_detection_height, pull_out_distance_transport_air, second_section_height, second_section_ratio, minimum_height, immersion_depth, immersion_depth_direction, surface_following_distance, transport_air_volume, pre_wetting_volume, lld_mode, gamma_lld_sensitivity, dp_lld_sensitivity, aspirate_position_above_z_touch_off, detection_height_difference_for_dual_lld, swap_speed, settling_time, homogenization_volume, homogenization_cycles, homogenization_position_from_liquid_surface, homogenization_speed, homogenization_surface_following_distance, limit_curve_index, use_2nd_section_aspiration, retract_height_over_2nd_section_to_empty_tip, dispensation_speed_during_emptying_tip, dosing_drive_speed_during_2nd_section_search, z_drive_speed_during_2nd_section_search, cup_upper_edge, ratio_liquid_rise_to_tip_deep_in, immersion_depth_2nd_section, minimum_traverse_height_at_beginning_of_a_command, min_z_endpos, hamilton_liquid_classes)\u001b[0m\n\u001b[0;32m   1610\u001b[0m \u001b[38;5;28;01mtry\u001b[39;00m:\n\u001b[1;32m-> 1611\u001b[0m   \u001b[38;5;28;01mreturn\u001b[39;00m \u001b[38;5;28;01mawait\u001b[39;00m \u001b[38;5;28mself\u001b[39m\u001b[38;5;241m.\u001b[39maspirate_pip(\n\u001b[0;32m   1612\u001b[0m     aspiration_type\u001b[38;5;241m=\u001b[39m[\u001b[38;5;241m0\u001b[39m \u001b[38;5;28;01mfor\u001b[39;00m _ \u001b[38;5;129;01min\u001b[39;00m \u001b[38;5;28mrange\u001b[39m(n)],\n\u001b[0;32m   1613\u001b[0m     tip_pattern\u001b[38;5;241m=\u001b[39mchannels_involved,\n\u001b[0;32m   1614\u001b[0m     x_positions\u001b[38;5;241m=\u001b[39mx_positions,\n\u001b[0;32m   1615\u001b[0m     y_positions\u001b[38;5;241m=\u001b[39my_positions,\n\u001b[0;32m   1616\u001b[0m \n\u001b[0;32m   1617\u001b[0m     aspiration_volumes\u001b[38;5;241m=\u001b[39maspiration_volumes,\n\u001b[0;32m   1618\u001b[0m     lld_search_height\u001b[38;5;241m=\u001b[39mlld_search_height,\n\u001b[0;32m   1619\u001b[0m     clot_detection_height\u001b[38;5;241m=\u001b[39mclot_detection_height,\n\u001b[0;32m   1620\u001b[0m     liquid_surface_no_lld\u001b[38;5;241m=\u001b[39m[\u001b[38;5;28mint\u001b[39m(ls \u001b[38;5;241m*\u001b[39m \u001b[38;5;241m10\u001b[39m) \u001b[38;5;28;01mfor\u001b[39;00m ls \u001b[38;5;129;01min\u001b[39;00m liquid_surfaces_no_lld],\n\u001b[0;32m   1621\u001b[0m     pull_out_distance_transport_air\u001b[38;5;241m=\u001b[39mpull_out_distance_transport_air,\n\u001b[0;32m   1622\u001b[0m     second_section_height\u001b[38;5;241m=\u001b[39msecond_section_height,\n\u001b[0;32m   1623\u001b[0m     second_section_ratio\u001b[38;5;241m=\u001b[39msecond_section_ratio,\n\u001b[0;32m   1624\u001b[0m     minimum_height\u001b[38;5;241m=\u001b[39mminimum_height,\n\u001b[0;32m   1625\u001b[0m     immersion_depth\u001b[38;5;241m=\u001b[39mimmersion_depth,\n\u001b[0;32m   1626\u001b[0m     immersion_depth_direction\u001b[38;5;241m=\u001b[39mimmersion_depth_direction,\n\u001b[0;32m   1627\u001b[0m     surface_following_distance\u001b[38;5;241m=\u001b[39msurface_following_distance,\n\u001b[0;32m   1628\u001b[0m     aspiration_speed\u001b[38;5;241m=\u001b[39maspiration_speed,\n\u001b[0;32m   1629\u001b[0m     transport_air_volume\u001b[38;5;241m=\u001b[39mtransport_air_volume,\n\u001b[0;32m   1630\u001b[0m     blow_out_air_volume\u001b[38;5;241m=\u001b[39mblow_out_air_volumes,\n\u001b[0;32m   1631\u001b[0m     pre_wetting_volume\u001b[38;5;241m=\u001b[39mpre_wetting_volume,\n\u001b[0;32m   1632\u001b[0m     lld_mode\u001b[38;5;241m=\u001b[39m[mode\u001b[38;5;241m.\u001b[39mvalue \u001b[38;5;28;01mfor\u001b[39;00m mode \u001b[38;5;129;01min\u001b[39;00m lld_mode],\n\u001b[0;32m   1633\u001b[0m     gamma_lld_sensitivity\u001b[38;5;241m=\u001b[39mgamma_lld_sensitivity,\n\u001b[0;32m   1634\u001b[0m     dp_lld_sensitivity\u001b[38;5;241m=\u001b[39mdp_lld_sensitivity,\n\u001b[0;32m   1635\u001b[0m     aspirate_position_above_z_touch_off\u001b[38;5;241m=\u001b[39maspirate_position_above_z_touch_off,\n\u001b[0;32m   1636\u001b[0m     detection_height_difference_for_dual_lld\u001b[38;5;241m=\u001b[39mdetection_height_difference_for_dual_lld,\n\u001b[0;32m   1637\u001b[0m     swap_speed\u001b[38;5;241m=\u001b[39mswap_speed,\n\u001b[0;32m   1638\u001b[0m     settling_time\u001b[38;5;241m=\u001b[39msettling_time,\n\u001b[0;32m   1639\u001b[0m     homogenization_volume\u001b[38;5;241m=\u001b[39mhomogenization_volume,\n\u001b[0;32m   1640\u001b[0m     homogenization_cycles\u001b[38;5;241m=\u001b[39mhomogenization_cycles,\n\u001b[0;32m   1641\u001b[0m     homogenization_position_from_liquid_surface\u001b[38;5;241m=\u001b[39mhomogenization_position_from_liquid_surface,\n\u001b[0;32m   1642\u001b[0m     homogenization_speed\u001b[38;5;241m=\u001b[39mhomogenization_speed,\n\u001b[0;32m   1643\u001b[0m     homogenization_surface_following_distance\u001b[38;5;241m=\u001b[39mhomogenization_surface_following_distance,\n\u001b[0;32m   1644\u001b[0m     limit_curve_index\u001b[38;5;241m=\u001b[39mlimit_curve_index,\n\u001b[0;32m   1645\u001b[0m \n\u001b[0;32m   1646\u001b[0m     use_2nd_section_aspiration\u001b[38;5;241m=\u001b[39muse_2nd_section_aspiration,\n\u001b[0;32m   1647\u001b[0m     retract_height_over_2nd_section_to_empty_tip\u001b[38;5;241m=\u001b[39mretract_height_over_2nd_section_to_empty_tip,\n\u001b[0;32m   1648\u001b[0m     dispensation_speed_during_emptying_tip\u001b[38;5;241m=\u001b[39mdispensation_speed_during_emptying_tip,\n\u001b[0;32m   1649\u001b[0m     dosing_drive_speed_during_2nd_section_search\u001b[38;5;241m=\u001b[39mdosing_drive_speed_during_2nd_section_search,\n\u001b[0;32m   1650\u001b[0m     z_drive_speed_during_2nd_section_search\u001b[38;5;241m=\u001b[39mz_drive_speed_during_2nd_section_search,\n\u001b[0;32m   1651\u001b[0m     cup_upper_edge\u001b[38;5;241m=\u001b[39mcup_upper_edge,\n\u001b[0;32m   1652\u001b[0m     ratio_liquid_rise_to_tip_deep_in\u001b[38;5;241m=\u001b[39mratio_liquid_rise_to_tip_deep_in,\n\u001b[0;32m   1653\u001b[0m     immersion_depth_2nd_section\u001b[38;5;241m=\u001b[39mimmersion_depth_2nd_section,\n\u001b[0;32m   1654\u001b[0m \n\u001b[0;32m   1655\u001b[0m     minimum_traverse_height_at_beginning_of_a_command\u001b[38;5;241m=\u001b[39m\\\n\u001b[0;32m   1656\u001b[0m       minimum_traverse_height_at_beginning_of_a_command \u001b[38;5;129;01mor\u001b[39;00m \u001b[38;5;28mint\u001b[39m(\u001b[38;5;28mself\u001b[39m\u001b[38;5;241m.\u001b[39m_traversal_height \u001b[38;5;241m*\u001b[39m \u001b[38;5;241m10\u001b[39m),\n\u001b[0;32m   1657\u001b[0m     min_z_endpos\u001b[38;5;241m=\u001b[39mmin_z_endpos \u001b[38;5;129;01mor\u001b[39;00m \u001b[38;5;28mint\u001b[39m(\u001b[38;5;28mself\u001b[39m\u001b[38;5;241m.\u001b[39m_traversal_height \u001b[38;5;241m*\u001b[39m \u001b[38;5;241m10\u001b[39m),\n\u001b[0;32m   1658\u001b[0m   )\n\u001b[0;32m   1659\u001b[0m \u001b[38;5;28;01mexcept\u001b[39;00m STARFirmwareError \u001b[38;5;28;01mas\u001b[39;00m e:\n",
      "File \u001b[1;32mc:\\Users\\vikmol\\OneDrive\\Dokumenter\\GitHub\\pylabrobot_DALSA\\pylabrobot\\liquid_handling\\backends\\hamilton\\STAR.py:59\u001b[0m, in \u001b[0;36mneed_iswap_parked.<locals>.wrapper\u001b[1;34m(self, *args, **kwargs)\u001b[0m\n\u001b[0;32m     56\u001b[0m   \u001b[38;5;28;01mawait\u001b[39;00m \u001b[38;5;28mself\u001b[39m\u001b[38;5;241m.\u001b[39mpark_iswap(minimum_traverse_height_at_beginning_of_a_command\u001b[38;5;241m=\u001b[39m\n\u001b[0;32m     57\u001b[0m                         \u001b[38;5;28mint\u001b[39m(\u001b[38;5;28mself\u001b[39m\u001b[38;5;241m.\u001b[39m_traversal_height \u001b[38;5;241m*\u001b[39m \u001b[38;5;241m10\u001b[39m)) \u001b[38;5;66;03m# pylint: disable=protected-access\u001b[39;00m\n\u001b[1;32m---> 59\u001b[0m result \u001b[38;5;241m=\u001b[39m \u001b[38;5;28;01mawait\u001b[39;00m method(\u001b[38;5;28mself\u001b[39m, \u001b[38;5;241m*\u001b[39margs, \u001b[38;5;241m*\u001b[39m\u001b[38;5;241m*\u001b[39mkwargs) \u001b[38;5;66;03m# pylint: disable=not-callable\u001b[39;00m\n\u001b[0;32m     61\u001b[0m \u001b[38;5;28;01mreturn\u001b[39;00m result\n",
      "File \u001b[1;32mc:\\Users\\vikmol\\OneDrive\\Dokumenter\\GitHub\\pylabrobot_DALSA\\pylabrobot\\liquid_handling\\backends\\hamilton\\STAR.py:3773\u001b[0m, in \u001b[0;36mSTAR.aspirate_pip\u001b[1;34m(self, aspiration_type, tip_pattern, x_positions, y_positions, minimum_traverse_height_at_beginning_of_a_command, min_z_endpos, lld_search_height, clot_detection_height, liquid_surface_no_lld, pull_out_distance_transport_air, second_section_height, second_section_ratio, minimum_height, immersion_depth, immersion_depth_direction, surface_following_distance, aspiration_volumes, aspiration_speed, transport_air_volume, blow_out_air_volume, pre_wetting_volume, lld_mode, gamma_lld_sensitivity, dp_lld_sensitivity, aspirate_position_above_z_touch_off, detection_height_difference_for_dual_lld, swap_speed, settling_time, homogenization_volume, homogenization_cycles, homogenization_position_from_liquid_surface, homogenization_speed, homogenization_surface_following_distance, limit_curve_index, tadm_algorithm, recording_mode, use_2nd_section_aspiration, retract_height_over_2nd_section_to_empty_tip, dispensation_speed_during_emptying_tip, dosing_drive_speed_during_2nd_section_search, z_drive_speed_during_2nd_section_search, cup_upper_edge, ratio_liquid_rise_to_tip_deep_in, immersion_depth_2nd_section)\u001b[0m\n\u001b[0;32m   3770\u001b[0m \u001b[38;5;28;01massert\u001b[39;00m \u001b[38;5;28mall\u001b[39m(\u001b[38;5;241m0\u001b[39m \u001b[38;5;241m<\u001b[39m\u001b[38;5;241m=\u001b[39m x \u001b[38;5;241m<\u001b[39m\u001b[38;5;241m=\u001b[39m \u001b[38;5;241m3600\u001b[39m \u001b[38;5;28;01mfor\u001b[39;00m x \u001b[38;5;129;01min\u001b[39;00m immersion_depth_2nd_section), \\\n\u001b[0;32m   3771\u001b[0m   \u001b[38;5;124m\"\u001b[39m\u001b[38;5;124mimmersion_depth_2nd_section must be between 0 and 3600\u001b[39m\u001b[38;5;124m\"\u001b[39m\n\u001b[1;32m-> 3773\u001b[0m \u001b[38;5;28;01mreturn\u001b[39;00m \u001b[38;5;28;01mawait\u001b[39;00m \u001b[38;5;28mself\u001b[39m\u001b[38;5;241m.\u001b[39msend_command(\n\u001b[0;32m   3774\u001b[0m   module\u001b[38;5;241m=\u001b[39m\u001b[38;5;124m\"\u001b[39m\u001b[38;5;124mC0\u001b[39m\u001b[38;5;124m\"\u001b[39m,\n\u001b[0;32m   3775\u001b[0m   command\u001b[38;5;241m=\u001b[39m\u001b[38;5;124m\"\u001b[39m\u001b[38;5;124mAS\u001b[39m\u001b[38;5;124m\"\u001b[39m,\n\u001b[0;32m   3776\u001b[0m   tip_pattern\u001b[38;5;241m=\u001b[39mtip_pattern,\n\u001b[0;32m   3777\u001b[0m   read_timeout\u001b[38;5;241m=\u001b[39m\u001b[38;5;241m60\u001b[39m,\n\u001b[0;32m   3778\u001b[0m   at\u001b[38;5;241m=\u001b[39m[\u001b[38;5;124mf\u001b[39m\u001b[38;5;124m\"\u001b[39m\u001b[38;5;132;01m{\u001b[39;00mat\u001b[38;5;132;01m:\u001b[39;00m\u001b[38;5;124m01\u001b[39m\u001b[38;5;132;01m}\u001b[39;00m\u001b[38;5;124m\"\u001b[39m \u001b[38;5;28;01mfor\u001b[39;00m at \u001b[38;5;129;01min\u001b[39;00m aspiration_type],\n\u001b[0;32m   3779\u001b[0m   tm\u001b[38;5;241m=\u001b[39mtip_pattern,\n\u001b[0;32m   3780\u001b[0m   xp\u001b[38;5;241m=\u001b[39m[\u001b[38;5;124mf\u001b[39m\u001b[38;5;124m\"\u001b[39m\u001b[38;5;132;01m{\u001b[39;00mxp\u001b[38;5;132;01m:\u001b[39;00m\u001b[38;5;124m05\u001b[39m\u001b[38;5;132;01m}\u001b[39;00m\u001b[38;5;124m\"\u001b[39m \u001b[38;5;28;01mfor\u001b[39;00m xp \u001b[38;5;129;01min\u001b[39;00m x_positions],\n\u001b[0;32m   3781\u001b[0m   yp\u001b[38;5;241m=\u001b[39m[\u001b[38;5;124mf\u001b[39m\u001b[38;5;124m\"\u001b[39m\u001b[38;5;132;01m{\u001b[39;00myp\u001b[38;5;132;01m:\u001b[39;00m\u001b[38;5;124m04\u001b[39m\u001b[38;5;132;01m}\u001b[39;00m\u001b[38;5;124m\"\u001b[39m \u001b[38;5;28;01mfor\u001b[39;00m yp \u001b[38;5;129;01min\u001b[39;00m y_positions],\n\u001b[0;32m   3782\u001b[0m   th\u001b[38;5;241m=\u001b[39m\u001b[38;5;124mf\u001b[39m\u001b[38;5;124m\"\u001b[39m\u001b[38;5;132;01m{\u001b[39;00mminimum_traverse_height_at_beginning_of_a_command\u001b[38;5;132;01m:\u001b[39;00m\u001b[38;5;124m04\u001b[39m\u001b[38;5;132;01m}\u001b[39;00m\u001b[38;5;124m\"\u001b[39m,\n\u001b[0;32m   3783\u001b[0m   te\u001b[38;5;241m=\u001b[39m\u001b[38;5;124mf\u001b[39m\u001b[38;5;124m\"\u001b[39m\u001b[38;5;132;01m{\u001b[39;00mmin_z_endpos\u001b[38;5;132;01m:\u001b[39;00m\u001b[38;5;124m04\u001b[39m\u001b[38;5;132;01m}\u001b[39;00m\u001b[38;5;124m\"\u001b[39m,\n\u001b[0;32m   3784\u001b[0m   lp\u001b[38;5;241m=\u001b[39m[\u001b[38;5;124mf\u001b[39m\u001b[38;5;124m\"\u001b[39m\u001b[38;5;132;01m{\u001b[39;00mlp\u001b[38;5;132;01m:\u001b[39;00m\u001b[38;5;124m04\u001b[39m\u001b[38;5;132;01m}\u001b[39;00m\u001b[38;5;124m\"\u001b[39m \u001b[38;5;28;01mfor\u001b[39;00m lp \u001b[38;5;129;01min\u001b[39;00m lld_search_height],\n\u001b[0;32m   3785\u001b[0m   ch\u001b[38;5;241m=\u001b[39m[\u001b[38;5;124mf\u001b[39m\u001b[38;5;124m\"\u001b[39m\u001b[38;5;132;01m{\u001b[39;00mch\u001b[38;5;132;01m:\u001b[39;00m\u001b[38;5;124m03\u001b[39m\u001b[38;5;132;01m}\u001b[39;00m\u001b[38;5;124m\"\u001b[39m \u001b[38;5;28;01mfor\u001b[39;00m ch \u001b[38;5;129;01min\u001b[39;00m clot_detection_height],\n\u001b[0;32m   3786\u001b[0m   zl\u001b[38;5;241m=\u001b[39m[\u001b[38;5;124mf\u001b[39m\u001b[38;5;124m\"\u001b[39m\u001b[38;5;132;01m{\u001b[39;00mzl\u001b[38;5;132;01m:\u001b[39;00m\u001b[38;5;124m04\u001b[39m\u001b[38;5;132;01m}\u001b[39;00m\u001b[38;5;124m\"\u001b[39m \u001b[38;5;28;01mfor\u001b[39;00m zl \u001b[38;5;129;01min\u001b[39;00m liquid_surface_no_lld],\n\u001b[0;32m   3787\u001b[0m   po\u001b[38;5;241m=\u001b[39m[\u001b[38;5;124mf\u001b[39m\u001b[38;5;124m\"\u001b[39m\u001b[38;5;132;01m{\u001b[39;00mpo\u001b[38;5;132;01m:\u001b[39;00m\u001b[38;5;124m04\u001b[39m\u001b[38;5;132;01m}\u001b[39;00m\u001b[38;5;124m\"\u001b[39m \u001b[38;5;28;01mfor\u001b[39;00m po \u001b[38;5;129;01min\u001b[39;00m pull_out_distance_transport_air],\n\u001b[0;32m   3788\u001b[0m   zu\u001b[38;5;241m=\u001b[39m[\u001b[38;5;124mf\u001b[39m\u001b[38;5;124m\"\u001b[39m\u001b[38;5;132;01m{\u001b[39;00mzu\u001b[38;5;132;01m:\u001b[39;00m\u001b[38;5;124m04\u001b[39m\u001b[38;5;132;01m}\u001b[39;00m\u001b[38;5;124m\"\u001b[39m \u001b[38;5;28;01mfor\u001b[39;00m zu \u001b[38;5;129;01min\u001b[39;00m second_section_height],\n\u001b[0;32m   3789\u001b[0m   zr\u001b[38;5;241m=\u001b[39m[\u001b[38;5;124mf\u001b[39m\u001b[38;5;124m\"\u001b[39m\u001b[38;5;132;01m{\u001b[39;00mzr\u001b[38;5;132;01m:\u001b[39;00m\u001b[38;5;124m05\u001b[39m\u001b[38;5;132;01m}\u001b[39;00m\u001b[38;5;124m\"\u001b[39m \u001b[38;5;28;01mfor\u001b[39;00m zr \u001b[38;5;129;01min\u001b[39;00m second_section_ratio],\n\u001b[0;32m   3790\u001b[0m   zx\u001b[38;5;241m=\u001b[39m[\u001b[38;5;124mf\u001b[39m\u001b[38;5;124m\"\u001b[39m\u001b[38;5;132;01m{\u001b[39;00mzx\u001b[38;5;132;01m:\u001b[39;00m\u001b[38;5;124m04\u001b[39m\u001b[38;5;132;01m}\u001b[39;00m\u001b[38;5;124m\"\u001b[39m \u001b[38;5;28;01mfor\u001b[39;00m zx \u001b[38;5;129;01min\u001b[39;00m minimum_height],\n\u001b[0;32m   3791\u001b[0m   ip\u001b[38;5;241m=\u001b[39m[\u001b[38;5;124mf\u001b[39m\u001b[38;5;124m\"\u001b[39m\u001b[38;5;132;01m{\u001b[39;00mip\u001b[38;5;132;01m:\u001b[39;00m\u001b[38;5;124m04\u001b[39m\u001b[38;5;132;01m}\u001b[39;00m\u001b[38;5;124m\"\u001b[39m \u001b[38;5;28;01mfor\u001b[39;00m ip \u001b[38;5;129;01min\u001b[39;00m immersion_depth],\n\u001b[0;32m   3792\u001b[0m   it\u001b[38;5;241m=\u001b[39m[\u001b[38;5;124mf\u001b[39m\u001b[38;5;124m\"\u001b[39m\u001b[38;5;132;01m{\u001b[39;00mit\u001b[38;5;132;01m}\u001b[39;00m\u001b[38;5;124m\"\u001b[39m    \u001b[38;5;28;01mfor\u001b[39;00m it \u001b[38;5;129;01min\u001b[39;00m immersion_depth_direction],\n\u001b[0;32m   3793\u001b[0m   fp\u001b[38;5;241m=\u001b[39m[\u001b[38;5;124mf\u001b[39m\u001b[38;5;124m\"\u001b[39m\u001b[38;5;132;01m{\u001b[39;00mfp\u001b[38;5;132;01m:\u001b[39;00m\u001b[38;5;124m04\u001b[39m\u001b[38;5;132;01m}\u001b[39;00m\u001b[38;5;124m\"\u001b[39m \u001b[38;5;28;01mfor\u001b[39;00m fp \u001b[38;5;129;01min\u001b[39;00m surface_following_distance],\n\u001b[0;32m   3794\u001b[0m   av\u001b[38;5;241m=\u001b[39m[\u001b[38;5;124mf\u001b[39m\u001b[38;5;124m\"\u001b[39m\u001b[38;5;132;01m{\u001b[39;00mav\u001b[38;5;132;01m:\u001b[39;00m\u001b[38;5;124m05\u001b[39m\u001b[38;5;132;01m}\u001b[39;00m\u001b[38;5;124m\"\u001b[39m \u001b[38;5;28;01mfor\u001b[39;00m av \u001b[38;5;129;01min\u001b[39;00m aspiration_volumes],\n\u001b[0;32m   3795\u001b[0m   as_\u001b[38;5;241m=\u001b[39m[\u001b[38;5;124mf\u001b[39m\u001b[38;5;124m\"\u001b[39m\u001b[38;5;132;01m{\u001b[39;00mas_\u001b[38;5;132;01m:\u001b[39;00m\u001b[38;5;124m04\u001b[39m\u001b[38;5;132;01m}\u001b[39;00m\u001b[38;5;124m\"\u001b[39m \u001b[38;5;28;01mfor\u001b[39;00m as_ \u001b[38;5;129;01min\u001b[39;00m aspiration_speed],\n\u001b[0;32m   3796\u001b[0m   ta\u001b[38;5;241m=\u001b[39m[\u001b[38;5;124mf\u001b[39m\u001b[38;5;124m\"\u001b[39m\u001b[38;5;132;01m{\u001b[39;00mta\u001b[38;5;132;01m:\u001b[39;00m\u001b[38;5;124m03\u001b[39m\u001b[38;5;132;01m}\u001b[39;00m\u001b[38;5;124m\"\u001b[39m \u001b[38;5;28;01mfor\u001b[39;00m ta \u001b[38;5;129;01min\u001b[39;00m transport_air_volume],\n\u001b[0;32m   3797\u001b[0m   ba\u001b[38;5;241m=\u001b[39m[\u001b[38;5;124mf\u001b[39m\u001b[38;5;124m\"\u001b[39m\u001b[38;5;132;01m{\u001b[39;00mba\u001b[38;5;132;01m:\u001b[39;00m\u001b[38;5;124m04\u001b[39m\u001b[38;5;132;01m}\u001b[39;00m\u001b[38;5;124m\"\u001b[39m \u001b[38;5;28;01mfor\u001b[39;00m ba \u001b[38;5;129;01min\u001b[39;00m blow_out_air_volume],\n\u001b[0;32m   3798\u001b[0m   oa\u001b[38;5;241m=\u001b[39m[\u001b[38;5;124mf\u001b[39m\u001b[38;5;124m\"\u001b[39m\u001b[38;5;132;01m{\u001b[39;00moa\u001b[38;5;132;01m:\u001b[39;00m\u001b[38;5;124m03\u001b[39m\u001b[38;5;132;01m}\u001b[39;00m\u001b[38;5;124m\"\u001b[39m \u001b[38;5;28;01mfor\u001b[39;00m oa \u001b[38;5;129;01min\u001b[39;00m pre_wetting_volume],\n\u001b[0;32m   3799\u001b[0m   lm\u001b[38;5;241m=\u001b[39m[\u001b[38;5;124mf\u001b[39m\u001b[38;5;124m\"\u001b[39m\u001b[38;5;132;01m{\u001b[39;00mlm\u001b[38;5;132;01m}\u001b[39;00m\u001b[38;5;124m\"\u001b[39m    \u001b[38;5;28;01mfor\u001b[39;00m lm \u001b[38;5;129;01min\u001b[39;00m lld_mode],\n\u001b[0;32m   3800\u001b[0m   ll\u001b[38;5;241m=\u001b[39m[\u001b[38;5;124mf\u001b[39m\u001b[38;5;124m\"\u001b[39m\u001b[38;5;132;01m{\u001b[39;00mll\u001b[38;5;132;01m}\u001b[39;00m\u001b[38;5;124m\"\u001b[39m    \u001b[38;5;28;01mfor\u001b[39;00m ll \u001b[38;5;129;01min\u001b[39;00m gamma_lld_sensitivity],\n\u001b[0;32m   3801\u001b[0m   lv\u001b[38;5;241m=\u001b[39m[\u001b[38;5;124mf\u001b[39m\u001b[38;5;124m\"\u001b[39m\u001b[38;5;132;01m{\u001b[39;00mlv\u001b[38;5;132;01m}\u001b[39;00m\u001b[38;5;124m\"\u001b[39m    \u001b[38;5;28;01mfor\u001b[39;00m lv \u001b[38;5;129;01min\u001b[39;00m dp_lld_sensitivity],\n\u001b[0;32m   3802\u001b[0m   zo\u001b[38;5;241m=\u001b[39m[\u001b[38;5;124mf\u001b[39m\u001b[38;5;124m\"\u001b[39m\u001b[38;5;132;01m{\u001b[39;00mzo\u001b[38;5;132;01m:\u001b[39;00m\u001b[38;5;124m03\u001b[39m\u001b[38;5;132;01m}\u001b[39;00m\u001b[38;5;124m\"\u001b[39m \u001b[38;5;28;01mfor\u001b[39;00m zo \u001b[38;5;129;01min\u001b[39;00m aspirate_position_above_z_touch_off],\n\u001b[0;32m   3803\u001b[0m   ld\u001b[38;5;241m=\u001b[39m[\u001b[38;5;124mf\u001b[39m\u001b[38;5;124m\"\u001b[39m\u001b[38;5;132;01m{\u001b[39;00mld\u001b[38;5;132;01m:\u001b[39;00m\u001b[38;5;124m02\u001b[39m\u001b[38;5;132;01m}\u001b[39;00m\u001b[38;5;124m\"\u001b[39m \u001b[38;5;28;01mfor\u001b[39;00m ld \u001b[38;5;129;01min\u001b[39;00m detection_height_difference_for_dual_lld],\n\u001b[0;32m   3804\u001b[0m   de\u001b[38;5;241m=\u001b[39m[\u001b[38;5;124mf\u001b[39m\u001b[38;5;124m\"\u001b[39m\u001b[38;5;132;01m{\u001b[39;00mde\u001b[38;5;132;01m:\u001b[39;00m\u001b[38;5;124m04\u001b[39m\u001b[38;5;132;01m}\u001b[39;00m\u001b[38;5;124m\"\u001b[39m \u001b[38;5;28;01mfor\u001b[39;00m de \u001b[38;5;129;01min\u001b[39;00m swap_speed],\n\u001b[0;32m   3805\u001b[0m   wt\u001b[38;5;241m=\u001b[39m[\u001b[38;5;124mf\u001b[39m\u001b[38;5;124m\"\u001b[39m\u001b[38;5;132;01m{\u001b[39;00mwt\u001b[38;5;132;01m:\u001b[39;00m\u001b[38;5;124m02\u001b[39m\u001b[38;5;132;01m}\u001b[39;00m\u001b[38;5;124m\"\u001b[39m \u001b[38;5;28;01mfor\u001b[39;00m wt \u001b[38;5;129;01min\u001b[39;00m settling_time],\n\u001b[0;32m   3806\u001b[0m   mv\u001b[38;5;241m=\u001b[39m[\u001b[38;5;124mf\u001b[39m\u001b[38;5;124m\"\u001b[39m\u001b[38;5;132;01m{\u001b[39;00mmv\u001b[38;5;132;01m:\u001b[39;00m\u001b[38;5;124m05\u001b[39m\u001b[38;5;132;01m}\u001b[39;00m\u001b[38;5;124m\"\u001b[39m \u001b[38;5;28;01mfor\u001b[39;00m mv \u001b[38;5;129;01min\u001b[39;00m homogenization_volume],\n\u001b[0;32m   3807\u001b[0m   mc\u001b[38;5;241m=\u001b[39m[\u001b[38;5;124mf\u001b[39m\u001b[38;5;124m\"\u001b[39m\u001b[38;5;132;01m{\u001b[39;00mmc\u001b[38;5;132;01m:\u001b[39;00m\u001b[38;5;124m02\u001b[39m\u001b[38;5;132;01m}\u001b[39;00m\u001b[38;5;124m\"\u001b[39m \u001b[38;5;28;01mfor\u001b[39;00m mc \u001b[38;5;129;01min\u001b[39;00m homogenization_cycles],\n\u001b[0;32m   3808\u001b[0m   mp\u001b[38;5;241m=\u001b[39m[\u001b[38;5;124mf\u001b[39m\u001b[38;5;124m\"\u001b[39m\u001b[38;5;132;01m{\u001b[39;00mmp\u001b[38;5;132;01m:\u001b[39;00m\u001b[38;5;124m03\u001b[39m\u001b[38;5;132;01m}\u001b[39;00m\u001b[38;5;124m\"\u001b[39m \u001b[38;5;28;01mfor\u001b[39;00m mp \u001b[38;5;129;01min\u001b[39;00m homogenization_position_from_liquid_surface],\n\u001b[0;32m   3809\u001b[0m   ms\u001b[38;5;241m=\u001b[39m[\u001b[38;5;124mf\u001b[39m\u001b[38;5;124m\"\u001b[39m\u001b[38;5;132;01m{\u001b[39;00mms\u001b[38;5;132;01m:\u001b[39;00m\u001b[38;5;124m04\u001b[39m\u001b[38;5;132;01m}\u001b[39;00m\u001b[38;5;124m\"\u001b[39m \u001b[38;5;28;01mfor\u001b[39;00m ms \u001b[38;5;129;01min\u001b[39;00m homogenization_speed],\n\u001b[0;32m   3810\u001b[0m   mh\u001b[38;5;241m=\u001b[39m[\u001b[38;5;124mf\u001b[39m\u001b[38;5;124m\"\u001b[39m\u001b[38;5;132;01m{\u001b[39;00mmh\u001b[38;5;132;01m:\u001b[39;00m\u001b[38;5;124m04\u001b[39m\u001b[38;5;132;01m}\u001b[39;00m\u001b[38;5;124m\"\u001b[39m \u001b[38;5;28;01mfor\u001b[39;00m mh \u001b[38;5;129;01min\u001b[39;00m homogenization_surface_following_distance],\n\u001b[0;32m   3811\u001b[0m   gi\u001b[38;5;241m=\u001b[39m[\u001b[38;5;124mf\u001b[39m\u001b[38;5;124m\"\u001b[39m\u001b[38;5;132;01m{\u001b[39;00mgi\u001b[38;5;132;01m:\u001b[39;00m\u001b[38;5;124m03\u001b[39m\u001b[38;5;132;01m}\u001b[39;00m\u001b[38;5;124m\"\u001b[39m \u001b[38;5;28;01mfor\u001b[39;00m gi \u001b[38;5;129;01min\u001b[39;00m limit_curve_index],\n\u001b[0;32m   3812\u001b[0m   gj\u001b[38;5;241m=\u001b[39mtadm_algorithm,\n\u001b[0;32m   3813\u001b[0m   gk\u001b[38;5;241m=\u001b[39mrecording_mode,\n\u001b[0;32m   3814\u001b[0m \n\u001b[0;32m   3815\u001b[0m   lk\u001b[38;5;241m=\u001b[39m[\u001b[38;5;241m1\u001b[39m \u001b[38;5;28;01mif\u001b[39;00m lk \u001b[38;5;28;01melse\u001b[39;00m \u001b[38;5;241m0\u001b[39m \u001b[38;5;28;01mfor\u001b[39;00m lk \u001b[38;5;129;01min\u001b[39;00m use_2nd_section_aspiration],\n\u001b[0;32m   3816\u001b[0m   ik\u001b[38;5;241m=\u001b[39m[\u001b[38;5;124mf\u001b[39m\u001b[38;5;124m\"\u001b[39m\u001b[38;5;132;01m{\u001b[39;00mik\u001b[38;5;132;01m:\u001b[39;00m\u001b[38;5;124m04\u001b[39m\u001b[38;5;132;01m}\u001b[39;00m\u001b[38;5;124m\"\u001b[39m \u001b[38;5;28;01mfor\u001b[39;00m ik \u001b[38;5;129;01min\u001b[39;00m retract_height_over_2nd_section_to_empty_tip],\n\u001b[0;32m   3817\u001b[0m   sd\u001b[38;5;241m=\u001b[39m[\u001b[38;5;124mf\u001b[39m\u001b[38;5;124m\"\u001b[39m\u001b[38;5;132;01m{\u001b[39;00msd\u001b[38;5;132;01m:\u001b[39;00m\u001b[38;5;124m04\u001b[39m\u001b[38;5;132;01m}\u001b[39;00m\u001b[38;5;124m\"\u001b[39m \u001b[38;5;28;01mfor\u001b[39;00m sd \u001b[38;5;129;01min\u001b[39;00m dispensation_speed_during_emptying_tip],\n\u001b[0;32m   3818\u001b[0m   se\u001b[38;5;241m=\u001b[39m[\u001b[38;5;124mf\u001b[39m\u001b[38;5;124m\"\u001b[39m\u001b[38;5;132;01m{\u001b[39;00mse\u001b[38;5;132;01m:\u001b[39;00m\u001b[38;5;124m04\u001b[39m\u001b[38;5;132;01m}\u001b[39;00m\u001b[38;5;124m\"\u001b[39m \u001b[38;5;28;01mfor\u001b[39;00m se \u001b[38;5;129;01min\u001b[39;00m dosing_drive_speed_during_2nd_section_search],\n\u001b[0;32m   3819\u001b[0m   sz\u001b[38;5;241m=\u001b[39m[\u001b[38;5;124mf\u001b[39m\u001b[38;5;124m\"\u001b[39m\u001b[38;5;132;01m{\u001b[39;00msz\u001b[38;5;132;01m:\u001b[39;00m\u001b[38;5;124m04\u001b[39m\u001b[38;5;132;01m}\u001b[39;00m\u001b[38;5;124m\"\u001b[39m \u001b[38;5;28;01mfor\u001b[39;00m sz \u001b[38;5;129;01min\u001b[39;00m z_drive_speed_during_2nd_section_search],\n\u001b[0;32m   3820\u001b[0m   io\u001b[38;5;241m=\u001b[39m[\u001b[38;5;124mf\u001b[39m\u001b[38;5;124m\"\u001b[39m\u001b[38;5;132;01m{\u001b[39;00mio\u001b[38;5;132;01m:\u001b[39;00m\u001b[38;5;124m04\u001b[39m\u001b[38;5;132;01m}\u001b[39;00m\u001b[38;5;124m\"\u001b[39m \u001b[38;5;28;01mfor\u001b[39;00m io \u001b[38;5;129;01min\u001b[39;00m cup_upper_edge],\n\u001b[0;32m   3821\u001b[0m   il\u001b[38;5;241m=\u001b[39m[\u001b[38;5;124mf\u001b[39m\u001b[38;5;124m\"\u001b[39m\u001b[38;5;132;01m{\u001b[39;00mil\u001b[38;5;132;01m:\u001b[39;00m\u001b[38;5;124m05\u001b[39m\u001b[38;5;132;01m}\u001b[39;00m\u001b[38;5;124m\"\u001b[39m \u001b[38;5;28;01mfor\u001b[39;00m il \u001b[38;5;129;01min\u001b[39;00m ratio_liquid_rise_to_tip_deep_in],\n\u001b[0;32m   3822\u001b[0m   in_\u001b[38;5;241m=\u001b[39m[\u001b[38;5;124mf\u001b[39m\u001b[38;5;124m\"\u001b[39m\u001b[38;5;132;01m{\u001b[39;00min_\u001b[38;5;132;01m:\u001b[39;00m\u001b[38;5;124m04\u001b[39m\u001b[38;5;132;01m}\u001b[39;00m\u001b[38;5;124m\"\u001b[39m \u001b[38;5;28;01mfor\u001b[39;00m in_ \u001b[38;5;129;01min\u001b[39;00m immersion_depth_2nd_section],\n\u001b[0;32m   3823\u001b[0m )\n",
      "File \u001b[1;32mc:\\Users\\vikmol\\OneDrive\\Dokumenter\\GitHub\\pylabrobot_DALSA\\pylabrobot\\liquid_handling\\backends\\hamilton\\base.py:186\u001b[0m, in \u001b[0;36mHamiltonLiquidHandler.send_command\u001b[1;34m(self, module, command, tip_pattern, write_timeout, read_timeout, wait, fmt, **kwargs)\u001b[0m\n\u001b[0;32m    184\u001b[0m cmd, id_ \u001b[38;5;241m=\u001b[39m \u001b[38;5;28mself\u001b[39m\u001b[38;5;241m.\u001b[39m_assemble_command(module\u001b[38;5;241m=\u001b[39mmodule, command\u001b[38;5;241m=\u001b[39mcommand, tip_pattern\u001b[38;5;241m=\u001b[39mtip_pattern,\n\u001b[0;32m    185\u001b[0m   \u001b[38;5;241m*\u001b[39m\u001b[38;5;241m*\u001b[39mkwargs)\n\u001b[1;32m--> 186\u001b[0m resp \u001b[38;5;241m=\u001b[39m \u001b[38;5;28;01mawait\u001b[39;00m \u001b[38;5;28mself\u001b[39m\u001b[38;5;241m.\u001b[39m_write_and_read_command(id_\u001b[38;5;241m=\u001b[39mid_, cmd\u001b[38;5;241m=\u001b[39mcmd, write_timeout\u001b[38;5;241m=\u001b[39mwrite_timeout,\n\u001b[0;32m    187\u001b[0m                 read_timeout\u001b[38;5;241m=\u001b[39mread_timeout, wait\u001b[38;5;241m=\u001b[39mwait)\n\u001b[0;32m    188\u001b[0m \u001b[38;5;28;01mif\u001b[39;00m resp \u001b[38;5;129;01mis\u001b[39;00m \u001b[38;5;129;01mnot\u001b[39;00m \u001b[38;5;28;01mNone\u001b[39;00m \u001b[38;5;129;01mand\u001b[39;00m fmt \u001b[38;5;129;01mis\u001b[39;00m \u001b[38;5;129;01mnot\u001b[39;00m \u001b[38;5;28;01mNone\u001b[39;00m:\n",
      "File \u001b[1;32mc:\\Users\\vikmol\\OneDrive\\Dokumenter\\GitHub\\pylabrobot_DALSA\\pylabrobot\\liquid_handling\\backends\\hamilton\\base.py:213\u001b[0m, in \u001b[0;36mHamiltonLiquidHandler._write_and_read_command\u001b[1;34m(self, id_, cmd, write_timeout, read_timeout, wait)\u001b[0m\n\u001b[0;32m    212\u001b[0m \u001b[38;5;28mself\u001b[39m\u001b[38;5;241m.\u001b[39m_start_reading(id_, loop, fut, cmd, read_timeout)\n\u001b[1;32m--> 213\u001b[0m result \u001b[38;5;241m=\u001b[39m \u001b[38;5;28;01mawait\u001b[39;00m fut\n\u001b[0;32m    214\u001b[0m \u001b[38;5;28;01mreturn\u001b[39;00m cast(\u001b[38;5;28mstr\u001b[39m, result)\n",
      "File \u001b[1;32mc:\\Users\\vikmol\\OneDrive\\Dokumenter\\GitHub\\pylabrobot_DALSA\\pylabrobot\\liquid_handling\\backends\\hamilton\\base.py:286\u001b[0m, in \u001b[0;36mHamiltonLiquidHandler._continuously_read\u001b[1;34m(self)\u001b[0m\n\u001b[0;32m    285\u001b[0m \u001b[38;5;28;01mtry\u001b[39;00m:\n\u001b[1;32m--> 286\u001b[0m   \u001b[38;5;28;43mself\u001b[39;49m\u001b[38;5;241;43m.\u001b[39;49m\u001b[43mcheck_fw_string_error\u001b[49m\u001b[43m(\u001b[49m\u001b[43mresp\u001b[49m\u001b[43m)\u001b[49m\n\u001b[0;32m    287\u001b[0m \u001b[38;5;28;01mexcept\u001b[39;00m \u001b[38;5;167;01mException\u001b[39;00m \u001b[38;5;28;01mas\u001b[39;00m e: \u001b[38;5;66;03m# pylint: disable=broad-exception-caught\u001b[39;00m\n",
      "File \u001b[1;32mc:\\Users\\vikmol\\OneDrive\\Dokumenter\\GitHub\\pylabrobot_DALSA\\pylabrobot\\liquid_handling\\backends\\hamilton\\STAR.py:1198\u001b[0m, in \u001b[0;36mSTAR.check_fw_string_error\u001b[1;34m(self, resp)\u001b[0m\n\u001b[0;32m   1195\u001b[0m     he\u001b[38;5;241m.\u001b[39merrors[module_name]\u001b[38;5;241m.\u001b[39mmessage \u001b[38;5;241m+\u001b[39m\u001b[38;5;241m=\u001b[39m \\\n\u001b[0;32m   1196\u001b[0m       \u001b[38;5;124m\"\u001b[39m\u001b[38;5;124m (call lh.backend.request_name_of_last_faulty_parameter)\u001b[39m\u001b[38;5;124m\"\u001b[39m\n\u001b[1;32m-> 1198\u001b[0m \u001b[38;5;28;01mraise\u001b[39;00m he\n",
      "\u001b[1;31mSTARFirmwareError\u001b[0m: {'Pipetting channel 1': AspirationError('Liquid not correctly aspirated')}, C0ASid0011er99/00 P117/80",
      "\nThe above exception was the direct cause of the following exception:\n",
      "\u001b[1;31mChannelizedError\u001b[0m                          Traceback (most recent call last)",
      "Cell \u001b[1;32mIn[18], line 2\u001b[0m\n\u001b[0;32m      1\u001b[0m \u001b[38;5;66;03m# lld_mode=[LLDMode.OFF]*8\u001b[39;00m\n\u001b[1;32m----> 2\u001b[0m \u001b[38;5;28;01mawait\u001b[39;00m lh\u001b[38;5;241m.\u001b[39maspirate(source_plate[\u001b[38;5;124m'\u001b[39m\u001b[38;5;124mA1\u001b[39m\u001b[38;5;124m'\u001b[39m], vols\u001b[38;5;241m=\u001b[39m[\u001b[38;5;241m50.0\u001b[39m], lld_mod\u001b[38;5;241m=\u001b[39m[STAR\u001b[38;5;241m.\u001b[39mLLDMode\u001b[38;5;241m.\u001b[39mOFF]\u001b[38;5;241m*\u001b[39m\u001b[38;5;241m8\u001b[39m)\u001b[38;5;66;03m#, swap_speed=100, homogenization_speed=1000)\u001b[39;00m\n\u001b[0;32m      3\u001b[0m \u001b[38;5;66;03m# await lh.aspirate(source_plate['A1'], vols=[50.0])\u001b[39;00m\n",
      "File \u001b[1;32mc:\\Users\\vikmol\\OneDrive\\Dokumenter\\GitHub\\pylabrobot_DALSA\\pylabrobot\\machine.py:23\u001b[0m, in \u001b[0;36mneed_setup_finished.<locals>.wrapper\u001b[1;34m(self, *args, **kwargs)\u001b[0m\n\u001b[0;32m     21\u001b[0m \u001b[38;5;28;01mif\u001b[39;00m \u001b[38;5;129;01mnot\u001b[39;00m \u001b[38;5;28mself\u001b[39m\u001b[38;5;241m.\u001b[39msetup_finished:\n\u001b[0;32m     22\u001b[0m   \u001b[38;5;28;01mraise\u001b[39;00m \u001b[38;5;167;01mRuntimeError\u001b[39;00m(\u001b[38;5;124m\"\u001b[39m\u001b[38;5;124mThe setup has not finished. See `setup`.\u001b[39m\u001b[38;5;124m\"\u001b[39m)\n\u001b[1;32m---> 23\u001b[0m \u001b[38;5;28;01mreturn\u001b[39;00m \u001b[38;5;28;01mawait\u001b[39;00m func(\u001b[38;5;28mself\u001b[39m, \u001b[38;5;241m*\u001b[39margs, \u001b[38;5;241m*\u001b[39m\u001b[38;5;241m*\u001b[39mkwargs)\n",
      "File \u001b[1;32mc:\\Users\\vikmol\\OneDrive\\Dokumenter\\GitHub\\pylabrobot_DALSA\\pylabrobot\\liquid_handling\\liquid_handler.py:766\u001b[0m, in \u001b[0;36mLiquidHandler.aspirate\u001b[1;34m(self, resources, vols, use_channels, flow_rates, offsets, liquid_height, blow_out_air_volume, **backend_kwargs)\u001b[0m\n\u001b[0;32m    763\u001b[0m     (\u001b[38;5;28mself\u001b[39m\u001b[38;5;241m.\u001b[39mhead[channel]\u001b[38;5;241m.\u001b[39mcommit \u001b[38;5;28;01mif\u001b[39;00m success \u001b[38;5;28;01melse\u001b[39;00m \u001b[38;5;28mself\u001b[39m\u001b[38;5;241m.\u001b[39mhead[channel]\u001b[38;5;241m.\u001b[39mrollback)()\n\u001b[0;32m    765\u001b[0m \u001b[38;5;66;03m# trigger callback\u001b[39;00m\n\u001b[1;32m--> 766\u001b[0m \u001b[38;5;28mself\u001b[39m\u001b[38;5;241m.\u001b[39m_trigger_callback(\n\u001b[0;32m    767\u001b[0m   \u001b[38;5;124m\"\u001b[39m\u001b[38;5;124maspirate\u001b[39m\u001b[38;5;124m\"\u001b[39m,\n\u001b[0;32m    768\u001b[0m   liquid_handler\u001b[38;5;241m=\u001b[39m\u001b[38;5;28mself\u001b[39m,\n\u001b[0;32m    769\u001b[0m   operations\u001b[38;5;241m=\u001b[39maspirations,\n\u001b[0;32m    770\u001b[0m   use_channels\u001b[38;5;241m=\u001b[39muse_channels,\n\u001b[0;32m    771\u001b[0m   error\u001b[38;5;241m=\u001b[39merror,\n\u001b[0;32m    772\u001b[0m   \u001b[38;5;241m*\u001b[39m\u001b[38;5;241m*\u001b[39mbackend_kwargs,\n\u001b[0;32m    773\u001b[0m )\n",
      "File \u001b[1;32mc:\\Users\\vikmol\\OneDrive\\Dokumenter\\GitHub\\pylabrobot_DALSA\\pylabrobot\\liquid_handling\\liquid_handler.py:1753\u001b[0m, in \u001b[0;36mLiquidHandler._trigger_callback\u001b[1;34m(self, method_name, error, *args, **kwargs)\u001b[0m\n\u001b[0;32m   1751\u001b[0m   callback(\u001b[38;5;28mself\u001b[39m, \u001b[38;5;241m*\u001b[39margs, error\u001b[38;5;241m=\u001b[39merror, \u001b[38;5;241m*\u001b[39m\u001b[38;5;241m*\u001b[39mkwargs)\n\u001b[0;32m   1752\u001b[0m \u001b[38;5;28;01melif\u001b[39;00m error \u001b[38;5;129;01mis\u001b[39;00m \u001b[38;5;129;01mnot\u001b[39;00m \u001b[38;5;28;01mNone\u001b[39;00m:\n\u001b[1;32m-> 1753\u001b[0m   \u001b[38;5;28;01mraise\u001b[39;00m error\n",
      "File \u001b[1;32mc:\\Users\\vikmol\\OneDrive\\Dokumenter\\GitHub\\pylabrobot_DALSA\\pylabrobot\\liquid_handling\\liquid_handler.py:749\u001b[0m, in \u001b[0;36mLiquidHandler.aspirate\u001b[1;34m(self, resources, vols, use_channels, flow_rates, offsets, liquid_height, blow_out_air_volume, **backend_kwargs)\u001b[0m\n\u001b[0;32m    747\u001b[0m error: Optional[\u001b[38;5;167;01mException\u001b[39;00m] \u001b[38;5;241m=\u001b[39m \u001b[38;5;28;01mNone\u001b[39;00m\n\u001b[0;32m    748\u001b[0m \u001b[38;5;28;01mtry\u001b[39;00m:\n\u001b[1;32m--> 749\u001b[0m   \u001b[38;5;28;01mawait\u001b[39;00m \u001b[38;5;28mself\u001b[39m\u001b[38;5;241m.\u001b[39mbackend\u001b[38;5;241m.\u001b[39maspirate(ops\u001b[38;5;241m=\u001b[39maspirations, use_channels\u001b[38;5;241m=\u001b[39muse_channels, \u001b[38;5;241m*\u001b[39m\u001b[38;5;241m*\u001b[39mbackend_kwargs)\n\u001b[0;32m    750\u001b[0m \u001b[38;5;28;01mexcept\u001b[39;00m \u001b[38;5;167;01mException\u001b[39;00m \u001b[38;5;28;01mas\u001b[39;00m e:  \u001b[38;5;66;03m# pylint: disable=broad-exception-caught\u001b[39;00m\n\u001b[0;32m    751\u001b[0m   error \u001b[38;5;241m=\u001b[39m e\n",
      "File \u001b[1;32mc:\\Users\\vikmol\\OneDrive\\Dokumenter\\GitHub\\pylabrobot_DALSA\\pylabrobot\\liquid_handling\\backends\\hamilton\\STAR.py:1661\u001b[0m, in \u001b[0;36mSTAR.aspirate\u001b[1;34m(self, ops, use_channels, jet, blow_out, lld_search_height, clot_detection_height, pull_out_distance_transport_air, second_section_height, second_section_ratio, minimum_height, immersion_depth, immersion_depth_direction, surface_following_distance, transport_air_volume, pre_wetting_volume, lld_mode, gamma_lld_sensitivity, dp_lld_sensitivity, aspirate_position_above_z_touch_off, detection_height_difference_for_dual_lld, swap_speed, settling_time, homogenization_volume, homogenization_cycles, homogenization_position_from_liquid_surface, homogenization_speed, homogenization_surface_following_distance, limit_curve_index, use_2nd_section_aspiration, retract_height_over_2nd_section_to_empty_tip, dispensation_speed_during_emptying_tip, dosing_drive_speed_during_2nd_section_search, z_drive_speed_during_2nd_section_search, cup_upper_edge, ratio_liquid_rise_to_tip_deep_in, immersion_depth_2nd_section, minimum_traverse_height_at_beginning_of_a_command, min_z_endpos, hamilton_liquid_classes)\u001b[0m\n\u001b[0;32m   1659\u001b[0m \u001b[38;5;28;01mexcept\u001b[39;00m STARFirmwareError \u001b[38;5;28;01mas\u001b[39;00m e:\n\u001b[0;32m   1660\u001b[0m   \u001b[38;5;28;01mif\u001b[39;00m plr_e \u001b[38;5;241m:=\u001b[39m convert_star_firmware_error_to_plr_error(e):\n\u001b[1;32m-> 1661\u001b[0m     \u001b[38;5;28;01mraise\u001b[39;00m plr_e \u001b[38;5;28;01mfrom\u001b[39;00m \u001b[38;5;21;01me\u001b[39;00m\n\u001b[0;32m   1662\u001b[0m   \u001b[38;5;28;01mraise\u001b[39;00m e\n",
      "\u001b[1;31mChannelizedError\u001b[0m: ChannelizedError(errors={0: AspirationError('Liquid not correctly aspirated')}, raw_response=C0ASid0011er99/00 P117/80)"
     ]
    }
   ],
   "source": [
    "# lld_mode=[LLDMode.OFF]*8\n",
    "await lh.aspirate(source_plate['A1'], vols=[50.0], lld_mod=[STAR.LLDMode.OFF]*8)#, swap_speed=100, homogenization_speed=1000)\n",
    "# await lh.aspirate(source_plate['A1'], vols=[50.0])"
   ]
  },
  {
   "cell_type": "code",
   "execution_count": 19,
   "metadata": {},
   "outputs": [],
   "source": [
    "await lh.drop_tips(tiprack300_1['A1'])"
   ]
  },
  {
   "cell_type": "markdown",
   "metadata": {},
   "source": []
  }
 ],
 "metadata": {
  "kernelspec": {
   "display_name": "venv",
   "language": "python",
   "name": "python3"
  },
  "language_info": {
   "codemirror_mode": {
    "name": "ipython",
    "version": 3
   },
   "file_extension": ".py",
   "mimetype": "text/x-python",
   "name": "python",
   "nbconvert_exporter": "python",
   "pygments_lexer": "ipython3",
   "version": "3.10.11"
  }
 },
 "nbformat": 4,
 "nbformat_minor": 2
}
