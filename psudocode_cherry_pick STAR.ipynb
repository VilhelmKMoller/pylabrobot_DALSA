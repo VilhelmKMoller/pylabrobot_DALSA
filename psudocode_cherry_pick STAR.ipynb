{
 "cells": [
  {
   "cell_type": "code",
   "execution_count": null,
   "metadata": {},
   "outputs": [],
   "source": []
  },
  {
   "cell_type": "markdown",
   "metadata": {},
   "source": [
    "# Cherry Pick script with PyLabRobot for Hamilton"
   ]
  },
  {
   "cell_type": "markdown",
   "metadata": {},
   "source": [
    "# questions \n",
    "\n",
    "Does lld work? "
   ]
  },
  {
   "cell_type": "markdown",
   "metadata": {},
   "source": [
    "# To do\n",
    "\n",
    "- [X] Copy Hamilton 223 specs from lab to fit in PLR <br>\n",
    "- [ ] Test pipeting in each position to ensure the sites and carriers are correctly located\n",
    "- [ ] Write code for cherry pick <br>\n",
    "- [ ] Simulate code on PLR simulator <br>\n",
    "- [ ] Test code with water.  <br>\n",
    "- [ ] Test with foil seal. Can i get it to override LLD? <br>\n",
    "- [ ] Implement in cherry_pick git repo <br>\n",
    "- [ ] Test if i can pearse the seals <br>\n",
    "- [ ] Test if i can split into the three parts. <br>\n",
    "\n",
    "\n",
    "# Fun to do\n",
    "\n",
    "Test using the ISWAP to move plates or remove lids <br>\n"
   ]
  },
  {
   "cell_type": "code",
   "execution_count": 33,
   "metadata": {},
   "outputs": [
    {
     "name": "stdout",
     "output_type": "stream",
     "text": [
      "Stopping the robot.\n"
     ]
    }
   ],
   "source": [
    "await lh.stop()\n",
    "await vis.stop()"
   ]
  },
  {
   "cell_type": "code",
   "execution_count": 13,
   "metadata": {},
   "outputs": [],
   "source": [
    "# start inputs\n",
    "t_list = [['10', 'A1', '9', 'A1', '100', 'FSH0345O'], ['10', 'B1', '9', 'B1', '100', 'FSH0345O'], ['10', 'C1', '9', 'C1', '100', 'FSH0345O'], ['10', 'D1', '9', 'D1', '100', 'FSH0345O'], ['10', 'E1', '9', 'E1', '100', 'FSH0345O'], ['10', 'F1', '9', 'F1', '100', 'FSH0345O'], ['10', 'G1', '9', 'G1', '100', 'FSH0345O'], ['10', 'H1', '9', 'H1', '100', 'FSH0345O'], ['10', 'A2', '9', 'A2', '100', 'FSH0345O'], ['10', 'B2', '9', 'B2', '100', 'FSH0345O'], ['10', 'C2', '9', 'C2', '100', 'FSH0345O'], ['10', 'D2', '9', 'D2', '100', 'FSH0345O'], ['10', 'E2', '9', 'E2', '100', 'FSH0345O'], ['10', 'F2', '9', 'F2', '100', 'FSH0345O'], ['10', 'G2', '9', 'G2', '100', 'FSH0345O'], ['10', 'H2', '9', 'H2', '100', 'FSH0345O'], ['10', 'A3', '9', 'A3', '100', 'FSH0345O'], ['10', 'B3', '9', 'B3', '100', 'FSH0345O'], ['10', 'C3', '9', 'C3', '100', 'FSH0345O'], ['10', 'D3', '9', 'D3', '100', 'FSH0345O'], ['10', 'E3', '9', 'E3', '100', 'FSH0345O'], ['10', 'F3', '9', 'F3', '100', 'FSH0345O'], ['10', 'G3', '9', 'G3', '100', 'FSH0345O'], ['10', 'H3', '9', 'H3', '100', 'FSH0345O'], ['10', 'A4', '9', 'A4', '100', 'FSH0345O'], ['10', 'B4', '9', 'B4', '100', 'FSH0345O'], ['10', 'C4', '9', 'C4', '100', 'FSH0345O'], ['10', 'D4', '9', 'D4', '100', 'FSH0345O'], ['10', 'E4', '9', 'E4', '100', 'FSH0345O'], ['10', 'F4', '9', 'F4', '100', 'FSH0345O'], ['10', 'G4', '9', 'G4', '100', 'FSH0345O'], ['10', 'H4', '9', 'H4', '100', 'FSH0345O'], ['10', 'A5', '9', 'A5', '100', 'FSH0345O'], ['10', 'B5', '9', 'B5', '100', 'FSH0345O'], ['10', 'C5', '9', 'C5', '100', 'FSH0345O'], ['10', 'D5', '9', 'D5', '100', 'FSH0345O'], ['10', 'E5', '9', 'E5', '100', 'FSH0345O'], ['10', 'F5', '9', 'F5', '100', 'FSH0345O'], ['7', 'A1', '9', 'G5', '100', 'FSH034AP'], ['7', 'B1', '9', 'H5', '100', 'FSH034AP'], ['7', 'C1', '9', 'A6', '100', 'FSH034AP'], ['7', 'E1', '9', 'B6', '100', 'FSH034AP'], ['7', 'A2', '9', 'C6', '100', 'FSH034AP'], ['7', 'D2', '9', 'D6', '100', 'FSH034AP'], ['7', 'E2', '9', 'E6', '100', 'FSH034AP'], ['7', 'F2', '9', 'F6', '100', 'FSH034AP'], ['7', 'G2', '9', 'G6', '100', 'FSH034AP'], ['7', 'B3', '9', 'H6', '100', 'FSH034AP'], ['7', 'E3', '9', 'A7', '100', 'FSH034AP'], ['7', 'F3', '9', 'B7', '100', 'FSH034AP'], ['7', 'G3', '9', 'C7', '100', 'FSH034AP'], ['7', 'A4', '9', 'D7', '100', 'FSH034AP'], ['7', 'C4', '9', 'E7', '100', 'FSH034AP'], ['7', 'F4', '9', 'F7', '100', 'FSH034AP'], ['7', 'H4', '9', 'G7', '100', 'FSH034AP'], ['7', 'A5', '9', 'H7', '100', 'FSH034AP'], ['7', 'B5', '9', 'A8', '100', 'FSH034AP'], ['7', 'C5', '9', 'B8', '100', 'FSH034AP'], ['7', 'D5', '9', 'C8', '100', 'FSH034AP'], ['7', 'E5', '9', 'D8', '100', 'FSH034AP'], ['7', 'F5', '9', 'E8', '100', 'FSH034AP'], ['7', 'G5', '9', 'F8', '100', 'FSH034AP'], ['7', 'H5', '9', 'G8', '100', 'FSH034AP'], ['7', 'E6', '9', 'H8', '100', 'FSH034AP'], ['7', 'F6', '9', 'A9', '100', 'FSH034AP'], ['7', 'G6', '9', 'B9', '100', 'FSH034AP'], ['7', 'H6', '9', 'C9', '100', 'FSH034AP'], ['7', 'A7', '9', 'D9', '100', 'FSH034AP'], ['7', 'B7', '9', 'E9', '100', 'FSH034AP'], ['7', 'C7', '9', 'F9', '100', 'FSH034AP'], ['7', 'D7', '9', 'G9', '100', 'FSH034AP'], ['7', 'E7', '9', 'H9', '100', 'FSH034AP'], ['7', 'F7', '9', 'A10', '100', 'FSH034AP'], ['7', 'G7', '9', 'B10', '100', 'FSH034AP'], ['7', 'H7', '9', 'C10', '100', 'FSH034AP'], ['7', 'A8', '9', 'D10', '100', 'FSH034AP'], ['7', 'B8', '9', 'E10', '100', 'FSH034AP'], ['7', 'C8', '9', 'F10', '100', 'FSH034AP'], ['7', 'D8', '9', 'G10', '100', 'FSH034AP'], ['7', 'E8', '9', 'H10', '100', 'FSH034AP'], ['7', 'F8', '9', 'A11', '100', 'FSH034AP'], ['7', 'G8', '9', 'B11', '100', 'FSH034AP'], ['7', 'H8', '9', 'C11', '100', 'FSH034AP'], ['7', 'A9', '9', 'D11', '100', 'FSH034AP'], ['7', 'B9', '9', 'E11', '100', 'FSH034AP'], ['7', 'C9', '9', 'F11', '100', 'FSH034AP'], ['7', 'F9', '9', 'G11', '100', 'FSH034AP'], ['7', 'G9', '9', 'H11', '100', 'FSH034AP'], ['7', 'A10', '9', 'A12', '100', 'FSH034AP'], ['7', 'B10', '9', 'B12', '100', 'FSH034AP'], ['7', 'C10', '9', 'C12', '100', 'FSH034AP'], ['7', 'D10', '9', 'D12', '100', 'FSH034AP']]\n",
    "control_input = {'source_plate': 'biorad_96_wellplate_200ul_pcr', 'dest_plate': 'usascientific_96_wellplate_2.4ml_deep', 'right_pipette': 'p300_single', 'left_pipette': 'p10_single'}"
   ]
  },
  {
   "cell_type": "markdown",
   "metadata": {},
   "source": [
    "# Settup Simulator or Backend"
   ]
  },
  {
   "cell_type": "code",
   "execution_count": 14,
   "metadata": {},
   "outputs": [
    {
     "name": "stdout",
     "output_type": "stream",
     "text": [
      "Setting up the robot.\n",
      "Resource deck was assigned to the robot.\n",
      "Resource trash was assigned to the robot.\n",
      "Resource trash_core96 was assigned to the robot.\n",
      "Websocket server started at http://127.0.0.1:2121\n",
      "File server started at http://127.0.0.1:1337 . Open this URL in your browser.\n"
     ]
    }
   ],
   "source": [
    "# simulate = False\n",
    "simulate = True\n",
    "\n",
    "\n",
    "from pylabrobot.liquid_handling import LiquidHandler\n",
    "\n",
    "if simulate:\n",
    "  # from pylabrobot.liquid_handling.backends.simulation.simulator_backend import SimulatorBackend\n",
    "  from pylabrobot.liquid_handling import LiquidHandler\n",
    "  from pylabrobot.liquid_handling.backends import ChatterBoxBackend\n",
    "  from pylabrobot.visualizer.visualizer import Visualizer\n",
    "else:\n",
    "  from pylabrobot.liquid_handling.backends import STAR\n",
    "\n",
    "\n",
    "# from pylabrobot.resources.hamilton import HamiltonSTARDeck\n",
    "from pylabrobot.resources.hamilton import STARDeck\n",
    "# from pylabrobot.resources.hamilton import STARLetDeck\n",
    "\n",
    "STAR_SIZE_X=1900\n",
    "STAR_SIZE_Y=653.5\n",
    "STAR_SIZE_Z=900\n",
    "if simulate:\n",
    "  # sb = SimulatorBackend(open_browser=False)\n",
    "  # lh = LiquidHandler(backend=sb, deck=HamiltonSTARDeck(num_rails=55, size_x=STAR_SIZE_X, size_y=STAR_SIZE_Y, size_z=STAR_SIZE_Z))\n",
    "  lh = LiquidHandler(backend=ChatterBoxBackend(), deck=STARDeck())\n",
    "  vis = Visualizer(resource=lh)\n",
    "else:\n",
    "  backend = STAR()\n",
    "  lh = LiquidHandler(backend=backend, deck=STARDeck())\n",
    "\n",
    "\n",
    "await lh.setup()\n",
    "\n",
    "if simulate:\n",
    "  await vis.setup()\n",
    "\n",
    "\n",
    "# if simulate:\n",
    "#   sb.wait_for_connection()\n",
    "\n",
    "\n",
    "# Work table sesources\n",
    "from pylabrobot.resources import (\n",
    "  TIP_CAR_480_A00,\n",
    "    # PLT_CAR_L5AC_A00,\n",
    "    # Cos_96_DW_1mL,\n",
    "    # HTF_L\n",
    "  TIP_CAR_NTR_A00,\n",
    "  # MFXCarrier, # Think is: MFX_CAR_3TipBC_2NTR1\n",
    "  # ShakerCarrier, # think is: CVS_Shaker0_A00\n",
    "  PLT_CAR_L5AC,\n",
    ")\n",
    "\n",
    "\n",
    "# labware resources:\n",
    "from pylabrobot.resources import (\n",
    "  TIP_50ul_L,\n",
    "  corning_96_wellplate_360ul_flat, # OT plate type\n",
    "  Cos_96_FL # corning alternative to OT plate\n",
    ")\n",
    "\n",
    "\n",
    "from pylabrobot.resources.carrier import MFXCarrier, create_homogeneous_carrier_sites, Coordinate\n",
    "\n",
    "## there are no tube runners in PLR yet.\n",
    "\n",
    "\n",
    "from pylabrobot.resources.trash import Trash\n",
    "\n",
    "trash = lh.deck.get_trash_area()\n",
    "# n must match with the number of pipets\n",
    "# n=1\n",
    "# offsets = trash.get_2d_center_offsets(n=n)\n"
   ]
  },
  {
   "cell_type": "markdown",
   "metadata": {},
   "source": [
    "# Settup Deck"
   ]
  },
  {
   "cell_type": "code",
   "execution_count": 15,
   "metadata": {},
   "outputs": [
    {
     "name": "stdout",
     "output_type": "stream",
     "text": [
      "Resource my_shaker_carrier was assigned to the robot.\n"
     ]
    }
   ],
   "source": [
    "# dummy CSV_Shaker0\n",
    "\n",
    "### NOT COMPLEAT !!! QUESTION WHAT DO DO WHEN THERE ARE TWO SITE_SIZE_X AND Y ???\n",
    "\n",
    "## OK SO THIS IS CORRECT BUT THE DIMENSIONS ARE CLEARLY WRONG\n",
    "from pylabrobot.resources.carrier import ShakerCarrier, create_homogeneous_carrier_sites, Coordinate\n",
    "# Define the carrier name and dimensions\n",
    "name = \"my_shaker_carrier\"\n",
    "\n",
    "size_x=157.5\n",
    "size_y=497.0\n",
    "size_z=90.0\n",
    "site_locations1=[\n",
    "    # Coordinate(1.1, 167.5, 25.5), # Site.1.(X,Y,Z) !!!\n",
    "    Coordinate(14.6, 172.1, 77), # Site.2.(X,Y,Z)\n",
    "    # Coordinate(1.2, 48.5, 25.5), # Site.3.(X,Y,Z) !!!\n",
    "    Coordinate(14.6, 53, 77),    # Site.4.(X,Y,Z)\n",
    "    Coordinate(14.6, 53.0, 20.5),# Site.5.(X,Y,Z)\n",
    "    Coordinate(14.6, 392.1, 75), # Site.6.(X,Y,Z)\n",
    "    Coordinate(14.6, 286.9, 75)  # Site.7.(X,Y,Z)\n",
    "  ]\n",
    "site_size_x1=127\n",
    "site_size_y1=86\n",
    "\n",
    "\n",
    "# site_locations2=[\n",
    "#     Coordinate(1.1, 167.5, 25.5), # Site.1.(X,Y,Z)\n",
    "#     Coordinate(1.2, 48.5, 25.5), # Site.3.(X,Y,Z)\n",
    "#   ]\n",
    "# site_size_x2=154\n",
    "# site_size_y2=95\n",
    "\n",
    "\n",
    "# Site.1.Dx\u0003154\tSite.1.Dy\u000295\n",
    "# Site.2.Dx\u0003127\tSite.2.Dy\u000286\n",
    "# Site.3.Dx\u0003154\tSite.3.Dy\u000295\n",
    "# Site.4.Dx\u0003127\tSite.4.Dy\u000286\n",
    "# Site.5.Dx\u0003127\tSite.5.Dy\u000286\n",
    "# Site.6.Dx\u0003127\tSite.6.Dy\u000286\n",
    "# Site.7.Dx\u0003127\tSite.7.Dy\u000286\n",
    "\n",
    "\n",
    "sites1 = create_homogeneous_carrier_sites(site_locations1, site_size_x1, site_size_y1)\n",
    "# sites2 = create_homogeneous_carrier_sites(site_locations2, site_size_x2, site_size_y2)\n",
    "\n",
    "# Create an instance of the MFXCarrier class\n",
    "shaker_carrier = ShakerCarrier(name, size_x, size_y, size_z, sites1)\n",
    "\n",
    "location = Coordinate(x=77.5, y=63.0, z=100.0)\n",
    "# lh.deck.assign_child_resource(shaker_carrier, rails=1, reassign=True)\n",
    "lh.deck.assign_child_resource(shaker_carrier, rails=None, location=location, reassign=True)\n",
    "\n"
   ]
  },
  {
   "cell_type": "code",
   "execution_count": 16,
   "metadata": {},
   "outputs": [
    {
     "name": "stdout",
     "output_type": "stream",
     "text": [
      "Resource tip_carrier was assigned to the robot.\n"
     ]
    }
   ],
   "source": [
    "# PLT_CAR_L5AC\n",
    "\n",
    "## Tip positioning\n",
    "tip_car = TIP_CAR_480_A00(name='tip_carrier') ### OPS OPS USING THE BIG TIP CARRIER!!!!\n",
    "tip_car[1] = TIP_50ul_L(name='tip01')\n",
    "tip_car[2] = TIP_50ul_L(name='tip02')\n",
    "lh.deck.assign_child_resource(tip_car, rails=7) ### OPS OPS TEST POSITION OF THIS LABWARE!!!\n",
    "\n"
   ]
  },
  {
   "cell_type": "code",
   "execution_count": 17,
   "metadata": {},
   "outputs": [
    {
     "name": "stdout",
     "output_type": "stream",
     "text": [
      "Resource PLT_CAR_L5AC_1 was assigned to the robot.\n",
      "Resource PLT_CAR_L5AC_2 was assigned to the robot.\n"
     ]
    }
   ],
   "source": [
    "plt_car = PLT_CAR_L5AC(name='PLT_CAR_L5AC_1')\n",
    "# plt_car[3] = corning_96_wellplate_360ul_flat(name='plt01')\n",
    "# plt_car[4] = corning_96_wellplate_360ul_flat(name='plt02')\n",
    "plt_car[3] = Cos_96_FL(name='plt01')\n",
    "plt_car[4] = Cos_96_FL(name='plt02')\n",
    "\n",
    "lh.deck.assign_child_resource(plt_car, rails=27)\n",
    "\n",
    "plt_car = PLT_CAR_L5AC(name='PLT_CAR_L5AC_2')\n",
    "lh.deck.assign_child_resource(plt_car, rails=33)\n",
    "\n",
    "# plt_car_cooler = PLT_CAR_L5AC(name='PLT_CAR_L5AC_cool_1')\n",
    "# lh.deck.assign_child_resource(plt_car_cooler, rails=43)\n",
    "\n",
    "# plt_car_cooler = PLT_CAR_L5AC(name='PLT_CAR_L5AC_cool_2')\n",
    "# lh.deck.assign_child_resource(plt_car_cooler, rails=49)"
   ]
  },
  {
   "cell_type": "code",
   "execution_count": 18,
   "metadata": {},
   "outputs": [
    {
     "name": "stdout",
     "output_type": "stream",
     "text": [
      "Resource my_mfx_carrier was assigned to the robot.\n"
     ]
    }
   ],
   "source": [
    "# MFXCarrier\n",
    "\n",
    "\n",
    "# from pylabrobot.resources.carrier import MFXCarrier, create_homogeneous_carrier_sites, Coordinate\n",
    "# Define the carrier name and dimensions\n",
    "name = \"my_mfx_carrier\"\n",
    "size_x = 135.0 # Dim.Dx\n",
    "size_y = 497.0 # Dim.Dy\n",
    "size_z = 130.0 # Dim.Dz\n",
    "\n",
    "# Define the carrier sites\n",
    "site_locations = [\n",
    "                  Coordinate(x=6.3, y=202.2, z=114.7), # Site.1.(X,Y,Z)\n",
    "                  Coordinate(x=6.3, y=106.2, z=77.0),  # Site.2.(X,Y,Z)\n",
    "                  Coordinate(x=6.3, y=10.2, z=77.0),   # Site.3.(X,Y,Z)\n",
    "                  Coordinate(x=6.3, y=394.2, z=114.7), # Site.4.(X,Y,Z)\n",
    "                  Coordinate(x=6.3, y=298.2, z=114.7), # Site.5.(X,Y,Z)\n",
    "                  ]\n",
    "site_size_x = 122.4 # Site.1.Dx\u0005122.4\n",
    "site_size_y = 82.6  # Site.1.Dy\u000482.6\n",
    "sites = create_homogeneous_carrier_sites(site_locations, site_size_x, site_size_y)\n",
    "\n",
    "\n",
    "#\n",
    "mfx_carrier = MFXCarrier(name, size_x, size_y, size_z, sites)\n",
    "\n",
    "lh.deck.assign_child_resource(mfx_carrier, rails=13, reassign=True) ## maybe +1 ### OPS OPS TEST POSITION OF THIS LABWARE!!!\n"
   ]
  },
  {
   "cell_type": "code",
   "execution_count": 19,
   "metadata": {},
   "outputs": [
    {
     "name": "stdout",
     "output_type": "stream",
     "text": [
      "Resource my_RGT_CAR_3R_A01_1 was assigned to the robot.\n"
     ]
    }
   ],
   "source": [
    "# Reagent reservar 1:\n",
    "\n",
    "from pylabrobot.resources.carrier import TubeCarrier, create_homogeneous_carrier_sites, Coordinate\n",
    "\n",
    "name = \"my_RGT_CAR_3R_A01_1\"\n",
    "size_x = 22.5 # Dim.Dx\n",
    "size_y = 497 # Dim.Dy\n",
    "size_z = 136.0 # Dim.Dz\n",
    "\n",
    "# Define the carrier sites\n",
    "site_locations = [\n",
    "                  Coordinate(x=0.75, y=9.1, z=18.5), # Site.1.(X,Y,Z)\n",
    "                  Coordinate(x=0.75, y=335.9, z=18.5),  # Site.2.(X,Y,Z)\n",
    "                  Coordinate(x=0.55, y=172.5, z=18.5),   # Site.3.(X,Y,Z)\n",
    "                  ]\n",
    "site_size_x = 21 # Site.1.Dx\u0005122.4\n",
    "site_size_y = 142  # Site.1.Dy\u000482.6\n",
    "sites = create_homogeneous_carrier_sites(site_locations, site_size_x, site_size_y)\n",
    "\n",
    "\n",
    "#\n",
    "reservar_carrier = TubeCarrier(name, size_x, size_y, size_z, sites)\n",
    "\n",
    "lh.deck.assign_child_resource(reservar_carrier, rails=19, reassign=True) ## maybe ASSUMOING POSITION\n"
   ]
  },
  {
   "cell_type": "code",
   "execution_count": 20,
   "metadata": {},
   "outputs": [
    {
     "name": "stdout",
     "output_type": "stream",
     "text": [
      "Resource my_RGT_CAR_3R_A01_2 was assigned to the robot.\n"
     ]
    }
   ],
   "source": [
    "name = \"my_RGT_CAR_3R_A01_2\"\n",
    "size_x = 22.5 # Dim.Dx\n",
    "size_y = 497 # Dim.Dy\n",
    "size_z = 136.0 # Dim.Dz\n",
    "\n",
    "# Define the carrier sites\n",
    "site_locations = [\n",
    "                  Coordinate(x=0.75, y=9.1, z=18.5), # Site.1.(X,Y,Z)\n",
    "                  Coordinate(x=0.75, y=335.9, z=18.5),  # Site.2.(X,Y,Z)\n",
    "                  Coordinate(x=0.55, y=172.5, z=18.5),   # Site.3.(X,Y,Z)\n",
    "                  ]\n",
    "site_size_x = 21 # Site.1.Dx\u0005122.4\n",
    "site_size_y = 142  # Site.1.Dy\u000482.6\n",
    "sites = create_homogeneous_carrier_sites(site_locations, site_size_x, site_size_y)\n",
    "\n",
    "\n",
    "#\n",
    "reservar_carrier = TubeCarrier(name, size_x, size_y, size_z, sites)\n",
    "\n",
    "\n",
    "lh.deck.assign_child_resource(reservar_carrier, rails=20, reassign=True) ## maybe ASSUMOING POSITION"
   ]
  },
  {
   "cell_type": "code",
   "execution_count": 21,
   "metadata": {},
   "outputs": [
    {
     "name": "stdout",
     "output_type": "stream",
     "text": [
      "Resource my_RGT_CAR_5R_A00 was assigned to the robot.\n"
     ]
    }
   ],
   "source": [
    "# Reagent reservar 2:\n",
    "name = \"my_RGT_CAR_5R_A00\"\n",
    "size_x = 22.5 # Dim.Dx\n",
    "size_y = 497 # Dim.Dy\n",
    "size_z = 82.0 # Dim.Dz\n",
    "\n",
    "# Define the carrier sites\n",
    "site_locations = [\n",
    "                  Coordinate(x=1.25, y=198.5, z=18.5), # Site.1.(X,Y,Z)\n",
    "                  Coordinate(x=1.25, y=102.5, z=18.5),  # Site.2.(X,Y,Z)\n",
    "                  Coordinate(x=1.25, y=6.5, z=18.5),   # Site.3.(X,Y,Z)\n",
    "                  Coordinate(x=1.25, y=390.5, z=18.5),   # Site.4.(X,Y,Z)\n",
    "                  Coordinate(x=1.25, y=294.5, z=18.5),   # Site.5.(X,Y,Z)\n",
    "                  ]\n",
    "site_size_x = 20 # Site.1.Dx\u0005122.4\n",
    "site_size_y = 90  # Site.1.Dy\u000482.6\n",
    "sites = create_homogeneous_carrier_sites(site_locations, site_size_x, site_size_y)\n",
    "\n",
    "\n",
    "#\n",
    "reservar_carrier = TubeCarrier(name, size_x, size_y, size_z, sites)\n",
    "\n",
    "lh.deck.assign_child_resource(reservar_carrier, rails=21, reassign=True) ## maybe ASSUMOING POSITION\n"
   ]
  },
  {
   "cell_type": "code",
   "execution_count": null,
   "metadata": {},
   "outputs": [],
   "source": [
    "# Reagent reservar 3:\n",
    "name = \"my_SMP_CAR_24_A00\"\n",
    "# Dim.Dx\u000422.5\u0006Dim.Dy\u0003497\u0006Dim.Dz\u0003140"
   ]
  },
  {
   "cell_type": "code",
   "execution_count": 23,
   "metadata": {},
   "outputs": [
    {
     "name": "stdout",
     "output_type": "stream",
     "text": [
      "Resource my_cooler_carrier_1 was assigned to the robot.\n"
     ]
    }
   ],
   "source": [
    "\n",
    "from pylabrobot.resources.carrier import PlateCarrier, create_homogeneous_carrier_sites, Coordinate\n",
    "\n",
    "name1 = \"my_cooler_carrier_1\"\n",
    "\n",
    "size_x = 135 # Dim.Dx\n",
    "size_y = 497 # Dim.Dy\n",
    "size_z = 130 # Dim.Dz\n",
    "\n",
    "\n",
    "# Define the carrier sites\n",
    "site_locations = [\n",
    "                  Coordinate(x=4, y=104.5, z=81.5), # Site.1.(X,Y,Z)\n",
    "                  Coordinate(x=4, y=8.5, z=81.5),  # Site.2.(X,Y,Z)\n",
    "                  Coordinate(x=4, y=392.5, z=81.5),   # Site.3.(X,Y,Z)\n",
    "                  Coordinate(x=4, y=296.5, z=81.5), # Site.4.(X,Y,Z)\n",
    "                  Coordinate(x=4, y=200.5, z=81.5), # Site.5.(X,Y,Z)\n",
    "                  ]\n",
    "site_size_x = 127 # Site.1.Dx\n",
    "site_size_y = 86  # Site.1.Dy\n",
    "sites = create_homogeneous_carrier_sites(site_locations, site_size_x, site_size_y)\n",
    "\n",
    "\n",
    "# Create an instance of the PlateCarrier\n",
    "cooler_carrier1 = PlateCarrier(name1, size_x, size_y, size_z, sites)\n",
    "\n",
    "\n",
    "lh.deck.assign_child_resource(cooler_carrier1, rails=43, reassign=True) ## APPROX POSITION## APPROX POSITION!!!\n",
    "\n"
   ]
  },
  {
   "cell_type": "code",
   "execution_count": 28,
   "metadata": {},
   "outputs": [
    {
     "name": "stdout",
     "output_type": "stream",
     "text": [
      "Resource my_cooler_carrier_2 was assigned to the robot.\n"
     ]
    }
   ],
   "source": [
    "name2 = \"my_cooler_carrier_2\"\n",
    "size_x = 135 # Dim.Dx\n",
    "size_y = 497 # Dim.Dy\n",
    "size_z = 130 # Dim.Dz\n",
    "\n",
    "\n",
    "# Define the carrier sites\n",
    "site_locations = [\n",
    "                  Coordinate(x=4, y=104.5, z=81.5), # Site.1.(X,Y,Z)\n",
    "                  Coordinate(x=4, y=8.5, z=81.5),  # Site.2.(X,Y,Z)\n",
    "                  Coordinate(x=4, y=392.5, z=81.5),   # Site.3.(X,Y,Z)\n",
    "                  Coordinate(x=4, y=296.5, z=81.5), # Site.4.(X,Y,Z)\n",
    "                  Coordinate(x=4, y=200.5, z=81.5), # Site.5.(X,Y,Z)\n",
    "                  ]\n",
    "site_size_x = 127 # Site.1.Dx\n",
    "site_size_y = 86  # Site.1.Dy\n",
    "\n",
    "sites = create_homogeneous_carrier_sites(site_locations, site_size_x, site_size_y)\n",
    "cooler_carrier2 = PlateCarrier(name2, size_x, size_y, size_z, sites)\n",
    "lh.deck.assign_child_resource(cooler_carrier2, rails=49, reassign=True) ## APPROX POSITION  !!!"
   ]
  },
  {
   "cell_type": "markdown",
   "metadata": {},
   "source": [
    "# Simulation create liquids in plates and fill tips"
   ]
  },
  {
   "cell_type": "code",
   "execution_count": 29,
   "metadata": {},
   "outputs": [],
   "source": [
    "# plt_car = PLT_CAR_L5AC(name='PLT_CAR_L5AC_1')\n",
    "# plt_car[3] = corning_96_wellplate_360ul_flat(name='plt01')\n",
    "# plt_car[4] = corning_96_wellplate_360ul_flat(name='plt02')\n",
    "\n",
    "tiprack = lh.get_resource(\"tip01\")\n",
    "dist1 = lh.get_resource('plt02')\n",
    "source_plate = lh.get_resource('plt01')\n",
    "\n",
    "if simulate:\n",
    "  # define Tips\n",
    "  tiprack.fill()\n",
    "  plate_1_liquids = [[(None, 50)]]*96\n",
    "  # vis.adjust_wells_liquids(source_plate, liquids=plate_1_liquids)\n",
    "  source_plate.set_well_liquids(plate_1_liquids)"
   ]
  },
  {
   "cell_type": "markdown",
   "metadata": {},
   "source": [
    "# Liquid Commands"
   ]
  },
  {
   "cell_type": "code",
   "execution_count": null,
   "metadata": {},
   "outputs": [],
   "source": [
    "# ## Generate all well positions to pick tips from\n",
    "# rows = ['A', 'B', 'C', 'D', 'E', 'F', 'G', 'H']\n",
    "# columns = range(1, 13)\n",
    "# tip_slot = [f\"{row}{col}\" for row in rows for col in columns]\n",
    "# print(tip_slot)\n",
    "\n",
    "# well_names_sorted = sorted(tip_slot, key=lambda x: (x[1:], x[0]))\n",
    "# print(well_names_sorted)"
   ]
  },
  {
   "cell_type": "code",
   "execution_count": 30,
   "metadata": {},
   "outputs": [],
   "source": [
    "tip_slot = ['A1', 'B1', 'C1', 'D1', 'E1', 'F1', 'G1', 'H1', 'A2', 'B2', 'C2', 'D2', 'E2', 'F2', 'G2', 'H2', 'A3', 'B3', 'C3', 'D3', 'E3', 'F3', 'G3', 'H3', 'A4', 'B4', 'C4', 'D4', 'E4', 'F4', 'G4', 'H4', 'A5', 'B5', 'C5', 'D5', 'E5', 'F5', 'G5', 'H5', 'A6', 'B6', 'C6', 'D6', 'E6', 'F6', 'G6', 'H6', 'A7', 'B7', 'C7', 'D7', 'E7', 'F7', 'G7', 'H7', 'A8', 'B8', 'C8', 'D8', 'E8', 'F8', 'G8', 'H8', 'A9', 'B9', 'C9', 'D9', 'E9', 'F9', 'G9', 'H9', 'A10', 'B10', 'C10', 'D10', 'E10', 'F10', 'G10', 'H10', 'A11', 'B11', 'C11', 'D11', 'E11', 'F11', 'G11', 'H11', 'A12', 'B12', 'C12', 'D12', 'E12', 'F12', 'G12', 'H12']"
   ]
  },
  {
   "cell_type": "code",
   "execution_count": 31,
   "metadata": {},
   "outputs": [
    {
     "name": "stdout",
     "output_type": "stream",
     "text": [
      "Picking up tips [Pickup(resource=TipSpot(name=tip01_tipspot_0_2, location=(007.200, 050.300, -40.500), size_x=9.0, size_y=9.0, size_z=0, category=tip_spot), offset=None, tip=HamiltonTip(STANDARD_VOLUME, has_filter=False, maximal_volume=65, fitting_depth=8, total_tip_length=50.4, pickup_method=OUT_OF_RACK)), Pickup(resource=TipSpot(name=tip01_tipspot_0_3, location=(007.200, 041.300, -40.500), size_x=9.0, size_y=9.0, size_z=0, category=tip_spot), offset=None, tip=HamiltonTip(STANDARD_VOLUME, has_filter=False, maximal_volume=65, fitting_depth=8, total_tip_length=50.4, pickup_method=OUT_OF_RACK)), Pickup(resource=TipSpot(name=tip01_tipspot_0_4, location=(007.200, 032.300, -40.500), size_x=9.0, size_y=9.0, size_z=0, category=tip_spot), offset=None, tip=HamiltonTip(STANDARD_VOLUME, has_filter=False, maximal_volume=65, fitting_depth=8, total_tip_length=50.4, pickup_method=OUT_OF_RACK))].\n",
      "Aspirating [Aspiration(resource=Well(name=plt01_well_0_0, location=(010.570, 071.070, 001.000), size_x=6.86, size_y=6.86, size_z=10.67, category=well), offset=None, tip=HamiltonTip(STANDARD_VOLUME, has_filter=False, maximal_volume=65, fitting_depth=8, total_tip_length=50.4, pickup_method=OUT_OF_RACK), volume=20.0, flow_rate=None, liquid_height=None, blow_out_air_volume=None, liquids=[(None, 20.0)]), Aspiration(resource=Well(name=plt01_well_0_1, location=(010.570, 062.070, 001.000), size_x=6.86, size_y=6.86, size_z=10.67, category=well), offset=None, tip=HamiltonTip(STANDARD_VOLUME, has_filter=False, maximal_volume=65, fitting_depth=8, total_tip_length=50.4, pickup_method=OUT_OF_RACK), volume=40.0, flow_rate=None, liquid_height=None, blow_out_air_volume=None, liquids=[(None, 40.0)]), Aspiration(resource=Well(name=plt01_well_0_2, location=(010.570, 053.070, 001.000), size_x=6.86, size_y=6.86, size_z=10.67, category=well), offset=None, tip=HamiltonTip(STANDARD_VOLUME, has_filter=False, maximal_volume=65, fitting_depth=8, total_tip_length=50.4, pickup_method=OUT_OF_RACK), volume=10.0, flow_rate=None, liquid_height=None, blow_out_air_volume=None, liquids=[(None, 10.0)])].\n",
      "Dispensing [Dispense(resource=Well(name=plt02_well_0_0, location=(010.570, 071.070, 001.000), size_x=6.86, size_y=6.86, size_z=10.67, category=well), offset=None, tip=HamiltonTip(STANDARD_VOLUME, has_filter=False, maximal_volume=65, fitting_depth=8, total_tip_length=50.4, pickup_method=OUT_OF_RACK), volume=20.0, flow_rate=None, liquid_height=None, blow_out_air_volume=None, liquids=[(None, 20.0)]), Dispense(resource=Well(name=plt02_well_0_1, location=(010.570, 062.070, 001.000), size_x=6.86, size_y=6.86, size_z=10.67, category=well), offset=None, tip=HamiltonTip(STANDARD_VOLUME, has_filter=False, maximal_volume=65, fitting_depth=8, total_tip_length=50.4, pickup_method=OUT_OF_RACK), volume=50.0, flow_rate=None, liquid_height=None, blow_out_air_volume=None, liquids=[(None, 50.0)]), Dispense(resource=Well(name=plt02_well_0_2, location=(010.570, 053.070, 001.000), size_x=6.86, size_y=6.86, size_z=10.67, category=well), offset=None, tip=HamiltonTip(STANDARD_VOLUME, has_filter=False, maximal_volume=65, fitting_depth=8, total_tip_length=50.4, pickup_method=OUT_OF_RACK), volume=10.0, flow_rate=None, liquid_height=None, blow_out_air_volume=None, liquids=[(None, 10.0)])].\n",
      "Dropping tips [Drop(resource=TipSpot(name=tip01_tipspot_0_2, location=(007.200, 050.300, -40.500), size_x=9.0, size_y=9.0, size_z=0, category=tip_spot), offset=None, tip=HamiltonTip(STANDARD_VOLUME, has_filter=False, maximal_volume=65, fitting_depth=8, total_tip_length=50.4, pickup_method=OUT_OF_RACK))].\n",
      "Dropping tips [Drop(resource=TipSpot(name=tip01_tipspot_0_4, location=(007.200, 032.300, -40.500), size_x=9.0, size_y=9.0, size_z=0, category=tip_spot), offset=None, tip=HamiltonTip(STANDARD_VOLUME, has_filter=False, maximal_volume=65, fitting_depth=8, total_tip_length=50.4, pickup_method=OUT_OF_RACK))].\n"
     ]
    }
   ],
   "source": [
    "# source_slot = t_list[count][0]\n",
    "# source_well = t_list[count][1]\n",
    "# dist_slot = t_list[count][2]\n",
    "# dist_well = t_list[count][3]\n",
    "# volume = float(t_list[0][4])\n",
    "# source_plate = find_plate_name(input_slots, int(source_slot))\n",
    "# print('source_plate', source_plate)\n",
    "# print('source_well', source_well)\n",
    "# print(t_list[count])\n",
    "\n",
    "\n",
    "# await lh.pick_up_tips(tiprack['C1'])\n",
    "await lh.pick_up_tips(tiprack[\"C1:E1\"])\n",
    "\n",
    "\n",
    "# await lh.aspirate(source_plate['H1'], vols=[50.0])\n",
    "# await lh.aspirate(source1[source_well], vols=volume)\n",
    "\n",
    "source_plate = lh.get_resource('plt01')\n",
    "await lh.aspirate(source_plate[\"A1:C1\"], vols=[20.0, 40.0, 10.0], swap_speed=100, homogenization_speed=1000)\n",
    "\n",
    "await lh.dispense(dist1[\"A1:C1\"], vols=[20.0, 50.0, 10.0], swap_speed=100, homogenization_speed=1000, mix_speed=1000)\n",
    "\n",
    "# await lh.drop_tips(tip_spots=[trash]*1, offsets=offsets)\n",
    "await lh.drop_tips(tiprack[\"C1\"])\n",
    "\n",
    "\n",
    "await lh.drop_tips(tiprack[\"E1\"], use_channels=[2])\n"
   ]
  },
  {
   "cell_type": "code",
   "execution_count": null,
   "metadata": {},
   "outputs": [],
   "source": [
    "\n"
   ]
  },
  {
   "cell_type": "code",
   "execution_count": null,
   "metadata": {},
   "outputs": [
    {
     "data": {
      "text/plain": [
       "Plate(name=source_1, size_x=127.76, size_y=85.47, size_z=14.22, location=(000.000, 271.500, 000.000))"
      ]
     },
     "execution_count": 9,
     "metadata": {},
     "output_type": "execute_result"
    }
   ],
   "source": [
    "\n",
    "\n"
   ]
  },
  {
   "cell_type": "code",
   "execution_count": 32,
   "metadata": {},
   "outputs": [
    {
     "name": "stdout",
     "output_type": "stream",
     "text": [
      "Rail     Resource                   Type                Coordinates (mm)\n",
      "==============================================================================================\n",
      "(-13) ├── trash_core96               Trash               (-232.100, 110.300, 189.000)\n",
      "      │\n",
      "(0)   ├── my_shaker_carrier          ShakerCarrier       (077.500, 063.000, 100.000)\n",
      "      │   ├── <empty>\n",
      "      │   ├── <empty>\n",
      "      │   ├── <empty>\n",
      "      │   ├── <empty>\n",
      "      │   ├── <empty>\n",
      "      │\n",
      "(7)   ├── tip_carrier                TipCarrier          (235.000, 063.000, 100.000)\n",
      "      │   ├── <empty>\n",
      "      │   ├── tip01                  TipRack             (252.900, 241.800, 174.450)\n",
      "      │   ├── tip02                  TipRack             (252.900, 337.800, 174.450)\n",
      "      │   ├── <empty>\n",
      "      │   ├── <empty>\n",
      "      │\n",
      "(13)  ├── my_mfx_carrier             MFXCarrier          (370.000, 063.000, 100.000)\n",
      "      │   ├── <empty>\n",
      "      │   ├── <empty>\n",
      "      │   ├── <empty>\n",
      "      │   ├── <empty>\n",
      "      │   ├── <empty>\n",
      "      │\n",
      "(19)  ├── my_RGT_CAR_3R_A01_1        TubeCarrier         (505.000, 063.000, 100.000)\n",
      "      │   ├── <empty>\n",
      "      │   ├── <empty>\n",
      "      │   ├── <empty>\n",
      "      │\n",
      "(20)  ├── my_RGT_CAR_3R_A01_2        TubeCarrier         (527.500, 063.000, 100.000)\n",
      "      │   ├── <empty>\n",
      "      │   ├── <empty>\n",
      "      │   ├── <empty>\n",
      "      │\n",
      "(21)  ├── my_RGT_CAR_5R_A00          TubeCarrier         (550.000, 063.000, 100.000)\n",
      "      │   ├── <empty>\n",
      "      │   ├── <empty>\n",
      "      │   ├── <empty>\n",
      "      │   ├── <empty>\n",
      "      │   ├── <empty>\n",
      "      │\n",
      "(27)  ├── PLT_CAR_L5AC_1             PlateCarrier        (685.000, 063.000, 100.000)\n",
      "      │   ├── <empty>\n",
      "      │   ├── <empty>\n",
      "      │   ├── <empty>\n",
      "      │   ├── plt01                  Plate               (703.000, 434.000, 187.150)\n",
      "      │   ├── plt02                  Plate               (703.000, 530.000, 187.150)\n",
      "      │\n",
      "(33)  ├── PLT_CAR_L5AC_2             PlateCarrier        (820.000, 063.000, 100.000)\n",
      "      │   ├── <empty>\n",
      "      │   ├── <empty>\n",
      "      │   ├── <empty>\n",
      "      │   ├── <empty>\n",
      "      │   ├── <empty>\n",
      "      │\n",
      "(43)  ├── my_cooler_carrier_1        PlateCarrier        (1045.000, 063.000, 100.000)\n",
      "      │   ├── <empty>\n",
      "      │   ├── <empty>\n",
      "      │   ├── <empty>\n",
      "      │   ├── <empty>\n",
      "      │   ├── <empty>\n",
      "      │\n",
      "(49)  ├── my_cooler_carrier_2        PlateCarrier        (1180.000, 063.000, 100.000)\n",
      "      │   ├── <empty>\n",
      "      │   ├── <empty>\n",
      "      │   ├── <empty>\n",
      "      │   ├── <empty>\n",
      "      │   ├── <empty>\n",
      "      │\n",
      "(56)  ├── trash                      Trash               (1340.000, 190.600, 137.100)\n",
      "\n"
     ]
    }
   ],
   "source": [
    "print(lh.deck.summary())"
   ]
  },
  {
   "cell_type": "markdown",
   "metadata": {},
   "source": [
    "# Shutdown"
   ]
  },
  {
   "cell_type": "code",
   "execution_count": null,
   "metadata": {},
   "outputs": [
    {
     "name": "stdout",
     "output_type": "stream",
     "text": [
      "Stopping the robot.\n"
     ]
    }
   ],
   "source": [
    "await lh.stop()"
   ]
  },
  {
   "cell_type": "code",
   "execution_count": null,
   "metadata": {},
   "outputs": [],
   "source": []
  },
  {
   "cell_type": "markdown",
   "metadata": {},
   "source": [
    "# Alternative tip picking test\n"
   ]
  },
  {
   "cell_type": "markdown",
   "metadata": {},
   "source": []
  },
  {
   "cell_type": "markdown",
   "metadata": {},
   "source": [
    "# Building Hamilton deck for Hamilton in B221 R032"
   ]
  }
 ],
 "metadata": {
  "kernelspec": {
   "display_name": "venv",
   "language": "python",
   "name": "python3"
  },
  "language_info": {
   "codemirror_mode": {
    "name": "ipython",
    "version": 3
   },
   "file_extension": ".py",
   "mimetype": "text/x-python",
   "name": "python",
   "nbconvert_exporter": "python",
   "pygments_lexer": "ipython3",
   "version": "3.10.11"
  }
 },
 "nbformat": 4,
 "nbformat_minor": 2
}
