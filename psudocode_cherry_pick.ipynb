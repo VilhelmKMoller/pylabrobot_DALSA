{
 "cells": [
  {
   "cell_type": "code",
   "execution_count": null,
   "metadata": {},
   "outputs": [],
   "source": []
  },
  {
   "cell_type": "markdown",
   "metadata": {},
   "source": [
    "# Cherry Pick script with PyLabRobot for Hamilton"
   ]
  },
  {
   "cell_type": "markdown",
   "metadata": {},
   "source": [
    "# questions \n",
    "\n",
    "Does lld work? "
   ]
  },
  {
   "cell_type": "markdown",
   "metadata": {},
   "source": [
    "# To do\n",
    "\n",
    "Copy Hamilton 223 specs from lab to fit in PLR\n",
    "Write code for cherry pick\n",
    "Simulate code on PLR simulator\n",
    "Test code with water. \n",
    "Test with foil seal. Can i get it to override LLD?\n",
    "Implement in cherry_pick git repo \n",
    "\n",
    "Test if i can split into the three parts. "
   ]
  },
  {
   "cell_type": "code",
   "execution_count": 1,
   "metadata": {},
   "outputs": [],
   "source": [
    "# start inputs\n",
    "t_list = [['10', 'A1', '9', 'A1', '100', 'FSH0345O'], ['10', 'B1', '9', 'B1', '100', 'FSH0345O'], ['10', 'C1', '9', 'C1', '100', 'FSH0345O'], ['10', 'D1', '9', 'D1', '100', 'FSH0345O'], ['10', 'E1', '9', 'E1', '100', 'FSH0345O'], ['10', 'F1', '9', 'F1', '100', 'FSH0345O'], ['10', 'G1', '9', 'G1', '100', 'FSH0345O'], ['10', 'H1', '9', 'H1', '100', 'FSH0345O'], ['10', 'A2', '9', 'A2', '100', 'FSH0345O'], ['10', 'B2', '9', 'B2', '100', 'FSH0345O'], ['10', 'C2', '9', 'C2', '100', 'FSH0345O'], ['10', 'D2', '9', 'D2', '100', 'FSH0345O'], ['10', 'E2', '9', 'E2', '100', 'FSH0345O'], ['10', 'F2', '9', 'F2', '100', 'FSH0345O'], ['10', 'G2', '9', 'G2', '100', 'FSH0345O'], ['10', 'H2', '9', 'H2', '100', 'FSH0345O'], ['10', 'A3', '9', 'A3', '100', 'FSH0345O'], ['10', 'B3', '9', 'B3', '100', 'FSH0345O'], ['10', 'C3', '9', 'C3', '100', 'FSH0345O'], ['10', 'D3', '9', 'D3', '100', 'FSH0345O'], ['10', 'E3', '9', 'E3', '100', 'FSH0345O'], ['10', 'F3', '9', 'F3', '100', 'FSH0345O'], ['10', 'G3', '9', 'G3', '100', 'FSH0345O'], ['10', 'H3', '9', 'H3', '100', 'FSH0345O'], ['10', 'A4', '9', 'A4', '100', 'FSH0345O'], ['10', 'B4', '9', 'B4', '100', 'FSH0345O'], ['10', 'C4', '9', 'C4', '100', 'FSH0345O'], ['10', 'D4', '9', 'D4', '100', 'FSH0345O'], ['10', 'E4', '9', 'E4', '100', 'FSH0345O'], ['10', 'F4', '9', 'F4', '100', 'FSH0345O'], ['10', 'G4', '9', 'G4', '100', 'FSH0345O'], ['10', 'H4', '9', 'H4', '100', 'FSH0345O'], ['10', 'A5', '9', 'A5', '100', 'FSH0345O'], ['10', 'B5', '9', 'B5', '100', 'FSH0345O'], ['10', 'C5', '9', 'C5', '100', 'FSH0345O'], ['10', 'D5', '9', 'D5', '100', 'FSH0345O'], ['10', 'E5', '9', 'E5', '100', 'FSH0345O'], ['10', 'F5', '9', 'F5', '100', 'FSH0345O'], ['7', 'A1', '9', 'G5', '100', 'FSH034AP'], ['7', 'B1', '9', 'H5', '100', 'FSH034AP'], ['7', 'C1', '9', 'A6', '100', 'FSH034AP'], ['7', 'E1', '9', 'B6', '100', 'FSH034AP'], ['7', 'A2', '9', 'C6', '100', 'FSH034AP'], ['7', 'D2', '9', 'D6', '100', 'FSH034AP'], ['7', 'E2', '9', 'E6', '100', 'FSH034AP'], ['7', 'F2', '9', 'F6', '100', 'FSH034AP'], ['7', 'G2', '9', 'G6', '100', 'FSH034AP'], ['7', 'B3', '9', 'H6', '100', 'FSH034AP'], ['7', 'E3', '9', 'A7', '100', 'FSH034AP'], ['7', 'F3', '9', 'B7', '100', 'FSH034AP'], ['7', 'G3', '9', 'C7', '100', 'FSH034AP'], ['7', 'A4', '9', 'D7', '100', 'FSH034AP'], ['7', 'C4', '9', 'E7', '100', 'FSH034AP'], ['7', 'F4', '9', 'F7', '100', 'FSH034AP'], ['7', 'H4', '9', 'G7', '100', 'FSH034AP'], ['7', 'A5', '9', 'H7', '100', 'FSH034AP'], ['7', 'B5', '9', 'A8', '100', 'FSH034AP'], ['7', 'C5', '9', 'B8', '100', 'FSH034AP'], ['7', 'D5', '9', 'C8', '100', 'FSH034AP'], ['7', 'E5', '9', 'D8', '100', 'FSH034AP'], ['7', 'F5', '9', 'E8', '100', 'FSH034AP'], ['7', 'G5', '9', 'F8', '100', 'FSH034AP'], ['7', 'H5', '9', 'G8', '100', 'FSH034AP'], ['7', 'E6', '9', 'H8', '100', 'FSH034AP'], ['7', 'F6', '9', 'A9', '100', 'FSH034AP'], ['7', 'G6', '9', 'B9', '100', 'FSH034AP'], ['7', 'H6', '9', 'C9', '100', 'FSH034AP'], ['7', 'A7', '9', 'D9', '100', 'FSH034AP'], ['7', 'B7', '9', 'E9', '100', 'FSH034AP'], ['7', 'C7', '9', 'F9', '100', 'FSH034AP'], ['7', 'D7', '9', 'G9', '100', 'FSH034AP'], ['7', 'E7', '9', 'H9', '100', 'FSH034AP'], ['7', 'F7', '9', 'A10', '100', 'FSH034AP'], ['7', 'G7', '9', 'B10', '100', 'FSH034AP'], ['7', 'H7', '9', 'C10', '100', 'FSH034AP'], ['7', 'A8', '9', 'D10', '100', 'FSH034AP'], ['7', 'B8', '9', 'E10', '100', 'FSH034AP'], ['7', 'C8', '9', 'F10', '100', 'FSH034AP'], ['7', 'D8', '9', 'G10', '100', 'FSH034AP'], ['7', 'E8', '9', 'H10', '100', 'FSH034AP'], ['7', 'F8', '9', 'A11', '100', 'FSH034AP'], ['7', 'G8', '9', 'B11', '100', 'FSH034AP'], ['7', 'H8', '9', 'C11', '100', 'FSH034AP'], ['7', 'A9', '9', 'D11', '100', 'FSH034AP'], ['7', 'B9', '9', 'E11', '100', 'FSH034AP'], ['7', 'C9', '9', 'F11', '100', 'FSH034AP'], ['7', 'F9', '9', 'G11', '100', 'FSH034AP'], ['7', 'G9', '9', 'H11', '100', 'FSH034AP'], ['7', 'A10', '9', 'A12', '100', 'FSH034AP'], ['7', 'B10', '9', 'B12', '100', 'FSH034AP'], ['7', 'C10', '9', 'C12', '100', 'FSH034AP'], ['7', 'D10', '9', 'D12', '100', 'FSH034AP']]\n",
    "control_input = {'source_plate': 'biorad_96_wellplate_200ul_pcr', 'dest_plate': 'usascientific_96_wellplate_2.4ml_deep', 'right_pipette': 'p300_single', 'left_pipette': 'p10_single'}"
   ]
  },
  {
   "cell_type": "markdown",
   "metadata": {},
   "source": [
    "# Settup Simulator or Backend"
   ]
  },
  {
   "cell_type": "code",
   "execution_count": 2,
   "metadata": {},
   "outputs": [
    {
     "name": "stdout",
     "output_type": "stream",
     "text": [
      "Websocket server started at http://127.0.0.1:2121\n",
      "File server started at http://127.0.0.1:1337 . Open this URL in your browser.\n"
     ]
    }
   ],
   "source": [
    "simulate = True\n",
    "robot_selected = 'OT' # OR STAR\n",
    "\n",
    "################ Settup STAR Simulate or Real.\n",
    "# from pylabrobot.liquid_handling import LiquidHandler\n",
    "\n",
    "# if simulate:\n",
    "#   from pylabrobot.liquid_handling.backends.simulation.simulator_backend import SimulatorBackend\n",
    "# else:\n",
    "#   from pylabrobot.liquid_handling.backends import STAR\n",
    "\n",
    "\n",
    "# from pylabrobot.resources.hamilton import STARLetDeck\n",
    "\n",
    "# if simulate:\n",
    "#   sb = SimulatorBackend(open_browser=False)\n",
    "#   lh = LiquidHandler(backend=sb, deck=STARLetDeck())\n",
    "# else:\n",
    "#   backend = STAR()\n",
    "#   lh = LiquidHandler(backend=backend, deck=STARLetDeck())\n",
    "\n",
    "# await lh.setup()\n",
    "\n",
    "# if simulate:\n",
    "#   sb.wait_for_connection()\n",
    "\n",
    "\n",
    "############# settup OT simulate:\n",
    "from pylabrobot.liquid_handling import LiquidHandler\n",
    "from pylabrobot.liquid_handling.backends.simulation.simulator_backend import SimulatorBackend\n",
    "\n",
    "\n",
    "from pylabrobot.liquid_handling.backends import OpentronsBackend ## maybe used ???\n",
    "\n",
    "\n",
    "from pylabrobot.resources.opentrons.deck import OTDeck\n",
    "\n",
    "sb = SimulatorBackend(ws_host=\"127.0.0.1\", fs_host=\"127.0.0.1\")\n",
    "lh = LiquidHandler(backend=sb, deck=OTDeck())\n",
    "\n",
    "await lh.setup()\n",
    "\n",
    "sb.wait_for_connection()\n"
   ]
  },
  {
   "cell_type": "markdown",
   "metadata": {},
   "source": [
    "# Settup Deck"
   ]
  },
  {
   "cell_type": "code",
   "execution_count": 3,
   "metadata": {},
   "outputs": [],
   "source": [
    "# from pylabrobot.resources import (\n",
    "#     TIP_CAR_480_A00,\n",
    "#     PLT_CAR_L5AC_A00,\n",
    "#     Cos_96_DW_1mL,\n",
    "#     HTF_L\n",
    "# )\n",
    "\n",
    "# tip_car = TIP_CAR_480_A00(name='tip carrier')\n",
    "# tip_car[0] = HTF_L(name='tips_01')\n",
    "\n",
    "# lh.deck.assign_child_resource(tip_car, rails=3)\n",
    "\n",
    "# plt_car = PLT_CAR_L5AC_A00(name='plate carrier')\n",
    "# plt_car[0] = Cos_96_DW_1mL(name='plate_01')\n",
    "# plt_car[1] = Cos_96_DW_1mL(name='plate_02')\n",
    "\n",
    "\n",
    "# lh.deck.assign_child_resource(plt_car, rails=15)\n",
    "\n",
    "\n",
    "############# settup OT simulate:\n",
    "from pylabrobot.resources import (\n",
    "  opentrons_96_tiprack_300ul,\n",
    "  corning_96_wellplate_360ul_flat,\n",
    "  Cos_96_DW_1mL\n",
    ")\n",
    "\n",
    "tips1 = opentrons_96_tiprack_300ul(name=\"tips_01\")\n",
    "tips2 = opentrons_96_tiprack_300ul(name=\"tips_02\")\n",
    "source1 = corning_96_wellplate_360ul_flat(name=\"source_1\")\n",
    "source2 = corning_96_wellplate_360ul_flat(name=\"source_2\")\n",
    "source3 = corning_96_wellplate_360ul_flat(name=\"source_3\")\n",
    "source4 = corning_96_wellplate_360ul_flat(name=\"source_4\")\n",
    "dist1 = corning_96_wellplate_360ul_flat(name=\"dist1\")\n",
    "\n",
    "lh.deck.assign_child_at_slot(tips1, slot=11)\n",
    "lh.deck.assign_child_at_slot(tips2, slot=8)\n",
    "lh.deck.assign_child_at_slot(source1, slot=10)\n",
    "lh.deck.assign_child_at_slot(source2, slot=7)\n",
    "lh.deck.assign_child_at_slot(source3, slot=4)\n",
    "lh.deck.assign_child_at_slot(source4, slot=1)\n",
    "\n",
    "lh.deck.assign_child_at_slot(dist1, slot=9)\n",
    "\n",
    "trash = lh.deck.get_trash_area()\n",
    "offsets = trash.get_2d_center_offsets(n=1)\n",
    "\n",
    "input_slots = {10: 'source1', 7: 'source2', 4: 'source3', 1: 'source4'}\n"
   ]
  },
  {
   "cell_type": "markdown",
   "metadata": {},
   "source": [
    "# Simulation create liquids in plates and fill tips"
   ]
  },
  {
   "cell_type": "code",
   "execution_count": 4,
   "metadata": {},
   "outputs": [],
   "source": [
    "if simulate:\n",
    "  # get resources\n",
    "  tiprack = lh.get_resource(\"tips_01\")\n",
    "  source1 = lh.get_resource('source_1')\n",
    "  source2 = lh.get_resource('source_2')\n",
    "  source3 = lh.get_resource('source_3')\n",
    "  source4 = lh.get_resource('source_4')\n",
    "  dist1 = lh.get_resource('dist1')\n",
    "\n",
    "  # define Tips\n",
    "  await sb.fill_tip_rack(tiprack)\n",
    "\n",
    "  # define liquids\n",
    "  plate_1_liquids = [[(None, 200)]]*96\n",
    "  await sb.adjust_wells_liquids(source1, liquids=plate_1_liquids)\n",
    "  await sb.adjust_wells_liquids(source2, liquids=plate_1_liquids)\n",
    "  await sb.adjust_wells_liquids(source3, liquids=plate_1_liquids)\n",
    "  await sb.adjust_wells_liquids(source4, liquids=plate_1_liquids)\n",
    "\n",
    "  # plate_2_liquids = [[(None, 100)], [(None, 500)]]*(96//2)\n",
    "  # await sb.adjust_wells_liquids(plate_2, liquids=plate_2_liquids)\n",
    "\n",
    "  source1.set_well_liquids(plate_1_liquids)\n",
    "  source2.set_well_liquids(plate_1_liquids)\n",
    "  source3.set_well_liquids(plate_1_liquids)\n",
    "  source4.set_well_liquids(plate_1_liquids)\n",
    "  # plate_2.set_well_liquids(plate_2_liquids)"
   ]
  },
  {
   "cell_type": "markdown",
   "metadata": {},
   "source": [
    "# Liquid Commands"
   ]
  },
  {
   "cell_type": "code",
   "execution_count": 14,
   "metadata": {},
   "outputs": [
    {
     "name": "stdout",
     "output_type": "stream",
     "text": [
      "['A1', 'A2', 'A3', 'A4', 'A5', 'A6', 'A7', 'A8', 'A9', 'A10', 'A11', 'A12', 'B1', 'B2', 'B3', 'B4', 'B5', 'B6', 'B7', 'B8', 'B9', 'B10', 'B11', 'B12', 'C1', 'C2', 'C3', 'C4', 'C5', 'C6', 'C7', 'C8', 'C9', 'C10', 'C11', 'C12', 'D1', 'D2', 'D3', 'D4', 'D5', 'D6', 'D7', 'D8', 'D9', 'D10', 'D11', 'D12', 'E1', 'E2', 'E3', 'E4', 'E5', 'E6', 'E7', 'E8', 'E9', 'E10', 'E11', 'E12', 'F1', 'F2', 'F3', 'F4', 'F5', 'F6', 'F7', 'F8', 'F9', 'F10', 'F11', 'F12', 'G1', 'G2', 'G3', 'G4', 'G5', 'G6', 'G7', 'G8', 'G9', 'G10', 'G11', 'G12', 'H1', 'H2', 'H3', 'H4', 'H5', 'H6', 'H7', 'H8', 'H9', 'H10', 'H11', 'H12']\n",
      "['A1', 'B1', 'C1', 'D1', 'E1', 'F1', 'G1', 'H1', 'A10', 'B10', 'C10', 'D10', 'E10', 'F10', 'G10', 'H10', 'A11', 'B11', 'C11', 'D11', 'E11', 'F11', 'G11', 'H11', 'A12', 'B12', 'C12', 'D12', 'E12', 'F12', 'G12', 'H12', 'A2', 'B2', 'C2', 'D2', 'E2', 'F2', 'G2', 'H2', 'A3', 'B3', 'C3', 'D3', 'E3', 'F3', 'G3', 'H3', 'A4', 'B4', 'C4', 'D4', 'E4', 'F4', 'G4', 'H4', 'A5', 'B5', 'C5', 'D5', 'E5', 'F5', 'G5', 'H5', 'A6', 'B6', 'C6', 'D6', 'E6', 'F6', 'G6', 'H6', 'A7', 'B7', 'C7', 'D7', 'E7', 'F7', 'G7', 'H7', 'A8', 'B8', 'C8', 'D8', 'E8', 'F8', 'G8', 'H8', 'A9', 'B9', 'C9', 'D9', 'E9', 'F9', 'G9', 'H9']\n"
     ]
    }
   ],
   "source": [
    "# ## Generate all well positions to pick tips from\n",
    "# rows = ['A', 'B', 'C', 'D', 'E', 'F', 'G', 'H']\n",
    "# columns = range(1, 13)\n",
    "# tip_slot = [f\"{row}{col}\" for row in rows for col in columns]\n",
    "# print(tip_slot)\n",
    "\n",
    "# well_names_sorted = sorted(tip_slot, key=lambda x: (x[1:], x[0]))\n",
    "# print(well_names_sorted)"
   ]
  },
  {
   "cell_type": "code",
   "execution_count": 15,
   "metadata": {},
   "outputs": [
    {
     "name": "stdout",
     "output_type": "stream",
     "text": [
      "['A1', 'A10', 'A11', 'A12', 'A2', 'A3', 'A4', 'A5', 'A6', 'A7', 'A8', 'A9', 'B1', 'B10', 'B11', 'B12', 'B2', 'B3', 'B4', 'B5', 'B6', 'B7', 'B8', 'B9', 'C1', 'C10', 'C11', 'C12', 'C2', 'C3', 'C4', 'C5', 'C6', 'C7', 'C8', 'C9', 'D1', 'D10', 'D11', 'D12', 'D2', 'D3', 'D4', 'D5', 'D6', 'D7', 'D8', 'D9', 'E1', 'E10', 'E11', 'E12', 'E2', 'E3', 'E4', 'E5', 'E6', 'E7', 'E8', 'E9', 'F1', 'F10', 'F11', 'F12', 'F2', 'F3', 'F4', 'F5', 'F6', 'F7', 'F8', 'F9', 'G1', 'G10', 'G11', 'G12', 'G2', 'G3', 'G4', 'G5', 'G6', 'G7', 'G8', 'G9', 'H1', 'H10', 'H11', 'H12', 'H2', 'H3', 'H4', 'H5', 'H6', 'H7', 'H8', 'H9']\n"
     ]
    }
   ],
   "source": [
    "tip_slot = ['A1', 'B1', 'C1', 'D1', 'E1', 'F1', 'G1', 'H1', 'A2', 'B2', 'C2', 'D2', 'E2', 'F2', 'G2', 'H2', 'A3', 'B3', 'C3', 'D3', 'E3', 'F3', 'G3', 'H3', 'A4', 'B4', 'C4', 'D4', 'E4', 'F4', 'G4', 'H4', 'A5', 'B5', 'C5', 'D5', 'E5', 'F5', 'G5', 'H5', 'A6', 'B6', 'C6', 'D6', 'E6', 'F6', 'G6', 'H6', 'A7', 'B7', 'C7', 'D7', 'E7', 'F7', 'G7', 'H7', 'A8', 'B8', 'C8', 'D8', 'E8', 'F8', 'G8', 'H8', 'A9', 'B9', 'C9', 'D9', 'E9', 'F9', 'G9', 'H9', 'A10', 'B10', 'C10', 'D10', 'E10', 'F10', 'G10', 'H10', 'A11', 'B11', 'C11', 'D11', 'E11', 'F11', 'G11', 'H11', 'A12', 'B12', 'C12', 'D12', 'E12', 'F12', 'G12', 'H12']"
   ]
  },
  {
   "cell_type": "code",
   "execution_count": 6,
   "metadata": {},
   "outputs": [
    {
     "name": "stdout",
     "output_type": "stream",
     "text": [
      "10\n"
     ]
    }
   ],
   "source": [
    "# print(lh.deck_get_slot_name(3))\n",
    "# print(lh.deck.get_slot(plate2))\n",
    "\n",
    "plate_names = list(input_slots.keys())\n",
    "# print(lh.deck.get_all_resources())\n",
    "print(lh.deck.get_slot(source1))\n"
   ]
  },
  {
   "cell_type": "code",
   "execution_count": 7,
   "metadata": {},
   "outputs": [
    {
     "name": "stdout",
     "output_type": "stream",
     "text": [
      "{10: Plate(name=source_1, size_x=127.76, size_y=85.47, size_z=14.22, location=(000.000, 271.500, 000.000)), 7: Plate(name=source_2, size_x=127.76, size_y=85.47, size_z=14.22, location=(000.000, 181.000, 000.000)), 4: Plate(name=source_3, size_x=127.76, size_y=85.47, size_z=14.22, location=(000.000, 090.500, 000.000)), 1: Plate(name=source_4, size_x=127.76, size_y=85.47, size_z=14.22, location=(000.000, 000.000, 000.000)), 9: Plate(name=dist1, size_x=127.76, size_y=85.47, size_z=14.22, location=(265.000, 181.000, 000.000))}\n",
      "10\n",
      "None\n"
     ]
    }
   ],
   "source": [
    "### trying to get the name of the plate by using the position/slot of the plate.\n",
    "### I want to do this so i can select the plate from the pick list\n",
    "\n",
    "source_slot = int(t_list[0][0])\n",
    "input_slots = {10: source1, 7: source2, 4: source3, 1: source4, 9: dist1}\n",
    "\n"
   ]
  },
  {
   "cell_type": "code",
   "execution_count": 8,
   "metadata": {},
   "outputs": [
    {
     "data": {
      "text/plain": [
       "Plate(name=source_1, size_x=127.76, size_y=85.47, size_z=14.22, location=(000.000, 271.500, 000.000))"
      ]
     },
     "execution_count": 8,
     "metadata": {},
     "output_type": "execute_result"
    }
   ],
   "source": [
    "\n",
    "\n",
    "def find_plate_name(input_slots, source_slot):\n",
    "    for key, value in input_slots.items():\n",
    "        if key == source_slot:\n",
    "            return value\n",
    "    return None  # Return None if no value found for the given key\n",
    "\n",
    "test_input = 10\n",
    "find_plate_name(input_slots, test_input)"
   ]
  },
  {
   "cell_type": "code",
   "execution_count": 10,
   "metadata": {},
   "outputs": [
    {
     "name": "stdout",
     "output_type": "stream",
     "text": [
      "\n",
      "Deck: 624.3mm x 565.2mm\n",
      "\n",
      "+-----------------+-----------------+-----------------+\n",
      "|                 |                 |                 |\n",
      "| 10: source_1    | 11: tips_01     | 12: trash_co... |\n",
      "|                 |                 |                 |\n",
      "+-----------------+-----------------+-----------------+\n",
      "|                 |                 |                 |\n",
      "|  7: source_2    |  8: tips_02     |  9: dist1       |\n",
      "|                 |                 |                 |\n",
      "+-----------------+-----------------+-----------------+\n",
      "|                 |                 |                 |\n",
      "|  4: source_3    |  5: Empty       |  6: Empty       |\n",
      "|                 |                 |                 |\n",
      "+-----------------+-----------------+-----------------+\n",
      "|                 |                 |                 |\n",
      "|  1: source_4    |  2: Empty       |  3: Empty       |\n",
      "|                 |                 |                 |\n",
      "+-----------------+-----------------+-----------------+\n",
      "\n"
     ]
    }
   ],
   "source": [
    "print(lh.deck.summary())"
   ]
  },
  {
   "cell_type": "code",
   "execution_count": 11,
   "metadata": {},
   "outputs": [
    {
     "name": "stdout",
     "output_type": "stream",
     "text": [
      "source_plate Plate(name=source_1, size_x=127.76, size_y=85.47, size_z=14.22, location=(000.000, 271.500, 000.000))\n",
      "source_well A1\n",
      "['10', 'A1', '9', 'A1', '100', 'FSH0345O']\n"
     ]
    },
    {
     "name": "stdout",
     "output_type": "stream",
     "text": [
      "source_plate Plate(name=source_1, size_x=127.76, size_y=85.47, size_z=14.22, location=(000.000, 271.500, 000.000))\n",
      "source_well B1\n",
      "['10', 'B1', '9', 'B1', '100', 'FSH0345O']\n",
      "source_plate Plate(name=source_1, size_x=127.76, size_y=85.47, size_z=14.22, location=(000.000, 271.500, 000.000))\n",
      "source_well C1\n",
      "['10', 'C1', '9', 'C1', '100', 'FSH0345O']\n",
      "source_plate Plate(name=source_1, size_x=127.76, size_y=85.47, size_z=14.22, location=(000.000, 271.500, 000.000))\n",
      "source_well D1\n",
      "['10', 'D1', '9', 'D1', '100', 'FSH0345O']\n",
      "source_plate Plate(name=source_1, size_x=127.76, size_y=85.47, size_z=14.22, location=(000.000, 271.500, 000.000))\n",
      "source_well E1\n",
      "['10', 'E1', '9', 'E1', '100', 'FSH0345O']\n",
      "source_plate Plate(name=source_1, size_x=127.76, size_y=85.47, size_z=14.22, location=(000.000, 271.500, 000.000))\n",
      "source_well F1\n",
      "['10', 'F1', '9', 'F1', '100', 'FSH0345O']\n",
      "source_plate Plate(name=source_1, size_x=127.76, size_y=85.47, size_z=14.22, location=(000.000, 271.500, 000.000))\n",
      "source_well G1\n",
      "['10', 'G1', '9', 'G1', '100', 'FSH0345O']\n",
      "source_plate Plate(name=source_1, size_x=127.76, size_y=85.47, size_z=14.22, location=(000.000, 271.500, 000.000))\n",
      "source_well H1\n",
      "['10', 'H1', '9', 'H1', '100', 'FSH0345O']\n",
      "source_plate Plate(name=source_1, size_x=127.76, size_y=85.47, size_z=14.22, location=(000.000, 271.500, 000.000))\n",
      "source_well A2\n",
      "['10', 'A2', '9', 'A2', '100', 'FSH0345O']\n",
      "source_plate Plate(name=source_1, size_x=127.76, size_y=85.47, size_z=14.22, location=(000.000, 271.500, 000.000))\n",
      "source_well B2\n",
      "['10', 'B2', '9', 'B2', '100', 'FSH0345O']\n",
      "source_plate Plate(name=source_1, size_x=127.76, size_y=85.47, size_z=14.22, location=(000.000, 271.500, 000.000))\n",
      "source_well C2\n",
      "['10', 'C2', '9', 'C2', '100', 'FSH0345O']\n",
      "source_plate Plate(name=source_1, size_x=127.76, size_y=85.47, size_z=14.22, location=(000.000, 271.500, 000.000))\n",
      "source_well D2\n",
      "['10', 'D2', '9', 'D2', '100', 'FSH0345O']\n",
      "source_plate Plate(name=source_1, size_x=127.76, size_y=85.47, size_z=14.22, location=(000.000, 271.500, 000.000))\n",
      "source_well E2\n",
      "['10', 'E2', '9', 'E2', '100', 'FSH0345O']\n",
      "source_plate Plate(name=source_1, size_x=127.76, size_y=85.47, size_z=14.22, location=(000.000, 271.500, 000.000))\n",
      "source_well F2\n",
      "['10', 'F2', '9', 'F2', '100', 'FSH0345O']\n",
      "source_plate Plate(name=source_1, size_x=127.76, size_y=85.47, size_z=14.22, location=(000.000, 271.500, 000.000))\n",
      "source_well G2\n",
      "['10', 'G2', '9', 'G2', '100', 'FSH0345O']\n",
      "source_plate Plate(name=source_1, size_x=127.76, size_y=85.47, size_z=14.22, location=(000.000, 271.500, 000.000))\n",
      "source_well H2\n",
      "['10', 'H2', '9', 'H2', '100', 'FSH0345O']\n",
      "source_plate Plate(name=source_1, size_x=127.76, size_y=85.47, size_z=14.22, location=(000.000, 271.500, 000.000))\n",
      "source_well A3\n",
      "['10', 'A3', '9', 'A3', '100', 'FSH0345O']\n",
      "source_plate Plate(name=source_1, size_x=127.76, size_y=85.47, size_z=14.22, location=(000.000, 271.500, 000.000))\n",
      "source_well B3\n",
      "['10', 'B3', '9', 'B3', '100', 'FSH0345O']\n",
      "source_plate Plate(name=source_1, size_x=127.76, size_y=85.47, size_z=14.22, location=(000.000, 271.500, 000.000))\n",
      "source_well C3\n",
      "['10', 'C3', '9', 'C3', '100', 'FSH0345O']\n",
      "source_plate Plate(name=source_1, size_x=127.76, size_y=85.47, size_z=14.22, location=(000.000, 271.500, 000.000))\n",
      "source_well D3\n",
      "['10', 'D3', '9', 'D3', '100', 'FSH0345O']\n",
      "source_plate Plate(name=source_1, size_x=127.76, size_y=85.47, size_z=14.22, location=(000.000, 271.500, 000.000))\n",
      "source_well E3\n",
      "['10', 'E3', '9', 'E3', '100', 'FSH0345O']\n",
      "source_plate Plate(name=source_1, size_x=127.76, size_y=85.47, size_z=14.22, location=(000.000, 271.500, 000.000))\n",
      "source_well F3\n",
      "['10', 'F3', '9', 'F3', '100', 'FSH0345O']\n",
      "source_plate Plate(name=source_1, size_x=127.76, size_y=85.47, size_z=14.22, location=(000.000, 271.500, 000.000))\n",
      "source_well G3\n",
      "['10', 'G3', '9', 'G3', '100', 'FSH0345O']\n",
      "source_plate Plate(name=source_1, size_x=127.76, size_y=85.47, size_z=14.22, location=(000.000, 271.500, 000.000))\n",
      "source_well H3\n",
      "['10', 'H3', '9', 'H3', '100', 'FSH0345O']\n",
      "source_plate Plate(name=source_1, size_x=127.76, size_y=85.47, size_z=14.22, location=(000.000, 271.500, 000.000))\n",
      "source_well A4\n",
      "['10', 'A4', '9', 'A4', '100', 'FSH0345O']\n",
      "source_plate Plate(name=source_1, size_x=127.76, size_y=85.47, size_z=14.22, location=(000.000, 271.500, 000.000))\n",
      "source_well B4\n",
      "['10', 'B4', '9', 'B4', '100', 'FSH0345O']\n",
      "source_plate Plate(name=source_1, size_x=127.76, size_y=85.47, size_z=14.22, location=(000.000, 271.500, 000.000))\n",
      "source_well C4\n",
      "['10', 'C4', '9', 'C4', '100', 'FSH0345O']\n",
      "source_plate Plate(name=source_1, size_x=127.76, size_y=85.47, size_z=14.22, location=(000.000, 271.500, 000.000))\n",
      "source_well D4\n",
      "['10', 'D4', '9', 'D4', '100', 'FSH0345O']\n",
      "source_plate Plate(name=source_1, size_x=127.76, size_y=85.47, size_z=14.22, location=(000.000, 271.500, 000.000))\n",
      "source_well E4\n",
      "['10', 'E4', '9', 'E4', '100', 'FSH0345O']\n",
      "source_plate Plate(name=source_1, size_x=127.76, size_y=85.47, size_z=14.22, location=(000.000, 271.500, 000.000))\n",
      "source_well F4\n",
      "['10', 'F4', '9', 'F4', '100', 'FSH0345O']\n",
      "source_plate Plate(name=source_1, size_x=127.76, size_y=85.47, size_z=14.22, location=(000.000, 271.500, 000.000))\n",
      "source_well G4\n",
      "['10', 'G4', '9', 'G4', '100', 'FSH0345O']\n",
      "source_plate Plate(name=source_1, size_x=127.76, size_y=85.47, size_z=14.22, location=(000.000, 271.500, 000.000))\n",
      "source_well H4\n",
      "['10', 'H4', '9', 'H4', '100', 'FSH0345O']\n",
      "source_plate Plate(name=source_1, size_x=127.76, size_y=85.47, size_z=14.22, location=(000.000, 271.500, 000.000))\n",
      "source_well A5\n",
      "['10', 'A5', '9', 'A5', '100', 'FSH0345O']\n",
      "source_plate Plate(name=source_1, size_x=127.76, size_y=85.47, size_z=14.22, location=(000.000, 271.500, 000.000))\n",
      "source_well B5\n",
      "['10', 'B5', '9', 'B5', '100', 'FSH0345O']\n",
      "source_plate Plate(name=source_1, size_x=127.76, size_y=85.47, size_z=14.22, location=(000.000, 271.500, 000.000))\n",
      "source_well C5\n",
      "['10', 'C5', '9', 'C5', '100', 'FSH0345O']\n",
      "source_plate Plate(name=source_1, size_x=127.76, size_y=85.47, size_z=14.22, location=(000.000, 271.500, 000.000))\n",
      "source_well D5\n",
      "['10', 'D5', '9', 'D5', '100', 'FSH0345O']\n",
      "source_plate Plate(name=source_1, size_x=127.76, size_y=85.47, size_z=14.22, location=(000.000, 271.500, 000.000))\n",
      "source_well E5\n",
      "['10', 'E5', '9', 'E5', '100', 'FSH0345O']\n",
      "source_plate Plate(name=source_1, size_x=127.76, size_y=85.47, size_z=14.22, location=(000.000, 271.500, 000.000))\n",
      "source_well F5\n",
      "['10', 'F5', '9', 'F5', '100', 'FSH0345O']\n",
      "source_plate Plate(name=source_2, size_x=127.76, size_y=85.47, size_z=14.22, location=(000.000, 181.000, 000.000))\n",
      "source_well A1\n",
      "['7', 'A1', '9', 'G5', '100', 'FSH034AP']\n",
      "source_plate Plate(name=source_2, size_x=127.76, size_y=85.47, size_z=14.22, location=(000.000, 181.000, 000.000))\n",
      "source_well B1\n",
      "['7', 'B1', '9', 'H5', '100', 'FSH034AP']\n",
      "source_plate Plate(name=source_2, size_x=127.76, size_y=85.47, size_z=14.22, location=(000.000, 181.000, 000.000))\n",
      "source_well C1\n",
      "['7', 'C1', '9', 'A6', '100', 'FSH034AP']\n",
      "source_plate Plate(name=source_2, size_x=127.76, size_y=85.47, size_z=14.22, location=(000.000, 181.000, 000.000))\n",
      "source_well E1\n",
      "['7', 'E1', '9', 'B6', '100', 'FSH034AP']\n",
      "source_plate Plate(name=source_2, size_x=127.76, size_y=85.47, size_z=14.22, location=(000.000, 181.000, 000.000))\n",
      "source_well A2\n",
      "['7', 'A2', '9', 'C6', '100', 'FSH034AP']\n",
      "source_plate Plate(name=source_2, size_x=127.76, size_y=85.47, size_z=14.22, location=(000.000, 181.000, 000.000))\n",
      "source_well D2\n",
      "['7', 'D2', '9', 'D6', '100', 'FSH034AP']\n",
      "source_plate Plate(name=source_2, size_x=127.76, size_y=85.47, size_z=14.22, location=(000.000, 181.000, 000.000))\n",
      "source_well E2\n",
      "['7', 'E2', '9', 'E6', '100', 'FSH034AP']\n",
      "source_plate Plate(name=source_2, size_x=127.76, size_y=85.47, size_z=14.22, location=(000.000, 181.000, 000.000))\n",
      "source_well F2\n",
      "['7', 'F2', '9', 'F6', '100', 'FSH034AP']\n",
      "source_plate Plate(name=source_2, size_x=127.76, size_y=85.47, size_z=14.22, location=(000.000, 181.000, 000.000))\n",
      "source_well G2\n",
      "['7', 'G2', '9', 'G6', '100', 'FSH034AP']\n",
      "source_plate Plate(name=source_2, size_x=127.76, size_y=85.47, size_z=14.22, location=(000.000, 181.000, 000.000))\n",
      "source_well B3\n",
      "['7', 'B3', '9', 'H6', '100', 'FSH034AP']\n",
      "source_plate Plate(name=source_2, size_x=127.76, size_y=85.47, size_z=14.22, location=(000.000, 181.000, 000.000))\n",
      "source_well E3\n",
      "['7', 'E3', '9', 'A7', '100', 'FSH034AP']\n",
      "source_plate Plate(name=source_2, size_x=127.76, size_y=85.47, size_z=14.22, location=(000.000, 181.000, 000.000))\n",
      "source_well F3\n",
      "['7', 'F3', '9', 'B7', '100', 'FSH034AP']\n"
     ]
    }
   ],
   "source": [
    "tiprack = lh.get_resource(\"tips_01\")\n",
    "# source_plate = lh.get_resource(\"plate_01\")\n",
    "# dist_plate = lh.get_resource(\"plate_02\")\n",
    "# positions_source = ['A1', 'B1', 'C1', 'D1']\n",
    "# positions_dist = ['A3', 'B3', 'C3', 'D3']\n",
    "# volumns = [100, 50, 75, 200]\n",
    "for count in range(0,50):\n",
    "  source_slot = t_list[count][0]\n",
    "  source_well = t_list[count][1]\n",
    "  dist_slot = t_list[count][2]\n",
    "  dist_well = t_list[count][3]\n",
    "  volume = float(t_list[0][4])\n",
    "  source_plate = find_plate_name(input_slots, int(source_slot))\n",
    "  print('source_plate', source_plate)\n",
    "  print('source_well', source_well)\n",
    "  print(t_list[count])\n",
    "\n",
    "  await lh.pick_up_tips(tiprack[tip_slot[count]])\n",
    "\n",
    "  await lh.aspirate(source_plate[source_well], vols=volume)\n",
    "  # await lh.aspirate(source1[source_well], vols=volume)\n",
    "\n",
    "  await lh.dispense(dist1[dist_well], vols=volume)\n",
    "\n",
    "  await lh.drop_tips(tip_spots=[trash]*1, offsets=offsets)\n",
    "\n"
   ]
  },
  {
   "cell_type": "code",
   "execution_count": null,
   "metadata": {},
   "outputs": [
    {
     "name": "stdout",
     "output_type": "stream",
     "text": [
      "['10', 'A1', '9', 'A1', '100', 'FSH0345O']\n",
      "92\n"
     ]
    }
   ],
   "source": [
    "print(t_list[0])\n",
    "source_slot = t_list[0][0]\n",
    "source_well = t_list[0][1]\n",
    "dist_slot = t_list[0][2]\n",
    "dist_slot = t_list[0][3]\n",
    "volume = t_list[0][4]\n",
    "\n",
    "print(len(t_list))"
   ]
  },
  {
   "cell_type": "code",
   "execution_count": null,
   "metadata": {},
   "outputs": [
    {
     "name": "stdout",
     "output_type": "stream",
     "text": [
      "\n",
      "Deck: 624.3mm x 565.2mm\n",
      "\n",
      "+-----------------+-----------------+-----------------+\n",
      "|                 |                 |                 |\n",
      "| 10: plate_02    | 11: plate_01    | 12: trash_co... |\n",
      "|                 |                 |                 |\n",
      "+-----------------+-----------------+-----------------+\n",
      "|                 |                 |                 |\n",
      "|  7: Empty       |  8: Empty       |  9: Empty       |\n",
      "|                 |                 |                 |\n",
      "+-----------------+-----------------+-----------------+\n",
      "|                 |                 |                 |\n",
      "|  4: Empty       |  5: tips_02     |  6: Empty       |\n",
      "|                 |                 |                 |\n",
      "+-----------------+-----------------+-----------------+\n",
      "|                 |                 |                 |\n",
      "|  1: Empty       |  2: Empty       |  3: tips_01     |\n",
      "|                 |                 |                 |\n",
      "+-----------------+-----------------+-----------------+\n",
      "\n"
     ]
    }
   ],
   "source": [
    "print(lh.deck.summary())"
   ]
  },
  {
   "cell_type": "code",
   "execution_count": null,
   "metadata": {},
   "outputs": [],
   "source": [
    "### Hamilton part\n",
    "\n",
    "# # what if i want to through it in the trash instead??\n",
    "# # await lh.discard_tip()\n",
    "# from pylabrobot.resources.trash import Trash\n",
    "# ## MAYBE ASIGN TRASH BEFORE!!!\n",
    "# # await lh.drop_tips(Trash)\n",
    "# # await lh.drop_tips(tiprack[\"A1:C1\"])\n",
    "# trash = lh.deck.get_trash_area()\n",
    "# # n must match with the number of pipets\n",
    "# # n=3\n",
    "# n = len(tiprack[\"A1:C1\"]) # because this is where the tips where taken from.\n",
    "# offsets = trash.get_2d_center_offsets(n=n)\n",
    "\n",
    "# await lh.drop_tips(tip_spots=[trash]*n, offsets=offsets)\n",
    "# # await lh.drop_tips(tip_spots=[trash]*n) # Alternative way to do it\n",
    "\n"
   ]
  },
  {
   "cell_type": "markdown",
   "metadata": {},
   "source": [
    "# Shutdown"
   ]
  },
  {
   "cell_type": "code",
   "execution_count": null,
   "metadata": {},
   "outputs": [],
   "source": [
    "await lh.stop()"
   ]
  },
  {
   "cell_type": "code",
   "execution_count": null,
   "metadata": {},
   "outputs": [],
   "source": []
  },
  {
   "cell_type": "markdown",
   "metadata": {},
   "source": [
    "# Alternative tip picking test\n"
   ]
  },
  {
   "cell_type": "markdown",
   "metadata": {},
   "source": []
  },
  {
   "cell_type": "code",
   "execution_count": null,
   "metadata": {},
   "outputs": [
    {
     "name": "stdout",
     "output_type": "stream",
     "text": [
      "Websocket server started at http://127.0.0.1:2121\n",
      "File server started at http://127.0.0.1:1337 . Open this URL in your browser.\n"
     ]
    }
   ],
   "source": [
    "simulate = True\n",
    "from pylabrobot.liquid_handling import LiquidHandler\n",
    "\n",
    "if simulate:\n",
    "  from pylabrobot.liquid_handling.backends.simulation.simulator_backend import SimulatorBackend\n",
    "else:\n",
    "  from pylabrobot.liquid_handling.backends import STAR\n",
    "\n",
    "\n",
    "from pylabrobot.resources.hamilton import STARLetDeck\n",
    "\n",
    "if simulate:\n",
    "  sb = SimulatorBackend(open_browser=False)\n",
    "  lh = LiquidHandler(backend=sb, deck=STARLetDeck())\n",
    "else:\n",
    "  backend = STAR()\n",
    "  lh = LiquidHandler(backend=backend, deck=STARLetDeck())\n",
    "\n",
    "await lh.setup()\n",
    "\n",
    "if simulate:\n",
    "  sb.wait_for_connection()\n",
    "\n",
    "\n",
    "from pylabrobot.resources import (\n",
    "    TIP_CAR_480_A00,\n",
    "    PLT_CAR_L5AC_A00,\n",
    "    Cos_96_DW_1mL,\n",
    "    HTF_L\n",
    ")\n",
    "\n",
    "tip_car = TIP_CAR_480_A00(name='tip carrier')\n",
    "tip_car[0] = HTF_L(name='tips_01')\n",
    "\n",
    "lh.deck.assign_child_resource(tip_car, rails=3)\n",
    "\n",
    "plt_car = PLT_CAR_L5AC_A00(name='plate carrier')\n",
    "plt_car[0] = Cos_96_DW_1mL(name='plate_01')\n",
    "plt_car[1] = Cos_96_DW_1mL(name='plate_02')\n",
    "\n",
    "\n",
    "lh.deck.assign_child_resource(plt_car, rails=15)\n",
    "\n",
    "\n",
    "if simulate:\n",
    "  # get resources\n",
    "  tiprack = lh.get_resource(\"tips_01\")\n",
    "  plate_1 = lh.get_resource('plate_01')\n",
    "  plate_2 = lh.get_resource('plate_02')\n",
    "\n",
    "  # define Tips\n",
    "  await sb.fill_tip_rack(tiprack)\n",
    "\n",
    "  # define liquids\n",
    "  plate_1_liquids = [[(None, 500)]]*96\n",
    "  await sb.adjust_wells_liquids(plate_1, liquids=plate_1_liquids)\n",
    "\n",
    "  plate_2_liquids = [[(None, 100)], [(None, 500)]]*(96//2)\n",
    "  await sb.adjust_wells_liquids(plate_2, liquids=plate_2_liquids)\n",
    "\n",
    "  plate_1.set_well_liquids(plate_1_liquids)\n",
    "  plate_2.set_well_liquids(plate_2_liquids)"
   ]
  },
  {
   "cell_type": "code",
   "execution_count": null,
   "metadata": {},
   "outputs": [
    {
     "ename": "AttributeError",
     "evalue": "'LiquidHandler' object has no attribute 'has_tip'",
     "output_type": "error",
     "traceback": [
      "\u001b[1;31m---------------------------------------------------------------------------\u001b[0m",
      "\u001b[1;31mAttributeError\u001b[0m                            Traceback (most recent call last)",
      "Cell \u001b[1;32mIn[8], line 21\u001b[0m\n\u001b[0;32m      3\u001b[0m \u001b[38;5;28;01mfrom\u001b[39;00m \u001b[38;5;21;01mpylabrobot\u001b[39;00m\u001b[38;5;21;01m.\u001b[39;00m\u001b[38;5;21;01mresources\u001b[39;00m\u001b[38;5;21;01m.\u001b[39;00m\u001b[38;5;21;01merrors\u001b[39;00m \u001b[38;5;28;01mimport\u001b[39;00m HasTipError, NoTipError\n\u001b[0;32m      4\u001b[0m \u001b[38;5;28;01mfrom\u001b[39;00m \u001b[38;5;21;01mpylabrobot\u001b[39;00m\u001b[38;5;21;01m.\u001b[39;00m\u001b[38;5;21;01mresources\u001b[39;00m \u001b[38;5;28;01mimport\u001b[39;00m (\n\u001b[0;32m      5\u001b[0m   Container,\n\u001b[0;32m      6\u001b[0m   Deck,\n\u001b[1;32m   (...)\u001b[0m\n\u001b[0;32m     19\u001b[0m   does_volume_tracking\n\u001b[0;32m     20\u001b[0m )\n\u001b[1;32m---> 21\u001b[0m \u001b[43mlh\u001b[49m\u001b[38;5;241;43m.\u001b[39;49m\u001b[43mhas_tip\u001b[49m()\n",
      "\u001b[1;31mAttributeError\u001b[0m: 'LiquidHandler' object has no attribute 'has_tip'"
     ]
    },
    {
     "ename": "",
     "evalue": "",
     "output_type": "error",
     "traceback": [
      "\u001b[1;31mThe Kernel crashed while executing code in the the current cell or a previous cell. Please review the code in the cell(s) to identify a possible cause of the failure. Click <a href='https://aka.ms/vscodeJupyterKernelCrash'>here</a> for more info. View Jupyter <a href='command:jupyter.viewOutput'>log</a> for further details."
     ]
    }
   ],
   "source": [
    "## TEST TIP TRAKING:\n",
    "\n",
    "########### TO DO:: SEE IF YOU CAN FIGURE OUT TIP TRACKING, IS THERE SOME WAY TO DO PICK_UP_TIP()\n",
    "\n",
    "from pylabrobot.resources.errors import HasTipError, NoTipError\n",
    "from pylabrobot.resources import (\n",
    "  Container,\n",
    "  Deck,\n",
    "  Resource,\n",
    "  ResourceStack,\n",
    "  Coordinate,\n",
    "  CarrierSite,\n",
    "  Lid,\n",
    "  Plate,\n",
    "  Tip,\n",
    "  TipRack,\n",
    "  TipSpot,\n",
    "  Well,\n",
    "  TipTracker,\n",
    "  does_tip_tracking,\n",
    "  does_volume_tracking\n",
    ")\n",
    "lh.has_tip()"
   ]
  },
  {
   "cell_type": "code",
   "execution_count": null,
   "metadata": {},
   "outputs": [],
   "source": [
    "tiprack = lh.get_resource(\"tips_01\")\n",
    "# await lh.pick_up_tips(use_channels=8)\n",
    "await lh.pick_up_tips(tiprack[0:7])\n"
   ]
  },
  {
   "cell_type": "code",
   "execution_count": null,
   "metadata": {},
   "outputs": [],
   "source": [
    "from pylabrobot.resources.trash import Trash\n",
    "\n",
    "trash = lh.deck.get_trash_area()\n",
    "# n must match with the number of pipets\n",
    "n=1\n",
    "\n",
    "offsets = trash.get_2d_center_offsets(n=n)\n",
    "\n",
    "await lh.drop_tips(tip_spots=[trash]*n, offsets=offsets)"
   ]
  },
  {
   "cell_type": "code",
   "execution_count": null,
   "metadata": {},
   "outputs": [],
   "source": [
    "await lh.stop()"
   ]
  },
  {
   "cell_type": "markdown",
   "metadata": {},
   "source": [
    "# Building Hamilton deck for Hamilton in B221 R032"
   ]
  },
  {
   "cell_type": "code",
   "execution_count": null,
   "metadata": {},
   "outputs": [
    {
     "ename": "",
     "evalue": "",
     "output_type": "error",
     "traceback": [
      "\u001b[1;31mThe Kernel crashed while executing code in the the current cell or a previous cell. Please review the code in the cell(s) to identify a possible cause of the failure. Click <a href='https://aka.ms/vscodeJupyterKernelCrash'>here</a> for more info. View Jupyter <a href='command:jupyter.viewOutput'>log</a> for further details."
     ]
    }
   ],
   "source": [
    "# Work table sesources\n",
    "from pylabrobot.resources import (\n",
    "    # TIP_CAR_480_A00,\n",
    "    # PLT_CAR_L5AC_A00,\n",
    "    # Cos_96_DW_1mL,\n",
    "    # HTF_L\n",
    "  TIP_CAR_NTR_A00,\n",
    "  MFXCarrier, # Think is: MFX_CAR_3TipBC_2NTR1\n",
    "  ShakerCarrier, # think is: CVS_Shaker0_A00\n",
    "  PLT_CAR_L5AC,\n",
    ")\n",
    "\n",
    "# labware resources:\n",
    "from pylabrobot.resources import (\n",
    "  TIP_50ul_L,\n",
    "  corning_96_wellplate_360ul_flat\n",
    ")\n",
    "\n",
    "## there are no tube runners in PLR yet."
   ]
  }
 ],
 "metadata": {
  "kernelspec": {
   "display_name": "venv",
   "language": "python",
   "name": "python3"
  },
  "language_info": {
   "codemirror_mode": {
    "name": "ipython",
    "version": 3
   },
   "file_extension": ".py",
   "mimetype": "text/x-python",
   "name": "python",
   "nbconvert_exporter": "python",
   "pygments_lexer": "ipython3",
   "version": "3.10.7"
  }
 },
 "nbformat": 4,
 "nbformat_minor": 2
}
