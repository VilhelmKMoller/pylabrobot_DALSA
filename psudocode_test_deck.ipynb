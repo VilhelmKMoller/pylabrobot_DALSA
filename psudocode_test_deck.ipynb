{
 "cells": [
  {
   "cell_type": "markdown",
   "metadata": {},
   "source": []
  },
  {
   "cell_type": "markdown",
   "metadata": {},
   "source": [
    "# Settup Robot"
   ]
  },
  {
   "cell_type": "code",
   "execution_count": 1,
   "metadata": {},
   "outputs": [],
   "source": [
    "simulate = False\n",
    "# simulate = True\n",
    "\n",
    "from pylabrobot.liquid_handling import LiquidHandler\n",
    "from pylabrobot.liquid_handling.backends import ChatterBoxBackend\n",
    "from pylabrobot.visualizer.visualizer import Visualizer\n",
    "from pylabrobot.liquid_handling.backends import STAR\n",
    "from pylabrobot.resources.hamilton import STARDeck\n",
    "from pylabrobot.resources.trash import Trash\n",
    "from pylabrobot.resources.carrier import Coordinate\n",
    "\n",
    "\n",
    "if simulate:\n",
    "  lh = LiquidHandler(backend=ChatterBoxBackend(), deck=STARDeck())\n",
    "  vis = Visualizer(resource=lh)\n",
    "else:\n",
    "  backend = STAR()\n",
    "  lh = LiquidHandler(backend=backend, deck=STARDeck())\n",
    "\n",
    "await lh.setup()\n",
    "\n",
    "\n",
    "\n",
    "if simulate:\n",
    "  await vis.setup()\n",
    "\n",
    "# labware resources:\n",
    "from pylabrobot.resources import (\n",
    "  PLT_CAR_L5AC, # plate carrier\n",
    "  STF_L, # standard volume 300ul tips with filter\n",
    "  TIP_50ul_w_filter_L, # 50ul with filter landscape position\n",
    "  HT_L, # Rack with 96 1000ul High Volume Tip\n",
    "  corning_96_wellplate_360ul_flat, # OT plate type\n",
    "  Cos_96_FL # corning alternative to OT plate\n",
    ")\n",
    "\n",
    "## there are no tube runners in PLR yet.\n",
    "\n",
    "\n",
    "trash = lh.deck.get_trash_area() # only needed if trash needs to be used explicitly\n",
    "\n"
   ]
  },
  {
   "cell_type": "code",
   "execution_count": 2,
   "metadata": {},
   "outputs": [],
   "source": [
    "# STAR_SIZE_X=1900\n",
    "# trash_x = STAR_SIZE_X - 560\n",
    "# lh.deck.assign_child_resource(\n",
    "#         resource=Trash(\"trashnew\", size_x=0, size_y=241.2, size_z=0),\n",
    "#         location=Coordinate(x=trash_x, y=190.6, z=137.1)) # z I am not sure about"
   ]
  },
  {
   "cell_type": "code",
   "execution_count": 3,
   "metadata": {},
   "outputs": [
    {
     "name": "stdout",
     "output_type": "stream",
     "text": [
      "Rail     Resource                   Type                Coordinates (mm)\n",
      "==============================================================================================\n",
      "(-13) ├── trash_core96               Trash               (-232.100, 110.300, 189.000)\n",
      "      │\n",
      "(56)  ├── trash                      Trash               (1340.000, 190.600, 137.100)\n",
      "\n"
     ]
    }
   ],
   "source": [
    "print(lh.deck.summary())"
   ]
  },
  {
   "cell_type": "code",
   "execution_count": 4,
   "metadata": {},
   "outputs": [],
   "source": [
    "# trash = lh.deck.get_trash_area()\n",
    "trash = lh.deck.get_resource('trash')"
   ]
  },
  {
   "cell_type": "markdown",
   "metadata": {},
   "source": [
    "# Upload deck configuration for Star B223"
   ]
  },
  {
   "cell_type": "code",
   "execution_count": 5,
   "metadata": {},
   "outputs": [],
   "source": [
    "# import deck specs for Hamilton in building 223 room 032\n",
    "from hamilton_star_B223 import CVS_Shaker_DTU, TIP_CAR_NTR_A00, MFX_CAR_DTU, RGT_CAR_3R_A01, RGT_CAR_5R_A00, COOLER"
   ]
  },
  {
   "cell_type": "code",
   "execution_count": 6,
   "metadata": {},
   "outputs": [],
   "source": [
    "shaker_carrier = CVS_Shaker_DTU(name='my_shaker_0')\n",
    "tip_car = TIP_CAR_NTR_A00(name='tip_carrier')\n",
    "tip_car_mfx = MFX_CAR_DTU(name='tip_carrier_mfx')\n",
    "plt_car1 = PLT_CAR_L5AC(name='PLT_CAR_L5AC_1')\n",
    "plt_car2 = PLT_CAR_L5AC(name='PLT_CAR_L5AC_2')\n",
    "reservar_carrier1 = RGT_CAR_3R_A01(name='reservar_1')\n",
    "reservar_carrier2 = RGT_CAR_3R_A01(name='reservar_2')\n",
    "reservar_carrier3 = RGT_CAR_3R_A01(name='reservar_3_R5')\n",
    "cooler_carrier1 = COOLER(name='cooler_1')\n",
    "cooler_carrier2 = COOLER(name='cooler_2')\n"
   ]
  },
  {
   "cell_type": "markdown",
   "metadata": {},
   "source": [
    "# Add labware"
   ]
  },
  {
   "cell_type": "code",
   "execution_count": 7,
   "metadata": {},
   "outputs": [],
   "source": [
    "\n",
    "tip_car[0] = TIP_50ul_w_filter_L(name='tips_01_50ul') # for TIP_CAR_480_A00\n",
    "tip_car[1] = TIP_50ul_w_filter_L(name='tips_02_50ul') # for TIP_CAR_480_A00\n",
    "tip_car[2] = TIP_50ul_w_filter_L(name='tips_03_50ul') # for TIP_CAR_480_A00\n",
    "\n",
    "tip_car_mfx[0] = STF_L(name='tips_01_300ul') # for MFX\n",
    "tip_car_mfx[1] = STF_L(name='tips_02_300ul') # for MFX\n",
    "tip_car_mfx[2] = HT_L(name='tips_01_1000ul') # for MFX\n",
    "tip_car_mfx[3] = HT_L(name='tips_02_1000ul') # for MFX\n",
    "tip_car_mfx[4] = HT_L(name='tips_03_1000ul') # for MFX\n",
    "\n",
    "\n",
    "## Test on cooler\n",
    "# cooler_carrier1[1] = Cos_96_FL(name='source_1')\n",
    "# cooler_carrier1[2] = Cos_96_FL(name='source_2')\n",
    "cooler_carrier1[3] = Cos_96_FL(name='source_3')\n",
    "cooler_carrier1[4] = Cos_96_FL(name='source_4')\n",
    "cooler_carrier2[4] = Cos_96_FL(name='dist1')\n"
   ]
  },
  {
   "cell_type": "code",
   "execution_count": 8,
   "metadata": {},
   "outputs": [],
   "source": [
    "## Test on shaker:\n",
    "shaker_carrier[1] = Cos_96_FL(name='source_1')\n",
    "shaker_carrier[0] = Cos_96_FL(name='source_2')\n"
   ]
  },
  {
   "cell_type": "markdown",
   "metadata": {},
   "source": [
    "# Place labware and Carriers"
   ]
  },
  {
   "cell_type": "code",
   "execution_count": 9,
   "metadata": {},
   "outputs": [],
   "source": [
    "location_shaker = Coordinate(x=77.5, y=63.0, z=100.0)\n",
    "lh.deck.assign_child_resource(shaker_carrier, rails=None, location=location_shaker, reassign=True)\n",
    "lh.deck.assign_child_resource(tip_car, rails=17) # old pos 7\n",
    "lh.deck.assign_child_resource(plt_car1, rails=31) # old pos 27\n",
    "lh.deck.assign_child_resource(plt_car2, rails=37) # old pos 33\n",
    "lh.deck.assign_child_resource(tip_car_mfx, rails=11, reassign=True) # old pos 13\n",
    "lh.deck.assign_child_resource(reservar_carrier1, rails=23, reassign=True) # old pos 19\n",
    "lh.deck.assign_child_resource(reservar_carrier2, rails=24, reassign=True) # old pos 20\n",
    "lh.deck.assign_child_resource(reservar_carrier3, rails=25, reassign=True) # old pos 21\n",
    "lh.deck.assign_child_resource(cooler_carrier1, rails=43, reassign=True) # old pos 43\n",
    "lh.deck.assign_child_resource(cooler_carrier2, rails=49, reassign=True) # old pos 49"
   ]
  },
  {
   "cell_type": "code",
   "execution_count": 10,
   "metadata": {},
   "outputs": [],
   "source": [
    "tiprack50_1 = lh.get_resource(\"tips_01_50ul\")\n",
    "tiprack50_2 = lh.get_resource(\"tips_02_50ul\")\n",
    "tiprack50_3 = lh.get_resource(\"tips_03_50ul\")\n",
    "\n",
    "tiprack300_1 = lh.get_resource(\"tips_01_300ul\")\n",
    "tiprack300_2 = lh.get_resource(\"tips_02_300ul\")\n",
    "tiprack1000_1 = lh.get_resource(\"tips_01_1000ul\")\n",
    "tiprack1000_2 = lh.get_resource(\"tips_02_1000ul\")\n",
    "tiprack1000_3 = lh.get_resource(\"tips_03_1000ul\")\n",
    "\n",
    "source1 = lh.get_resource('source_1')\n",
    "source2 = lh.get_resource('source_2')\n",
    "source3 = lh.get_resource('source_3')\n",
    "source4 = lh.get_resource('source_4')\n",
    "dist1 = lh.get_resource('dist1')"
   ]
  },
  {
   "cell_type": "markdown",
   "metadata": {},
   "source": [
    "# Liquid handling commands"
   ]
  },
  {
   "cell_type": "code",
   "execution_count": 22,
   "metadata": {},
   "outputs": [
    {
     "ename": "ChannelizedError",
     "evalue": "ChannelizedError(errors={0: HardwareError('X-drive movement error')}, raw_response=C0TRid0018er99/00 P102/62kz379 000 000 000 000 000 000 000vz000 000 000 000 000 000 000 000)",
     "output_type": "error",
     "traceback": [
      "\u001b[1;31m---------------------------------------------------------------------------\u001b[0m",
      "\u001b[1;31mSTARFirmwareError\u001b[0m                         Traceback (most recent call last)",
      "File \u001b[1;32mc:\\Users\\vikmol\\OneDrive\\Dokumenter\\GitHub\\pylabrobot_DALSA\\pylabrobot\\liquid_handling\\backends\\hamilton\\STAR.py:1359\u001b[0m, in \u001b[0;36mSTAR.drop_tips\u001b[1;34m(self, ops, use_channels, drop_method)\u001b[0m\n\u001b[0;32m   1358\u001b[0m \u001b[38;5;28;01mtry\u001b[39;00m:\n\u001b[1;32m-> 1359\u001b[0m   \u001b[38;5;28;01mreturn\u001b[39;00m \u001b[38;5;28;01mawait\u001b[39;00m \u001b[38;5;28mself\u001b[39m\u001b[38;5;241m.\u001b[39mdiscard_tip(\n\u001b[0;32m   1360\u001b[0m     x_positions\u001b[38;5;241m=\u001b[39mx_positions,\n\u001b[0;32m   1361\u001b[0m     y_positions\u001b[38;5;241m=\u001b[39my_positions,\n\u001b[0;32m   1362\u001b[0m     tip_pattern\u001b[38;5;241m=\u001b[39mchannels_involved,\n\u001b[0;32m   1363\u001b[0m     begin_tip_deposit_process\u001b[38;5;241m=\u001b[39m begin_tip_deposit_process,\n\u001b[0;32m   1364\u001b[0m     end_tip_deposit_process\u001b[38;5;241m=\u001b[39m end_tip_deposit_process,\n\u001b[0;32m   1365\u001b[0m     minimum_traverse_height_at_beginning_of_a_command\u001b[38;5;241m=\u001b[39m\u001b[38;5;28mint\u001b[39m(\u001b[38;5;28mself\u001b[39m\u001b[38;5;241m.\u001b[39m_traversal_height \u001b[38;5;241m*\u001b[39m \u001b[38;5;241m10\u001b[39m),\n\u001b[0;32m   1366\u001b[0m     z_position_at_end_of_a_command\u001b[38;5;241m=\u001b[39m\u001b[38;5;28mint\u001b[39m(\u001b[38;5;28mself\u001b[39m\u001b[38;5;241m.\u001b[39m_traversal_height \u001b[38;5;241m*\u001b[39m \u001b[38;5;241m10\u001b[39m),\n\u001b[0;32m   1367\u001b[0m     discarding_method\u001b[38;5;241m=\u001b[39mdrop_method\n\u001b[0;32m   1368\u001b[0m   )\n\u001b[0;32m   1369\u001b[0m \u001b[38;5;28;01mexcept\u001b[39;00m STARFirmwareError \u001b[38;5;28;01mas\u001b[39;00m e:\n",
      "File \u001b[1;32mc:\\Users\\vikmol\\OneDrive\\Dokumenter\\GitHub\\pylabrobot_DALSA\\pylabrobot\\liquid_handling\\backends\\hamilton\\STAR.py:59\u001b[0m, in \u001b[0;36mneed_iswap_parked.<locals>.wrapper\u001b[1;34m(self, *args, **kwargs)\u001b[0m\n\u001b[0;32m     56\u001b[0m   \u001b[38;5;28;01mawait\u001b[39;00m \u001b[38;5;28mself\u001b[39m\u001b[38;5;241m.\u001b[39mpark_iswap(minimum_traverse_height_at_beginning_of_a_command\u001b[38;5;241m=\u001b[39m\n\u001b[0;32m     57\u001b[0m                         \u001b[38;5;28mint\u001b[39m(\u001b[38;5;28mself\u001b[39m\u001b[38;5;241m.\u001b[39m_traversal_height \u001b[38;5;241m*\u001b[39m \u001b[38;5;241m10\u001b[39m)) \u001b[38;5;66;03m# pylint: disable=protected-access\u001b[39;00m\n\u001b[1;32m---> 59\u001b[0m result \u001b[38;5;241m=\u001b[39m \u001b[38;5;28;01mawait\u001b[39;00m method(\u001b[38;5;28mself\u001b[39m, \u001b[38;5;241m*\u001b[39margs, \u001b[38;5;241m*\u001b[39m\u001b[38;5;241m*\u001b[39mkwargs) \u001b[38;5;66;03m# pylint: disable=not-callable\u001b[39;00m\n\u001b[0;32m     61\u001b[0m \u001b[38;5;28;01mreturn\u001b[39;00m result\n",
      "File \u001b[1;32mc:\\Users\\vikmol\\OneDrive\\Dokumenter\\GitHub\\pylabrobot_DALSA\\pylabrobot\\liquid_handling\\backends\\hamilton\\STAR.py:3542\u001b[0m, in \u001b[0;36mSTAR.discard_tip\u001b[1;34m(self, x_positions, y_positions, tip_pattern, begin_tip_deposit_process, end_tip_deposit_process, minimum_traverse_height_at_beginning_of_a_command, z_position_at_end_of_a_command, discarding_method)\u001b[0m\n\u001b[0;32m   3539\u001b[0m \u001b[38;5;28;01massert\u001b[39;00m \u001b[38;5;241m0\u001b[39m \u001b[38;5;241m<\u001b[39m\u001b[38;5;241m=\u001b[39m z_position_at_end_of_a_command \u001b[38;5;241m<\u001b[39m\u001b[38;5;241m=\u001b[39m \u001b[38;5;241m3600\u001b[39m, \\\n\u001b[0;32m   3540\u001b[0m   \u001b[38;5;124m\"\u001b[39m\u001b[38;5;124mz_position_at_end_of_a_command must be between 0 and 3600\u001b[39m\u001b[38;5;124m\"\u001b[39m\n\u001b[1;32m-> 3542\u001b[0m \u001b[38;5;28;01mreturn\u001b[39;00m \u001b[38;5;28;01mawait\u001b[39;00m \u001b[38;5;28mself\u001b[39m\u001b[38;5;241m.\u001b[39msend_command(\n\u001b[0;32m   3543\u001b[0m   module\u001b[38;5;241m=\u001b[39m\u001b[38;5;124m\"\u001b[39m\u001b[38;5;124mC0\u001b[39m\u001b[38;5;124m\"\u001b[39m,\n\u001b[0;32m   3544\u001b[0m   command\u001b[38;5;241m=\u001b[39m\u001b[38;5;124m\"\u001b[39m\u001b[38;5;124mTR\u001b[39m\u001b[38;5;124m\"\u001b[39m,\n\u001b[0;32m   3545\u001b[0m   tip_pattern\u001b[38;5;241m=\u001b[39mtip_pattern,\n\u001b[0;32m   3546\u001b[0m   fmt\u001b[38;5;241m=\u001b[39m\u001b[38;5;124m\"\u001b[39m\u001b[38;5;124mkz### (n)vz### (n)\u001b[39m\u001b[38;5;124m\"\u001b[39m,\n\u001b[0;32m   3547\u001b[0m   xp\u001b[38;5;241m=\u001b[39m[\u001b[38;5;124mf\u001b[39m\u001b[38;5;124m\"\u001b[39m\u001b[38;5;132;01m{\u001b[39;00mx\u001b[38;5;132;01m:\u001b[39;00m\u001b[38;5;124m05\u001b[39m\u001b[38;5;132;01m}\u001b[39;00m\u001b[38;5;124m\"\u001b[39m \u001b[38;5;28;01mfor\u001b[39;00m x \u001b[38;5;129;01min\u001b[39;00m x_positions],\n\u001b[0;32m   3548\u001b[0m   yp\u001b[38;5;241m=\u001b[39m[\u001b[38;5;124mf\u001b[39m\u001b[38;5;124m\"\u001b[39m\u001b[38;5;132;01m{\u001b[39;00my\u001b[38;5;132;01m:\u001b[39;00m\u001b[38;5;124m04\u001b[39m\u001b[38;5;132;01m}\u001b[39;00m\u001b[38;5;124m\"\u001b[39m \u001b[38;5;28;01mfor\u001b[39;00m y \u001b[38;5;129;01min\u001b[39;00m y_positions],\n\u001b[0;32m   3549\u001b[0m   tm\u001b[38;5;241m=\u001b[39mtip_pattern,\n\u001b[0;32m   3550\u001b[0m   tp\u001b[38;5;241m=\u001b[39mbegin_tip_deposit_process,\n\u001b[0;32m   3551\u001b[0m   tz\u001b[38;5;241m=\u001b[39mend_tip_deposit_process,\n\u001b[0;32m   3552\u001b[0m   th\u001b[38;5;241m=\u001b[39mminimum_traverse_height_at_beginning_of_a_command,\n\u001b[0;32m   3553\u001b[0m   te\u001b[38;5;241m=\u001b[39mz_position_at_end_of_a_command,\n\u001b[0;32m   3554\u001b[0m   ti\u001b[38;5;241m=\u001b[39mdiscarding_method\u001b[38;5;241m.\u001b[39mvalue,\n\u001b[0;32m   3555\u001b[0m )\n",
      "File \u001b[1;32mc:\\Users\\vikmol\\OneDrive\\Dokumenter\\GitHub\\pylabrobot_DALSA\\pylabrobot\\liquid_handling\\backends\\hamilton\\base.py:186\u001b[0m, in \u001b[0;36mHamiltonLiquidHandler.send_command\u001b[1;34m(self, module, command, tip_pattern, write_timeout, read_timeout, wait, fmt, **kwargs)\u001b[0m\n\u001b[0;32m    184\u001b[0m cmd, id_ \u001b[38;5;241m=\u001b[39m \u001b[38;5;28mself\u001b[39m\u001b[38;5;241m.\u001b[39m_assemble_command(module\u001b[38;5;241m=\u001b[39mmodule, command\u001b[38;5;241m=\u001b[39mcommand, tip_pattern\u001b[38;5;241m=\u001b[39mtip_pattern,\n\u001b[0;32m    185\u001b[0m   \u001b[38;5;241m*\u001b[39m\u001b[38;5;241m*\u001b[39mkwargs)\n\u001b[1;32m--> 186\u001b[0m resp \u001b[38;5;241m=\u001b[39m \u001b[38;5;28;01mawait\u001b[39;00m \u001b[38;5;28mself\u001b[39m\u001b[38;5;241m.\u001b[39m_write_and_read_command(id_\u001b[38;5;241m=\u001b[39mid_, cmd\u001b[38;5;241m=\u001b[39mcmd, write_timeout\u001b[38;5;241m=\u001b[39mwrite_timeout,\n\u001b[0;32m    187\u001b[0m                 read_timeout\u001b[38;5;241m=\u001b[39mread_timeout, wait\u001b[38;5;241m=\u001b[39mwait)\n\u001b[0;32m    188\u001b[0m \u001b[38;5;28;01mif\u001b[39;00m resp \u001b[38;5;129;01mis\u001b[39;00m \u001b[38;5;129;01mnot\u001b[39;00m \u001b[38;5;28;01mNone\u001b[39;00m \u001b[38;5;129;01mand\u001b[39;00m fmt \u001b[38;5;129;01mis\u001b[39;00m \u001b[38;5;129;01mnot\u001b[39;00m \u001b[38;5;28;01mNone\u001b[39;00m:\n",
      "File \u001b[1;32mc:\\Users\\vikmol\\OneDrive\\Dokumenter\\GitHub\\pylabrobot_DALSA\\pylabrobot\\liquid_handling\\backends\\hamilton\\base.py:213\u001b[0m, in \u001b[0;36mHamiltonLiquidHandler._write_and_read_command\u001b[1;34m(self, id_, cmd, write_timeout, read_timeout, wait)\u001b[0m\n\u001b[0;32m    212\u001b[0m \u001b[38;5;28mself\u001b[39m\u001b[38;5;241m.\u001b[39m_start_reading(id_, loop, fut, cmd, read_timeout)\n\u001b[1;32m--> 213\u001b[0m result \u001b[38;5;241m=\u001b[39m \u001b[38;5;28;01mawait\u001b[39;00m fut\n\u001b[0;32m    214\u001b[0m \u001b[38;5;28;01mreturn\u001b[39;00m cast(\u001b[38;5;28mstr\u001b[39m, result)\n",
      "File \u001b[1;32mc:\\Users\\vikmol\\OneDrive\\Dokumenter\\GitHub\\pylabrobot_DALSA\\pylabrobot\\liquid_handling\\backends\\hamilton\\base.py:286\u001b[0m, in \u001b[0;36mHamiltonLiquidHandler._continuously_read\u001b[1;34m(self)\u001b[0m\n\u001b[0;32m    285\u001b[0m \u001b[38;5;28;01mtry\u001b[39;00m:\n\u001b[1;32m--> 286\u001b[0m   \u001b[38;5;28;43mself\u001b[39;49m\u001b[38;5;241;43m.\u001b[39;49m\u001b[43mcheck_fw_string_error\u001b[49m\u001b[43m(\u001b[49m\u001b[43mresp\u001b[49m\u001b[43m)\u001b[49m\n\u001b[0;32m    287\u001b[0m \u001b[38;5;28;01mexcept\u001b[39;00m \u001b[38;5;167;01mException\u001b[39;00m \u001b[38;5;28;01mas\u001b[39;00m e: \u001b[38;5;66;03m# pylint: disable=broad-exception-caught\u001b[39;00m\n",
      "File \u001b[1;32mc:\\Users\\vikmol\\OneDrive\\Dokumenter\\GitHub\\pylabrobot_DALSA\\pylabrobot\\liquid_handling\\backends\\hamilton\\STAR.py:1198\u001b[0m, in \u001b[0;36mSTAR.check_fw_string_error\u001b[1;34m(self, resp)\u001b[0m\n\u001b[0;32m   1195\u001b[0m     he\u001b[38;5;241m.\u001b[39merrors[module_name]\u001b[38;5;241m.\u001b[39mmessage \u001b[38;5;241m+\u001b[39m\u001b[38;5;241m=\u001b[39m \\\n\u001b[0;32m   1196\u001b[0m       \u001b[38;5;124m\"\u001b[39m\u001b[38;5;124m (call lh.backend.request_name_of_last_faulty_parameter)\u001b[39m\u001b[38;5;124m\"\u001b[39m\n\u001b[1;32m-> 1198\u001b[0m \u001b[38;5;28;01mraise\u001b[39;00m he\n",
      "\u001b[1;31mSTARFirmwareError\u001b[0m: {'Pipetting channel 1': HardwareError('X-drive movement error')}, C0TRid0018er99/00 P102/62kz379 000 000 000 000 000 000 000vz000 000 000 000 000 000 000 000",
      "\nThe above exception was the direct cause of the following exception:\n",
      "\u001b[1;31mChannelizedError\u001b[0m                          Traceback (most recent call last)",
      "Cell \u001b[1;32mIn[22], line 4\u001b[0m\n\u001b[0;32m      1\u001b[0m offset \u001b[38;5;241m=\u001b[39m Coordinate(\u001b[38;5;241m0\u001b[39m, \u001b[38;5;241m0\u001b[39m, \u001b[38;5;241m0\u001b[39m) \u001b[38;5;66;03m# was -26 #was z=45 was z=70 this works for 50ul tips on TIP_CAR_NTR_A00\u001b[39;00m\n\u001b[1;32m----> 4\u001b[0m \u001b[38;5;28;01mawait\u001b[39;00m lh\u001b[38;5;241m.\u001b[39mdrop_tips(tiprack300_1[\u001b[38;5;124m\"\u001b[39m\u001b[38;5;124mA8\u001b[39m\u001b[38;5;124m\"\u001b[39m], use_channels\u001b[38;5;241m=\u001b[39m[\u001b[38;5;241m0\u001b[39m], offsets\u001b[38;5;241m=\u001b[39moffset) \u001b[38;5;66;03m# for one channel. if specific channels then use_channels = [0,1,3]\u001b[39;00m\n\u001b[0;32m      5\u001b[0m \u001b[38;5;66;03m# await lh.pick_up_tips(tiprack300_2[\"A7:H7\"],  offsets=offset) # for all channels \u001b[39;00m\n",
      "File \u001b[1;32mc:\\Users\\vikmol\\OneDrive\\Dokumenter\\GitHub\\pylabrobot_DALSA\\pylabrobot\\machine.py:23\u001b[0m, in \u001b[0;36mneed_setup_finished.<locals>.wrapper\u001b[1;34m(self, *args, **kwargs)\u001b[0m\n\u001b[0;32m     21\u001b[0m \u001b[38;5;28;01mif\u001b[39;00m \u001b[38;5;129;01mnot\u001b[39;00m \u001b[38;5;28mself\u001b[39m\u001b[38;5;241m.\u001b[39msetup_finished:\n\u001b[0;32m     22\u001b[0m   \u001b[38;5;28;01mraise\u001b[39;00m \u001b[38;5;167;01mRuntimeError\u001b[39;00m(\u001b[38;5;124m\"\u001b[39m\u001b[38;5;124mThe setup has not finished. See `setup`.\u001b[39m\u001b[38;5;124m\"\u001b[39m)\n\u001b[1;32m---> 23\u001b[0m \u001b[38;5;28;01mreturn\u001b[39;00m \u001b[38;5;28;01mawait\u001b[39;00m func(\u001b[38;5;28mself\u001b[39m, \u001b[38;5;241m*\u001b[39margs, \u001b[38;5;241m*\u001b[39m\u001b[38;5;241m*\u001b[39mkwargs)\n",
      "File \u001b[1;32mc:\\Users\\vikmol\\OneDrive\\Dokumenter\\GitHub\\pylabrobot_DALSA\\pylabrobot\\liquid_handling\\liquid_handler.py:518\u001b[0m, in \u001b[0;36mLiquidHandler.drop_tips\u001b[1;34m(self, tip_spots, use_channels, offsets, allow_nonzero_volume, **backend_kwargs)\u001b[0m\n\u001b[0;32m    515\u001b[0m   (\u001b[38;5;28mself\u001b[39m\u001b[38;5;241m.\u001b[39mhead[channel]\u001b[38;5;241m.\u001b[39mcommit \u001b[38;5;28;01mif\u001b[39;00m success \u001b[38;5;28;01melse\u001b[39;00m \u001b[38;5;28mself\u001b[39m\u001b[38;5;241m.\u001b[39mhead[channel]\u001b[38;5;241m.\u001b[39mrollback)()\n\u001b[0;32m    517\u001b[0m \u001b[38;5;66;03m# trigger callback\u001b[39;00m\n\u001b[1;32m--> 518\u001b[0m \u001b[38;5;28mself\u001b[39m\u001b[38;5;241m.\u001b[39m_trigger_callback(\n\u001b[0;32m    519\u001b[0m   \u001b[38;5;124m\"\u001b[39m\u001b[38;5;124mdrop_tips\u001b[39m\u001b[38;5;124m\"\u001b[39m,\n\u001b[0;32m    520\u001b[0m   liquid_handler\u001b[38;5;241m=\u001b[39m\u001b[38;5;28mself\u001b[39m,\n\u001b[0;32m    521\u001b[0m   operations\u001b[38;5;241m=\u001b[39mdrops,\n\u001b[0;32m    522\u001b[0m   use_channels\u001b[38;5;241m=\u001b[39muse_channels,\n\u001b[0;32m    523\u001b[0m   error\u001b[38;5;241m=\u001b[39merror,\n\u001b[0;32m    524\u001b[0m   \u001b[38;5;241m*\u001b[39m\u001b[38;5;241m*\u001b[39mbackend_kwargs,\n\u001b[0;32m    525\u001b[0m )\n",
      "File \u001b[1;32mc:\\Users\\vikmol\\OneDrive\\Dokumenter\\GitHub\\pylabrobot_DALSA\\pylabrobot\\liquid_handling\\liquid_handler.py:1753\u001b[0m, in \u001b[0;36mLiquidHandler._trigger_callback\u001b[1;34m(self, method_name, error, *args, **kwargs)\u001b[0m\n\u001b[0;32m   1751\u001b[0m   callback(\u001b[38;5;28mself\u001b[39m, \u001b[38;5;241m*\u001b[39margs, error\u001b[38;5;241m=\u001b[39merror, \u001b[38;5;241m*\u001b[39m\u001b[38;5;241m*\u001b[39mkwargs)\n\u001b[0;32m   1752\u001b[0m \u001b[38;5;28;01melif\u001b[39;00m error \u001b[38;5;129;01mis\u001b[39;00m \u001b[38;5;129;01mnot\u001b[39;00m \u001b[38;5;28;01mNone\u001b[39;00m:\n\u001b[1;32m-> 1753\u001b[0m   \u001b[38;5;28;01mraise\u001b[39;00m error\n",
      "File \u001b[1;32mc:\\Users\\vikmol\\OneDrive\\Dokumenter\\GitHub\\pylabrobot_DALSA\\pylabrobot\\liquid_handling\\liquid_handler.py:501\u001b[0m, in \u001b[0;36mLiquidHandler.drop_tips\u001b[1;34m(self, tip_spots, use_channels, offsets, allow_nonzero_volume, **backend_kwargs)\u001b[0m\n\u001b[0;32m    499\u001b[0m error: Optional[\u001b[38;5;167;01mException\u001b[39;00m] \u001b[38;5;241m=\u001b[39m \u001b[38;5;28;01mNone\u001b[39;00m\n\u001b[0;32m    500\u001b[0m \u001b[38;5;28;01mtry\u001b[39;00m:\n\u001b[1;32m--> 501\u001b[0m   \u001b[38;5;28;01mawait\u001b[39;00m \u001b[38;5;28mself\u001b[39m\u001b[38;5;241m.\u001b[39mbackend\u001b[38;5;241m.\u001b[39mdrop_tips(ops\u001b[38;5;241m=\u001b[39mdrops, use_channels\u001b[38;5;241m=\u001b[39muse_channels, \u001b[38;5;241m*\u001b[39m\u001b[38;5;241m*\u001b[39mbackend_kwargs)\n\u001b[0;32m    502\u001b[0m \u001b[38;5;28;01mexcept\u001b[39;00m \u001b[38;5;167;01mException\u001b[39;00m \u001b[38;5;28;01mas\u001b[39;00m e:  \u001b[38;5;66;03m# pylint: disable=broad-except\u001b[39;00m\n\u001b[0;32m    503\u001b[0m   error \u001b[38;5;241m=\u001b[39m e\n",
      "File \u001b[1;32mc:\\Users\\vikmol\\OneDrive\\Dokumenter\\GitHub\\pylabrobot_DALSA\\pylabrobot\\liquid_handling\\backends\\hamilton\\STAR.py:1371\u001b[0m, in \u001b[0;36mSTAR.drop_tips\u001b[1;34m(self, ops, use_channels, drop_method)\u001b[0m\n\u001b[0;32m   1369\u001b[0m \u001b[38;5;28;01mexcept\u001b[39;00m STARFirmwareError \u001b[38;5;28;01mas\u001b[39;00m e:\n\u001b[0;32m   1370\u001b[0m   \u001b[38;5;28;01mif\u001b[39;00m plr_e \u001b[38;5;241m:=\u001b[39m convert_star_firmware_error_to_plr_error(e):\n\u001b[1;32m-> 1371\u001b[0m     \u001b[38;5;28;01mraise\u001b[39;00m plr_e \u001b[38;5;28;01mfrom\u001b[39;00m \u001b[38;5;21;01me\u001b[39;00m\n\u001b[0;32m   1372\u001b[0m   \u001b[38;5;28;01mraise\u001b[39;00m e\n",
      "\u001b[1;31mChannelizedError\u001b[0m: ChannelizedError(errors={0: HardwareError('X-drive movement error')}, raw_response=C0TRid0018er99/00 P102/62kz379 000 000 000 000 000 000 000vz000 000 000 000 000 000 000 000)"
     ]
    }
   ],
   "source": [
    "\n",
    "offset = Coordinate(0, 0, 0) # was -26 #was z=45 was z=70 this works for 50ul tips on TIP_CAR_NTR_A00\n",
    "\n",
    "\n",
    "await lh.drop(tiprack300_1[\"A8\"], use_channels=[0], offsets=offset) # for one channel. if specific channels then use_channels = [0,1,3]\n",
    "# await lh.pick_up_tips(tiprack300_2[\"A7:H7\"],  offsets=offset) # for all channels\n"
   ]
  },
  {
   "cell_type": "code",
   "execution_count": 17,
   "metadata": {},
   "outputs": [],
   "source": [
    "offset = Coordinate(0, 0, 0) #2\n",
    "\n",
    "# await lh.aspirate(source1[\"A1\"], vols=[20.0], offsets=offset) # , swap_speed=100, homogenization_speed=1000\n",
    "\n"
   ]
  },
  {
   "cell_type": "code",
   "execution_count": null,
   "metadata": {},
   "outputs": [],
   "source": [
    "# await lh.dispense(dist1[\"A1\"], vols=[20.0]) # swap_speed=100, homogenization_speed=1000, mix_speed=1000\n",
    "\n",
    "# await lh.dispense(source2[\"A1\"], vols=[20.0], offsets=offset) # swap_speed=100, homogenization_speed=1000, mix_speed=1000"
   ]
  },
  {
   "cell_type": "code",
   "execution_count": 14,
   "metadata": {},
   "outputs": [],
   "source": [
    "# await lh.drop_tips(tiprack1000_1[\"A1\"], use_channels=[0], offsets=offset)\n",
    "# await lh.drop_tips(tiprack1000_1[\"A1\"], use_channels=[0])\n",
    "\n",
    "# await lh.drop_tips(tiprack300_2[\"G1:H1\"], use_channels=[0,1], offsets=offset)\n",
    "# await lh.drop_tips(tip_spots=[trash]*1)\n",
    "\n",
    "# offset = Coordinate(0, 210, 0)\n",
    "# offset = Coordinate(0, 0, 0)\n",
    "\n",
    "# await lh.drop_tips(tip_spots=[trash]*2, use_channels=[0,1], offsets=offset)\n",
    "\n",
    "\n",
    "await lh.discard_tips() # THROUGHS TIPS INTO THE TRASH!!!\n",
    "# await lh.drop_tips(tip_spots=[trash])\n"
   ]
  },
  {
   "cell_type": "code",
   "execution_count": 45,
   "metadata": {},
   "outputs": [
    {
     "name": "stdout",
     "output_type": "stream",
     "text": [
      "[Trash(name=trashnew, location=(1340.000, 190.600, 137.100), size_x=0, size_y=241.2, size_z=0, category=None), Trash(name=trashnew, location=(1340.000, 190.600, 137.100), size_x=0, size_y=241.2, size_z=0, category=None)]\n"
     ]
    }
   ],
   "source": []
  },
  {
   "cell_type": "code",
   "execution_count": null,
   "metadata": {},
   "outputs": [],
   "source": [
    "## HOW TO MOVE PLATES\n",
    "\n",
    "# from pylabrobot.liquid_handling.standard import (\n",
    "#   GripDirection\n",
    "# )\n",
    "# await lh.move_plate(source1, cooler_carrier2[1], get_direction=GripDirection.LEFT, put_direction=GripDirection.LEFT)"
   ]
  },
  {
   "cell_type": "markdown",
   "metadata": {},
   "source": [
    "# Husk\n",
    "\n",
    "Det lave tal er forrest. på carriers. Så nul er tættest på døren og max tal er tættes på ryggen af roboten. \n",
    "\n",
    "Channels: Teller fra inderste mod døren. channel1 hedder channel=[0]\n",
    "\n",
    "HUSK du har ikke sat noget op til nestet tips!!!\n",
    "\n",
    "- [ ] Ikke testet reservars <br>\n",
    "\n",
    "- [X] ikke testet positioner for SHAKER! <br>\n",
    "- [ ] Does trash work?? <br>\n",
    "\n",
    "- [X] Test robot arm flytter plader"
   ]
  },
  {
   "cell_type": "markdown",
   "metadata": {},
   "source": []
  }
 ],
 "metadata": {
  "kernelspec": {
   "display_name": "venv",
   "language": "python",
   "name": "python3"
  },
  "language_info": {
   "codemirror_mode": {
    "name": "ipython",
    "version": 3
   },
   "file_extension": ".py",
   "mimetype": "text/x-python",
   "name": "python",
   "nbconvert_exporter": "python",
   "pygments_lexer": "ipython3",
   "version": "3.10.11"
  }
 },
 "nbformat": 4,
 "nbformat_minor": 2
}
